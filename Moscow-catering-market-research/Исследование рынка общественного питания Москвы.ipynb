{
 "cells": [
  {
   "cell_type": "markdown",
   "id": "e06910dd",
   "metadata": {
    "id": "e06910dd"
   },
   "source": [
    "# Исследование рынка общественного питания Москвы"
   ]
  },
  {
   "cell_type": "markdown",
   "id": "4149134c",
   "metadata": {
    "id": "4149134c"
   },
   "source": [
    "### Цели и задачи проекта\n",
    "\n",
    "**Цель** — изучить рынок общественного питания Москвы и дать рекомендации о выборе концепции и оптимального местоположения нового заведения общественного питания в Москве.\n",
    "\n",
    "**Задачи**: \n",
    "- Провести сравнительный анализ заведений разных категорий; \n",
    "- Определить факторы, влияющие на рейтинг заведения;\n",
    "- Выделить наиболее популярные сети заведений и определить их рейтинг;\n",
    "- Выяснить, как средний чек заведения зависит от района его расположения и удаленности от центра."
   ]
  },
  {
   "cell_type": "markdown",
   "id": "728986ea",
   "metadata": {
    "id": "728986ea"
   },
   "source": [
    "### Описание данных\n",
    "\n",
    "Для анализа поступили данные о заведениях общественного питания Москвы, составленные на основе данных сервисов Яндекс Карты и Яндекс Бизнес на лето 2022 года. Данные состоят из двух датасетов:\n",
    "- `rest_info.csv` — информация о заведениях общественного питания;\n",
    "- `rest_price.csv` — информация о среднем чеке в заведениях общественного питания.\n",
    "\n",
    "#### Описание датасета `rest_info.csv`\n",
    "- `name` — название заведения;\n",
    "- `address` — адрес заведения;\n",
    "- `district` — административный район, в котором находится заведение, например Центральный административный округ;\n",
    "- `category` — категория заведения, например «кафе», «пиццерия» или «кофейня»;\n",
    "- `hours` — информация о днях и часах работы;\n",
    "- `rating` — рейтинг заведения по оценкам пользователей в Яндекс Картах (высшая оценка — 5.0);\n",
    "- `chain` — число, выраженное 0 или 1, которое показывает, является ли заведение сетевым (для маленьких сетей могут встречаться ошибки):\n",
    "    - 0 — заведение не является сетевым;\n",
    "    - 1 — заведение является сетевым.\n",
    "- `seats` — количество посадочных мест.\n",
    "\n",
    "#### Описание датасета `rest_price.csv`\n",
    "- `price` — категория цен в заведении, например «средние», «ниже среднего», «выше среднего» и так далее;\n",
    "- `avg_bill` — строка, которая хранит среднюю стоимость заказа в виде диапазона, например:\n",
    "    - «Средний счёт: 1000–1500 ₽»;\n",
    "    - «Цена чашки капучино: 130–220 ₽»;\n",
    "    - «Цена бокала пива: 400–600 ₽».\n",
    "       и так далее;\n",
    "- `middle_avg_bill` — число с оценкой среднего чека, которое указано только для значений из столбца avg_bill, начинающихся с подстроки «Средний счёт»:\n",
    "    - Если в строке указан ценовой диапазон из двух значений, в столбец войдёт медиана этих двух значений.\n",
    "    - Если в строке указано одно число — цена без диапазона, то в столбец войдёт это число.\n",
    "    - Если значения нет или оно не начинается с подстроки «Средний счёт», то в столбец ничего не войдёт.\n",
    "- `middle_coffee_cup` — число с оценкой одной чашки капучино, которое указано только для значений из столбца avg_bill, начинающихся с подстроки «Цена одной чашки капучино»:\n",
    "    - Если в строке указан ценовой диапазон из двух значений, в столбец войдёт медиана этих двух значений.\n",
    "    - Если в строке указано одно число — цена без диапазона, то в столбец войдёт это число.\n",
    "    - Если значения нет или оно не начинается с подстроки «Цена одной чашки капучино», то в столбец ничего не войдёт."
   ]
  },
  {
   "cell_type": "markdown",
   "id": "4fecaf95",
   "metadata": {
    "id": "4fecaf95"
   },
   "source": [
    "### Содержимое проекта\n",
    "\n",
    "1. Загрузка данных и знакомство с ними.\n",
    "2. Предобработка данных.\n",
    "3. Исследовательский анализ данных.\n",
    "4. Итоговый вывод и рекомендации.\n",
    "\n",
    "---"
   ]
  },
  {
   "cell_type": "markdown",
   "id": "6f7d21d6",
   "metadata": {
    "id": "6f7d21d6"
   },
   "source": [
    "## 1. Загрузка данных и знакомство с ними\n",
    "\n",
    "- Загрузим данные о заведениях общественного питания Москвы. Путь к файлам: `/datasets/rest_info.csv` и `/datasets/rest_price.csv`."
   ]
  },
  {
   "cell_type": "code",
   "execution_count": 1,
   "id": "159569cb",
   "metadata": {
    "id": "05faf34b"
   },
   "outputs": [],
   "source": [
    "# Импортируем библиотеки\n",
    "import pandas as pd\n",
    "\n",
    "# Загружаем библиотеки для визуализации данных\n",
    "import matplotlib.pyplot as plt\n",
    "import seaborn as sns\n",
    "\n",
    "# Загружаем библиотеку для расчёта коэффициента корреляции phi_k\n",
    "from phik import phik_matrix\n",
    "\n",
    "# Загружаем библиотеку для работы со строками\n",
    "import string"
   ]
  },
  {
   "cell_type": "code",
   "execution_count": 2,
   "id": "ce87c1db",
   "metadata": {
    "id": "ce87c1db"
   },
   "outputs": [],
   "source": [
    "rest_info_df = pd.read_csv('https://code.s3.yandex.net/datasets/rest_info.csv')\n",
    "rest_price_df = pd.read_csv('https://code.s3.yandex.net/datasets/rest_price.csv')"
   ]
  },
  {
   "cell_type": "markdown",
   "id": "18b5dfff",
   "metadata": {
    "id": "18b5dfff"
   },
   "source": [
    "Познакомимся с данными датасета `rest_info.csv`"
   ]
  },
  {
   "cell_type": "code",
   "execution_count": 3,
   "id": "f68a7419",
   "metadata": {
    "id": "f68a7419"
   },
   "outputs": [
    {
     "data": {
      "text/html": [
       "<div>\n",
       "<style scoped>\n",
       "    .dataframe tbody tr th:only-of-type {\n",
       "        vertical-align: middle;\n",
       "    }\n",
       "\n",
       "    .dataframe tbody tr th {\n",
       "        vertical-align: top;\n",
       "    }\n",
       "\n",
       "    .dataframe thead th {\n",
       "        text-align: right;\n",
       "    }\n",
       "</style>\n",
       "<table border=\"1\" class=\"dataframe\">\n",
       "  <thead>\n",
       "    <tr style=\"text-align: right;\">\n",
       "      <th></th>\n",
       "      <th>id</th>\n",
       "      <th>name</th>\n",
       "      <th>category</th>\n",
       "      <th>address</th>\n",
       "      <th>district</th>\n",
       "      <th>hours</th>\n",
       "      <th>rating</th>\n",
       "      <th>chain</th>\n",
       "      <th>seats</th>\n",
       "    </tr>\n",
       "  </thead>\n",
       "  <tbody>\n",
       "    <tr>\n",
       "      <th>0</th>\n",
       "      <td>0c3e3439a8c64ea5bf6ecd6ca6ae19f0</td>\n",
       "      <td>WoWфли</td>\n",
       "      <td>кафе</td>\n",
       "      <td>Москва, улица Дыбенко, 7/1</td>\n",
       "      <td>Северный административный округ</td>\n",
       "      <td>ежедневно, 10:00–22:00</td>\n",
       "      <td>5.0</td>\n",
       "      <td>0</td>\n",
       "      <td>NaN</td>\n",
       "    </tr>\n",
       "    <tr>\n",
       "      <th>1</th>\n",
       "      <td>045780ada3474c57a2112e505d74b633</td>\n",
       "      <td>Четыре комнаты</td>\n",
       "      <td>ресторан</td>\n",
       "      <td>Москва, улица Дыбенко, 36, корп. 1</td>\n",
       "      <td>Северный административный округ</td>\n",
       "      <td>ежедневно, 10:00–22:00</td>\n",
       "      <td>4.5</td>\n",
       "      <td>0</td>\n",
       "      <td>4.0</td>\n",
       "    </tr>\n",
       "    <tr>\n",
       "      <th>2</th>\n",
       "      <td>1070b6b59144425896c65889347fcff6</td>\n",
       "      <td>Хазри</td>\n",
       "      <td>кафе</td>\n",
       "      <td>Москва, Клязьминская улица, 15</td>\n",
       "      <td>Северный административный округ</td>\n",
       "      <td>пн-чт 11:00–02:00; пт,сб 11:00–05:00; вс 11:00...</td>\n",
       "      <td>4.6</td>\n",
       "      <td>0</td>\n",
       "      <td>45.0</td>\n",
       "    </tr>\n",
       "    <tr>\n",
       "      <th>3</th>\n",
       "      <td>03ac7cd772104f65b58b349dc59f03ee</td>\n",
       "      <td>Dormouse Coffee Shop</td>\n",
       "      <td>кофейня</td>\n",
       "      <td>Москва, улица Маршала Федоренко, 12</td>\n",
       "      <td>Северный административный округ</td>\n",
       "      <td>ежедневно, 09:00–22:00</td>\n",
       "      <td>5.0</td>\n",
       "      <td>0</td>\n",
       "      <td>NaN</td>\n",
       "    </tr>\n",
       "    <tr>\n",
       "      <th>4</th>\n",
       "      <td>a163aada139c4c7f87b0b1c0b466a50f</td>\n",
       "      <td>Иль Марко</td>\n",
       "      <td>пиццерия</td>\n",
       "      <td>Москва, Правобережная улица, 1Б</td>\n",
       "      <td>Северный административный округ</td>\n",
       "      <td>ежедневно, 10:00–22:00</td>\n",
       "      <td>5.0</td>\n",
       "      <td>1</td>\n",
       "      <td>148.0</td>\n",
       "    </tr>\n",
       "  </tbody>\n",
       "</table>\n",
       "</div>"
      ],
      "text/plain": [
       "                                 id                  name  category  \\\n",
       "0  0c3e3439a8c64ea5bf6ecd6ca6ae19f0                WoWфли      кафе   \n",
       "1  045780ada3474c57a2112e505d74b633        Четыре комнаты  ресторан   \n",
       "2  1070b6b59144425896c65889347fcff6                 Хазри      кафе   \n",
       "3  03ac7cd772104f65b58b349dc59f03ee  Dormouse Coffee Shop   кофейня   \n",
       "4  a163aada139c4c7f87b0b1c0b466a50f             Иль Марко  пиццерия   \n",
       "\n",
       "                               address                         district  \\\n",
       "0           Москва, улица Дыбенко, 7/1  Северный административный округ   \n",
       "1   Москва, улица Дыбенко, 36, корп. 1  Северный административный округ   \n",
       "2       Москва, Клязьминская улица, 15  Северный административный округ   \n",
       "3  Москва, улица Маршала Федоренко, 12  Северный административный округ   \n",
       "4      Москва, Правобережная улица, 1Б  Северный административный округ   \n",
       "\n",
       "                                               hours  rating  chain  seats  \n",
       "0                             ежедневно, 10:00–22:00     5.0      0    NaN  \n",
       "1                             ежедневно, 10:00–22:00     4.5      0    4.0  \n",
       "2  пн-чт 11:00–02:00; пт,сб 11:00–05:00; вс 11:00...     4.6      0   45.0  \n",
       "3                             ежедневно, 09:00–22:00     5.0      0    NaN  \n",
       "4                             ежедневно, 10:00–22:00     5.0      1  148.0  "
      ]
     },
     "execution_count": 3,
     "metadata": {},
     "output_type": "execute_result"
    }
   ],
   "source": [
    "rest_info_df.head()"
   ]
  },
  {
   "cell_type": "code",
   "execution_count": 4,
   "id": "dd415c80",
   "metadata": {
    "id": "dd415c80",
    "scrolled": true
   },
   "outputs": [
    {
     "name": "stdout",
     "output_type": "stream",
     "text": [
      "<class 'pandas.core.frame.DataFrame'>\n",
      "RangeIndex: 8406 entries, 0 to 8405\n",
      "Data columns (total 9 columns):\n",
      " #   Column    Non-Null Count  Dtype  \n",
      "---  ------    --------------  -----  \n",
      " 0   id        8406 non-null   object \n",
      " 1   name      8406 non-null   object \n",
      " 2   category  8406 non-null   object \n",
      " 3   address   8406 non-null   object \n",
      " 4   district  8406 non-null   object \n",
      " 5   hours     7870 non-null   object \n",
      " 6   rating    8406 non-null   float64\n",
      " 7   chain     8406 non-null   int64  \n",
      " 8   seats     4795 non-null   float64\n",
      "dtypes: float64(2), int64(1), object(6)\n",
      "memory usage: 591.2+ KB\n"
     ]
    }
   ],
   "source": [
    "rest_info_df.info()"
   ]
  },
  {
   "cell_type": "code",
   "execution_count": 5,
   "id": "3158ad37",
   "metadata": {
    "id": "3158ad37"
   },
   "outputs": [
    {
     "data": {
      "text/html": [
       "<div>\n",
       "<style scoped>\n",
       "    .dataframe tbody tr th:only-of-type {\n",
       "        vertical-align: middle;\n",
       "    }\n",
       "\n",
       "    .dataframe tbody tr th {\n",
       "        vertical-align: top;\n",
       "    }\n",
       "\n",
       "    .dataframe thead th {\n",
       "        text-align: right;\n",
       "    }\n",
       "</style>\n",
       "<table border=\"1\" class=\"dataframe\">\n",
       "  <thead>\n",
       "    <tr style=\"text-align: right;\">\n",
       "      <th></th>\n",
       "      <th>rating</th>\n",
       "      <th>chain</th>\n",
       "      <th>seats</th>\n",
       "    </tr>\n",
       "  </thead>\n",
       "  <tbody>\n",
       "    <tr>\n",
       "      <th>count</th>\n",
       "      <td>8406.000000</td>\n",
       "      <td>8406.000000</td>\n",
       "      <td>4795.000000</td>\n",
       "    </tr>\n",
       "    <tr>\n",
       "      <th>mean</th>\n",
       "      <td>4.229895</td>\n",
       "      <td>0.381275</td>\n",
       "      <td>108.421689</td>\n",
       "    </tr>\n",
       "    <tr>\n",
       "      <th>std</th>\n",
       "      <td>0.470348</td>\n",
       "      <td>0.485729</td>\n",
       "      <td>122.833396</td>\n",
       "    </tr>\n",
       "    <tr>\n",
       "      <th>min</th>\n",
       "      <td>1.000000</td>\n",
       "      <td>0.000000</td>\n",
       "      <td>0.000000</td>\n",
       "    </tr>\n",
       "    <tr>\n",
       "      <th>25%</th>\n",
       "      <td>4.100000</td>\n",
       "      <td>0.000000</td>\n",
       "      <td>40.000000</td>\n",
       "    </tr>\n",
       "    <tr>\n",
       "      <th>50%</th>\n",
       "      <td>4.300000</td>\n",
       "      <td>0.000000</td>\n",
       "      <td>75.000000</td>\n",
       "    </tr>\n",
       "    <tr>\n",
       "      <th>75%</th>\n",
       "      <td>4.400000</td>\n",
       "      <td>1.000000</td>\n",
       "      <td>140.000000</td>\n",
       "    </tr>\n",
       "    <tr>\n",
       "      <th>max</th>\n",
       "      <td>5.000000</td>\n",
       "      <td>1.000000</td>\n",
       "      <td>1288.000000</td>\n",
       "    </tr>\n",
       "  </tbody>\n",
       "</table>\n",
       "</div>"
      ],
      "text/plain": [
       "            rating        chain        seats\n",
       "count  8406.000000  8406.000000  4795.000000\n",
       "mean      4.229895     0.381275   108.421689\n",
       "std       0.470348     0.485729   122.833396\n",
       "min       1.000000     0.000000     0.000000\n",
       "25%       4.100000     0.000000    40.000000\n",
       "50%       4.300000     0.000000    75.000000\n",
       "75%       4.400000     1.000000   140.000000\n",
       "max       5.000000     1.000000  1288.000000"
      ]
     },
     "execution_count": 5,
     "metadata": {},
     "output_type": "execute_result"
    }
   ],
   "source": [
    "rest_info_df.describe()"
   ]
  },
  {
   "cell_type": "markdown",
   "id": "b3281430",
   "metadata": {},
   "source": [
    "---"
   ]
  },
  {
   "cell_type": "markdown",
   "id": "d12052b0",
   "metadata": {},
   "source": [
    "Теперь познакомимся с данными датасета `rest_price.csv`"
   ]
  },
  {
   "cell_type": "code",
   "execution_count": 6,
   "id": "29ba0e26",
   "metadata": {},
   "outputs": [
    {
     "data": {
      "text/html": [
       "<div>\n",
       "<style scoped>\n",
       "    .dataframe tbody tr th:only-of-type {\n",
       "        vertical-align: middle;\n",
       "    }\n",
       "\n",
       "    .dataframe tbody tr th {\n",
       "        vertical-align: top;\n",
       "    }\n",
       "\n",
       "    .dataframe thead th {\n",
       "        text-align: right;\n",
       "    }\n",
       "</style>\n",
       "<table border=\"1\" class=\"dataframe\">\n",
       "  <thead>\n",
       "    <tr style=\"text-align: right;\">\n",
       "      <th></th>\n",
       "      <th>id</th>\n",
       "      <th>price</th>\n",
       "      <th>avg_bill</th>\n",
       "      <th>middle_avg_bill</th>\n",
       "      <th>middle_coffee_cup</th>\n",
       "    </tr>\n",
       "  </thead>\n",
       "  <tbody>\n",
       "    <tr>\n",
       "      <th>0</th>\n",
       "      <td>045780ada3474c57a2112e505d74b633</td>\n",
       "      <td>выше среднего</td>\n",
       "      <td>Средний счёт:1500–1600 ₽</td>\n",
       "      <td>1550.0</td>\n",
       "      <td>NaN</td>\n",
       "    </tr>\n",
       "    <tr>\n",
       "      <th>1</th>\n",
       "      <td>1070b6b59144425896c65889347fcff6</td>\n",
       "      <td>средние</td>\n",
       "      <td>Средний счёт:от 1000 ₽</td>\n",
       "      <td>1000.0</td>\n",
       "      <td>NaN</td>\n",
       "    </tr>\n",
       "    <tr>\n",
       "      <th>2</th>\n",
       "      <td>03ac7cd772104f65b58b349dc59f03ee</td>\n",
       "      <td>NaN</td>\n",
       "      <td>Цена чашки капучино:155–185 ₽</td>\n",
       "      <td>NaN</td>\n",
       "      <td>170.0</td>\n",
       "    </tr>\n",
       "    <tr>\n",
       "      <th>3</th>\n",
       "      <td>a163aada139c4c7f87b0b1c0b466a50f</td>\n",
       "      <td>средние</td>\n",
       "      <td>Средний счёт:400–600 ₽</td>\n",
       "      <td>500.0</td>\n",
       "      <td>NaN</td>\n",
       "    </tr>\n",
       "    <tr>\n",
       "      <th>4</th>\n",
       "      <td>8a343546b24e4a499ad96eb7d0797a8a</td>\n",
       "      <td>средние</td>\n",
       "      <td>NaN</td>\n",
       "      <td>NaN</td>\n",
       "      <td>NaN</td>\n",
       "    </tr>\n",
       "  </tbody>\n",
       "</table>\n",
       "</div>"
      ],
      "text/plain": [
       "                                 id          price  \\\n",
       "0  045780ada3474c57a2112e505d74b633  выше среднего   \n",
       "1  1070b6b59144425896c65889347fcff6        средние   \n",
       "2  03ac7cd772104f65b58b349dc59f03ee            NaN   \n",
       "3  a163aada139c4c7f87b0b1c0b466a50f        средние   \n",
       "4  8a343546b24e4a499ad96eb7d0797a8a        средние   \n",
       "\n",
       "                        avg_bill  middle_avg_bill  middle_coffee_cup  \n",
       "0       Средний счёт:1500–1600 ₽           1550.0                NaN  \n",
       "1         Средний счёт:от 1000 ₽           1000.0                NaN  \n",
       "2  Цена чашки капучино:155–185 ₽              NaN              170.0  \n",
       "3         Средний счёт:400–600 ₽            500.0                NaN  \n",
       "4                            NaN              NaN                NaN  "
      ]
     },
     "execution_count": 6,
     "metadata": {},
     "output_type": "execute_result"
    }
   ],
   "source": [
    "rest_price_df.head()"
   ]
  },
  {
   "cell_type": "code",
   "execution_count": 7,
   "id": "1c1d61b7",
   "metadata": {},
   "outputs": [
    {
     "name": "stdout",
     "output_type": "stream",
     "text": [
      "<class 'pandas.core.frame.DataFrame'>\n",
      "RangeIndex: 4058 entries, 0 to 4057\n",
      "Data columns (total 5 columns):\n",
      " #   Column             Non-Null Count  Dtype  \n",
      "---  ------             --------------  -----  \n",
      " 0   id                 4058 non-null   object \n",
      " 1   price              3315 non-null   object \n",
      " 2   avg_bill           3816 non-null   object \n",
      " 3   middle_avg_bill    3149 non-null   float64\n",
      " 4   middle_coffee_cup  535 non-null    float64\n",
      "dtypes: float64(2), object(3)\n",
      "memory usage: 158.6+ KB\n"
     ]
    }
   ],
   "source": [
    "rest_price_df.info()"
   ]
  },
  {
   "cell_type": "code",
   "execution_count": 8,
   "id": "8822b86d",
   "metadata": {},
   "outputs": [
    {
     "data": {
      "text/html": [
       "<div>\n",
       "<style scoped>\n",
       "    .dataframe tbody tr th:only-of-type {\n",
       "        vertical-align: middle;\n",
       "    }\n",
       "\n",
       "    .dataframe tbody tr th {\n",
       "        vertical-align: top;\n",
       "    }\n",
       "\n",
       "    .dataframe thead th {\n",
       "        text-align: right;\n",
       "    }\n",
       "</style>\n",
       "<table border=\"1\" class=\"dataframe\">\n",
       "  <thead>\n",
       "    <tr style=\"text-align: right;\">\n",
       "      <th></th>\n",
       "      <th>middle_avg_bill</th>\n",
       "      <th>middle_coffee_cup</th>\n",
       "    </tr>\n",
       "  </thead>\n",
       "  <tbody>\n",
       "    <tr>\n",
       "      <th>count</th>\n",
       "      <td>3149.000000</td>\n",
       "      <td>535.000000</td>\n",
       "    </tr>\n",
       "    <tr>\n",
       "      <th>mean</th>\n",
       "      <td>958.053668</td>\n",
       "      <td>174.721495</td>\n",
       "    </tr>\n",
       "    <tr>\n",
       "      <th>std</th>\n",
       "      <td>1009.732845</td>\n",
       "      <td>88.951103</td>\n",
       "    </tr>\n",
       "    <tr>\n",
       "      <th>min</th>\n",
       "      <td>0.000000</td>\n",
       "      <td>60.000000</td>\n",
       "    </tr>\n",
       "    <tr>\n",
       "      <th>25%</th>\n",
       "      <td>375.000000</td>\n",
       "      <td>124.500000</td>\n",
       "    </tr>\n",
       "    <tr>\n",
       "      <th>50%</th>\n",
       "      <td>750.000000</td>\n",
       "      <td>169.000000</td>\n",
       "    </tr>\n",
       "    <tr>\n",
       "      <th>75%</th>\n",
       "      <td>1250.000000</td>\n",
       "      <td>225.000000</td>\n",
       "    </tr>\n",
       "    <tr>\n",
       "      <th>max</th>\n",
       "      <td>35000.000000</td>\n",
       "      <td>1568.000000</td>\n",
       "    </tr>\n",
       "  </tbody>\n",
       "</table>\n",
       "</div>"
      ],
      "text/plain": [
       "       middle_avg_bill  middle_coffee_cup\n",
       "count      3149.000000         535.000000\n",
       "mean        958.053668         174.721495\n",
       "std        1009.732845          88.951103\n",
       "min           0.000000          60.000000\n",
       "25%         375.000000         124.500000\n",
       "50%         750.000000         169.000000\n",
       "75%        1250.000000         225.000000\n",
       "max       35000.000000        1568.000000"
      ]
     },
     "execution_count": 8,
     "metadata": {},
     "output_type": "execute_result"
    }
   ],
   "source": [
    "rest_price_df.describe()"
   ]
  },
  {
   "cell_type": "markdown",
   "id": "2c614a62",
   "metadata": {
    "id": "2c614a62"
   },
   "source": [
    "---\n",
    "\n",
    "### Промежуточный вывод"
   ]
  },
  {
   "cell_type": "markdown",
   "id": "0e938d96",
   "metadata": {
    "id": "3593b7d5"
   },
   "source": [
    "**После первичного анализа данных можно сделать следующие выводы:**\n",
    "\n",
    "**Датасет `rest_info.csv`** содержит 9 столбцов и 8406 строк, в которых представлена информация о заведениях общественного питания Москвы.\n",
    "- В столбцах `hours` и `seats` содержатся пропущенные значения. Это требует дальнейшего анализа.\n",
    "- Данные содержат 2 столбца типа `float64`: `rating`, `seats`; 1 столбец типа `int64`: `chain`, 6 столбцов типа `object`: `id`, `name`, `category`, `address`, `district`, `hours`. \n",
    "- В соответствии с содержанием данных следует провести преобразования типов данных следующих столбцов: столбцы `category` и `discrict` перевести в тип category, `chain` — в bool, `seats` — в int64, а также оптимизировать размерность столбца `rating`.\n",
    "- Судя по первому знакомству с данными, значения в столбцах соответствуют своему описанию.\n",
    "- Интерес вызывают данные в столбце `seats` — наблюдаются высокие значения стандартного отклонения, значительная разница между значениями среднего и медианы и нереалистично высокое максимальное значение. Все это указывает на то, что столбец `seats` требует проведения дополнительного анализа."
   ]
  },
  {
   "cell_type": "markdown",
   "id": "2d54d355",
   "metadata": {
    "id": "c2cc7f38"
   },
   "source": [
    "**Датасет `rest_price.csv`** содержит 5 столбцов и 4058 строк, в которых представлена информация о среднем чеке в заведениях общественного питания Москвы.\n",
    "- В столбцах `price`, `avg_bill`, `middle_avg_bill`, `middle_coffee_cup` содержатся пропущенные значения. Это требует дальнейшего анализа.\n",
    "- Данные содержат 2 столбца типа `float64`: `middle_avg_bill`, `middle_coffee_cup`; 3 столбца типа `object`: `id`, `price`, `avg_bill`. \n",
    "- В соответствии с содержанием данных следует поменять тип данных столбца `price` на `category`.\n",
    "- Судя по первому знакомству с данными, значения в столбцах соответствуют своему описанию.\n",
    "- Интерес вызывают данные в столбце `middle_avg_bill` — наблюдаются высокие значения стандартного отклонения, значительная разница между значениями среднего и медианы и нулевое минимальное значение. Все это указывает на то, что столбец `middle_avg_bill` требует проведения дополнительного анализа."
   ]
  },
  {
   "cell_type": "markdown",
   "id": "7123cf33",
   "metadata": {
    "id": "84e2bdab"
   },
   "source": [
    "Помимо этого, стоит также обратить внимание на значительные расхождения в количестве строк в этих датасетах — требуется изучение датасета `rest_info.csv` на предмет дубликатов."
   ]
  },
  {
   "cell_type": "markdown",
   "id": "8a8d1491",
   "metadata": {
    "id": "8a8d1491"
   },
   "source": [
    "### Подготовка единого датафрейма\n",
    "\n",
    "Объединим данные двух датасетов в один"
   ]
  },
  {
   "cell_type": "code",
   "execution_count": 9,
   "id": "3408e303",
   "metadata": {
    "id": "3408e303"
   },
   "outputs": [],
   "source": [
    "# Соединяем данные в единый датафрейм df\n",
    "df = rest_info_df.merge(rest_price_df, how = 'left', on = 'id')"
   ]
  },
  {
   "cell_type": "code",
   "execution_count": 10,
   "id": "b62c5f3d",
   "metadata": {},
   "outputs": [],
   "source": [
    "df_rows_count = df.shape[0]"
   ]
  },
  {
   "cell_type": "code",
   "execution_count": 11,
   "id": "69997739",
   "metadata": {},
   "outputs": [
    {
     "name": "stdout",
     "output_type": "stream",
     "text": [
      "<class 'pandas.core.frame.DataFrame'>\n",
      "Int64Index: 8406 entries, 0 to 8405\n",
      "Data columns (total 13 columns):\n",
      " #   Column             Non-Null Count  Dtype  \n",
      "---  ------             --------------  -----  \n",
      " 0   id                 8406 non-null   object \n",
      " 1   name               8406 non-null   object \n",
      " 2   category           8406 non-null   object \n",
      " 3   address            8406 non-null   object \n",
      " 4   district           8406 non-null   object \n",
      " 5   hours              7870 non-null   object \n",
      " 6   rating             8406 non-null   float64\n",
      " 7   chain              8406 non-null   int64  \n",
      " 8   seats              4795 non-null   float64\n",
      " 9   price              3315 non-null   object \n",
      " 10  avg_bill           3816 non-null   object \n",
      " 11  middle_avg_bill    3149 non-null   float64\n",
      " 12  middle_coffee_cup  535 non-null    float64\n",
      "dtypes: float64(4), int64(1), object(8)\n",
      "memory usage: 919.4+ KB\n"
     ]
    }
   ],
   "source": [
    "# Выводим информацию о датафрейме\n",
    "df.info()"
   ]
  },
  {
   "cell_type": "markdown",
   "id": "f03cbf42",
   "metadata": {},
   "source": [
    "Данные соединены, и информация обо всех заведениях сохранилась.\n",
    "\n",
    "---"
   ]
  },
  {
   "cell_type": "markdown",
   "id": "956e82e2",
   "metadata": {
    "id": "956e82e2"
   },
   "source": [
    "## 2. Предобработка данных\n",
    "Подготовим данные к исследовательскому анализу"
   ]
  },
  {
   "cell_type": "code",
   "execution_count": 12,
   "id": "e1c773f0",
   "metadata": {},
   "outputs": [
    {
     "data": {
      "text/plain": [
       "8406"
      ]
     },
     "execution_count": 12,
     "metadata": {},
     "output_type": "execute_result"
    }
   ],
   "source": [
    "# создаем копию датасета до преобразования для возможности проверить сделанные изменения после предобработки\n",
    "temp = df.copy() \n",
    "len(temp)"
   ]
  },
  {
   "cell_type": "markdown",
   "id": "29ea9380",
   "metadata": {
    "id": "67956690"
   },
   "source": [
    "### Типы данных\n",
    "Как уже отмечалось выше, следует провести преобразования типов данных следующих столбцов: столбцы `category`, `district` и `price` перевести в тип category, `chain` — в bool, а также оптимизировать размерность числовых данных `rating`."
   ]
  },
  {
   "cell_type": "code",
   "execution_count": 13,
   "id": "b5f2a94d",
   "metadata": {
    "id": "b5f2a94d"
   },
   "outputs": [],
   "source": [
    "df[['category', 'district', 'price']] = df[['category', 'district', 'price']].astype('category')\n",
    "df['chain'] = df['chain'].astype('bool')"
   ]
  },
  {
   "cell_type": "code",
   "execution_count": 14,
   "id": "7479daeb",
   "metadata": {},
   "outputs": [],
   "source": [
    "for column in ['middle_avg_bill','middle_coffee_cup','seats', 'rating']:\n",
    "    df[column] = pd.to_numeric(df[column], downcast='float')"
   ]
  },
  {
   "cell_type": "code",
   "execution_count": 15,
   "id": "a7492ca3",
   "metadata": {},
   "outputs": [
    {
     "name": "stdout",
     "output_type": "stream",
     "text": [
      "<class 'pandas.core.frame.DataFrame'>\n",
      "Int64Index: 8406 entries, 0 to 8405\n",
      "Data columns (total 13 columns):\n",
      " #   Column             Non-Null Count  Dtype   \n",
      "---  ------             --------------  -----   \n",
      " 0   id                 8406 non-null   object  \n",
      " 1   name               8406 non-null   object  \n",
      " 2   category           8406 non-null   category\n",
      " 3   address            8406 non-null   object  \n",
      " 4   district           8406 non-null   category\n",
      " 5   hours              7870 non-null   object  \n",
      " 6   rating             8406 non-null   float32 \n",
      " 7   chain              8406 non-null   bool    \n",
      " 8   seats              4795 non-null   float32 \n",
      " 9   price              3315 non-null   category\n",
      " 10  avg_bill           3816 non-null   object  \n",
      " 11  middle_avg_bill    3149 non-null   float32 \n",
      " 12  middle_coffee_cup  535 non-null    float32 \n",
      "dtypes: bool(1), category(3), float32(4), object(5)\n",
      "memory usage: 559.1+ KB\n"
     ]
    }
   ],
   "source": [
    "df.info()"
   ]
  },
  {
   "cell_type": "markdown",
   "id": "f4950aa4",
   "metadata": {},
   "source": [
    "### Пропущенные значения"
   ]
  },
  {
   "cell_type": "code",
   "execution_count": 16,
   "id": "5c17d4c1",
   "metadata": {},
   "outputs": [
    {
     "data": {
      "text/html": [
       "<style type=\"text/css\">\n",
       "#T_567e5_row0_col0, #T_567e5_row0_col1 {\n",
       "  background-color: #3b4cc0;\n",
       "  color: #f1f1f1;\n",
       "}\n",
       "#T_567e5_row1_col0, #T_567e5_row1_col1 {\n",
       "  background-color: #c6d6f1;\n",
       "  color: #000000;\n",
       "}\n",
       "#T_567e5_row2_col0, #T_567e5_row2_col1 {\n",
       "  background-color: #f4c6af;\n",
       "  color: #000000;\n",
       "}\n",
       "#T_567e5_row3_col0, #T_567e5_row3_col1 {\n",
       "  background-color: #ead5c9;\n",
       "  color: #000000;\n",
       "}\n",
       "#T_567e5_row4_col0, #T_567e5_row4_col1 {\n",
       "  background-color: #f6bfa6;\n",
       "  color: #000000;\n",
       "}\n",
       "#T_567e5_row5_col0, #T_567e5_row5_col1 {\n",
       "  background-color: #b40426;\n",
       "  color: #f1f1f1;\n",
       "}\n",
       "</style>\n",
       "<table id=\"T_567e5_\">\n",
       "  <thead>\n",
       "    <tr>\n",
       "      <th class=\"blank level0\" >&nbsp;</th>\n",
       "      <th class=\"col_heading level0 col0\" >Кол-во пропусков</th>\n",
       "      <th class=\"col_heading level0 col1\" >Доля пропусков</th>\n",
       "    </tr>\n",
       "  </thead>\n",
       "  <tbody>\n",
       "    <tr>\n",
       "      <th id=\"T_567e5_level0_row0\" class=\"row_heading level0 row0\" >hours</th>\n",
       "      <td id=\"T_567e5_row0_col0\" class=\"data row0 col0\" >536</td>\n",
       "      <td id=\"T_567e5_row0_col1\" class=\"data row0 col1\" >0.063800</td>\n",
       "    </tr>\n",
       "    <tr>\n",
       "      <th id=\"T_567e5_level0_row1\" class=\"row_heading level0 row1\" >seats</th>\n",
       "      <td id=\"T_567e5_row1_col0\" class=\"data row1 col0\" >3611</td>\n",
       "      <td id=\"T_567e5_row1_col1\" class=\"data row1 col1\" >0.429600</td>\n",
       "    </tr>\n",
       "    <tr>\n",
       "      <th id=\"T_567e5_level0_row2\" class=\"row_heading level0 row2\" >price</th>\n",
       "      <td id=\"T_567e5_row2_col0\" class=\"data row2 col0\" >5091</td>\n",
       "      <td id=\"T_567e5_row2_col1\" class=\"data row2 col1\" >0.605600</td>\n",
       "    </tr>\n",
       "    <tr>\n",
       "      <th id=\"T_567e5_level0_row3\" class=\"row_heading level0 row3\" >avg_bill</th>\n",
       "      <td id=\"T_567e5_row3_col0\" class=\"data row3 col0\" >4590</td>\n",
       "      <td id=\"T_567e5_row3_col1\" class=\"data row3 col1\" >0.546000</td>\n",
       "    </tr>\n",
       "    <tr>\n",
       "      <th id=\"T_567e5_level0_row4\" class=\"row_heading level0 row4\" >middle_avg_bill</th>\n",
       "      <td id=\"T_567e5_row4_col0\" class=\"data row4 col0\" >5257</td>\n",
       "      <td id=\"T_567e5_row4_col1\" class=\"data row4 col1\" >0.625400</td>\n",
       "    </tr>\n",
       "    <tr>\n",
       "      <th id=\"T_567e5_level0_row5\" class=\"row_heading level0 row5\" >middle_coffee_cup</th>\n",
       "      <td id=\"T_567e5_row5_col0\" class=\"data row5 col0\" >7871</td>\n",
       "      <td id=\"T_567e5_row5_col1\" class=\"data row5 col1\" >0.936400</td>\n",
       "    </tr>\n",
       "  </tbody>\n",
       "</table>\n"
      ],
      "text/plain": [
       "<pandas.io.formats.style.Styler at 0x1bd3cb54af0>"
      ]
     },
     "execution_count": 16,
     "metadata": {},
     "output_type": "execute_result"
    }
   ],
   "source": [
    "# Посчитаем кол-во и долю пропусков в каждом столбце \n",
    "tmp = df.copy() # Делаем копию текущего датасета\n",
    "missing_stats = pd.DataFrame({'Кол-во пропусков': tmp.isnull().sum(),'Доля пропусков': tmp.isnull().mean().round(4)})\n",
    "missing_stats = missing_stats[missing_stats['Кол-во пропусков'] > 0]\n",
    "missing_stats.style.background_gradient(cmap='coolwarm') if not missing_stats.empty else \"Пропусков в данных нет\""
   ]
  },
  {
   "cell_type": "markdown",
   "id": "defc3bf5",
   "metadata": {
    "id": "d9e7c358"
   },
   "source": [
    "**Пропущенные значения обнаружены в следующих столбцах:**\n",
    "- `hours` — в 536 (6% данных) строках отсутствует информация о днях и часах работы.\n",
    "- `seats` — в 3611 (43% данных) строках отсутствует информация о количестве посадочных мест.\n",
    "- `price` — в 5091 (61% данных) строках отсутствует информация о категории цен в заведении.\n",
    "- `avg_bill` — в 4590 (55% данных) строках отсутствует информация о средней стоимости заказа.\n",
    "- `middle_avg_bill` — в 5257 (63% данных) строках отсутствует информация о среднем чеке.\n",
    "- `middle_coffee_cup` — в 7871 (94% данных) строках отсутствует информация о цене одной чашки капучино.\n",
    "\n",
    "**Возможные причины появления пропусков:**\n",
    "- Наличие пропусков в столбцах `hours`, `seats`, `price`, `avg_bill`, `middle_avg_bill`, вероятно, связано с отсутствием такой информации по некоторым заведениям в источнике данных — сервисах Яндекс Карты и Яндекс Бизнес. \n",
    "- Пропуски в столбце `middle_coffee_cup` могут быть связаны как с отсутствием данных, так и с отсутствием в меню капучино, информацию о цене которого несет этот столбец.\n",
    "\n",
    "**Работа с пропусками:**\n",
    "- Пропущенные значения в столбцах `hours`, `seats`, `price`, `avg_bill`, `middle_avg_bill` и `middle_coffee_cup` можно оставить без изменений."
   ]
  },
  {
   "cell_type": "markdown",
   "id": "ab773ad5",
   "metadata": {},
   "source": [
    "### Дубликаты"
   ]
  },
  {
   "cell_type": "markdown",
   "id": "78f2fdbe",
   "metadata": {},
   "source": [
    "**Изучим данные на предмет явных дубликатов**"
   ]
  },
  {
   "cell_type": "code",
   "execution_count": 17,
   "id": "49a78ce2",
   "metadata": {},
   "outputs": [
    {
     "name": "stdout",
     "output_type": "stream",
     "text": [
      "Empty DataFrame\n",
      "Columns: [id, name, category, address, district, hours, rating, chain, seats, price, avg_bill, middle_avg_bill, middle_coffee_cup]\n",
      "Index: []\n"
     ]
    }
   ],
   "source": [
    "# Сортируем датафрейм по всем столбцам\n",
    "df_sorted = df.sort_values(by=df.columns.tolist())\n",
    "\n",
    "# Находим дубликаты\n",
    "duplicates = df_sorted[df_sorted.duplicated(keep=False)]\n",
    "\n",
    "# Выводим дубликаты\n",
    "print(duplicates)"
   ]
  },
  {
   "cell_type": "markdown",
   "id": "b49a7216",
   "metadata": {},
   "source": [
    "В данных нет явных дубликатов."
   ]
  },
  {
   "cell_type": "markdown",
   "id": "dcfdddca",
   "metadata": {
    "id": "95b15cd0"
   },
   "source": [
    "**Изучим данные на предмет неявных дубликатов**"
   ]
  },
  {
   "cell_type": "markdown",
   "id": "72d6d565",
   "metadata": {},
   "source": [
    "- Для начала проверим уникальные значения в категориальных переменных `category`, `district` и `price`, чтобы убедиться, что в данных нет значений, написанных по-разному, но имеющих один и тот же смысл. "
   ]
  },
  {
   "cell_type": "code",
   "execution_count": 18,
   "id": "722c034c",
   "metadata": {},
   "outputs": [
    {
     "name": "stdout",
     "output_type": "stream",
     "text": [
      "category: ['кафе', 'ресторан', 'кофейня', 'пиццерия', 'бар,паб', 'быстрое питание', 'булочная', 'столовая']\n",
      "Categories (8, object): ['бар,паб', 'булочная', 'быстрое питание', 'кафе', 'кофейня', 'пиццерия', 'ресторан', 'столовая']\n",
      "\n",
      "district: ['Северный административный округ', 'Северо-Восточный административный округ', 'Северо-Западный административный округ', 'Западный административный округ', 'Центральный административный округ', 'Восточный административный округ', 'Юго-Восточный административный округ', 'Южный административный округ', 'Юго-Западный административный округ']\n",
      "Categories (9, object): ['Восточный административный округ', 'Западный административный округ', 'Северный административный округ', 'Северо-Восточный административный округ', ..., 'Центральный административный округ', 'Юго-Восточный административный округ', 'Юго-Западный административный округ', 'Южный административный округ']\n",
      "\n",
      "price: [NaN, 'выше среднего', 'средние', 'высокие', 'низкие']\n",
      "Categories (4, object): ['высокие', 'выше среднего', 'низкие', 'средние']\n",
      "\n"
     ]
    }
   ],
   "source": [
    "for column in ['category', 'district', 'price']:\n",
    "    print(f'{column}: {df[column].unique()}')\n",
    "    print()"
   ]
  },
  {
   "cell_type": "markdown",
   "id": "cb1639f1",
   "metadata": {},
   "source": [
    "Дубликатов в столбцах `category`, `district` и `price` нет, значения в них не требуют какой-либо обработки."
   ]
  },
  {
   "cell_type": "markdown",
   "id": "498f3c4c",
   "metadata": {},
   "source": [
    "- Неявными дубликатами будут считаться заведения с одинаковыми названиями и одинаковым адресом. Однако названия могут быть написаны по-разному. Чтобы это исправить, нужно их оптимизировать — привести к нижнему регистру и удалить знаки препинания."
   ]
  },
  {
   "cell_type": "code",
   "execution_count": 19,
   "id": "5f349fe4",
   "metadata": {},
   "outputs": [],
   "source": [
    "# Удалим в столбцах name и address пунктуацию и лишние пробелы, приведем к нижнему регистру\n",
    "# Создадим два новых столбца, чтобы не менять значения в исходных столбцах\n",
    "df['name_norm'] = df['name'].str.lower().str.strip().str.translate(str.maketrans('', '', string.punctuation))\n",
    "df['address_norm'] = df['address'].str.lower().str.strip().str.translate(str.maketrans('', '', string.punctuation))"
   ]
  },
  {
   "cell_type": "markdown",
   "id": "07ceba90",
   "metadata": {},
   "source": [
    "Посмотрим на получившиеся данные — появились ли строки с одинаковыми названиями и адресом"
   ]
  },
  {
   "cell_type": "code",
   "execution_count": 20,
   "id": "e3830ee7",
   "metadata": {},
   "outputs": [
    {
     "data": {
      "text/html": [
       "<div>\n",
       "<style scoped>\n",
       "    .dataframe tbody tr th:only-of-type {\n",
       "        vertical-align: middle;\n",
       "    }\n",
       "\n",
       "    .dataframe tbody tr th {\n",
       "        vertical-align: top;\n",
       "    }\n",
       "\n",
       "    .dataframe thead th {\n",
       "        text-align: right;\n",
       "    }\n",
       "</style>\n",
       "<table border=\"1\" class=\"dataframe\">\n",
       "  <thead>\n",
       "    <tr style=\"text-align: right;\">\n",
       "      <th></th>\n",
       "      <th>id</th>\n",
       "      <th>name</th>\n",
       "      <th>category</th>\n",
       "      <th>address</th>\n",
       "      <th>district</th>\n",
       "      <th>hours</th>\n",
       "      <th>rating</th>\n",
       "      <th>chain</th>\n",
       "      <th>seats</th>\n",
       "      <th>price</th>\n",
       "      <th>avg_bill</th>\n",
       "      <th>middle_avg_bill</th>\n",
       "      <th>middle_coffee_cup</th>\n",
       "      <th>name_norm</th>\n",
       "      <th>address_norm</th>\n",
       "    </tr>\n",
       "  </thead>\n",
       "  <tbody>\n",
       "    <tr>\n",
       "      <th>189</th>\n",
       "      <td>072032ce16dc47bfbc63b672c75bd371</td>\n",
       "      <td>Кафе</td>\n",
       "      <td>кафе</td>\n",
       "      <td>Москва, парк Ангарские Пруды</td>\n",
       "      <td>Северный административный округ</td>\n",
       "      <td>ежедневно, 09:00–23:00</td>\n",
       "      <td>3.2</td>\n",
       "      <td>False</td>\n",
       "      <td>NaN</td>\n",
       "      <td>NaN</td>\n",
       "      <td>NaN</td>\n",
       "      <td>NaN</td>\n",
       "      <td>NaN</td>\n",
       "      <td>кафе</td>\n",
       "      <td>москва парк ангарские пруды</td>\n",
       "    </tr>\n",
       "    <tr>\n",
       "      <th>215</th>\n",
       "      <td>897ddbc6746c4388b19dc8a9fcdbb488</td>\n",
       "      <td>Кафе</td>\n",
       "      <td>кафе</td>\n",
       "      <td>Москва, парк Ангарские пруды</td>\n",
       "      <td>Северный административный округ</td>\n",
       "      <td>ежедневно, 10:00–22:00</td>\n",
       "      <td>3.2</td>\n",
       "      <td>False</td>\n",
       "      <td>NaN</td>\n",
       "      <td>NaN</td>\n",
       "      <td>NaN</td>\n",
       "      <td>NaN</td>\n",
       "      <td>NaN</td>\n",
       "      <td>кафе</td>\n",
       "      <td>москва парк ангарские пруды</td>\n",
       "    </tr>\n",
       "    <tr>\n",
       "      <th>599</th>\n",
       "      <td>be007021c2a44e2f9488f7b3174d1a2b</td>\n",
       "      <td>В парке вкуснее!</td>\n",
       "      <td>кафе</td>\n",
       "      <td>Москва, Северный административный округ, район...</td>\n",
       "      <td>Северный административный округ</td>\n",
       "      <td>ежедневно, 10:00–21:00</td>\n",
       "      <td>2.2</td>\n",
       "      <td>False</td>\n",
       "      <td>NaN</td>\n",
       "      <td>NaN</td>\n",
       "      <td>NaN</td>\n",
       "      <td>NaN</td>\n",
       "      <td>NaN</td>\n",
       "      <td>в парке вкуснее</td>\n",
       "      <td>москва северный административный округ район л...</td>\n",
       "    </tr>\n",
       "    <tr>\n",
       "      <th>600</th>\n",
       "      <td>82ea6220bb4e4ffe83bfdf1dd7b4d556</td>\n",
       "      <td>В парке вкуснее</td>\n",
       "      <td>кофейня</td>\n",
       "      <td>Москва, Северный административный округ, район...</td>\n",
       "      <td>Северный административный округ</td>\n",
       "      <td>ежедневно, 10:00–21:00</td>\n",
       "      <td>2.2</td>\n",
       "      <td>True</td>\n",
       "      <td>NaN</td>\n",
       "      <td>NaN</td>\n",
       "      <td>NaN</td>\n",
       "      <td>NaN</td>\n",
       "      <td>NaN</td>\n",
       "      <td>в парке вкуснее</td>\n",
       "      <td>москва северный административный округ район л...</td>\n",
       "    </tr>\n",
       "    <tr>\n",
       "      <th>1430</th>\n",
       "      <td>62608690e9cc464fbcd980cfd552e334</td>\n",
       "      <td>More poke</td>\n",
       "      <td>ресторан</td>\n",
       "      <td>Москва, Волоколамское шоссе, 11, стр. 2</td>\n",
       "      <td>Северный административный округ</td>\n",
       "      <td>ежедневно, 09:00–21:00</td>\n",
       "      <td>4.2</td>\n",
       "      <td>False</td>\n",
       "      <td>188.0</td>\n",
       "      <td>NaN</td>\n",
       "      <td>NaN</td>\n",
       "      <td>NaN</td>\n",
       "      <td>NaN</td>\n",
       "      <td>more poke</td>\n",
       "      <td>москва волоколамское шоссе 11 стр 2</td>\n",
       "    </tr>\n",
       "    <tr>\n",
       "      <th>1511</th>\n",
       "      <td>a69f018d5c064873a3b491b0121bc1b4</td>\n",
       "      <td>More Poke</td>\n",
       "      <td>ресторан</td>\n",
       "      <td>Москва, Волоколамское шоссе, 11, стр. 2</td>\n",
       "      <td>Северный административный округ</td>\n",
       "      <td>пн-чт 09:00–18:00; пт,сб 09:00–21:00; вс 09:00...</td>\n",
       "      <td>4.2</td>\n",
       "      <td>True</td>\n",
       "      <td>188.0</td>\n",
       "      <td>NaN</td>\n",
       "      <td>NaN</td>\n",
       "      <td>NaN</td>\n",
       "      <td>NaN</td>\n",
       "      <td>more poke</td>\n",
       "      <td>москва волоколамское шоссе 11 стр 2</td>\n",
       "    </tr>\n",
       "    <tr>\n",
       "      <th>2211</th>\n",
       "      <td>c6ef39ae8a8c483d8f9a6531bc386a2c</td>\n",
       "      <td>Раковарня Клешни и Хвосты</td>\n",
       "      <td>ресторан</td>\n",
       "      <td>Москва, проспект Мира, 118</td>\n",
       "      <td>Северо-Восточный административный округ</td>\n",
       "      <td>ежедневно, 12:00–00:00</td>\n",
       "      <td>4.4</td>\n",
       "      <td>False</td>\n",
       "      <td>150.0</td>\n",
       "      <td>NaN</td>\n",
       "      <td>NaN</td>\n",
       "      <td>NaN</td>\n",
       "      <td>NaN</td>\n",
       "      <td>раковарня клешни и хвосты</td>\n",
       "      <td>москва проспект мира 118</td>\n",
       "    </tr>\n",
       "    <tr>\n",
       "      <th>2420</th>\n",
       "      <td>aba1de7ad7d64ac0a3f8684bda29d905</td>\n",
       "      <td>Раковарня Клешни и хвосты</td>\n",
       "      <td>бар,паб</td>\n",
       "      <td>Москва, проспект Мира, 118</td>\n",
       "      <td>Северо-Восточный административный округ</td>\n",
       "      <td>пн-чт 12:00–00:00; пт,сб 12:00–01:00; вс 12:00...</td>\n",
       "      <td>4.4</td>\n",
       "      <td>True</td>\n",
       "      <td>150.0</td>\n",
       "      <td>NaN</td>\n",
       "      <td>NaN</td>\n",
       "      <td>NaN</td>\n",
       "      <td>NaN</td>\n",
       "      <td>раковарня клешни и хвосты</td>\n",
       "      <td>москва проспект мира 118</td>\n",
       "    </tr>\n",
       "    <tr>\n",
       "      <th>3091</th>\n",
       "      <td>3c2a73ea79a04be48858fab3685f2f37</td>\n",
       "      <td>Хлеб да Выпечка</td>\n",
       "      <td>булочная</td>\n",
       "      <td>Москва, Ярцевская улица, 19</td>\n",
       "      <td>Западный административный округ</td>\n",
       "      <td>ежедневно, 09:00–22:00</td>\n",
       "      <td>4.1</td>\n",
       "      <td>True</td>\n",
       "      <td>276.0</td>\n",
       "      <td>NaN</td>\n",
       "      <td>NaN</td>\n",
       "      <td>NaN</td>\n",
       "      <td>NaN</td>\n",
       "      <td>хлеб да выпечка</td>\n",
       "      <td>москва ярцевская улица 19</td>\n",
       "    </tr>\n",
       "    <tr>\n",
       "      <th>3109</th>\n",
       "      <td>d3116844e4e048f99614eb30be3214e0</td>\n",
       "      <td>Хлеб да выпечка</td>\n",
       "      <td>кафе</td>\n",
       "      <td>Москва, Ярцевская улица, 19</td>\n",
       "      <td>Западный административный округ</td>\n",
       "      <td>NaN</td>\n",
       "      <td>4.1</td>\n",
       "      <td>False</td>\n",
       "      <td>276.0</td>\n",
       "      <td>NaN</td>\n",
       "      <td>NaN</td>\n",
       "      <td>NaN</td>\n",
       "      <td>NaN</td>\n",
       "      <td>хлеб да выпечка</td>\n",
       "      <td>москва ярцевская улица 19</td>\n",
       "    </tr>\n",
       "  </tbody>\n",
       "</table>\n",
       "</div>"
      ],
      "text/plain": [
       "                                    id                       name  category  \\\n",
       "189   072032ce16dc47bfbc63b672c75bd371                       Кафе      кафе   \n",
       "215   897ddbc6746c4388b19dc8a9fcdbb488                       Кафе      кафе   \n",
       "599   be007021c2a44e2f9488f7b3174d1a2b           В парке вкуснее!      кафе   \n",
       "600   82ea6220bb4e4ffe83bfdf1dd7b4d556            В парке вкуснее   кофейня   \n",
       "1430  62608690e9cc464fbcd980cfd552e334                  More poke  ресторан   \n",
       "1511  a69f018d5c064873a3b491b0121bc1b4                  More Poke  ресторан   \n",
       "2211  c6ef39ae8a8c483d8f9a6531bc386a2c  Раковарня Клешни и Хвосты  ресторан   \n",
       "2420  aba1de7ad7d64ac0a3f8684bda29d905  Раковарня Клешни и хвосты   бар,паб   \n",
       "3091  3c2a73ea79a04be48858fab3685f2f37            Хлеб да Выпечка  булочная   \n",
       "3109  d3116844e4e048f99614eb30be3214e0            Хлеб да выпечка      кафе   \n",
       "\n",
       "                                                address  \\\n",
       "189                        Москва, парк Ангарские Пруды   \n",
       "215                        Москва, парк Ангарские пруды   \n",
       "599   Москва, Северный административный округ, район...   \n",
       "600   Москва, Северный административный округ, район...   \n",
       "1430            Москва, Волоколамское шоссе, 11, стр. 2   \n",
       "1511            Москва, Волоколамское шоссе, 11, стр. 2   \n",
       "2211                         Москва, проспект Мира, 118   \n",
       "2420                         Москва, проспект Мира, 118   \n",
       "3091                        Москва, Ярцевская улица, 19   \n",
       "3109                        Москва, Ярцевская улица, 19   \n",
       "\n",
       "                                     district  \\\n",
       "189           Северный административный округ   \n",
       "215           Северный административный округ   \n",
       "599           Северный административный округ   \n",
       "600           Северный административный округ   \n",
       "1430          Северный административный округ   \n",
       "1511          Северный административный округ   \n",
       "2211  Северо-Восточный административный округ   \n",
       "2420  Северо-Восточный административный округ   \n",
       "3091          Западный административный округ   \n",
       "3109          Западный административный округ   \n",
       "\n",
       "                                                  hours  rating  chain  seats  \\\n",
       "189                              ежедневно, 09:00–23:00     3.2  False    NaN   \n",
       "215                              ежедневно, 10:00–22:00     3.2  False    NaN   \n",
       "599                              ежедневно, 10:00–21:00     2.2  False    NaN   \n",
       "600                              ежедневно, 10:00–21:00     2.2   True    NaN   \n",
       "1430                             ежедневно, 09:00–21:00     4.2  False  188.0   \n",
       "1511  пн-чт 09:00–18:00; пт,сб 09:00–21:00; вс 09:00...     4.2   True  188.0   \n",
       "2211                             ежедневно, 12:00–00:00     4.4  False  150.0   \n",
       "2420  пн-чт 12:00–00:00; пт,сб 12:00–01:00; вс 12:00...     4.4   True  150.0   \n",
       "3091                             ежедневно, 09:00–22:00     4.1   True  276.0   \n",
       "3109                                                NaN     4.1  False  276.0   \n",
       "\n",
       "     price avg_bill  middle_avg_bill  middle_coffee_cup  \\\n",
       "189    NaN      NaN              NaN                NaN   \n",
       "215    NaN      NaN              NaN                NaN   \n",
       "599    NaN      NaN              NaN                NaN   \n",
       "600    NaN      NaN              NaN                NaN   \n",
       "1430   NaN      NaN              NaN                NaN   \n",
       "1511   NaN      NaN              NaN                NaN   \n",
       "2211   NaN      NaN              NaN                NaN   \n",
       "2420   NaN      NaN              NaN                NaN   \n",
       "3091   NaN      NaN              NaN                NaN   \n",
       "3109   NaN      NaN              NaN                NaN   \n",
       "\n",
       "                      name_norm  \\\n",
       "189                        кафе   \n",
       "215                        кафе   \n",
       "599             в парке вкуснее   \n",
       "600             в парке вкуснее   \n",
       "1430                  more poke   \n",
       "1511                  more poke   \n",
       "2211  раковарня клешни и хвосты   \n",
       "2420  раковарня клешни и хвосты   \n",
       "3091            хлеб да выпечка   \n",
       "3109            хлеб да выпечка   \n",
       "\n",
       "                                           address_norm  \n",
       "189                         москва парк ангарские пруды  \n",
       "215                         москва парк ангарские пруды  \n",
       "599   москва северный административный округ район л...  \n",
       "600   москва северный административный округ район л...  \n",
       "1430                москва волоколамское шоссе 11 стр 2  \n",
       "1511                москва волоколамское шоссе 11 стр 2  \n",
       "2211                           москва проспект мира 118  \n",
       "2420                           москва проспект мира 118  \n",
       "3091                          москва ярцевская улица 19  \n",
       "3109                          москва ярцевская улица 19  "
      ]
     },
     "execution_count": 20,
     "metadata": {},
     "output_type": "execute_result"
    }
   ],
   "source": [
    "df = df.drop_duplicates()\n",
    "df[df.duplicated(subset=['name_norm', 'address_norm'], keep=False)]"
   ]
  },
  {
   "cell_type": "markdown",
   "id": "bf796e29",
   "metadata": {},
   "source": [
    "Действительно, обнаружилось 5 неявных дубликатов, которые необходимо удалить."
   ]
  },
  {
   "cell_type": "code",
   "execution_count": 21,
   "id": "8467ba45",
   "metadata": {},
   "outputs": [],
   "source": [
    "# Удалим повторяющиеся строки в датафрейме\n",
    "df = df.drop_duplicates(subset=['name_norm', 'address_norm'])\n",
    "\n",
    "# Удалим вспомогательные столбцы name_norm и address_norm\n",
    "df = df.drop(['name_norm', 'address_norm'], axis = 1)"
   ]
  },
  {
   "cell_type": "markdown",
   "id": "b6d332a7",
   "metadata": {},
   "source": [
    "**Расчет удаленных значений**"
   ]
  },
  {
   "cell_type": "code",
   "execution_count": 22,
   "id": "328b56c6",
   "metadata": {},
   "outputs": [
    {
     "name": "stdout",
     "output_type": "stream",
     "text": [
      " Было строк в исходном датасете 8406 \n",
      " Осталось строк в датасете после обработки 8401 \n",
      " Удалено строк в датасете после обработки 5 \n",
      " Процент потерь 0.06\n"
     ]
    }
   ],
   "source": [
    "# Проверим сколько удалено строк датасета\n",
    "a, b = len(temp), len(df)\n",
    "print(\" Было строк в исходном датасете\", a,\n",
    "      '\\n', \"Осталось строк в датасете после обработки\", b,\n",
    "      '\\n', \"Удалено строк в датасете после обработки\", a-b,\n",
    "      '\\n', \"Процент потерь\", round((a-b)/a*100, 2))"
   ]
  },
  {
   "cell_type": "code",
   "execution_count": 23,
   "id": "6e17b312",
   "metadata": {},
   "outputs": [
    {
     "name": "stdout",
     "output_type": "stream",
     "text": [
      " Было строк в исходном датасете: 8406 \n",
      " Осталось строк в датасете после обработки: 8401 \n",
      " Удалено строк в датасете после обработки: 5 \n",
      " Процент потерь: 0.06\n"
     ]
    }
   ],
   "source": [
    "# Кол-во строк в датафрейме после преобразований\n",
    "df_rows_count_result = df.shape[0]\n",
    "# Количество удаленных строк\n",
    "deleted_rows = df_rows_count - df_rows_count_result\n",
    "# Доля удаленных строк от исходного кол-ва строк в датафрейме\n",
    "deleted_rows_share = round(deleted_rows/df_rows_count, 4)*100\n",
    "\n",
    "print(\" Было строк в исходном датасете:\", len(temp),\n",
    "      '\\n', \"Осталось строк в датасете после обработки:\", df_rows_count_result,\n",
    "      '\\n', \"Удалено строк в датасете после обработки:\", deleted_rows,\n",
    "      '\\n', \"Процент потерь:\", deleted_rows_share)"
   ]
  },
  {
   "cell_type": "markdown",
   "id": "4c0563f2",
   "metadata": {
    "id": "4c0563f2"
   },
   "source": [
    "Для дальнейшей работы создадим столбец `is_24_7` с обозначением того, что заведение работает ежедневно и круглосуточно, то есть 24/7:\n",
    "- логическое значение `True` — если заведение работает ежедневно и круглосуточно;\n",
    "- логическое значение `False` — в противоположном случае."
   ]
  },
  {
   "cell_type": "code",
   "execution_count": 24,
   "id": "d8a8a963",
   "metadata": {
    "id": "d8a8a963"
   },
   "outputs": [],
   "source": [
    "# Создадим функцию для созданию новой переменной и заполнения ее значениями:\n",
    "def create_is_24_7(row):\n",
    "    if row == 'ежедневно, круглосуточно':\n",
    "        return True\n",
    "    return False\n",
    "\n",
    "# Создаём столбец is_24_7 с помощью функции create_is_24_7\n",
    "df['is_24_7'] = df['hours'].apply(create_is_24_7)"
   ]
  },
  {
   "cell_type": "code",
   "execution_count": 25,
   "id": "4b92d7cd",
   "metadata": {},
   "outputs": [
    {
     "data": {
      "text/plain": [
       "False    7671\n",
       "True      730\n",
       "Name: is_24_7, dtype: int64"
      ]
     },
     "execution_count": 25,
     "metadata": {},
     "output_type": "execute_result"
    }
   ],
   "source": [
    "# Посмотрим сколько заведений в каждой категории\n",
    "df['is_24_7'].value_counts()"
   ]
  },
  {
   "cell_type": "markdown",
   "id": "562f30ab",
   "metadata": {
    "id": "562f30ab"
   },
   "source": [
    "---\n",
    "\n",
    "### Промежуточный вывод"
   ]
  },
  {
   "cell_type": "markdown",
   "id": "ce1b0e4e",
   "metadata": {},
   "source": [
    "В процессе предобработки данных были проведены следующие преобразования:\n",
    "- Объединены данные двух датасетов `rest_info_df.csv` и `rest_price_df.csv` в один датафрейм `df`;\n",
    "- Удалено 5 строк с одинаковыми заведениями (неявные дубликаты);\n",
    "- Изменены типы данных переменных `category`, `district` и `price` (в category), `chain` (в bool);\n",
    "- Оптимизирована размерность числовых столбцов.\n",
    "\n",
    "Всего было удалено 5 строк, что составляет 0.06% от всего объема исходных данных."
   ]
  },
  {
   "cell_type": "markdown",
   "id": "6953e84c",
   "metadata": {
    "id": "6953e84c"
   },
   "source": [
    "---\n",
    "\n",
    "## 3. Исследовательский анализ данных"
   ]
  },
  {
   "cell_type": "markdown",
   "id": "8555d840",
   "metadata": {
    "id": "8555d840"
   },
   "source": [
    "### Категории заведений\n",
    "Изучим, какие категории заведений представлены в данных."
   ]
  },
  {
   "cell_type": "code",
   "execution_count": 26,
   "id": "ef2bffe9",
   "metadata": {
    "id": "ef2bffe9"
   },
   "outputs": [
    {
     "data": {
      "text/plain": [
       "кафе               2376\n",
       "ресторан           2042\n",
       "кофейня            1412\n",
       "бар,паб             764\n",
       "пиццерия            633\n",
       "быстрое питание     603\n",
       "столовая            315\n",
       "булочная            256\n",
       "Name: category, dtype: int64"
      ]
     },
     "metadata": {},
     "output_type": "display_data"
    },
    {
     "data": {
      "text/plain": [
       "кафе               28.28\n",
       "ресторан           24.31\n",
       "кофейня            16.81\n",
       "бар,паб             9.09\n",
       "пиццерия            7.53\n",
       "быстрое питание     7.18\n",
       "столовая            3.75\n",
       "булочная            3.05\n",
       "Name: category, dtype: float64"
      ]
     },
     "execution_count": 26,
     "metadata": {},
     "output_type": "execute_result"
    }
   ],
   "source": [
    "# Изучим распределение данных по категориям\n",
    "display(df['category'].value_counts())\n",
    "round(df['category'].value_counts(normalize=True)*100, 2)"
   ]
  },
  {
   "cell_type": "code",
   "execution_count": 27,
   "id": "71ab5e91",
   "metadata": {
    "id": "71ab5e91"
   },
   "outputs": [
    {
     "data": {
      "image/png": "[encoded data removed]",
      "text/plain": [
       "<Figure size 864x432 with 1 Axes>"
      ]
     },
     "metadata": {
      "needs_background": "light"
     },
     "output_type": "display_data"
    }
   ],
   "source": [
    "# Построим столбчатую диаграмму по столбцу category\n",
    "plt.figure(figsize = (12,6))\n",
    "\n",
    "df['category'].value_counts(normalize=True).plot(\n",
    "                kind = 'bar',\n",
    "                rot = 0,\n",
    "                legend = False,\n",
    "                title = 'Распределение заведений в зависимости от категории',\n",
    "                color = 'coral',\n",
    "                ylabel = 'Доля заведений')\n",
    "\n",
    "# Добавляем сетку графика\n",
    "plt.grid()\n",
    "\n",
    "# Выводим график\n",
    "plt.show()"
   ]
  },
  {
   "cell_type": "markdown",
   "id": "c672cbbb",
   "metadata": {},
   "source": [
    "В данных представлены восемь категорий заведений. Более половины (53%) всех заведений приходится на кафе (28%) и рестораны (24%). Немного меньше — кофеен (17%). Наименее популярными являются бары, пабы (9%), пиццерии (8%), заведения быстрого питания (7%), а также столовые (4%) и булочные (3%)."
   ]
  },
  {
   "cell_type": "markdown",
   "id": "6821e1d0",
   "metadata": {
    "id": "6821e1d0"
   },
   "source": [
    "---\n",
    "\n",
    "### Административные районы Москвы\n",
    "\n",
    "Изучим распределение количества заведений по административным районам Москвы, а также отдельно распределение заведений каждой категории в Центральном административном округе Москвы."
   ]
  },
  {
   "cell_type": "code",
   "execution_count": 28,
   "id": "e62f31be",
   "metadata": {
    "id": "e62f31be"
   },
   "outputs": [
    {
     "data": {
      "text/plain": [
       "Центральный административный округ         2242\n",
       "Северный административный округ             897\n",
       "Южный административный округ                892\n",
       "Северо-Восточный административный округ     890\n",
       "Западный административный округ             850\n",
       "Восточный административный округ            798\n",
       "Юго-Восточный административный округ        714\n",
       "Юго-Западный административный округ         709\n",
       "Северо-Западный административный округ      409\n",
       "Name: district, dtype: int64"
      ]
     },
     "metadata": {},
     "output_type": "display_data"
    },
    {
     "data": {
      "text/plain": [
       "Центральный административный округ         26.69\n",
       "Северный административный округ            10.68\n",
       "Южный административный округ               10.62\n",
       "Северо-Восточный административный округ    10.59\n",
       "Западный административный округ            10.12\n",
       "Восточный административный округ            9.50\n",
       "Юго-Восточный административный округ        8.50\n",
       "Юго-Западный административный округ         8.44\n",
       "Северо-Западный административный округ      4.87\n",
       "Name: district, dtype: float64"
      ]
     },
     "execution_count": 28,
     "metadata": {},
     "output_type": "execute_result"
    }
   ],
   "source": [
    "# Изучим распределение данных по административным районам Москвы\n",
    "display(df['district'].value_counts())\n",
    "round(df['district'].value_counts(normalize=True)*100, 2)"
   ]
  },
  {
   "cell_type": "code",
   "execution_count": 29,
   "id": "0a290cd1",
   "metadata": {
    "id": "0a290cd1"
   },
   "outputs": [
    {
     "data": {
      "image/png": "[encoded data removed]",
      "text/plain": [
       "<Figure size 864x432 with 1 Axes>"
      ]
     },
     "metadata": {
      "needs_background": "light"
     },
     "output_type": "display_data"
    }
   ],
   "source": [
    "# Построим линейчатую диаграмму по столбцу district\n",
    "plt.figure(figsize = (12,6))\n",
    "\n",
    "df['district'].value_counts(normalize=True).sort_values().plot(\n",
    "                kind = 'barh',\n",
    "                legend = False,\n",
    "                title = 'Распределение заведений в зависимости от административного района',\n",
    "                color = 'coral',\n",
    "                ylabel = 'Административный район',\n",
    "                xlabel = 'Доля заведений')\n",
    "\n",
    "# Добавляем сетку графика\n",
    "plt.grid()\n",
    "\n",
    "# Выводим график\n",
    "plt.show()"
   ]
  },
  {
   "cell_type": "markdown",
   "id": "8c16a3b2",
   "metadata": {
    "id": "41f1654a"
   },
   "source": [
    "В датасете представлены данные по девяти административным районам.  \n",
    "\n",
    "Больше всего заведений расположено в Центральном административном округе — 2242, что составляет 27% от количества всех заведений общественного питания Москвы.\n",
    "\n",
    "Это число практически в 3 раза превышает долю заведений в остальных районах (Северный, Северо-Восточный, Южный, Западный, Восточный, Юго-Западный, Юго-Восточный), где этот показатель составляет от 8% до 11%.  \n",
    "\n",
    "Район с наименьшим количеством заведений общественного питания — Северо-Западный, где сосредоточено всего 5% заведений общественного питания Москвы."
   ]
  },
  {
   "cell_type": "code",
   "execution_count": 30,
   "id": "2e4d9713",
   "metadata": {},
   "outputs": [
    {
     "data": {
      "text/plain": [
       "ресторан           670\n",
       "кафе               464\n",
       "кофейня            428\n",
       "бар,паб            364\n",
       "пиццерия           113\n",
       "быстрое питание     87\n",
       "столовая            66\n",
       "булочная            50\n",
       "Name: category, dtype: int64"
      ]
     },
     "metadata": {},
     "output_type": "display_data"
    },
    {
     "data": {
      "text/plain": [
       "ресторан           29.88\n",
       "кафе               20.70\n",
       "кофейня            19.09\n",
       "бар,паб            16.24\n",
       "пиццерия            5.04\n",
       "быстрое питание     3.88\n",
       "столовая            2.94\n",
       "булочная            2.23\n",
       "Name: category, dtype: float64"
      ]
     },
     "execution_count": 30,
     "metadata": {},
     "output_type": "execute_result"
    }
   ],
   "source": [
    "# Изучим распределение данных по категориям в Центральном административном округе\n",
    "display(df[df['district'] == 'Центральный административный округ']['category'].value_counts())\n",
    "round(df[df['district'] == 'Центральный административный округ']['category'].value_counts(normalize=True)*100, 2)"
   ]
  },
  {
   "cell_type": "code",
   "execution_count": 31,
   "id": "a66c181c",
   "metadata": {},
   "outputs": [
    {
     "data": {
      "image/png": "[encoded data removed]",
      "text/plain": [
       "<Figure size 864x432 with 1 Axes>"
      ]
     },
     "metadata": {
      "needs_background": "light"
     },
     "output_type": "display_data"
    }
   ],
   "source": [
    "# Построим столбчатую диаграмму по столбцу category для данных по ЦАО\n",
    "plt.figure(figsize = (12,6))\n",
    "\n",
    "df[df['district'] == 'Центральный административный округ']['category'].value_counts(normalize=True).plot(\n",
    "                kind = 'bar',\n",
    "                legend = False,\n",
    "                rot = 0,\n",
    "                title = 'Распределение заведений в зависимости от категории в ЦАО',\n",
    "                color = 'coral',\n",
    "                xlabel = '',\n",
    "                ylabel = 'Доля заведений')\n",
    "\n",
    "# Добавляем сетку графика\n",
    "plt.grid()\n",
    "\n",
    "# Выводим график\n",
    "plt.show()"
   ]
  },
  {
   "cell_type": "markdown",
   "id": "8e3996b2",
   "metadata": {},
   "source": [
    "Аналогично данным по всей Москве, половина заведений — это рестораны или кафе. Однако в центре доля ресторанов на 2% больше (30%), а доля кафе на 3% меньше (21%). Также в ЦАО практически в два раза больше баров, пабов, чем в среднем по городу (16% против 9%). Также в центре сосредоточено меньше заведений, которые можно отнести к бюджетному сегменту: пиццерий, заведений быстрого питания, столовых, булочных."
   ]
  },
  {
   "cell_type": "markdown",
   "id": "7a925bb1",
   "metadata": {},
   "source": [
    "В целом, преобладание в Центральном округе Москвы заведений общественного питания отражает особый характер этого района как центра культурной, гастрономической и туристической жизни города. Популярность ресторанов объясняется сосредоточением в этом районе города туристов и обеспеченных жителей, а также высокой арендной ставкой, что делает нерентабельным содержание заведений более дешевых форматов. Более высокая концентрация баров и пабов в центре также объясняется активной ночной жизнью и туристической и развлекательной привлекательностью центра. В других районах города существует запрос на доступное питание местных жителей.\n",
    "\n",
    "Также внимание привлекает малое количество заведений общественного питания в Северо-Западном административном округе (в два раза меньше, чем в других спальных районах Москвы). Это может быть связано как с малой численностью населения в этом районе, так и со слабым развитием инфраструктуры или низким спросом на такие заведения. Изучение причин этого требует отдельного анализа."
   ]
  },
  {
   "cell_type": "markdown",
   "id": "7c824f58",
   "metadata": {
    "id": "7c824f58"
   },
   "source": [
    "---\n",
    "\n",
    "### Соотношение сетевых и несетевых заведений\n",
    "\n",
    "Изучим соотношение сетевых и несетевых заведений в целом по всем данным и в разрезе категорий заведения."
   ]
  },
  {
   "cell_type": "code",
   "execution_count": 32,
   "id": "ef442d1a",
   "metadata": {
    "id": "ef442d1a"
   },
   "outputs": [
    {
     "data": {
      "text/plain": [
       "False    5199\n",
       "True     3202\n",
       "Name: chain, dtype: int64"
      ]
     },
     "metadata": {},
     "output_type": "display_data"
    },
    {
     "data": {
      "text/plain": [
       "False    61.89\n",
       "True     38.11\n",
       "Name: chain, dtype: float64"
      ]
     },
     "execution_count": 32,
     "metadata": {},
     "output_type": "execute_result"
    }
   ],
   "source": [
    "# Изучим соотношение сетевых и несетевых заведений по всем данным\n",
    "display(df['chain'].value_counts())\n",
    "round(df['chain'].value_counts(normalize = True)*100, 2)"
   ]
  },
  {
   "cell_type": "code",
   "execution_count": 33,
   "id": "0de29fa2",
   "metadata": {
    "id": "0de29fa2"
   },
   "outputs": [
    {
     "data": {
      "image/png": "[encoded data removed]",
      "text/plain": [
       "<Figure size 576x360 with 1 Axes>"
      ]
     },
     "metadata": {
      "needs_background": "light"
     },
     "output_type": "display_data"
    }
   ],
   "source": [
    "chain_counts = df['chain'].value_counts(normalize=True)\n",
    "chain_counts.index = ['Несетевое', 'Сетевое']\n",
    "\n",
    "# Построим столбчатую диаграмму по столбцу chain\n",
    "chain_counts.plot(\n",
    "                kind = 'bar',\n",
    "                rot = 0,\n",
    "                legend = False,\n",
    "                title = 'Распределение сетевых и несетевых заведений',\n",
    "                figsize = (8, 5),\n",
    "                color = 'coral',\n",
    "                xlabel = '',\n",
    "                ylabel = 'Доля заведений')\n",
    "\n",
    "# Добавляем сетку графика\n",
    "plt.grid()\n",
    "\n",
    "# Выводим график\n",
    "plt.show()"
   ]
  },
  {
   "cell_type": "code",
   "execution_count": 34,
   "id": "a139bd72",
   "metadata": {
    "id": "a139bd72",
    "scrolled": false
   },
   "outputs": [
    {
     "data": {
      "text/html": [
       "<div>\n",
       "<style scoped>\n",
       "    .dataframe tbody tr th:only-of-type {\n",
       "        vertical-align: middle;\n",
       "    }\n",
       "\n",
       "    .dataframe tbody tr th {\n",
       "        vertical-align: top;\n",
       "    }\n",
       "\n",
       "    .dataframe thead th {\n",
       "        text-align: right;\n",
       "    }\n",
       "</style>\n",
       "<table border=\"1\" class=\"dataframe\">\n",
       "  <thead>\n",
       "    <tr style=\"text-align: right;\">\n",
       "      <th>chain</th>\n",
       "      <th>False</th>\n",
       "      <th>True</th>\n",
       "    </tr>\n",
       "    <tr>\n",
       "      <th>category</th>\n",
       "      <th></th>\n",
       "      <th></th>\n",
       "    </tr>\n",
       "  </thead>\n",
       "  <tbody>\n",
       "    <tr>\n",
       "      <th>бар,паб</th>\n",
       "      <td>596</td>\n",
       "      <td>168</td>\n",
       "    </tr>\n",
       "    <tr>\n",
       "      <th>булочная</th>\n",
       "      <td>99</td>\n",
       "      <td>157</td>\n",
       "    </tr>\n",
       "    <tr>\n",
       "      <th>быстрое питание</th>\n",
       "      <td>371</td>\n",
       "      <td>232</td>\n",
       "    </tr>\n",
       "    <tr>\n",
       "      <th>кафе</th>\n",
       "      <td>1597</td>\n",
       "      <td>779</td>\n",
       "    </tr>\n",
       "    <tr>\n",
       "      <th>кофейня</th>\n",
       "      <td>693</td>\n",
       "      <td>719</td>\n",
       "    </tr>\n",
       "    <tr>\n",
       "      <th>пиццерия</th>\n",
       "      <td>303</td>\n",
       "      <td>330</td>\n",
       "    </tr>\n",
       "    <tr>\n",
       "      <th>ресторан</th>\n",
       "      <td>1313</td>\n",
       "      <td>729</td>\n",
       "    </tr>\n",
       "    <tr>\n",
       "      <th>столовая</th>\n",
       "      <td>227</td>\n",
       "      <td>88</td>\n",
       "    </tr>\n",
       "  </tbody>\n",
       "</table>\n",
       "</div>"
      ],
      "text/plain": [
       "chain            False  True\n",
       "category                    \n",
       "бар,паб            596   168\n",
       "булочная            99   157\n",
       "быстрое питание    371   232\n",
       "кафе              1597   779\n",
       "кофейня            693   719\n",
       "пиццерия           303   330\n",
       "ресторан          1313   729\n",
       "столовая           227    88"
      ]
     },
     "metadata": {},
     "output_type": "display_data"
    },
    {
     "data": {
      "text/html": [
       "<div>\n",
       "<style scoped>\n",
       "    .dataframe tbody tr th:only-of-type {\n",
       "        vertical-align: middle;\n",
       "    }\n",
       "\n",
       "    .dataframe tbody tr th {\n",
       "        vertical-align: top;\n",
       "    }\n",
       "\n",
       "    .dataframe thead th {\n",
       "        text-align: right;\n",
       "    }\n",
       "</style>\n",
       "<table border=\"1\" class=\"dataframe\">\n",
       "  <thead>\n",
       "    <tr style=\"text-align: right;\">\n",
       "      <th>chain</th>\n",
       "      <th>False</th>\n",
       "      <th>True</th>\n",
       "    </tr>\n",
       "    <tr>\n",
       "      <th>category</th>\n",
       "      <th></th>\n",
       "      <th></th>\n",
       "    </tr>\n",
       "  </thead>\n",
       "  <tbody>\n",
       "    <tr>\n",
       "      <th>бар,паб</th>\n",
       "      <td>78.01</td>\n",
       "      <td>21.99</td>\n",
       "    </tr>\n",
       "    <tr>\n",
       "      <th>булочная</th>\n",
       "      <td>38.67</td>\n",
       "      <td>61.33</td>\n",
       "    </tr>\n",
       "    <tr>\n",
       "      <th>быстрое питание</th>\n",
       "      <td>61.53</td>\n",
       "      <td>38.47</td>\n",
       "    </tr>\n",
       "    <tr>\n",
       "      <th>кафе</th>\n",
       "      <td>67.21</td>\n",
       "      <td>32.79</td>\n",
       "    </tr>\n",
       "    <tr>\n",
       "      <th>кофейня</th>\n",
       "      <td>49.08</td>\n",
       "      <td>50.92</td>\n",
       "    </tr>\n",
       "    <tr>\n",
       "      <th>пиццерия</th>\n",
       "      <td>47.87</td>\n",
       "      <td>52.13</td>\n",
       "    </tr>\n",
       "    <tr>\n",
       "      <th>ресторан</th>\n",
       "      <td>64.30</td>\n",
       "      <td>35.70</td>\n",
       "    </tr>\n",
       "    <tr>\n",
       "      <th>столовая</th>\n",
       "      <td>72.06</td>\n",
       "      <td>27.94</td>\n",
       "    </tr>\n",
       "  </tbody>\n",
       "</table>\n",
       "</div>"
      ],
      "text/plain": [
       "chain            False   True\n",
       "category                     \n",
       "бар,паб          78.01  21.99\n",
       "булочная         38.67  61.33\n",
       "быстрое питание  61.53  38.47\n",
       "кафе             67.21  32.79\n",
       "кофейня          49.08  50.92\n",
       "пиццерия         47.87  52.13\n",
       "ресторан         64.30  35.70\n",
       "столовая         72.06  27.94"
      ]
     },
     "metadata": {},
     "output_type": "display_data"
    }
   ],
   "source": [
    "# Изучим соотношение сетевых и несетевых заведений в разрезе категорий заведений\n",
    "display(df.groupby('category')['chain'].value_counts().unstack(fill_value=0))\n",
    "display()\n",
    "display(round(df.groupby('category')['chain'].value_counts(normalize = True)*100, 2).unstack(fill_value=0))"
   ]
  },
  {
   "cell_type": "code",
   "execution_count": 35,
   "id": "2561b5ee",
   "metadata": {},
   "outputs": [
    {
     "data": {
      "image/png": "[encoded data removed]",
      "text/plain": [
       "<Figure size 864x432 with 1 Axes>"
      ]
     },
     "metadata": {
      "needs_background": "light"
     },
     "output_type": "display_data"
    }
   ],
   "source": [
    "# Построим график столбчатой диаграммы\n",
    "grouped = df.groupby('category')['chain'].value_counts(normalize = True).unstack(fill_value=0)\n",
    "\n",
    "grouped[True].sort_values(ascending = False).plot(\n",
    "               kind='bar',\n",
    "               title='Распределение доли сетевых заведений различных категорий',\n",
    "               ylabel='Доля заведений',\n",
    "               xlabel='',\n",
    "               rot=0,\n",
    "               figsize=(12, 6),\n",
    "               color = 'coral')\n",
    "plt.grid()\n",
    "\n",
    "# Выводим график\n",
    "plt.show()"
   ]
  },
  {
   "cell_type": "markdown",
   "id": "08143b07",
   "metadata": {},
   "source": [
    "В Москве преобладают несетевые заведения — их доля составляет 61% против 39% сетевых. Однако распределение существенно варьируется по разным категориям.  \n",
    "- Булочные — единственная категория с преобладанием сетевого формата (62% против 38% несетвых).\n",
    "- Кофейни и пиццерии имеют сбалансированное распределение — около 50/50%.\n",
    "- Бары и столовые демонстрируют наибольшую долю уникальных заведений (79% и 72% соответственно).\n",
    "- В категориях кафе и ресторанов сохраняется общий тренд с преобладанием несетевых заведений (64-65% против 35-36%)."
   ]
  },
  {
   "cell_type": "markdown",
   "id": "5913c3e3",
   "metadata": {
    "id": "5913c3e3"
   },
   "source": [
    "---\n",
    "\n",
    "### Количество посадочных мест в заведениях\n",
    "\n",
    "Исследуем количество посадочных мест в заведениях."
   ]
  },
  {
   "cell_type": "code",
   "execution_count": 36,
   "id": "6cb238d2",
   "metadata": {
    "id": "6cb238d2"
   },
   "outputs": [
    {
     "name": "stdout",
     "output_type": "stream",
     "text": [
      "Статистические показатели столбца seats:\n"
     ]
    },
    {
     "data": {
      "text/plain": [
       "count    4792.000000\n",
       "mean      108.361435\n",
       "std       122.841225\n",
       "min         0.000000\n",
       "25%        40.000000\n",
       "50%        75.000000\n",
       "75%       140.000000\n",
       "max      1288.000000\n",
       "Name: seats, dtype: float64"
      ]
     },
     "execution_count": 36,
     "metadata": {},
     "output_type": "execute_result"
    }
   ],
   "source": [
    "# Изучаем статистические показатели столбца seats\n",
    "print('Статистические показатели столбца seats:')\n",
    "df['seats'].describe()"
   ]
  },
  {
   "cell_type": "code",
   "execution_count": 37,
   "id": "062b55d8",
   "metadata": {
    "id": "062b55d8"
   },
   "outputs": [
    {
     "data": {
      "image/png": "[encoded data removed]",
      "text/plain": [
       "<Figure size 864x432 with 1 Axes>"
      ]
     },
     "metadata": {
      "needs_background": "light"
     },
     "output_type": "display_data"
    }
   ],
   "source": [
    "# Построим гистограмму распределения значений и диаграмму размаха для столбца seats\n",
    "# Создаём контейнер графика matplotlib и задаём его размер\n",
    "plt.figure(figsize=(12, 6))\n",
    "\n",
    "# Строим гистограмму с помощью pandas через plot(kind='hist')\n",
    "df['seats'].plot(\n",
    "                kind='hist', # Тип графика - гистограмма\n",
    "                bins=25, # Устанавливаем количество корзин - всего 25\n",
    "                alpha=0.75,\n",
    "                edgecolor='black',\n",
    "                rot=0, # Градус вращения подписи по оси Х\n",
    "                color = 'coral'\n",
    ")\n",
    "\n",
    "# Настраиваем оформление графика\n",
    "plt.title('Распределение значений количества посадочных мест в заведениях')\n",
    "plt.xlabel('Количество посадочных мест')\n",
    "plt.ylabel('Частота')\n",
    "# Добавляем сетку графика\n",
    "plt.grid()\n",
    "\n",
    "# Выводим график\n",
    "plt.show()"
   ]
  },
  {
   "cell_type": "code",
   "execution_count": 38,
   "id": "ceadf25b",
   "metadata": {
    "id": "ceadf25b"
   },
   "outputs": [
    {
     "data": {
      "image/png": "[encoded data removed]",
      "text/plain": [
       "<Figure size 864x432 with 1 Axes>"
      ]
     },
     "metadata": {
      "needs_background": "light"
     },
     "output_type": "display_data"
    }
   ],
   "source": [
    "# Создаём контейнер графика matplotlib и задаём его размер\n",
    "plt.figure(figsize=(12, 6))\n",
    "\n",
    "# Строим диаграмму размаха значений в столбце balance\n",
    "df.boxplot(column='seats', vert=False)\n",
    "\n",
    "# Добавляем заголовок и метки оси\n",
    "plt.title('Распределение значений количества посадочных мест в заведениях')\n",
    "plt.xlabel('Количество посадочных мест')\n",
    "\n",
    "# Выводим график\n",
    "plt.show()"
   ]
  },
  {
   "cell_type": "markdown",
   "id": "c46463f8",
   "metadata": {},
   "source": [
    "По гистограмме и боксплоту видно, что паспределение значений асимметричное, скошенное вправо. Это демонстрирует и значительная разница между медианой (75) и средним (108). Также высокое значение стандартного отклонения указывает на большой разброс значений.\n",
    "\n",
    "Минимальное значение — 0, что корректно, поскольку существуют заведения работающие «на вынос» или на доставку.  \n",
    "\n",
    "Максимальное значение — 1288, что не выглядит правдоподобным, особенно учитывая значение 75 перцентиля — 140. Согласно гистограмме размаха, основная часть данных сосредоточена между 40 и 140, а значения после ~250 являются выбросами. Также встречаются аномально высокие значения после 900.\n",
    "\n",
    "Наличие заведений с количеством мест от 250 до 500 может быть связано с особенностями формата — например, это могут быть банкетные залы, фудкорты в торговых центрах или другие объекты, рассчитанные на массовое обслуживание. Также возможны технические особенности работы платформ «Яндекс Бизнес» и «Яндекс Карты»: при отсутствии точных данных от владельцев заведений сервисы могли автоматически подставлять усреднённые или максимальные значения. Это наиболее вероятно для заведений с числом мест от 920 до 1288, поскольку видно, что в этих диапазонах указаны только 4 конкретных числа."
   ]
  },
  {
   "cell_type": "markdown",
   "id": "0ba70667",
   "metadata": {},
   "source": [
    "**Определим для каждой категории заведений наиболее типичное количество посадочных мест** "
   ]
  },
  {
   "cell_type": "code",
   "execution_count": 39,
   "id": "b0c662a4",
   "metadata": {},
   "outputs": [
    {
     "data": {
      "image/png": "[encoded data removed]",
      "text/plain": [
       "<Figure size 1080x432 with 1 Axes>"
      ]
     },
     "metadata": {
      "needs_background": "light"
     },
     "output_type": "display_data"
    }
   ],
   "source": [
    "tmp = df.copy()  # Создаем копию датасета, чтобы не работать с исходным\n",
    "\n",
    "# Создаем список категорий, сортированный по медианам\n",
    "order=tmp.groupby('category')['seats'].median().sort_values(ascending=False).index \n",
    "\n",
    "# Построение диаграммы размаха с использованием seaborn\n",
    "plt.figure(figsize=(15, 6))\n",
    "sns.boxplot(x='category', \n",
    "            y='seats', \n",
    "            data=tmp, \n",
    "            showmeans=True,  # Зеленые треугольники показывают среднее значение\n",
    "            order=order,\n",
    "            palette='pastel').set(title = 'Распределение посадочных мест в зависимости от категории', \n",
    "                             xlabel = 'Название категории заведения', \n",
    "                             ylabel = 'Количество посадочных мест',\n",
    "                             ylim=(0, 330))   # Ограничиваем вывод для того, чтобы боксплоты были крупными, \n",
    "                                              # если убрать, то будут видны все выбросы\n",
    "# Отображение диаграммы\n",
    "plt.show()"
   ]
  },
  {
   "cell_type": "markdown",
   "id": "9832350a",
   "metadata": {},
   "source": [
    "По диаграмме видно, что типичное количество посадочных мест различается в заведениях разных категорий, однако эта разница не кардинальная. Наибольшее число мест характерно для ресторанов — 86, наименьшее — для булочных — 50."
   ]
  },
  {
   "cell_type": "markdown",
   "id": "8ed065ea",
   "metadata": {
    "id": "8ed065ea"
   },
   "source": [
    "---\n",
    "\n",
    "### Рейтинг заведений общественного питания Москвы\n",
    "\n",
    "Исследуем рейтинг заведений разных категорий."
   ]
  },
  {
   "cell_type": "markdown",
   "id": "6a332b9b",
   "metadata": {},
   "source": [
    "Рассмотрим сводную статистику рейтингов всех заведений общественного питания  методом `describe()`"
   ]
  },
  {
   "cell_type": "code",
   "execution_count": 41,
   "id": "0ae50ffb",
   "metadata": {},
   "outputs": [
    {
     "data": {
      "text/html": [
       "<div>\n",
       "<style scoped>\n",
       "    .dataframe tbody tr th:only-of-type {\n",
       "        vertical-align: middle;\n",
       "    }\n",
       "\n",
       "    .dataframe tbody tr th {\n",
       "        vertical-align: top;\n",
       "    }\n",
       "\n",
       "    .dataframe thead th {\n",
       "        text-align: right;\n",
       "    }\n",
       "</style>\n",
       "<table border=\"1\" class=\"dataframe\">\n",
       "  <thead>\n",
       "    <tr style=\"text-align: right;\">\n",
       "      <th></th>\n",
       "      <th>count</th>\n",
       "      <th>mean</th>\n",
       "      <th>std</th>\n",
       "      <th>min</th>\n",
       "      <th>25%</th>\n",
       "      <th>50%</th>\n",
       "      <th>75%</th>\n",
       "      <th>max</th>\n",
       "    </tr>\n",
       "    <tr>\n",
       "      <th>category</th>\n",
       "      <th></th>\n",
       "      <th></th>\n",
       "      <th></th>\n",
       "      <th></th>\n",
       "      <th></th>\n",
       "      <th></th>\n",
       "      <th></th>\n",
       "      <th></th>\n",
       "    </tr>\n",
       "  </thead>\n",
       "  <tbody>\n",
       "    <tr>\n",
       "      <th>бар,паб</th>\n",
       "      <td>764.0</td>\n",
       "      <td>4.387691</td>\n",
       "      <td>0.380392</td>\n",
       "      <td>1.1</td>\n",
       "      <td>4.3</td>\n",
       "      <td>4.4</td>\n",
       "      <td>4.6</td>\n",
       "      <td>5.0</td>\n",
       "    </tr>\n",
       "    <tr>\n",
       "      <th>булочная</th>\n",
       "      <td>256.0</td>\n",
       "      <td>4.268362</td>\n",
       "      <td>0.386303</td>\n",
       "      <td>1.3</td>\n",
       "      <td>4.2</td>\n",
       "      <td>4.3</td>\n",
       "      <td>4.4</td>\n",
       "      <td>5.0</td>\n",
       "    </tr>\n",
       "    <tr>\n",
       "      <th>быстрое питание</th>\n",
       "      <td>603.0</td>\n",
       "      <td>4.050251</td>\n",
       "      <td>0.560949</td>\n",
       "      <td>1.1</td>\n",
       "      <td>3.9</td>\n",
       "      <td>4.2</td>\n",
       "      <td>4.3</td>\n",
       "      <td>5.0</td>\n",
       "    </tr>\n",
       "    <tr>\n",
       "      <th>кафе</th>\n",
       "      <td>2376.0</td>\n",
       "      <td>4.124280</td>\n",
       "      <td>0.566003</td>\n",
       "      <td>1.0</td>\n",
       "      <td>4.0</td>\n",
       "      <td>4.2</td>\n",
       "      <td>4.4</td>\n",
       "      <td>5.0</td>\n",
       "    </tr>\n",
       "    <tr>\n",
       "      <th>кофейня</th>\n",
       "      <td>1412.0</td>\n",
       "      <td>4.278749</td>\n",
       "      <td>0.368249</td>\n",
       "      <td>1.4</td>\n",
       "      <td>4.1</td>\n",
       "      <td>4.3</td>\n",
       "      <td>4.4</td>\n",
       "      <td>5.0</td>\n",
       "    </tr>\n",
       "    <tr>\n",
       "      <th>пиццерия</th>\n",
       "      <td>633.0</td>\n",
       "      <td>4.301267</td>\n",
       "      <td>0.336162</td>\n",
       "      <td>1.0</td>\n",
       "      <td>4.2</td>\n",
       "      <td>4.3</td>\n",
       "      <td>4.4</td>\n",
       "      <td>5.0</td>\n",
       "    </tr>\n",
       "    <tr>\n",
       "      <th>ресторан</th>\n",
       "      <td>2042.0</td>\n",
       "      <td>4.290394</td>\n",
       "      <td>0.413142</td>\n",
       "      <td>1.0</td>\n",
       "      <td>4.2</td>\n",
       "      <td>4.3</td>\n",
       "      <td>4.5</td>\n",
       "      <td>5.0</td>\n",
       "    </tr>\n",
       "    <tr>\n",
       "      <th>столовая</th>\n",
       "      <td>315.0</td>\n",
       "      <td>4.211428</td>\n",
       "      <td>0.454205</td>\n",
       "      <td>1.0</td>\n",
       "      <td>4.1</td>\n",
       "      <td>4.3</td>\n",
       "      <td>4.4</td>\n",
       "      <td>5.0</td>\n",
       "    </tr>\n",
       "  </tbody>\n",
       "</table>\n",
       "</div>"
      ],
      "text/plain": [
       "                  count      mean       std  min  25%  50%  75%  max\n",
       "category                                                            \n",
       "бар,паб           764.0  4.387691  0.380392  1.1  4.3  4.4  4.6  5.0\n",
       "булочная          256.0  4.268362  0.386303  1.3  4.2  4.3  4.4  5.0\n",
       "быстрое питание   603.0  4.050251  0.560949  1.1  3.9  4.2  4.3  5.0\n",
       "кафе             2376.0  4.124280  0.566003  1.0  4.0  4.2  4.4  5.0\n",
       "кофейня          1412.0  4.278749  0.368249  1.4  4.1  4.3  4.4  5.0\n",
       "пиццерия          633.0  4.301267  0.336162  1.0  4.2  4.3  4.4  5.0\n",
       "ресторан         2042.0  4.290394  0.413142  1.0  4.2  4.3  4.5  5.0\n",
       "столовая          315.0  4.211428  0.454205  1.0  4.1  4.3  4.4  5.0"
      ]
     },
     "execution_count": 41,
     "metadata": {},
     "output_type": "execute_result"
    }
   ],
   "source": [
    "df.groupby('category')['rating'].describe()"
   ]
  },
  {
   "cell_type": "code",
   "execution_count": 42,
   "id": "3e0ec5d7",
   "metadata": {
    "id": "3e0ec5d7"
   },
   "outputs": [
    {
     "data": {
      "image/png": "[encoded data removed]",
      "text/plain": [
       "<Figure size 864x432 with 1 Axes>"
      ]
     },
     "metadata": {
      "needs_background": "light"
     },
     "output_type": "display_data"
    }
   ],
   "source": [
    "plt.figure(figsize=(12, 6))\n",
    "\n",
    "df.groupby('category')['rating'].mean().sort_values(ascending = False).plot(\n",
    "                                         kind = 'bar',\n",
    "                                         title = 'Средний рейтинг заведений всех категорий',\n",
    "                                         legend = True,\n",
    "                                         rot = 0, \n",
    "                                         color = 'coral',\n",
    "                                         xlabel = '',\n",
    "                                         ylabel = 'Среднее значение')\n",
    "\n",
    "# Рассчитываем среднее значение рейтинга\n",
    "mean_churn_share = df['rating'].mean()\n",
    "\n",
    "# Наносим на график линию с средним значением рейтинга\n",
    "plt.axhline(mean_churn_share, # Данные, по которым строится линия\n",
    "            color='red', # Цвет линии\n",
    "            linestyle='--', # Стиль линии\n",
    "            linewidth=1, # Ширина линии\n",
    "            label=f'Средний рейтинг {round(mean_churn_share,4)}')\n",
    "\n",
    "# Добавляем сетку графика\n",
    "plt.grid()\n",
    "plt.legend()\n",
    "\n",
    "# Выводим график\n",
    "plt.show()"
   ]
  },
  {
   "cell_type": "markdown",
   "id": "352bc2af",
   "metadata": {
    "id": "766c86cb"
   },
   "source": [
    "Усреднённые рейтинги различных типов заведений общественного питания отличаются незначительно — все значения находятся в диапазоне от 4.06 до 4.39. Более высокими рейтингами (около 4.4) выделяются бары, пиццерии и рестораны. В среднем чуть ниже оцениваются столовые, кофейни и булочные (в пределах 4.22–4.28). Наименьшие средние рейтинги у заведений быстрого питания (4.06) и кафе (4.15)."
   ]
  },
  {
   "cell_type": "markdown",
   "id": "dd9702d9",
   "metadata": {
    "id": "dd9702d9"
   },
   "source": [
    "---\n",
    "\n",
    "### Корреляция рейтингов заведений с другими данными\n",
    "\n",
    "Изучим, с какими данными показывают самую сильную корреляцию рейтинги заведений."
   ]
  },
  {
   "cell_type": "code",
   "execution_count": 49,
   "id": "15400eb9",
   "metadata": {
    "id": "15400eb9"
   },
   "outputs": [
    {
     "name": "stdout",
     "output_type": "stream",
     "text": [
      "interval columns not set, guessing: ['seats', 'rating']\n",
      "Корреляционная матрица с коэффициентом phi_k для переменной rating\n"
     ]
    },
    {
     "data": {
      "text/html": [
       "<div>\n",
       "<style scoped>\n",
       "    .dataframe tbody tr th:only-of-type {\n",
       "        vertical-align: middle;\n",
       "    }\n",
       "\n",
       "    .dataframe tbody tr th {\n",
       "        vertical-align: top;\n",
       "    }\n",
       "\n",
       "    .dataframe thead th {\n",
       "        text-align: right;\n",
       "    }\n",
       "</style>\n",
       "<table border=\"1\" class=\"dataframe\">\n",
       "  <thead>\n",
       "    <tr style=\"text-align: right;\">\n",
       "      <th></th>\n",
       "      <th>rating</th>\n",
       "    </tr>\n",
       "  </thead>\n",
       "  <tbody>\n",
       "    <tr>\n",
       "      <th>price</th>\n",
       "      <td>0.262056</td>\n",
       "    </tr>\n",
       "    <tr>\n",
       "      <th>category</th>\n",
       "      <td>0.199065</td>\n",
       "    </tr>\n",
       "    <tr>\n",
       "      <th>district</th>\n",
       "      <td>0.189582</td>\n",
       "    </tr>\n",
       "    <tr>\n",
       "      <th>is_24_7</th>\n",
       "      <td>0.161354</td>\n",
       "    </tr>\n",
       "    <tr>\n",
       "      <th>chain</th>\n",
       "      <td>0.118926</td>\n",
       "    </tr>\n",
       "    <tr>\n",
       "      <th>seats</th>\n",
       "      <td>0.000000</td>\n",
       "    </tr>\n",
       "  </tbody>\n",
       "</table>\n",
       "</div>"
      ],
      "text/plain": [
       "            rating\n",
       "price     0.262056\n",
       "category  0.199065\n",
       "district  0.189582\n",
       "is_24_7   0.161354\n",
       "chain     0.118926\n",
       "seats     0.000000"
      ]
     },
     "execution_count": 49,
     "metadata": {},
     "output_type": "execute_result"
    }
   ],
   "source": [
    "# Вычисляем корреляционную матрицу с использованием phi_k\n",
    "correlation_matrix = df[['category', 'district', 'chain', 'seats', 'price', 'is_24_7', 'rating']].phik_matrix()\n",
    "\n",
    "# Выводим результат\n",
    "print('Корреляционная матрица с коэффициентом phi_k для переменной rating')\n",
    "correlation_matrix.loc[correlation_matrix.index != 'rating'][['rating']].sort_values(by='rating', ascending=False)"
   ]
  },
  {
   "cell_type": "markdown",
   "id": "abc0681b",
   "metadata": {},
   "source": [
    "Визуализируем результат корреляции с помощью библиотеки seaborn"
   ]
  },
  {
   "cell_type": "code",
   "execution_count": 51,
   "id": "e56224be",
   "metadata": {},
   "outputs": [
    {
     "data": {
      "image/png": "[encoded data removed]",
      "text/plain": [
       "<Figure size 144x432 with 1 Axes>"
      ]
     },
     "metadata": {
      "needs_background": "light"
     },
     "output_type": "display_data"
    }
   ],
   "source": [
    "# Строим тепловую карту\n",
    "plt.figure(figsize=(2, 6))\n",
    "\n",
    "# Сохраняем матрицу корреляции признака rating с другими признаками клиента\n",
    "data_heatmap = correlation_matrix.loc[correlation_matrix.index != 'rating'][['rating']].sort_values(by='rating', ascending=False)\n",
    "sns.heatmap(data_heatmap,\n",
    "            annot=True, # Отображаем численные значения в ячейках карты\n",
    "            fmt='.2f', # Форматируем значения корреляции: два знака после точки\n",
    "            cmap='coolwarm', # Устанавливаем цветовую гамму от красного (макс. значение) к синему\n",
    "            linewidths=0.5, # Форматируем линию между ячейками карты\n",
    "            cbar=False # Отключаем цветовую шкалу\n",
    "           )\n",
    "\n",
    "# Добавляем заголовок и подпись по оси Х\n",
    "plt.title('Тепловая карта коэффициента phi_k \\n для данных rating')\n",
    "plt.xlabel('Рейтинг заведения')\n",
    "\n",
    "# Выводим график\n",
    "plt.show()"
   ]
  },
  {
   "cell_type": "markdown",
   "id": "4fd7d7db",
   "metadata": {},
   "source": [
    "Не было обнаружено ни одной сильной или умеренной корреляции рейтинга с другими переменными. Тем не менее, отметим, что наиболее сильная корреляция рейтинга была обнаружена с `ценовой категорией — 0.26`. Проверим эту связь."
   ]
  },
  {
   "cell_type": "code",
   "execution_count": 52,
   "id": "dcde5023",
   "metadata": {},
   "outputs": [
    {
     "data": {
      "text/plain": [
       "price\n",
       "высокие          4.436611\n",
       "выше среднего    4.386348\n",
       "средние          4.297874\n",
       "низкие           4.173077\n",
       "Name: rating, dtype: float32"
      ]
     },
     "execution_count": 52,
     "metadata": {},
     "output_type": "execute_result"
    }
   ],
   "source": [
    "# Изучим распределение рейтинга заведений в зависимости от их ценовой категории\n",
    "df.groupby('price')['rating'].mean().sort_values(ascending = False)"
   ]
  },
  {
   "cell_type": "markdown",
   "id": "51302943",
   "metadata": {},
   "source": [
    "Наблюдается разница в рейтингах заведений разных ценовых категорий. Наибольшую среднюю оценку имеют заведения высокой ценовой категории — 4.44, наименьшую — заведения с низкими ценами (4.17%). Заведения с ценами выше среднего и средними в среднем оцениваются в 4.39 и 4.3 балла соответственно. То есть между рейтингом заведения и его ценовой категорией действительно существует прямая связь."
   ]
  },
  {
   "cell_type": "code",
   "execution_count": 51,
   "id": "08f29cf3",
   "metadata": {
    "scrolled": false
   },
   "outputs": [
    {
     "data": {
      "image/png": "[encoded data removed]",
      "text/plain": [
       "<Figure size 864x432 with 1 Axes>"
      ]
     },
     "metadata": {
      "needs_background": "light"
     },
     "output_type": "display_data"
    }
   ],
   "source": [
    "# Построим столбчатую диаграмму для визуализации выявленной разницы\n",
    "plt.figure(figsize = (12, 6))\n",
    "\n",
    "df.groupby('price')['rating'].mean().sort_values(ascending = False).plot(\n",
    "                                    kind = 'bar',\n",
    "                                    rot = 0,\n",
    "                                    title = 'Рейтинг заведений в зависимости от ценовой категории',\n",
    "                                    legend = True,\n",
    "                                    color = 'coral',\n",
    "                                    xlabel = 'Ценовая категория',\n",
    "                                    ylabel = 'Рейтинг')\n",
    "\n",
    "# Рассчитываем среднее значение рейтинга\n",
    "mean_churn_share = df['rating'].mean()\n",
    "\n",
    "# Наносим на график линию с средним значением рейтинга\n",
    "plt.axhline(mean_churn_share, # Данные, по которым строится линия\n",
    "            color='red', # Цвет линии\n",
    "            linestyle='--', # Стиль линии\n",
    "            linewidth=1, # Ширина линии\n",
    "            label=f'Средний рейтинг {round(mean_churn_share,2)}')\n",
    "\n",
    "# Добавляем сетку графика\n",
    "plt.grid()\n",
    "plt.legend()\n",
    "\n",
    "plt.show()"
   ]
  },
  {
   "cell_type": "markdown",
   "id": "23263287",
   "metadata": {},
   "source": [
    "Также интересно рассмотреть распределение рейтинга заведений в зависимости от режима работы и района расположения."
   ]
  },
  {
   "cell_type": "code",
   "execution_count": 54,
   "id": "462dbd3d",
   "metadata": {},
   "outputs": [
    {
     "data": {
      "text/plain": [
       "is_24_7\n",
       "False    4.245287\n",
       "True     4.072329\n",
       "Name: rating, dtype: float32"
      ]
     },
     "execution_count": 54,
     "metadata": {},
     "output_type": "execute_result"
    }
   ],
   "source": [
    "# Изучим распределение рейтинга заведений в зависимости от режима работы\n",
    "df.groupby('is_24_7')['rating'].mean().sort_values(ascending = False)"
   ]
  },
  {
   "cell_type": "markdown",
   "id": "510a8688",
   "metadata": {},
   "source": [
    "Заведения, работающие ежедневно и круглосуточно, имеют в среднем более низкие рейтинги (4.26), по сравнению с заведениями, работающими по другому графику (4.07)."
   ]
  },
  {
   "cell_type": "code",
   "execution_count": 55,
   "id": "45cab2d9",
   "metadata": {},
   "outputs": [
    {
     "data": {
      "text/plain": [
       "district\n",
       "Центральный административный округ         4.377520\n",
       "Северный административный округ            4.243255\n",
       "Северо-Западный административный округ     4.208802\n",
       "Южный административный округ               4.184417\n",
       "Западный административный округ            4.181647\n",
       "Восточный административный округ           4.174185\n",
       "Юго-Западный административный округ        4.172920\n",
       "Северо-Восточный административный округ    4.147977\n",
       "Юго-Восточный административный округ       4.101120\n",
       "Name: rating, dtype: float32"
      ]
     },
     "execution_count": 55,
     "metadata": {},
     "output_type": "execute_result"
    }
   ],
   "source": [
    "# Изучим распределение рейтинга заведений в разных административных районах\n",
    "df.groupby('district')['rating'].mean().sort_values(ascending = False)"
   ]
  },
  {
   "cell_type": "markdown",
   "id": "0614d52e",
   "metadata": {},
   "source": [
    "Заведения с самым высоким рейтингом сосредоточены преимущественно в Центральном административном округе."
   ]
  },
  {
   "cell_type": "markdown",
   "id": "370de703",
   "metadata": {
    "id": "370de703"
   },
   "source": [
    "---\n",
    "\n",
    "### Топ-15 популярных сетей в Москве\n",
    "\n",
    "Определим топ-15 сетей общественного питания в Москве по популярности и выведем для каждого из них средний рейтинг."
   ]
  },
  {
   "cell_type": "code",
   "execution_count": 82,
   "id": "5b40a193",
   "metadata": {},
   "outputs": [
    {
     "data": {
      "text/html": [
       "<div>\n",
       "<style scoped>\n",
       "    .dataframe tbody tr th:only-of-type {\n",
       "        vertical-align: middle;\n",
       "    }\n",
       "\n",
       "    .dataframe tbody tr th {\n",
       "        vertical-align: top;\n",
       "    }\n",
       "\n",
       "    .dataframe thead th {\n",
       "        text-align: right;\n",
       "    }\n",
       "</style>\n",
       "<table border=\"1\" class=\"dataframe\">\n",
       "  <thead>\n",
       "    <tr style=\"text-align: right;\">\n",
       "      <th></th>\n",
       "      <th>name</th>\n",
       "      <th>category</th>\n",
       "      <th>count_object</th>\n",
       "      <th>mean_rating</th>\n",
       "    </tr>\n",
       "  </thead>\n",
       "  <tbody>\n",
       "    <tr>\n",
       "      <th>0</th>\n",
       "      <td>Шоколадница</td>\n",
       "      <td>кофейня</td>\n",
       "      <td>119</td>\n",
       "      <td>4.178151</td>\n",
       "    </tr>\n",
       "    <tr>\n",
       "      <th>1</th>\n",
       "      <td>Домино'с Пицца</td>\n",
       "      <td>пиццерия</td>\n",
       "      <td>76</td>\n",
       "      <td>4.169737</td>\n",
       "    </tr>\n",
       "    <tr>\n",
       "      <th>2</th>\n",
       "      <td>Додо Пицца</td>\n",
       "      <td>пиццерия</td>\n",
       "      <td>74</td>\n",
       "      <td>4.286487</td>\n",
       "    </tr>\n",
       "    <tr>\n",
       "      <th>3</th>\n",
       "      <td>One Price Coffee</td>\n",
       "      <td>кофейня</td>\n",
       "      <td>71</td>\n",
       "      <td>4.064789</td>\n",
       "    </tr>\n",
       "    <tr>\n",
       "      <th>4</th>\n",
       "      <td>Яндекс Лавка</td>\n",
       "      <td>ресторан</td>\n",
       "      <td>69</td>\n",
       "      <td>3.872464</td>\n",
       "    </tr>\n",
       "    <tr>\n",
       "      <th>5</th>\n",
       "      <td>Cofix</td>\n",
       "      <td>кофейня</td>\n",
       "      <td>65</td>\n",
       "      <td>4.075385</td>\n",
       "    </tr>\n",
       "    <tr>\n",
       "      <th>6</th>\n",
       "      <td>Prime</td>\n",
       "      <td>ресторан</td>\n",
       "      <td>49</td>\n",
       "      <td>4.114285</td>\n",
       "    </tr>\n",
       "    <tr>\n",
       "      <th>7</th>\n",
       "      <td>КОФЕПОРТ</td>\n",
       "      <td>кофейня</td>\n",
       "      <td>42</td>\n",
       "      <td>4.147619</td>\n",
       "    </tr>\n",
       "    <tr>\n",
       "      <th>8</th>\n",
       "      <td>Кулинарная лавка братьев Караваевых</td>\n",
       "      <td>кафе</td>\n",
       "      <td>39</td>\n",
       "      <td>4.394872</td>\n",
       "    </tr>\n",
       "    <tr>\n",
       "      <th>9</th>\n",
       "      <td>Теремок</td>\n",
       "      <td>ресторан</td>\n",
       "      <td>36</td>\n",
       "      <td>4.105556</td>\n",
       "    </tr>\n",
       "    <tr>\n",
       "      <th>10</th>\n",
       "      <td>CofeFest</td>\n",
       "      <td>кофейня</td>\n",
       "      <td>31</td>\n",
       "      <td>3.977419</td>\n",
       "    </tr>\n",
       "    <tr>\n",
       "      <th>11</th>\n",
       "      <td>Чайхана</td>\n",
       "      <td>кафе</td>\n",
       "      <td>26</td>\n",
       "      <td>3.946154</td>\n",
       "    </tr>\n",
       "    <tr>\n",
       "      <th>12</th>\n",
       "      <td>Буханка</td>\n",
       "      <td>булочная</td>\n",
       "      <td>25</td>\n",
       "      <td>4.416000</td>\n",
       "    </tr>\n",
       "    <tr>\n",
       "      <th>13</th>\n",
       "      <td>Drive Café</td>\n",
       "      <td>кафе</td>\n",
       "      <td>24</td>\n",
       "      <td>4.025000</td>\n",
       "    </tr>\n",
       "    <tr>\n",
       "      <th>14</th>\n",
       "      <td>Кофемания</td>\n",
       "      <td>кофейня</td>\n",
       "      <td>22</td>\n",
       "      <td>4.463636</td>\n",
       "    </tr>\n",
       "  </tbody>\n",
       "</table>\n",
       "</div>"
      ],
      "text/plain": [
       "                                   name  category  count_object  mean_rating\n",
       "0                           Шоколадница   кофейня           119     4.178151\n",
       "1                        Домино'с Пицца  пиццерия            76     4.169737\n",
       "2                            Додо Пицца  пиццерия            74     4.286487\n",
       "3                      One Price Coffee   кофейня            71     4.064789\n",
       "4                          Яндекс Лавка  ресторан            69     3.872464\n",
       "5                                 Cofix   кофейня            65     4.075385\n",
       "6                                 Prime  ресторан            49     4.114285\n",
       "7                              КОФЕПОРТ   кофейня            42     4.147619\n",
       "8   Кулинарная лавка братьев Караваевых      кафе            39     4.394872\n",
       "9                               Теремок  ресторан            36     4.105556\n",
       "10                             CofeFest   кофейня            31     3.977419\n",
       "11                              Чайхана      кафе            26     3.946154\n",
       "12                              Буханка  булочная            25     4.416000\n",
       "13                           Drive Café      кафе            24     4.025000\n",
       "14                            Кофемания   кофейня            22     4.463636"
      ]
     },
     "execution_count": 82,
     "metadata": {},
     "output_type": "execute_result"
    }
   ],
   "source": [
    "grouped_df = df.groupby(['name', 'category']).agg(\n",
    "    count_object = ('chain', 'sum'),\n",
    "    mean_rating = ('rating', 'mean')\n",
    ").sort_values(by = 'count_object', ascending = False).head(15).reset_index()\n",
    "\n",
    "grouped_df"
   ]
  },
  {
   "cell_type": "code",
   "execution_count": 76,
   "id": "3e8923e5",
   "metadata": {},
   "outputs": [
    {
     "data": {
      "text/plain": [
       "4.15"
      ]
     },
     "execution_count": 76,
     "metadata": {},
     "output_type": "execute_result"
    }
   ],
   "source": [
    "# Посчитаем средний рейтинг топ-15 популярных сетевых заведений Москвы\n",
    "round(grouped_df['mean_rating'].mean(), 2)"
   ]
  },
  {
   "cell_type": "code",
   "execution_count": 83,
   "id": "05e31347",
   "metadata": {},
   "outputs": [
    {
     "data": {
      "image/png": "[encoded data removed]",
      "text/plain": [
       "<Figure size 864x432 with 1 Axes>"
      ]
     },
     "metadata": {
      "needs_background": "light"
     },
     "output_type": "display_data"
    }
   ],
   "source": [
    "# Построим линейчатую диаграмму для отражения количества заведений\n",
    "plt.figure(figsize = (12,6))\n",
    "\n",
    "df_sorted = grouped_df[['name', 'count_object']].sort_values(by = 'count_object', ascending = True)\n",
    "plt.barh(df_sorted['name'], df_sorted['count_object'], color = 'coral')\n",
    "\n",
    "# Настраиваем оформление графика\n",
    "plt.title('Топ-15 популярных сетей в Москве')\n",
    "plt.xlabel('Количество заведений')\n",
    "\n",
    "# Добавляем сетку графика\n",
    "plt.grid()\n",
    "\n",
    "# Выводим график\n",
    "plt.show()"
   ]
  },
  {
   "cell_type": "code",
   "execution_count": 86,
   "id": "4e00c05b",
   "metadata": {},
   "outputs": [
    {
     "data": {
      "image/png": "[encoded data removed]",
      "text/plain": [
       "<Figure size 864x432 with 1 Axes>"
      ]
     },
     "metadata": {
      "needs_background": "light"
     },
     "output_type": "display_data"
    }
   ],
   "source": [
    "# Построим линейчатую диаграмму для отражения рейтинга заведений\n",
    "plt.figure(figsize = (12,6))\n",
    "\n",
    "df_sorted = grouped_df[['name', 'mean_rating']].sort_values(by = 'mean_rating', ascending = True)\n",
    "plt.barh(df_sorted['name'], df_sorted['mean_rating'], color = 'coral')\n",
    "\n",
    "# Настраиваем оформление графика\n",
    "plt.title('Рейтинг топ-15 популярных сетей в Москве')\n",
    "plt.xlabel('Рейтинг заведений')\n",
    "\n",
    "# Добавляем сетку графика\n",
    "plt.grid()\n",
    "\n",
    "# Выводим график\n",
    "plt.show()"
   ]
  },
  {
   "cell_type": "markdown",
   "id": "8e9bca5a",
   "metadata": {},
   "source": [
    "Было определено 15 самых популярных сетей общественного питания Москвы. Преимущественно это кофейни, но в топ-3 популярных сетей входят две пиццерии — Домино'с Пицца и Додо Пицца. На первом месте по количеству заведений — Шоколадница, представленная 120 точками в городе.\n",
    "\n",
    "Средний рейтинг сетей не всегда связан с их популярностью — например, топ-3 по рейтингу занимают такие сети, как «Буханка», «Кулинарная лавка братьев Караваевых», «Хинкальная», количество заведений которых не превышает 39."
   ]
  },
  {
   "cell_type": "markdown",
   "id": "85a90a94",
   "metadata": {
    "id": "85a90a94"
   },
   "source": [
    "---\n",
    "\n",
    "### Вариация среднего чека заведения в зависимости от района Москвы"
   ]
  },
  {
   "cell_type": "markdown",
   "id": "a8257af4",
   "metadata": {},
   "source": [
    "- Изучим распределение среднего чека по всем данным"
   ]
  },
  {
   "cell_type": "code",
   "execution_count": 65,
   "id": "ddca7cee",
   "metadata": {},
   "outputs": [
    {
     "data": {
      "text/plain": [
       "count     3149.000000\n",
       "mean       958.053650\n",
       "std       1009.734436\n",
       "min          0.000000\n",
       "25%        375.000000\n",
       "50%        750.000000\n",
       "75%       1250.000000\n",
       "max      35000.000000\n",
       "Name: middle_avg_bill, dtype: float64"
      ]
     },
     "execution_count": 65,
     "metadata": {},
     "output_type": "execute_result"
    }
   ],
   "source": [
    "# Изучим данные метода describe по переменной middle_avg_bill\n",
    "df['middle_avg_bill'].describe()"
   ]
  },
  {
   "cell_type": "code",
   "execution_count": 87,
   "id": "d4d6a165",
   "metadata": {},
   "outputs": [
    {
     "data": {
      "image/png": "[encoded data removed]",
      "text/plain": [
       "<Figure size 864x432 with 1 Axes>"
      ]
     },
     "metadata": {
      "needs_background": "light"
     },
     "output_type": "display_data"
    }
   ],
   "source": [
    "# Построим гистограмму распределения значений и диаграмму размаха для столбца seats\n",
    "# Создаём контейнер графика matplotlib и задаём его размер\n",
    "plt.figure(figsize=(12, 6))\n",
    "\n",
    "# Строим гистограмму с помощью pandas через plot(kind='hist')\n",
    "df['middle_avg_bill'].plot(\n",
    "                kind='hist', # Тип графика - гистограмма\n",
    "                bins=50, # Устанавливаем количество корзин - всего 25\n",
    "                alpha=0.75,\n",
    "                edgecolor='black',\n",
    "                rot=0, # Градус вращения подписи по оси Х\n",
    "                color = 'coral'\n",
    ")\n",
    "\n",
    "# Настраиваем оформление графика\n",
    "plt.title('Распределение значений среднего чека')\n",
    "plt.xlabel('Средний чек')\n",
    "plt.ylabel('Частота')\n",
    "# Добавляем сетку графика\n",
    "plt.grid()\n",
    "\n",
    "# Выводим график\n",
    "plt.show()"
   ]
  },
  {
   "cell_type": "code",
   "execution_count": 67,
   "id": "7219e3c8",
   "metadata": {},
   "outputs": [
    {
     "data": {
      "image/png": "[encoded data removed]",
      "text/plain": [
       "<Figure size 864x432 with 1 Axes>"
      ]
     },
     "metadata": {
      "needs_background": "light"
     },
     "output_type": "display_data"
    }
   ],
   "source": [
    "# Создаём контейнер графика matplotlib и задаём его размер\n",
    "plt.figure(figsize=(12, 6))\n",
    "\n",
    "# Строим диаграмму размаха значений в столбце balance\n",
    "df.boxplot(column='middle_avg_bill', vert=False)\n",
    "\n",
    "# Добавляем заголовок и метки оси\n",
    "plt.title('Распределение значений среднего чека')\n",
    "plt.xlabel('Средний чек')\n",
    "\n",
    "# Выводим график\n",
    "plt.show()"
   ]
  },
  {
   "cell_type": "markdown",
   "id": "d8da00a7",
   "metadata": {},
   "source": [
    "По гистограмме видно, что паспределение значений асимметричное, скошенное вправо. Это демонстрирует и значительная разница между медианой (750) и средним (958). Также высокое значение стандартного отклонения (1010) указывает на большой разброс значений.\n",
    "\n",
    "Минимальное значение — 0, что, скорее всего, является ошибкой, поскольку средний чек 0 рублей очень маловероятен. Максимальное значение 35000 — вероятно, не является аномалией, поскольку такие суммы возможны для заведений с высоким уровнем цен. При этом основная часть данных сосредоточена между суммами 375 и 1250 рублей. Значения после 2500, согласно гистограмме размаха, являются выбросами, однако эти значения вполне вероятны для дорогих заведений — ресторанов, например."
   ]
  },
  {
   "cell_type": "markdown",
   "id": "e0f73300",
   "metadata": {},
   "source": [
    "- Проанализируем значения среднего чека и медианы в разных административных округах Москвы"
   ]
  },
  {
   "cell_type": "code",
   "execution_count": 89,
   "id": "206b42f1",
   "metadata": {},
   "outputs": [
    {
     "data": {
      "text/html": [
       "<div>\n",
       "<style scoped>\n",
       "    .dataframe tbody tr th:only-of-type {\n",
       "        vertical-align: middle;\n",
       "    }\n",
       "\n",
       "    .dataframe tbody tr th {\n",
       "        vertical-align: top;\n",
       "    }\n",
       "\n",
       "    .dataframe thead th {\n",
       "        text-align: right;\n",
       "    }\n",
       "</style>\n",
       "<table border=\"1\" class=\"dataframe\">\n",
       "  <thead>\n",
       "    <tr style=\"text-align: right;\">\n",
       "      <th></th>\n",
       "      <th>median</th>\n",
       "      <th>mean</th>\n",
       "    </tr>\n",
       "    <tr>\n",
       "      <th>district</th>\n",
       "      <th></th>\n",
       "      <th></th>\n",
       "    </tr>\n",
       "  </thead>\n",
       "  <tbody>\n",
       "    <tr>\n",
       "      <th>Восточный административный округ</th>\n",
       "      <td>575.0</td>\n",
       "      <td>820.626953</td>\n",
       "    </tr>\n",
       "    <tr>\n",
       "      <th>Западный административный округ</th>\n",
       "      <td>1000.0</td>\n",
       "      <td>1053.225464</td>\n",
       "    </tr>\n",
       "    <tr>\n",
       "      <th>Северный административный округ</th>\n",
       "      <td>650.0</td>\n",
       "      <td>927.959656</td>\n",
       "    </tr>\n",
       "    <tr>\n",
       "      <th>Северо-Восточный административный округ</th>\n",
       "      <td>500.0</td>\n",
       "      <td>716.611267</td>\n",
       "    </tr>\n",
       "    <tr>\n",
       "      <th>Северо-Западный административный округ</th>\n",
       "      <td>700.0</td>\n",
       "      <td>822.222900</td>\n",
       "    </tr>\n",
       "    <tr>\n",
       "      <th>Центральный административный округ</th>\n",
       "      <td>1000.0</td>\n",
       "      <td>1191.057495</td>\n",
       "    </tr>\n",
       "    <tr>\n",
       "      <th>Юго-Восточный административный округ</th>\n",
       "      <td>450.0</td>\n",
       "      <td>654.097961</td>\n",
       "    </tr>\n",
       "    <tr>\n",
       "      <th>Юго-Западный административный округ</th>\n",
       "      <td>600.0</td>\n",
       "      <td>792.561707</td>\n",
       "    </tr>\n",
       "    <tr>\n",
       "      <th>Южный административный округ</th>\n",
       "      <td>500.0</td>\n",
       "      <td>834.398071</td>\n",
       "    </tr>\n",
       "  </tbody>\n",
       "</table>\n",
       "</div>"
      ],
      "text/plain": [
       "                                         median         mean\n",
       "district                                                    \n",
       "Восточный административный округ          575.0   820.626953\n",
       "Западный административный округ          1000.0  1053.225464\n",
       "Северный административный округ           650.0   927.959656\n",
       "Северо-Восточный административный округ   500.0   716.611267\n",
       "Северо-Западный административный округ    700.0   822.222900\n",
       "Центральный административный округ       1000.0  1191.057495\n",
       "Юго-Восточный административный округ      450.0   654.097961\n",
       "Юго-Западный административный округ       600.0   792.561707\n",
       "Южный административный округ              500.0   834.398071"
      ]
     },
     "execution_count": 89,
     "metadata": {},
     "output_type": "execute_result"
    }
   ],
   "source": [
    "df.groupby('district')['middle_avg_bill'].agg(['median', 'mean'])"
   ]
  },
  {
   "cell_type": "code",
   "execution_count": 100,
   "id": "5fb4ffc6",
   "metadata": {
    "id": "5fb4ffc6"
   },
   "outputs": [
    {
     "data": {
      "image/png": "[encoded data removed]",
      "text/plain": [
       "<Figure size 648x504 with 1 Axes>"
      ]
     },
     "metadata": {
      "needs_background": "light"
     },
     "output_type": "display_data"
    }
   ],
   "source": [
    "# Построим линейчатую диаграмму по столбцу district\n",
    "df.groupby('district')['middle_avg_bill'].agg(['median', 'mean']).sort_values(by = 'mean').plot(\n",
    "                kind = 'barh',\n",
    "                legend = True,\n",
    "                title = 'Зависимость типичного значения среднего чека от округа',\n",
    "                figsize = (9,7),\n",
    "                xlabel = '',\n",
    "                ylabel = 'Значение чека'\n",
    "                )\n",
    "\n",
    "# Добавляем сетку графика\n",
    "plt.grid()\n",
    "\n",
    "# Выводим график\n",
    "plt.show()"
   ]
  },
  {
   "cell_type": "markdown",
   "id": "2ccc371c",
   "metadata": {},
   "source": [
    "Наблюдаются различия между районом расположения заведения и средним чеком. Самый дорогой район — Центральный, в котором средний чек составляет 1191 рубль. Остальные районы демонстрируют более низкие показатели среднего чека — от 654 рублей в Юго-Восточном районе до 1053 рублей в Западном. Поэтому можно сделать вывод о том, что удалённость от центра влияет на цены в заведениях."
   ]
  },
  {
   "cell_type": "markdown",
   "id": "c150bd4f",
   "metadata": {
    "id": "c150bd4f"
   },
   "source": [
    "---\n"
   ]
  },
  {
   "cell_type": "markdown",
   "id": "2974223e",
   "metadata": {
    "id": "c8869609"
   },
   "source": [
    "### Промежуточный вывод"
   ]
  },
  {
   "cell_type": "markdown",
   "id": "6e5e1a2a",
   "metadata": {
    "id": "3313cfd6"
   },
   "source": [
    "Анализ данных показал, что:\n",
    "- Наиболее популярными заведениями общественного питания в Москве являются кафе, рестораны, кофейни — на них приходится 70% всех заведений в городе.\n",
    "- Больше всего заведений общественного питания представлено в Центральном округе Москвы (27%), здесь более популярны рестораны и бары, чем в остальных районах города. Меньше всего заведений общепита находится в Северо-Западном округе — всего 5% от всех заведений города.\n",
    "- В Москве преобладают несетевые заведения — их доля составляет 62% против 38% сетевых. Однако это распределение неодинаково в разных категориях. Булочные преимущественно работают в формате сетей (61%), бары и столовые, напротив — чаще работают в формате независимых заведений (78% и 72% соответственно). В кофейнях и пиццериях наблюдается сбалансированное распределение — около 50%/50%. В категориях кафе и ресторанов сохраняется общий тренд с преобладанием несетевых заведений (64-67% против 33-36%).\n",
    "- Количество посадочных мест в заведениях варьируется в зависимости от категории. Больше всего мест характерно для ресторанов, баров и кофеен — 80-86 мест, меньше всего — для булочных и пиццерий — 50-55 мест.\n",
    "- Рейтинг заведений в целом не сильно зависит от категории, но можно выделить некоторые заметные тенденции: заведения с самым высоким рейтингом (4.3 - 4.4) представляют бары, пиццерии, рестораны, с самым низким — заведения быстрого питания и кафе (4.05 — 4.12). Эту зависимость подтверждает и корреляционный анализ — наиболее сильная связь рейтинга зафиксирована с ценовой категорией заведения: чем выше цены в заведении, тем выше его рейтинг.\n",
    "-  Самые популярные сети общественного питания В Москве: Шоколадница, Домино'с Пицца и Додо Пицца. При этом в топ-15 сетевых заведений Москвы основная часть представлена кофейнями.\n",
    "- Самый высокий средний чек в заведениях Москвы зафиксирован в Центральном административном округе (1191 рубль), самый низкий — в Юго-Восточном (654 рубля)."
   ]
  },
  {
   "cell_type": "markdown",
   "id": "480f3422",
   "metadata": {
    "id": "480f3422"
   },
   "source": [
    "## 4. Итоговый вывод и рекомендации"
   ]
  },
  {
   "cell_type": "markdown",
   "id": "c0ae648f",
   "metadata": {},
   "source": [
    "В ходе исследования были проанализированы данные о 8000 заведений общественного питания Москвы, составленные на основе данных сервисов Яндекс Карты и Яндекс Бизнес на лето 2022 года. Данные включали общую информацию о заведениях (расположение, рейтинг, режим и формат работы, категория) и информацию о ценовой политике заведения (средний чек, ценовая категория). Акцент исследования был на том, чтобы определить факторы, влияющие на рейтинг заведений, а также найти различия между зведениями разных категорий и разныъ районов Москвы. Были проанализированы такие параметры, как: административный район Москвы, режим работы, формат работы (сетевое или несетевое заведение), количество посадочных мест, средний чек. \n",
    "\n",
    "#### Факторы, влияющие на рейтинг заведения\n",
    "На рейтинг заведения влияет несколько факторов: ценовая категория, категория, режим работы, расположение относительно центра города.\n",
    "\n",
    "Наиболее высокие рейтинги характерны для следующих заведений:\n",
    "- Заведения с высокими ценами (4.44) и ценами выше среднего (4.39);\n",
    "- Бары, пабы (4.39), пиццерии (4.3), рестораны (4.3);\n",
    "- Заведения, расположенные в Центральном административном округе (они также демонстрируют самый высокий средний чек);\n",
    "- Заведения, не работающие круглосуточно.\n",
    "\n",
    "Также стоит отметить, что заведения с наибольшим средним чеком расположены в Центральном районе Москвы.\n",
    "\n",
    "#### Структура рынка и популярные заведения\n",
    "- Кафе, рестораны и кофейни составляют основу рынка — на них приходится около 68% всех заведений;\n",
    "- В Москве доминируют несетевые заведения (61%), но среди некоторых категорий (например, булочных и кофеен) преобладают сети;\n",
    "- Наиболее популярные сетевые бренды — Шоколадница, Домино'с Пицца, Додо Пицца, а среди топ-15 сетей большинство — кофейни, что указывает на высокий и устойчивый спрос на данный формат.\n",
    "\n",
    "#### Рекомендации\n",
    "На основе полученных результатов можно предложить следующие рекомендации:\n",
    "- Рассмотреть открытие бара, паба, пиццерии или ресторана;\n",
    "- Позиционироваться в ценовом сегменте «высоком» или «выше среднего»;\n",
    "- Открыть заведение в Центральном районе;\n",
    "- Круглосуточные заведения не дают преимуществ в рейтинге, поэтому не стоит ориентироваться на такой режим работы."
   ]
  }
 ],
 "metadata": {
  "ExecuteTimeLog": [
   {
    "duration": 1348,
    "start_time": "2025-06-18T18:24:06.218Z"
   },
   {
    "duration": 0,
    "start_time": "2025-06-18T18:24:07.570Z"
   },
   {
    "duration": 0,
    "start_time": "2025-06-18T18:24:07.571Z"
   },
   {
    "duration": 0,
    "start_time": "2025-06-18T18:24:07.572Z"
   },
   {
    "duration": 0,
    "start_time": "2025-06-18T18:24:07.573Z"
   },
   {
    "duration": 0,
    "start_time": "2025-06-18T18:24:07.574Z"
   },
   {
    "duration": 0,
    "start_time": "2025-06-18T18:24:07.575Z"
   },
   {
    "duration": 0,
    "start_time": "2025-06-18T18:24:07.576Z"
   },
   {
    "duration": 0,
    "start_time": "2025-06-18T18:24:07.577Z"
   },
   {
    "duration": 0,
    "start_time": "2025-06-18T18:24:07.579Z"
   },
   {
    "duration": 0,
    "start_time": "2025-06-18T18:24:07.580Z"
   },
   {
    "duration": 0,
    "start_time": "2025-06-18T18:24:07.581Z"
   },
   {
    "duration": 0,
    "start_time": "2025-06-18T18:24:07.582Z"
   },
   {
    "duration": 0,
    "start_time": "2025-06-18T18:24:07.584Z"
   },
   {
    "duration": 0,
    "start_time": "2025-06-18T18:24:07.585Z"
   },
   {
    "duration": 0,
    "start_time": "2025-06-18T18:24:07.586Z"
   },
   {
    "duration": 0,
    "start_time": "2025-06-18T18:24:07.587Z"
   },
   {
    "duration": 0,
    "start_time": "2025-06-18T18:24:07.588Z"
   },
   {
    "duration": 0,
    "start_time": "2025-06-18T18:24:07.589Z"
   },
   {
    "duration": 0,
    "start_time": "2025-06-18T18:24:07.590Z"
   },
   {
    "duration": 0,
    "start_time": "2025-06-18T18:24:07.592Z"
   },
   {
    "duration": 0,
    "start_time": "2025-06-18T18:24:07.593Z"
   },
   {
    "duration": 0,
    "start_time": "2025-06-18T18:24:07.594Z"
   },
   {
    "duration": 0,
    "start_time": "2025-06-18T18:24:07.595Z"
   },
   {
    "duration": 0,
    "start_time": "2025-06-18T18:24:07.596Z"
   },
   {
    "duration": 0,
    "start_time": "2025-06-18T18:24:07.598Z"
   },
   {
    "duration": 0,
    "start_time": "2025-06-18T18:24:07.637Z"
   },
   {
    "duration": 0,
    "start_time": "2025-06-18T18:24:07.638Z"
   },
   {
    "duration": 0,
    "start_time": "2025-06-18T18:24:07.639Z"
   },
   {
    "duration": 0,
    "start_time": "2025-06-18T18:24:07.640Z"
   },
   {
    "duration": 0,
    "start_time": "2025-06-18T18:24:07.641Z"
   },
   {
    "duration": 0,
    "start_time": "2025-06-18T18:24:07.642Z"
   },
   {
    "duration": 0,
    "start_time": "2025-06-18T18:24:07.644Z"
   },
   {
    "duration": 0,
    "start_time": "2025-06-18T18:24:07.645Z"
   },
   {
    "duration": 0,
    "start_time": "2025-06-18T18:24:07.646Z"
   },
   {
    "duration": 0,
    "start_time": "2025-06-18T18:24:07.647Z"
   },
   {
    "duration": 0,
    "start_time": "2025-06-18T18:24:07.648Z"
   },
   {
    "duration": 0,
    "start_time": "2025-06-18T18:24:07.649Z"
   },
   {
    "duration": 0,
    "start_time": "2025-06-18T18:24:07.650Z"
   },
   {
    "duration": 0,
    "start_time": "2025-06-18T18:24:07.652Z"
   },
   {
    "duration": 0,
    "start_time": "2025-06-18T18:24:07.653Z"
   },
   {
    "duration": 0,
    "start_time": "2025-06-18T18:24:07.654Z"
   },
   {
    "duration": 0,
    "start_time": "2025-06-18T18:24:07.655Z"
   },
   {
    "duration": 0,
    "start_time": "2025-06-18T18:24:07.656Z"
   },
   {
    "duration": 0,
    "start_time": "2025-06-18T18:24:07.657Z"
   },
   {
    "duration": 0,
    "start_time": "2025-06-18T18:24:07.658Z"
   },
   {
    "duration": 0,
    "start_time": "2025-06-18T18:24:07.659Z"
   },
   {
    "duration": 0,
    "start_time": "2025-06-18T18:24:07.660Z"
   },
   {
    "duration": 0,
    "start_time": "2025-06-18T18:24:07.661Z"
   },
   {
    "duration": 0,
    "start_time": "2025-06-18T18:24:07.662Z"
   },
   {
    "duration": 0,
    "start_time": "2025-06-18T18:24:07.663Z"
   },
   {
    "duration": 0,
    "start_time": "2025-06-18T18:24:07.664Z"
   },
   {
    "duration": 0,
    "start_time": "2025-06-18T18:24:07.665Z"
   },
   {
    "duration": 1,
    "start_time": "2025-06-18T18:24:07.666Z"
   },
   {
    "duration": 0,
    "start_time": "2025-06-18T18:24:07.667Z"
   },
   {
    "duration": 0,
    "start_time": "2025-06-18T18:24:07.668Z"
   },
   {
    "duration": 0,
    "start_time": "2025-06-18T18:24:07.670Z"
   },
   {
    "duration": 3454,
    "start_time": "2025-06-18T18:26:30.865Z"
   },
   {
    "duration": 2766,
    "start_time": "2025-06-18T18:26:39.187Z"
   },
   {
    "duration": 1332,
    "start_time": "2025-06-18T18:26:41.955Z"
   },
   {
    "duration": 229,
    "start_time": "2025-06-18T18:26:43.289Z"
   },
   {
    "duration": 17,
    "start_time": "2025-06-18T18:26:43.520Z"
   },
   {
    "duration": 22,
    "start_time": "2025-06-18T18:26:43.539Z"
   },
   {
    "duration": 18,
    "start_time": "2025-06-18T18:26:43.562Z"
   },
   {
    "duration": 9,
    "start_time": "2025-06-18T18:26:43.581Z"
   },
   {
    "duration": 44,
    "start_time": "2025-06-18T18:26:43.592Z"
   },
   {
    "duration": 31,
    "start_time": "2025-06-18T18:26:43.638Z"
   },
   {
    "duration": 11,
    "start_time": "2025-06-18T18:26:43.670Z"
   },
   {
    "duration": 2,
    "start_time": "2025-06-18T18:26:43.683Z"
   },
   {
    "duration": 23,
    "start_time": "2025-06-18T18:26:43.687Z"
   },
   {
    "duration": 16,
    "start_time": "2025-06-18T18:26:43.711Z"
   },
   {
    "duration": 21,
    "start_time": "2025-06-18T18:26:43.730Z"
   },
   {
    "duration": 9,
    "start_time": "2025-06-18T18:26:43.753Z"
   },
   {
    "duration": 25,
    "start_time": "2025-06-18T18:26:43.764Z"
   },
   {
    "duration": 10,
    "start_time": "2025-06-18T18:26:43.790Z"
   },
   {
    "duration": 8,
    "start_time": "2025-06-18T18:26:43.802Z"
   },
   {
    "duration": 59,
    "start_time": "2025-06-18T18:26:43.836Z"
   },
   {
    "duration": 29,
    "start_time": "2025-06-18T18:26:43.897Z"
   },
   {
    "duration": 12,
    "start_time": "2025-06-18T18:26:43.928Z"
   },
   {
    "duration": 4,
    "start_time": "2025-06-18T18:26:43.942Z"
   },
   {
    "duration": 61,
    "start_time": "2025-06-18T18:26:43.948Z"
   },
   {
    "duration": 5,
    "start_time": "2025-06-18T18:26:44.011Z"
   },
   {
    "duration": 31,
    "start_time": "2025-06-18T18:26:44.017Z"
   },
   {
    "duration": 18,
    "start_time": "2025-06-18T18:26:44.050Z"
   },
   {
    "duration": 196,
    "start_time": "2025-06-18T18:26:44.070Z"
   },
   {
    "duration": 10,
    "start_time": "2025-06-18T18:26:44.267Z"
   },
   {
    "duration": 268,
    "start_time": "2025-06-18T18:26:44.279Z"
   },
   {
    "duration": 12,
    "start_time": "2025-06-18T18:26:44.549Z"
   },
   {
    "duration": 196,
    "start_time": "2025-06-18T18:26:44.563Z"
   },
   {
    "duration": 7,
    "start_time": "2025-06-18T18:26:44.761Z"
   },
   {
    "duration": 221,
    "start_time": "2025-06-18T18:26:44.771Z"
   },
   {
    "duration": 14,
    "start_time": "2025-06-18T18:26:44.994Z"
   },
   {
    "duration": 300,
    "start_time": "2025-06-18T18:26:45.010Z"
   },
   {
    "duration": 9,
    "start_time": "2025-06-18T18:26:45.312Z"
   },
   {
    "duration": 232,
    "start_time": "2025-06-18T18:26:45.323Z"
   },
   {
    "duration": 145,
    "start_time": "2025-06-18T18:26:45.557Z"
   },
   {
    "duration": 8,
    "start_time": "2025-06-18T18:26:45.703Z"
   },
   {
    "duration": 262,
    "start_time": "2025-06-18T18:26:45.712Z"
   },
   {
    "duration": 8,
    "start_time": "2025-06-18T18:26:45.978Z"
   },
   {
    "duration": 345,
    "start_time": "2025-06-18T18:26:45.987Z"
   },
   {
    "duration": 211,
    "start_time": "2025-06-18T18:26:46.333Z"
   },
   {
    "duration": 235,
    "start_time": "2025-06-18T18:26:46.546Z"
   },
   {
    "duration": 7,
    "start_time": "2025-06-18T18:26:46.783Z"
   },
   {
    "duration": 328,
    "start_time": "2025-06-18T18:26:46.791Z"
   },
   {
    "duration": 19,
    "start_time": "2025-06-18T18:26:47.120Z"
   },
   {
    "duration": 15,
    "start_time": "2025-06-18T18:26:47.141Z"
   },
   {
    "duration": 37,
    "start_time": "2025-06-18T18:26:47.158Z"
   },
   {
    "duration": 57,
    "start_time": "2025-06-18T18:26:47.197Z"
   },
   {
    "duration": 32,
    "start_time": "2025-06-18T18:26:47.256Z"
   },
   {
    "duration": 28,
    "start_time": "2025-06-18T18:26:47.289Z"
   },
   {
    "duration": 36,
    "start_time": "2025-06-18T18:26:47.319Z"
   },
   {
    "duration": 34,
    "start_time": "2025-06-18T18:26:47.357Z"
   },
   {
    "duration": 252,
    "start_time": "2025-06-18T18:26:47.393Z"
   },
   {
    "duration": 222,
    "start_time": "2025-06-18T18:26:47.646Z"
   },
   {
    "duration": 7,
    "start_time": "2025-06-18T18:26:47.870Z"
   },
   {
    "duration": 221,
    "start_time": "2025-06-18T18:26:47.879Z"
   },
   {
    "duration": 5,
    "start_time": "2025-06-18T19:09:44.727Z"
   },
   {
    "duration": 58,
    "start_time": "2025-06-18T19:11:09.542Z"
   },
   {
    "duration": 2769,
    "start_time": "2025-06-18T19:19:00.731Z"
   },
   {
    "duration": 1242,
    "start_time": "2025-06-18T19:19:03.502Z"
   },
   {
    "duration": 179,
    "start_time": "2025-06-18T19:19:04.745Z"
   },
   {
    "duration": 15,
    "start_time": "2025-06-18T19:19:04.926Z"
   },
   {
    "duration": 32,
    "start_time": "2025-06-18T19:19:04.943Z"
   },
   {
    "duration": 28,
    "start_time": "2025-06-18T19:19:04.977Z"
   },
   {
    "duration": 60,
    "start_time": "2025-06-18T19:19:05.006Z"
   },
   {
    "duration": 27,
    "start_time": "2025-06-18T19:19:05.068Z"
   },
   {
    "duration": 31,
    "start_time": "2025-06-18T19:19:05.097Z"
   },
   {
    "duration": 11,
    "start_time": "2025-06-18T19:19:05.131Z"
   },
   {
    "duration": 47,
    "start_time": "2025-06-18T19:19:05.143Z"
   },
   {
    "duration": 34,
    "start_time": "2025-06-18T19:19:05.192Z"
   },
   {
    "duration": 84,
    "start_time": "2025-06-18T19:19:05.228Z"
   },
   {
    "duration": 134,
    "start_time": "2025-06-18T19:19:05.314Z"
   },
   {
    "duration": 23,
    "start_time": "2025-06-18T19:19:05.449Z"
   },
   {
    "duration": 37,
    "start_time": "2025-06-18T19:19:05.474Z"
   },
   {
    "duration": 29,
    "start_time": "2025-06-18T19:19:05.512Z"
   },
   {
    "duration": 68,
    "start_time": "2025-06-18T19:19:05.542Z"
   },
   {
    "duration": 10,
    "start_time": "2025-06-18T19:19:05.611Z"
   },
   {
    "duration": 24,
    "start_time": "2025-06-18T19:19:05.636Z"
   },
   {
    "duration": 148,
    "start_time": "2025-06-18T19:19:05.661Z"
   },
   {
    "duration": 0,
    "start_time": "2025-06-18T19:19:05.812Z"
   },
   {
    "duration": 0,
    "start_time": "2025-06-18T19:19:05.813Z"
   },
   {
    "duration": 0,
    "start_time": "2025-06-18T19:19:05.815Z"
   },
   {
    "duration": 0,
    "start_time": "2025-06-18T19:19:05.816Z"
   },
   {
    "duration": 0,
    "start_time": "2025-06-18T19:19:05.817Z"
   },
   {
    "duration": 0,
    "start_time": "2025-06-18T19:19:05.819Z"
   },
   {
    "duration": 0,
    "start_time": "2025-06-18T19:19:05.820Z"
   },
   {
    "duration": 0,
    "start_time": "2025-06-18T19:19:05.821Z"
   },
   {
    "duration": 0,
    "start_time": "2025-06-18T19:19:05.822Z"
   },
   {
    "duration": 0,
    "start_time": "2025-06-18T19:19:05.837Z"
   },
   {
    "duration": 0,
    "start_time": "2025-06-18T19:19:05.838Z"
   },
   {
    "duration": 0,
    "start_time": "2025-06-18T19:19:05.839Z"
   },
   {
    "duration": 0,
    "start_time": "2025-06-18T19:19:05.840Z"
   },
   {
    "duration": 0,
    "start_time": "2025-06-18T19:19:05.841Z"
   },
   {
    "duration": 0,
    "start_time": "2025-06-18T19:19:05.842Z"
   },
   {
    "duration": 0,
    "start_time": "2025-06-18T19:19:05.843Z"
   },
   {
    "duration": 0,
    "start_time": "2025-06-18T19:19:05.844Z"
   },
   {
    "duration": 0,
    "start_time": "2025-06-18T19:19:05.845Z"
   },
   {
    "duration": 0,
    "start_time": "2025-06-18T19:19:05.846Z"
   },
   {
    "duration": 0,
    "start_time": "2025-06-18T19:19:05.847Z"
   },
   {
    "duration": 0,
    "start_time": "2025-06-18T19:19:05.849Z"
   },
   {
    "duration": 0,
    "start_time": "2025-06-18T19:19:05.850Z"
   },
   {
    "duration": 0,
    "start_time": "2025-06-18T19:19:05.851Z"
   },
   {
    "duration": 0,
    "start_time": "2025-06-18T19:19:05.852Z"
   },
   {
    "duration": 0,
    "start_time": "2025-06-18T19:19:05.853Z"
   },
   {
    "duration": 0,
    "start_time": "2025-06-18T19:19:05.855Z"
   },
   {
    "duration": 0,
    "start_time": "2025-06-18T19:19:05.856Z"
   },
   {
    "duration": 0,
    "start_time": "2025-06-18T19:19:05.857Z"
   },
   {
    "duration": 0,
    "start_time": "2025-06-18T19:19:05.858Z"
   },
   {
    "duration": 0,
    "start_time": "2025-06-18T19:19:05.859Z"
   },
   {
    "duration": 0,
    "start_time": "2025-06-18T19:19:05.860Z"
   },
   {
    "duration": 0,
    "start_time": "2025-06-18T19:19:05.861Z"
   },
   {
    "duration": 0,
    "start_time": "2025-06-18T19:19:05.862Z"
   },
   {
    "duration": 0,
    "start_time": "2025-06-18T19:19:05.863Z"
   },
   {
    "duration": 0,
    "start_time": "2025-06-18T19:19:05.865Z"
   },
   {
    "duration": 0,
    "start_time": "2025-06-18T19:19:05.866Z"
   },
   {
    "duration": 0,
    "start_time": "2025-06-18T19:19:05.867Z"
   },
   {
    "duration": 0,
    "start_time": "2025-06-18T19:19:05.868Z"
   },
   {
    "duration": 0,
    "start_time": "2025-06-18T19:19:05.869Z"
   },
   {
    "duration": 0,
    "start_time": "2025-06-18T19:19:05.870Z"
   },
   {
    "duration": 4,
    "start_time": "2025-06-18T19:21:27.214Z"
   },
   {
    "duration": 2791,
    "start_time": "2025-06-18T19:21:34.427Z"
   },
   {
    "duration": 1304,
    "start_time": "2025-06-18T19:21:37.221Z"
   },
   {
    "duration": 166,
    "start_time": "2025-06-18T19:21:38.526Z"
   },
   {
    "duration": 17,
    "start_time": "2025-06-18T19:21:38.694Z"
   },
   {
    "duration": 43,
    "start_time": "2025-06-18T19:21:38.713Z"
   },
   {
    "duration": 21,
    "start_time": "2025-06-18T19:21:38.758Z"
   },
   {
    "duration": 10,
    "start_time": "2025-06-18T19:21:38.781Z"
   },
   {
    "duration": 30,
    "start_time": "2025-06-18T19:21:38.793Z"
   },
   {
    "duration": 31,
    "start_time": "2025-06-18T19:21:38.825Z"
   },
   {
    "duration": 12,
    "start_time": "2025-06-18T19:21:38.858Z"
   },
   {
    "duration": 14,
    "start_time": "2025-06-18T19:21:38.871Z"
   },
   {
    "duration": 28,
    "start_time": "2025-06-18T19:21:38.887Z"
   },
   {
    "duration": 20,
    "start_time": "2025-06-18T19:21:38.917Z"
   },
   {
    "duration": 41,
    "start_time": "2025-06-18T19:21:38.941Z"
   },
   {
    "duration": 111,
    "start_time": "2025-06-18T19:21:38.984Z"
   },
   {
    "duration": 60,
    "start_time": "2025-06-18T19:21:39.097Z"
   },
   {
    "duration": 11,
    "start_time": "2025-06-18T19:21:39.159Z"
   },
   {
    "duration": 68,
    "start_time": "2025-06-18T19:21:39.172Z"
   },
   {
    "duration": 10,
    "start_time": "2025-06-18T19:21:39.241Z"
   },
   {
    "duration": 11,
    "start_time": "2025-06-18T19:21:39.252Z"
   },
   {
    "duration": 19,
    "start_time": "2025-06-18T19:21:39.265Z"
   },
   {
    "duration": 131,
    "start_time": "2025-06-18T19:21:39.286Z"
   },
   {
    "duration": 29,
    "start_time": "2025-06-18T19:21:39.418Z"
   },
   {
    "duration": 9,
    "start_time": "2025-06-18T19:21:39.448Z"
   },
   {
    "duration": 16,
    "start_time": "2025-06-18T19:21:39.459Z"
   },
   {
    "duration": 61,
    "start_time": "2025-06-18T19:21:39.477Z"
   },
   {
    "duration": 5,
    "start_time": "2025-06-18T19:21:39.539Z"
   },
   {
    "duration": 9,
    "start_time": "2025-06-18T19:21:39.545Z"
   },
   {
    "duration": 17,
    "start_time": "2025-06-18T19:21:39.556Z"
   },
   {
    "duration": 279,
    "start_time": "2025-06-18T19:21:39.574Z"
   },
   {
    "duration": 10,
    "start_time": "2025-06-18T19:21:39.855Z"
   },
   {
    "duration": 570,
    "start_time": "2025-06-18T19:21:39.866Z"
   },
   {
    "duration": 15,
    "start_time": "2025-06-18T19:21:40.438Z"
   },
   {
    "duration": 389,
    "start_time": "2025-06-18T19:21:40.454Z"
   },
   {
    "duration": 8,
    "start_time": "2025-06-18T19:21:40.845Z"
   },
   {
    "duration": 291,
    "start_time": "2025-06-18T19:21:40.855Z"
   },
   {
    "duration": 15,
    "start_time": "2025-06-18T19:21:41.148Z"
   },
   {
    "duration": 282,
    "start_time": "2025-06-18T19:21:41.164Z"
   },
   {
    "duration": 9,
    "start_time": "2025-06-18T19:21:41.448Z"
   },
   {
    "duration": 213,
    "start_time": "2025-06-18T19:21:41.459Z"
   },
   {
    "duration": 230,
    "start_time": "2025-06-18T19:21:41.676Z"
   },
   {
    "duration": 7,
    "start_time": "2025-06-18T19:21:41.908Z"
   },
   {
    "duration": 177,
    "start_time": "2025-06-18T19:21:41.917Z"
   },
   {
    "duration": 7,
    "start_time": "2025-06-18T19:21:42.096Z"
   },
   {
    "duration": 358,
    "start_time": "2025-06-18T19:21:42.105Z"
   },
   {
    "duration": 208,
    "start_time": "2025-06-18T19:21:42.465Z"
   },
   {
    "duration": 211,
    "start_time": "2025-06-18T19:21:42.675Z"
   },
   {
    "duration": 7,
    "start_time": "2025-06-18T19:21:42.888Z"
   },
   {
    "duration": 315,
    "start_time": "2025-06-18T19:21:42.897Z"
   },
   {
    "duration": 7,
    "start_time": "2025-06-18T19:21:43.213Z"
   },
   {
    "duration": 19,
    "start_time": "2025-06-18T19:21:43.222Z"
   },
   {
    "duration": 11,
    "start_time": "2025-06-18T19:21:43.243Z"
   },
   {
    "duration": 15,
    "start_time": "2025-06-18T19:21:43.256Z"
   },
   {
    "duration": 12,
    "start_time": "2025-06-18T19:21:43.273Z"
   },
   {
    "duration": 100,
    "start_time": "2025-06-18T19:21:43.286Z"
   },
   {
    "duration": 10,
    "start_time": "2025-06-18T19:21:43.388Z"
   },
   {
    "duration": 24,
    "start_time": "2025-06-18T19:21:43.400Z"
   },
   {
    "duration": 238,
    "start_time": "2025-06-18T19:21:43.426Z"
   },
   {
    "duration": 225,
    "start_time": "2025-06-18T19:21:43.666Z"
   },
   {
    "duration": 7,
    "start_time": "2025-06-18T19:21:43.893Z"
   },
   {
    "duration": 225,
    "start_time": "2025-06-18T19:21:43.902Z"
   },
   {
    "duration": 6,
    "start_time": "2025-06-18T20:08:53.716Z"
   },
   {
    "duration": 5,
    "start_time": "2025-06-18T20:09:37.284Z"
   },
   {
    "duration": 37,
    "start_time": "2025-06-18T20:11:54.539Z"
   },
   {
    "duration": 263,
    "start_time": "2025-06-18T20:22:32.092Z"
   },
   {
    "duration": 8,
    "start_time": "2025-06-18T20:33:57.595Z"
   },
   {
    "duration": 3108,
    "start_time": "2025-06-20T01:45:29.793Z"
   },
   {
    "duration": 1814,
    "start_time": "2025-06-20T01:45:32.904Z"
   },
   {
    "duration": 0,
    "start_time": "2025-06-20T01:45:34.722Z"
   },
   {
    "duration": 0,
    "start_time": "2025-06-20T01:45:34.723Z"
   },
   {
    "duration": 0,
    "start_time": "2025-06-20T01:45:34.777Z"
   },
   {
    "duration": 0,
    "start_time": "2025-06-20T01:45:34.778Z"
   },
   {
    "duration": 0,
    "start_time": "2025-06-20T01:45:34.779Z"
   },
   {
    "duration": 0,
    "start_time": "2025-06-20T01:45:34.780Z"
   },
   {
    "duration": 0,
    "start_time": "2025-06-20T01:45:34.781Z"
   },
   {
    "duration": 0,
    "start_time": "2025-06-20T01:45:34.782Z"
   },
   {
    "duration": 0,
    "start_time": "2025-06-20T01:45:34.783Z"
   },
   {
    "duration": 0,
    "start_time": "2025-06-20T01:45:34.784Z"
   },
   {
    "duration": 0,
    "start_time": "2025-06-20T01:45:34.785Z"
   },
   {
    "duration": 0,
    "start_time": "2025-06-20T01:45:34.785Z"
   },
   {
    "duration": 0,
    "start_time": "2025-06-20T01:45:34.786Z"
   },
   {
    "duration": 0,
    "start_time": "2025-06-20T01:45:34.787Z"
   },
   {
    "duration": 0,
    "start_time": "2025-06-20T01:45:34.788Z"
   },
   {
    "duration": 0,
    "start_time": "2025-06-20T01:45:34.788Z"
   },
   {
    "duration": 0,
    "start_time": "2025-06-20T01:45:34.789Z"
   },
   {
    "duration": 0,
    "start_time": "2025-06-20T01:45:34.790Z"
   },
   {
    "duration": 0,
    "start_time": "2025-06-20T01:45:34.791Z"
   },
   {
    "duration": 0,
    "start_time": "2025-06-20T01:45:34.792Z"
   },
   {
    "duration": 0,
    "start_time": "2025-06-20T01:45:34.793Z"
   },
   {
    "duration": 0,
    "start_time": "2025-06-20T01:45:34.794Z"
   },
   {
    "duration": 0,
    "start_time": "2025-06-20T01:45:34.795Z"
   },
   {
    "duration": 0,
    "start_time": "2025-06-20T01:45:34.796Z"
   },
   {
    "duration": 0,
    "start_time": "2025-06-20T01:45:34.797Z"
   },
   {
    "duration": 0,
    "start_time": "2025-06-20T01:45:34.798Z"
   },
   {
    "duration": 0,
    "start_time": "2025-06-20T01:45:34.799Z"
   },
   {
    "duration": 0,
    "start_time": "2025-06-20T01:45:34.800Z"
   },
   {
    "duration": 0,
    "start_time": "2025-06-20T01:45:34.801Z"
   },
   {
    "duration": 0,
    "start_time": "2025-06-20T01:45:34.802Z"
   },
   {
    "duration": 0,
    "start_time": "2025-06-20T01:45:34.803Z"
   },
   {
    "duration": 0,
    "start_time": "2025-06-20T01:45:34.804Z"
   },
   {
    "duration": 0,
    "start_time": "2025-06-20T01:45:34.805Z"
   },
   {
    "duration": 0,
    "start_time": "2025-06-20T01:45:34.806Z"
   },
   {
    "duration": 0,
    "start_time": "2025-06-20T01:45:34.807Z"
   },
   {
    "duration": 0,
    "start_time": "2025-06-20T01:45:34.808Z"
   },
   {
    "duration": 0,
    "start_time": "2025-06-20T01:45:34.809Z"
   },
   {
    "duration": 0,
    "start_time": "2025-06-20T01:45:34.810Z"
   },
   {
    "duration": 0,
    "start_time": "2025-06-20T01:45:34.811Z"
   },
   {
    "duration": 0,
    "start_time": "2025-06-20T01:45:34.813Z"
   },
   {
    "duration": 0,
    "start_time": "2025-06-20T01:45:34.813Z"
   },
   {
    "duration": 0,
    "start_time": "2025-06-20T01:45:34.814Z"
   },
   {
    "duration": 0,
    "start_time": "2025-06-20T01:45:34.877Z"
   },
   {
    "duration": 0,
    "start_time": "2025-06-20T01:45:34.878Z"
   },
   {
    "duration": 1,
    "start_time": "2025-06-20T01:45:34.878Z"
   },
   {
    "duration": 0,
    "start_time": "2025-06-20T01:45:34.880Z"
   },
   {
    "duration": 0,
    "start_time": "2025-06-20T01:45:34.881Z"
   },
   {
    "duration": 0,
    "start_time": "2025-06-20T01:45:34.882Z"
   },
   {
    "duration": 0,
    "start_time": "2025-06-20T01:45:34.883Z"
   },
   {
    "duration": 0,
    "start_time": "2025-06-20T01:45:34.884Z"
   },
   {
    "duration": 0,
    "start_time": "2025-06-20T01:45:34.885Z"
   },
   {
    "duration": 0,
    "start_time": "2025-06-20T01:45:34.886Z"
   },
   {
    "duration": 0,
    "start_time": "2025-06-20T01:45:34.886Z"
   },
   {
    "duration": 0,
    "start_time": "2025-06-20T01:45:34.887Z"
   },
   {
    "duration": 0,
    "start_time": "2025-06-20T01:45:34.888Z"
   },
   {
    "duration": 0,
    "start_time": "2025-06-20T01:45:34.889Z"
   },
   {
    "duration": 0,
    "start_time": "2025-06-20T01:45:34.890Z"
   },
   {
    "duration": 0,
    "start_time": "2025-06-20T01:45:34.891Z"
   },
   {
    "duration": 0,
    "start_time": "2025-06-20T01:45:34.892Z"
   },
   {
    "duration": 0,
    "start_time": "2025-06-20T01:45:34.893Z"
   },
   {
    "duration": 0,
    "start_time": "2025-06-20T01:45:34.894Z"
   },
   {
    "duration": 0,
    "start_time": "2025-06-20T01:45:34.895Z"
   },
   {
    "duration": 0,
    "start_time": "2025-06-20T01:45:34.897Z"
   },
   {
    "duration": 0,
    "start_time": "2025-06-20T01:45:34.897Z"
   },
   {
    "duration": 0,
    "start_time": "2025-06-20T01:45:34.898Z"
   },
   {
    "duration": 0,
    "start_time": "2025-06-20T01:45:34.899Z"
   },
   {
    "duration": 8934,
    "start_time": "2025-06-20T02:02:09.877Z"
   },
   {
    "duration": 2854,
    "start_time": "2025-06-20T02:02:18.814Z"
   },
   {
    "duration": 1806,
    "start_time": "2025-06-20T02:02:21.671Z"
   },
   {
    "duration": 0,
    "start_time": "2025-06-20T02:02:23.481Z"
   },
   {
    "duration": 0,
    "start_time": "2025-06-20T02:02:23.483Z"
   },
   {
    "duration": 0,
    "start_time": "2025-06-20T02:02:23.484Z"
   },
   {
    "duration": 0,
    "start_time": "2025-06-20T02:02:23.486Z"
   },
   {
    "duration": 0,
    "start_time": "2025-06-20T02:02:23.487Z"
   },
   {
    "duration": 0,
    "start_time": "2025-06-20T02:02:23.488Z"
   },
   {
    "duration": 0,
    "start_time": "2025-06-20T02:02:23.489Z"
   },
   {
    "duration": 0,
    "start_time": "2025-06-20T02:02:23.490Z"
   },
   {
    "duration": 0,
    "start_time": "2025-06-20T02:02:23.491Z"
   },
   {
    "duration": 0,
    "start_time": "2025-06-20T02:02:23.492Z"
   },
   {
    "duration": 0,
    "start_time": "2025-06-20T02:02:23.492Z"
   },
   {
    "duration": 0,
    "start_time": "2025-06-20T02:02:23.493Z"
   },
   {
    "duration": 0,
    "start_time": "2025-06-20T02:02:23.494Z"
   },
   {
    "duration": 0,
    "start_time": "2025-06-20T02:02:23.495Z"
   },
   {
    "duration": 0,
    "start_time": "2025-06-20T02:02:23.496Z"
   },
   {
    "duration": 0,
    "start_time": "2025-06-20T02:02:23.497Z"
   },
   {
    "duration": 0,
    "start_time": "2025-06-20T02:02:23.498Z"
   },
   {
    "duration": 0,
    "start_time": "2025-06-20T02:02:23.499Z"
   },
   {
    "duration": 0,
    "start_time": "2025-06-20T02:02:23.500Z"
   },
   {
    "duration": 0,
    "start_time": "2025-06-20T02:02:23.501Z"
   },
   {
    "duration": 0,
    "start_time": "2025-06-20T02:02:23.501Z"
   },
   {
    "duration": 0,
    "start_time": "2025-06-20T02:02:23.502Z"
   },
   {
    "duration": 0,
    "start_time": "2025-06-20T02:02:23.503Z"
   },
   {
    "duration": 0,
    "start_time": "2025-06-20T02:02:23.504Z"
   },
   {
    "duration": 0,
    "start_time": "2025-06-20T02:02:23.505Z"
   },
   {
    "duration": 0,
    "start_time": "2025-06-20T02:02:23.506Z"
   },
   {
    "duration": 0,
    "start_time": "2025-06-20T02:02:23.507Z"
   },
   {
    "duration": 0,
    "start_time": "2025-06-20T02:02:23.508Z"
   },
   {
    "duration": 0,
    "start_time": "2025-06-20T02:02:23.509Z"
   },
   {
    "duration": 0,
    "start_time": "2025-06-20T02:02:23.510Z"
   },
   {
    "duration": 0,
    "start_time": "2025-06-20T02:02:23.511Z"
   },
   {
    "duration": 0,
    "start_time": "2025-06-20T02:02:23.512Z"
   },
   {
    "duration": 0,
    "start_time": "2025-06-20T02:02:23.512Z"
   },
   {
    "duration": 0,
    "start_time": "2025-06-20T02:02:23.513Z"
   },
   {
    "duration": 0,
    "start_time": "2025-06-20T02:02:23.514Z"
   },
   {
    "duration": 0,
    "start_time": "2025-06-20T02:02:23.515Z"
   },
   {
    "duration": 0,
    "start_time": "2025-06-20T02:02:23.516Z"
   },
   {
    "duration": 0,
    "start_time": "2025-06-20T02:02:23.517Z"
   },
   {
    "duration": 0,
    "start_time": "2025-06-20T02:02:23.518Z"
   },
   {
    "duration": 0,
    "start_time": "2025-06-20T02:02:23.519Z"
   },
   {
    "duration": 0,
    "start_time": "2025-06-20T02:02:23.576Z"
   },
   {
    "duration": 0,
    "start_time": "2025-06-20T02:02:23.578Z"
   },
   {
    "duration": 0,
    "start_time": "2025-06-20T02:02:23.579Z"
   },
   {
    "duration": 0,
    "start_time": "2025-06-20T02:02:23.580Z"
   },
   {
    "duration": 0,
    "start_time": "2025-06-20T02:02:23.581Z"
   },
   {
    "duration": 0,
    "start_time": "2025-06-20T02:02:23.582Z"
   },
   {
    "duration": 0,
    "start_time": "2025-06-20T02:02:23.583Z"
   },
   {
    "duration": 0,
    "start_time": "2025-06-20T02:02:23.584Z"
   },
   {
    "duration": 0,
    "start_time": "2025-06-20T02:02:23.585Z"
   },
   {
    "duration": 0,
    "start_time": "2025-06-20T02:02:23.586Z"
   },
   {
    "duration": 0,
    "start_time": "2025-06-20T02:02:23.587Z"
   },
   {
    "duration": 0,
    "start_time": "2025-06-20T02:02:23.588Z"
   },
   {
    "duration": 0,
    "start_time": "2025-06-20T02:02:23.589Z"
   },
   {
    "duration": 0,
    "start_time": "2025-06-20T02:02:23.590Z"
   },
   {
    "duration": 0,
    "start_time": "2025-06-20T02:02:23.592Z"
   },
   {
    "duration": 0,
    "start_time": "2025-06-20T02:02:23.592Z"
   },
   {
    "duration": 0,
    "start_time": "2025-06-20T02:02:23.593Z"
   },
   {
    "duration": 0,
    "start_time": "2025-06-20T02:02:23.594Z"
   },
   {
    "duration": 0,
    "start_time": "2025-06-20T02:02:23.596Z"
   },
   {
    "duration": 0,
    "start_time": "2025-06-20T02:02:23.596Z"
   },
   {
    "duration": 0,
    "start_time": "2025-06-20T02:02:23.597Z"
   },
   {
    "duration": 0,
    "start_time": "2025-06-20T02:02:23.598Z"
   },
   {
    "duration": 0,
    "start_time": "2025-06-20T02:02:23.600Z"
   },
   {
    "duration": 0,
    "start_time": "2025-06-20T02:02:23.601Z"
   },
   {
    "duration": 0,
    "start_time": "2025-06-20T02:02:23.602Z"
   },
   {
    "duration": 0,
    "start_time": "2025-06-20T02:02:23.603Z"
   },
   {
    "duration": 12828,
    "start_time": "2025-06-20T02:04:36.309Z"
   },
   {
    "duration": 2908,
    "start_time": "2025-06-20T02:04:54.003Z"
   },
   {
    "duration": 21,
    "start_time": "2025-06-20T02:05:00.808Z"
   },
   {
    "duration": 6898,
    "start_time": "2025-06-20T02:09:57.208Z"
   },
   {
    "duration": 2840,
    "start_time": "2025-06-20T02:11:32.523Z"
   },
   {
    "duration": 3784,
    "start_time": "2025-06-20T02:11:35.365Z"
   },
   {
    "duration": 0,
    "start_time": "2025-06-20T02:11:39.154Z"
   },
   {
    "duration": 0,
    "start_time": "2025-06-20T02:11:39.156Z"
   },
   {
    "duration": 0,
    "start_time": "2025-06-20T02:11:39.157Z"
   },
   {
    "duration": 0,
    "start_time": "2025-06-20T02:11:39.158Z"
   },
   {
    "duration": 0,
    "start_time": "2025-06-20T02:11:39.159Z"
   },
   {
    "duration": 0,
    "start_time": "2025-06-20T02:11:39.160Z"
   },
   {
    "duration": 0,
    "start_time": "2025-06-20T02:11:39.161Z"
   },
   {
    "duration": 0,
    "start_time": "2025-06-20T02:11:39.162Z"
   },
   {
    "duration": 1,
    "start_time": "2025-06-20T02:11:39.163Z"
   },
   {
    "duration": 0,
    "start_time": "2025-06-20T02:11:39.165Z"
   },
   {
    "duration": 0,
    "start_time": "2025-06-20T02:11:39.166Z"
   },
   {
    "duration": 0,
    "start_time": "2025-06-20T02:11:39.167Z"
   },
   {
    "duration": 0,
    "start_time": "2025-06-20T02:11:39.168Z"
   },
   {
    "duration": 0,
    "start_time": "2025-06-20T02:11:39.169Z"
   },
   {
    "duration": 0,
    "start_time": "2025-06-20T02:11:39.170Z"
   },
   {
    "duration": 0,
    "start_time": "2025-06-20T02:11:39.171Z"
   },
   {
    "duration": 0,
    "start_time": "2025-06-20T02:11:39.172Z"
   },
   {
    "duration": 0,
    "start_time": "2025-06-20T02:11:39.173Z"
   },
   {
    "duration": 0,
    "start_time": "2025-06-20T02:11:39.174Z"
   },
   {
    "duration": 0,
    "start_time": "2025-06-20T02:11:39.175Z"
   },
   {
    "duration": 0,
    "start_time": "2025-06-20T02:11:39.176Z"
   },
   {
    "duration": 0,
    "start_time": "2025-06-20T02:11:39.177Z"
   },
   {
    "duration": 0,
    "start_time": "2025-06-20T02:11:39.178Z"
   },
   {
    "duration": 0,
    "start_time": "2025-06-20T02:11:39.179Z"
   },
   {
    "duration": 0,
    "start_time": "2025-06-20T02:11:39.180Z"
   },
   {
    "duration": 0,
    "start_time": "2025-06-20T02:11:39.181Z"
   },
   {
    "duration": 0,
    "start_time": "2025-06-20T02:11:39.182Z"
   },
   {
    "duration": 0,
    "start_time": "2025-06-20T02:11:39.183Z"
   },
   {
    "duration": 0,
    "start_time": "2025-06-20T02:11:39.185Z"
   },
   {
    "duration": 0,
    "start_time": "2025-06-20T02:11:39.186Z"
   },
   {
    "duration": 0,
    "start_time": "2025-06-20T02:11:39.187Z"
   },
   {
    "duration": 0,
    "start_time": "2025-06-20T02:11:39.188Z"
   },
   {
    "duration": 0,
    "start_time": "2025-06-20T02:11:39.189Z"
   },
   {
    "duration": 0,
    "start_time": "2025-06-20T02:11:39.190Z"
   },
   {
    "duration": 0,
    "start_time": "2025-06-20T02:11:39.191Z"
   },
   {
    "duration": 0,
    "start_time": "2025-06-20T02:11:39.192Z"
   },
   {
    "duration": 0,
    "start_time": "2025-06-20T02:11:39.193Z"
   },
   {
    "duration": 0,
    "start_time": "2025-06-20T02:11:39.194Z"
   },
   {
    "duration": 0,
    "start_time": "2025-06-20T02:11:39.195Z"
   },
   {
    "duration": 0,
    "start_time": "2025-06-20T02:11:39.196Z"
   },
   {
    "duration": 0,
    "start_time": "2025-06-20T02:11:39.197Z"
   },
   {
    "duration": 0,
    "start_time": "2025-06-20T02:11:39.198Z"
   },
   {
    "duration": 0,
    "start_time": "2025-06-20T02:11:39.199Z"
   },
   {
    "duration": 0,
    "start_time": "2025-06-20T02:11:39.200Z"
   },
   {
    "duration": 0,
    "start_time": "2025-06-20T02:11:39.201Z"
   },
   {
    "duration": 1,
    "start_time": "2025-06-20T02:11:39.202Z"
   },
   {
    "duration": 0,
    "start_time": "2025-06-20T02:11:39.204Z"
   },
   {
    "duration": 0,
    "start_time": "2025-06-20T02:11:39.205Z"
   },
   {
    "duration": 0,
    "start_time": "2025-06-20T02:11:39.206Z"
   },
   {
    "duration": 0,
    "start_time": "2025-06-20T02:11:39.207Z"
   },
   {
    "duration": 0,
    "start_time": "2025-06-20T02:11:39.208Z"
   },
   {
    "duration": 0,
    "start_time": "2025-06-20T02:11:39.209Z"
   },
   {
    "duration": 0,
    "start_time": "2025-06-20T02:11:39.209Z"
   },
   {
    "duration": 1,
    "start_time": "2025-06-20T02:11:39.210Z"
   },
   {
    "duration": 0,
    "start_time": "2025-06-20T02:11:39.212Z"
   },
   {
    "duration": 0,
    "start_time": "2025-06-20T02:11:39.213Z"
   },
   {
    "duration": 0,
    "start_time": "2025-06-20T02:11:39.214Z"
   },
   {
    "duration": 0,
    "start_time": "2025-06-20T02:11:39.215Z"
   },
   {
    "duration": 0,
    "start_time": "2025-06-20T02:11:39.277Z"
   },
   {
    "duration": 0,
    "start_time": "2025-06-20T02:11:39.278Z"
   },
   {
    "duration": 0,
    "start_time": "2025-06-20T02:11:39.279Z"
   },
   {
    "duration": 0,
    "start_time": "2025-06-20T02:11:39.280Z"
   },
   {
    "duration": 0,
    "start_time": "2025-06-20T02:11:39.281Z"
   },
   {
    "duration": 0,
    "start_time": "2025-06-20T02:11:39.282Z"
   },
   {
    "duration": 0,
    "start_time": "2025-06-20T02:11:39.283Z"
   },
   {
    "duration": 0,
    "start_time": "2025-06-20T02:11:39.284Z"
   },
   {
    "duration": 8154,
    "start_time": "2025-06-20T02:11:59.293Z"
   },
   {
    "duration": 2736,
    "start_time": "2025-06-20T02:12:07.449Z"
   },
   {
    "duration": 2983,
    "start_time": "2025-06-20T02:12:10.187Z"
   },
   {
    "duration": 0,
    "start_time": "2025-06-20T02:12:13.175Z"
   },
   {
    "duration": 0,
    "start_time": "2025-06-20T02:12:13.176Z"
   },
   {
    "duration": 0,
    "start_time": "2025-06-20T02:12:13.177Z"
   },
   {
    "duration": 0,
    "start_time": "2025-06-20T02:12:13.178Z"
   },
   {
    "duration": 0,
    "start_time": "2025-06-20T02:12:13.180Z"
   },
   {
    "duration": 0,
    "start_time": "2025-06-20T02:12:13.181Z"
   },
   {
    "duration": 0,
    "start_time": "2025-06-20T02:12:13.182Z"
   },
   {
    "duration": 0,
    "start_time": "2025-06-20T02:12:13.183Z"
   },
   {
    "duration": 0,
    "start_time": "2025-06-20T02:12:13.184Z"
   },
   {
    "duration": 0,
    "start_time": "2025-06-20T02:12:13.186Z"
   },
   {
    "duration": 0,
    "start_time": "2025-06-20T02:12:13.187Z"
   },
   {
    "duration": 0,
    "start_time": "2025-06-20T02:12:13.188Z"
   },
   {
    "duration": 0,
    "start_time": "2025-06-20T02:12:13.189Z"
   },
   {
    "duration": 0,
    "start_time": "2025-06-20T02:12:13.190Z"
   },
   {
    "duration": 1,
    "start_time": "2025-06-20T02:12:13.191Z"
   },
   {
    "duration": 0,
    "start_time": "2025-06-20T02:12:13.193Z"
   },
   {
    "duration": 0,
    "start_time": "2025-06-20T02:12:13.194Z"
   },
   {
    "duration": 0,
    "start_time": "2025-06-20T02:12:13.195Z"
   },
   {
    "duration": 0,
    "start_time": "2025-06-20T02:12:13.196Z"
   },
   {
    "duration": 0,
    "start_time": "2025-06-20T02:12:13.198Z"
   },
   {
    "duration": 0,
    "start_time": "2025-06-20T02:12:13.199Z"
   },
   {
    "duration": 0,
    "start_time": "2025-06-20T02:12:13.200Z"
   },
   {
    "duration": 0,
    "start_time": "2025-06-20T02:12:13.201Z"
   },
   {
    "duration": 0,
    "start_time": "2025-06-20T02:12:13.203Z"
   },
   {
    "duration": 0,
    "start_time": "2025-06-20T02:12:13.204Z"
   },
   {
    "duration": 0,
    "start_time": "2025-06-20T02:12:13.205Z"
   },
   {
    "duration": 0,
    "start_time": "2025-06-20T02:12:13.206Z"
   },
   {
    "duration": 0,
    "start_time": "2025-06-20T02:12:13.207Z"
   },
   {
    "duration": 0,
    "start_time": "2025-06-20T02:12:13.208Z"
   },
   {
    "duration": 0,
    "start_time": "2025-06-20T02:12:13.209Z"
   },
   {
    "duration": 0,
    "start_time": "2025-06-20T02:12:13.210Z"
   },
   {
    "duration": 0,
    "start_time": "2025-06-20T02:12:13.212Z"
   },
   {
    "duration": 0,
    "start_time": "2025-06-20T02:12:13.213Z"
   },
   {
    "duration": 0,
    "start_time": "2025-06-20T02:12:13.214Z"
   },
   {
    "duration": 0,
    "start_time": "2025-06-20T02:12:13.215Z"
   },
   {
    "duration": 0,
    "start_time": "2025-06-20T02:12:13.216Z"
   },
   {
    "duration": 0,
    "start_time": "2025-06-20T02:12:13.217Z"
   },
   {
    "duration": 0,
    "start_time": "2025-06-20T02:12:13.218Z"
   },
   {
    "duration": 0,
    "start_time": "2025-06-20T02:12:13.277Z"
   },
   {
    "duration": 0,
    "start_time": "2025-06-20T02:12:13.278Z"
   },
   {
    "duration": 0,
    "start_time": "2025-06-20T02:12:13.279Z"
   },
   {
    "duration": 0,
    "start_time": "2025-06-20T02:12:13.280Z"
   },
   {
    "duration": 0,
    "start_time": "2025-06-20T02:12:13.282Z"
   },
   {
    "duration": 0,
    "start_time": "2025-06-20T02:12:13.283Z"
   },
   {
    "duration": 0,
    "start_time": "2025-06-20T02:12:13.284Z"
   },
   {
    "duration": 0,
    "start_time": "2025-06-20T02:12:13.285Z"
   },
   {
    "duration": 0,
    "start_time": "2025-06-20T02:12:13.286Z"
   },
   {
    "duration": 0,
    "start_time": "2025-06-20T02:12:13.288Z"
   },
   {
    "duration": 0,
    "start_time": "2025-06-20T02:12:13.289Z"
   },
   {
    "duration": 0,
    "start_time": "2025-06-20T02:12:13.290Z"
   },
   {
    "duration": 0,
    "start_time": "2025-06-20T02:12:13.291Z"
   },
   {
    "duration": 0,
    "start_time": "2025-06-20T02:12:13.292Z"
   },
   {
    "duration": 0,
    "start_time": "2025-06-20T02:12:13.293Z"
   },
   {
    "duration": 0,
    "start_time": "2025-06-20T02:12:13.294Z"
   },
   {
    "duration": 0,
    "start_time": "2025-06-20T02:12:13.295Z"
   },
   {
    "duration": 0,
    "start_time": "2025-06-20T02:12:13.296Z"
   },
   {
    "duration": 0,
    "start_time": "2025-06-20T02:12:13.298Z"
   },
   {
    "duration": 0,
    "start_time": "2025-06-20T02:12:13.299Z"
   },
   {
    "duration": 0,
    "start_time": "2025-06-20T02:12:13.300Z"
   },
   {
    "duration": 0,
    "start_time": "2025-06-20T02:12:13.301Z"
   },
   {
    "duration": 0,
    "start_time": "2025-06-20T02:12:13.302Z"
   },
   {
    "duration": 0,
    "start_time": "2025-06-20T02:12:13.303Z"
   },
   {
    "duration": 0,
    "start_time": "2025-06-20T02:12:13.304Z"
   },
   {
    "duration": 0,
    "start_time": "2025-06-20T02:12:13.305Z"
   },
   {
    "duration": 0,
    "start_time": "2025-06-20T02:12:13.306Z"
   },
   {
    "duration": 0,
    "start_time": "2025-06-20T02:12:13.307Z"
   },
   {
    "duration": 2994,
    "start_time": "2025-06-20T02:13:00.893Z"
   },
   {
    "duration": 635,
    "start_time": "2025-06-20T02:13:03.889Z"
   },
   {
    "duration": 0,
    "start_time": "2025-06-20T02:13:04.528Z"
   },
   {
    "duration": 0,
    "start_time": "2025-06-20T02:13:04.529Z"
   },
   {
    "duration": 0,
    "start_time": "2025-06-20T02:13:04.530Z"
   },
   {
    "duration": 0,
    "start_time": "2025-06-20T02:13:04.531Z"
   },
   {
    "duration": 0,
    "start_time": "2025-06-20T02:13:04.532Z"
   },
   {
    "duration": 0,
    "start_time": "2025-06-20T02:13:04.533Z"
   },
   {
    "duration": 0,
    "start_time": "2025-06-20T02:13:04.534Z"
   },
   {
    "duration": 0,
    "start_time": "2025-06-20T02:13:04.535Z"
   },
   {
    "duration": 0,
    "start_time": "2025-06-20T02:13:04.536Z"
   },
   {
    "duration": 1,
    "start_time": "2025-06-20T02:13:04.536Z"
   },
   {
    "duration": 0,
    "start_time": "2025-06-20T02:13:04.537Z"
   },
   {
    "duration": 0,
    "start_time": "2025-06-20T02:13:04.538Z"
   },
   {
    "duration": 0,
    "start_time": "2025-06-20T02:13:04.539Z"
   },
   {
    "duration": 0,
    "start_time": "2025-06-20T02:13:04.540Z"
   },
   {
    "duration": 0,
    "start_time": "2025-06-20T02:13:04.541Z"
   },
   {
    "duration": 0,
    "start_time": "2025-06-20T02:13:04.542Z"
   },
   {
    "duration": 0,
    "start_time": "2025-06-20T02:13:04.543Z"
   },
   {
    "duration": 0,
    "start_time": "2025-06-20T02:13:04.544Z"
   },
   {
    "duration": 0,
    "start_time": "2025-06-20T02:13:04.577Z"
   },
   {
    "duration": 0,
    "start_time": "2025-06-20T02:13:04.577Z"
   },
   {
    "duration": 0,
    "start_time": "2025-06-20T02:13:04.578Z"
   },
   {
    "duration": 0,
    "start_time": "2025-06-20T02:13:04.579Z"
   },
   {
    "duration": 0,
    "start_time": "2025-06-20T02:13:04.580Z"
   },
   {
    "duration": 0,
    "start_time": "2025-06-20T02:13:04.581Z"
   },
   {
    "duration": 0,
    "start_time": "2025-06-20T02:13:04.582Z"
   },
   {
    "duration": 0,
    "start_time": "2025-06-20T02:13:04.583Z"
   },
   {
    "duration": 0,
    "start_time": "2025-06-20T02:13:04.584Z"
   },
   {
    "duration": 0,
    "start_time": "2025-06-20T02:13:04.585Z"
   },
   {
    "duration": 0,
    "start_time": "2025-06-20T02:13:04.586Z"
   },
   {
    "duration": 0,
    "start_time": "2025-06-20T02:13:04.587Z"
   },
   {
    "duration": 0,
    "start_time": "2025-06-20T02:13:04.588Z"
   },
   {
    "duration": 0,
    "start_time": "2025-06-20T02:13:04.588Z"
   },
   {
    "duration": 0,
    "start_time": "2025-06-20T02:13:04.589Z"
   },
   {
    "duration": 0,
    "start_time": "2025-06-20T02:13:04.590Z"
   },
   {
    "duration": 0,
    "start_time": "2025-06-20T02:13:04.591Z"
   },
   {
    "duration": 0,
    "start_time": "2025-06-20T02:13:04.592Z"
   },
   {
    "duration": 0,
    "start_time": "2025-06-20T02:13:04.593Z"
   },
   {
    "duration": 0,
    "start_time": "2025-06-20T02:13:04.594Z"
   },
   {
    "duration": 0,
    "start_time": "2025-06-20T02:13:04.595Z"
   },
   {
    "duration": 0,
    "start_time": "2025-06-20T02:13:04.596Z"
   },
   {
    "duration": 0,
    "start_time": "2025-06-20T02:13:04.596Z"
   },
   {
    "duration": 0,
    "start_time": "2025-06-20T02:13:04.597Z"
   },
   {
    "duration": 0,
    "start_time": "2025-06-20T02:13:04.598Z"
   },
   {
    "duration": 0,
    "start_time": "2025-06-20T02:13:04.599Z"
   },
   {
    "duration": 0,
    "start_time": "2025-06-20T02:13:04.600Z"
   },
   {
    "duration": 0,
    "start_time": "2025-06-20T02:13:04.601Z"
   },
   {
    "duration": 0,
    "start_time": "2025-06-20T02:13:04.602Z"
   },
   {
    "duration": 0,
    "start_time": "2025-06-20T02:13:04.603Z"
   },
   {
    "duration": 0,
    "start_time": "2025-06-20T02:13:04.604Z"
   },
   {
    "duration": 0,
    "start_time": "2025-06-20T02:13:04.605Z"
   },
   {
    "duration": 0,
    "start_time": "2025-06-20T02:13:04.606Z"
   },
   {
    "duration": 0,
    "start_time": "2025-06-20T02:13:04.607Z"
   },
   {
    "duration": 0,
    "start_time": "2025-06-20T02:13:04.608Z"
   },
   {
    "duration": 0,
    "start_time": "2025-06-20T02:13:04.609Z"
   },
   {
    "duration": 0,
    "start_time": "2025-06-20T02:13:04.610Z"
   },
   {
    "duration": 0,
    "start_time": "2025-06-20T02:13:04.611Z"
   },
   {
    "duration": 0,
    "start_time": "2025-06-20T02:13:04.612Z"
   },
   {
    "duration": 0,
    "start_time": "2025-06-20T02:13:04.613Z"
   },
   {
    "duration": 0,
    "start_time": "2025-06-20T02:13:04.677Z"
   },
   {
    "duration": 0,
    "start_time": "2025-06-20T02:13:04.678Z"
   },
   {
    "duration": 0,
    "start_time": "2025-06-20T02:13:04.679Z"
   },
   {
    "duration": 0,
    "start_time": "2025-06-20T02:13:04.680Z"
   },
   {
    "duration": 0,
    "start_time": "2025-06-20T02:13:04.681Z"
   },
   {
    "duration": 0,
    "start_time": "2025-06-20T02:13:04.682Z"
   },
   {
    "duration": 0,
    "start_time": "2025-06-20T02:13:04.683Z"
   },
   {
    "duration": 0,
    "start_time": "2025-06-20T02:13:04.684Z"
   },
   {
    "duration": 3714,
    "start_time": "2025-06-20T09:33:15.372Z"
   },
   {
    "duration": 1565,
    "start_time": "2025-06-20T09:33:19.088Z"
   },
   {
    "duration": 190,
    "start_time": "2025-06-20T09:33:20.654Z"
   },
   {
    "duration": 17,
    "start_time": "2025-06-20T09:33:20.846Z"
   },
   {
    "duration": 34,
    "start_time": "2025-06-20T09:33:20.865Z"
   },
   {
    "duration": 25,
    "start_time": "2025-06-20T09:33:20.901Z"
   },
   {
    "duration": 12,
    "start_time": "2025-06-20T09:33:20.927Z"
   },
   {
    "duration": 12,
    "start_time": "2025-06-20T09:33:20.941Z"
   },
   {
    "duration": 18,
    "start_time": "2025-06-20T09:33:20.955Z"
   },
   {
    "duration": 13,
    "start_time": "2025-06-20T09:33:20.975Z"
   },
   {
    "duration": 4,
    "start_time": "2025-06-20T09:33:20.990Z"
   },
   {
    "duration": 47,
    "start_time": "2025-06-20T09:33:20.995Z"
   },
   {
    "duration": 6,
    "start_time": "2025-06-20T09:33:21.043Z"
   },
   {
    "duration": 32,
    "start_time": "2025-06-20T09:33:21.052Z"
   },
   {
    "duration": 33,
    "start_time": "2025-06-20T09:33:21.085Z"
   },
   {
    "duration": 9,
    "start_time": "2025-06-20T09:33:21.119Z"
   },
   {
    "duration": 11,
    "start_time": "2025-06-20T09:33:21.130Z"
   },
   {
    "duration": 61,
    "start_time": "2025-06-20T09:33:21.143Z"
   },
   {
    "duration": 2,
    "start_time": "2025-06-20T09:33:21.205Z"
   },
   {
    "duration": 73,
    "start_time": "2025-06-20T09:33:21.209Z"
   },
   {
    "duration": 105,
    "start_time": "2025-06-20T09:33:21.284Z"
   },
   {
    "duration": 72,
    "start_time": "2025-06-20T09:33:21.391Z"
   },
   {
    "duration": 105,
    "start_time": "2025-06-20T09:33:21.465Z"
   },
   {
    "duration": 10,
    "start_time": "2025-06-20T09:33:21.571Z"
   },
   {
    "duration": 10,
    "start_time": "2025-06-20T09:33:21.583Z"
   },
   {
    "duration": 62,
    "start_time": "2025-06-20T09:33:21.594Z"
   },
   {
    "duration": 4,
    "start_time": "2025-06-20T09:33:21.658Z"
   },
   {
    "duration": 90,
    "start_time": "2025-06-20T09:33:21.663Z"
   },
   {
    "duration": 10,
    "start_time": "2025-06-20T09:33:21.755Z"
   },
   {
    "duration": 38,
    "start_time": "2025-06-20T09:33:21.767Z"
   },
   {
    "duration": 11,
    "start_time": "2025-06-20T09:33:21.807Z"
   },
   {
    "duration": 230,
    "start_time": "2025-06-20T09:33:21.820Z"
   },
   {
    "duration": 10,
    "start_time": "2025-06-20T09:33:22.051Z"
   },
   {
    "duration": 241,
    "start_time": "2025-06-20T09:33:22.063Z"
   },
   {
    "duration": 14,
    "start_time": "2025-06-20T09:33:22.306Z"
   },
   {
    "duration": 207,
    "start_time": "2025-06-20T09:33:22.321Z"
   },
   {
    "duration": 7,
    "start_time": "2025-06-20T09:33:22.537Z"
   },
   {
    "duration": 146,
    "start_time": "2025-06-20T09:33:22.546Z"
   },
   {
    "duration": 15,
    "start_time": "2025-06-20T09:33:22.694Z"
   },
   {
    "duration": 248,
    "start_time": "2025-06-20T09:33:22.711Z"
   },
   {
    "duration": 10,
    "start_time": "2025-06-20T09:33:22.963Z"
   },
   {
    "duration": 224,
    "start_time": "2025-06-20T09:33:22.975Z"
   },
   {
    "duration": 239,
    "start_time": "2025-06-20T09:33:23.201Z"
   },
   {
    "duration": 8,
    "start_time": "2025-06-20T09:33:23.442Z"
   },
   {
    "duration": 185,
    "start_time": "2025-06-20T09:33:23.452Z"
   },
   {
    "duration": 267,
    "start_time": "2025-06-20T09:33:23.639Z"
   },
   {
    "duration": 8,
    "start_time": "2025-06-20T09:33:23.907Z"
   },
   {
    "duration": 392,
    "start_time": "2025-06-20T09:33:23.916Z"
   },
   {
    "duration": 216,
    "start_time": "2025-06-20T09:33:24.310Z"
   },
   {
    "duration": 247,
    "start_time": "2025-06-20T09:33:24.528Z"
   },
   {
    "duration": 7,
    "start_time": "2025-06-20T09:33:24.777Z"
   },
   {
    "duration": 328,
    "start_time": "2025-06-20T09:33:24.785Z"
   },
   {
    "duration": 7,
    "start_time": "2025-06-20T09:33:25.115Z"
   },
   {
    "duration": 8,
    "start_time": "2025-06-20T09:33:25.138Z"
   },
   {
    "duration": 28,
    "start_time": "2025-06-20T09:33:25.148Z"
   },
   {
    "duration": 37,
    "start_time": "2025-06-20T09:33:25.178Z"
   },
   {
    "duration": 217,
    "start_time": "2025-06-20T09:33:25.217Z"
   },
   {
    "duration": 24,
    "start_time": "2025-06-20T09:33:25.436Z"
   },
   {
    "duration": 135,
    "start_time": "2025-06-20T09:33:25.461Z"
   },
   {
    "duration": 95,
    "start_time": "2025-06-20T09:33:25.598Z"
   },
   {
    "duration": 36,
    "start_time": "2025-06-20T09:33:25.695Z"
   },
   {
    "duration": 228,
    "start_time": "2025-06-20T09:33:25.733Z"
   },
   {
    "duration": 221,
    "start_time": "2025-06-20T09:33:25.963Z"
   },
   {
    "duration": 9,
    "start_time": "2025-06-20T09:33:26.186Z"
   },
   {
    "duration": 244,
    "start_time": "2025-06-20T09:33:26.196Z"
   },
   {
    "duration": 146,
    "start_time": "2025-06-20T09:33:26.442Z"
   },
   {
    "duration": 12,
    "start_time": "2025-06-20T09:33:26.590Z"
   },
   {
    "duration": 328,
    "start_time": "2025-06-20T09:33:26.604Z"
   }
  ],
  "colab": {
   "provenance": []
  },
  "kernelspec": {
   "display_name": "Python 3 (ipykernel)",
   "language": "python",
   "name": "python3"
  },
  "language_info": {
   "codemirror_mode": {
    "name": "ipython",
    "version": 3
   },
   "file_extension": ".py",
   "mimetype": "text/x-python",
   "name": "python",
   "nbconvert_exporter": "python",
   "pygments_lexer": "ipython3",
   "version": "3.9.7"
  },
  "toc": {
   "base_numbering": 1,
   "nav_menu": {},
   "number_sections": true,
   "sideBar": true,
   "skip_h1_title": true,
   "title_cell": "Table of Contents",
   "title_sidebar": "Contents",
   "toc_cell": false,
   "toc_position": {
    "height": "calc(100% - 180px)",
    "left": "10px",
    "top": "150px",
    "width": "207.932px"
   },
   "toc_section_display": true,
   "toc_window_display": true
  }
 },
 "nbformat": 4,
 "nbformat_minor": 5
}
