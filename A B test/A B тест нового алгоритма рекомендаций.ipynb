{
 "cells": [
  {
   "cell_type": "markdown",
   "metadata": {
    "id": "u98L9TgH0eMk"
   },
   "source": [
    "# A/B-тест нового алгоритма рекомендаций в развлекательном приложении: рост вовлечённости пользователей\n",
    "\n",
    "**Цель исследования** — оценить влияние нового алгоритма рекомендаций на вовлечённость пользователей развлекательного приложения с «бесконечной» лентой. В приложении есть две модели монетизации: платная подписка без рекламы и показ рекламы для неподписанных пользователей.\n",
    "\n",
    "Для проверки гипотезы о том, что новый алгоритм повышает интерес к контенту, был проведён A/B-тест с ключевой метрикой доли успешных сессий — случаев, когда пользователь просмотрел четыре и более страниц за одну сессию. Результаты эксперимента позволили оценить эффективность нововведения и принять решение о его внедрении.\n",
    "\n",
    "**Работа над A/B-тестом проводилась в три этапа:**\n",
    "\n",
    "**1. Анализ исторических данных (EDA)**   \n",
    "На первом этапе проводился исследовательский анализ данных, чтобы определить основные метрики, отражающие вовлечённость пользователей, и выбрать наиболее информативную для A/B-теста. Также на этом этапе оценивался базовый уровень выбранной метрики, что позволило рассчитать минимально детектируемый эффект, а также определить необходимую длительность эксперимента и размеры выборки с учётом текущего трафика.\n",
    "\n",
    "\n",
    "**2. Проверка корректности проведения эксперимента**  \n",
    "После первых дней эксперимента проверялась правильность его организации: равномерность распределения пользователей по группам и соответствие ключевых характеристик (устройства, регионы). Это позволяло убедиться, что экспериментальные группы сопоставимы и результаты будут достоверными.\n",
    "\n",
    "\n",
    "**3. Анализ результатов и проверка гипотезы**  \n",
    "На финальном этапе проводилась проверка гипотезы с помощью статистических тестов, оценивался эффект нового алгоритма рекомендаций, делались выводы о целесообразности внедрения нововведения."
   ]
  },
  {
   "cell_type": "markdown",
   "metadata": {},
   "source": [
    "## Описание данных\n",
    "\n",
    "Будет собираться следующая информация об участниках эксперимента, эта же информация содержится в исторических данных:\n",
    "\n",
    "- `user_id` — идентификатор пользователя;\n",
    "\n",
    "- `session_id` — идентификатор сессии в приложении;\n",
    "\n",
    "- `session_date` — дата сессии;\n",
    "\n",
    "- `session_start_ts` — дата и время начала сессии;\n",
    "\n",
    "- `install_date` — дата установки приложения;\n",
    "\n",
    "- `session_number` — порядковый номер сессии для конкретного пользователя;\n",
    "\n",
    "- `registration_flag` — является ли пользователь зарегистрированным;\n",
    "\n",
    "- `page_counter` — количество просмотренных страниц во время сессии;\n",
    "\n",
    "- `region` — регион пользователя;\n",
    "\n",
    "- `device` — тип устройства пользователя;\n",
    "\n",
    "- `test_group` — тестовая группа (в таблице с историческими данными этого столбца нет).\n"
   ]
  },
  {
   "cell_type": "markdown",
   "metadata": {
    "id": "UpOucjID0eMl"
   },
   "source": [
    "### 1. Работа с историческими данными (EDA)"
   ]
  },
  {
   "cell_type": "markdown",
   "metadata": {
    "id": "8iJMtL-30eMl"
   },
   "source": [
    "#### 1.1. Загрузка исторических данных\n",
    "На первом этапе проводилась работа с историческими данными приложения."
   ]
  },
  {
   "cell_type": "code",
   "execution_count": 1,
   "metadata": {
    "id": "6TPR2-1RPboT"
   },
   "outputs": [],
   "source": [
    "# Импортируем необходимые библиотеки\n",
    "import pandas as pd\n",
    "import matplotlib.pyplot as plt\n",
    "\n",
    "from scipy import stats as st\n",
    "from math import ceil\n",
    "\n",
    "from statsmodels.stats.power import NormalIndPower\n",
    "from statsmodels.stats.proportion import proportion_effectsize\n",
    "from statsmodels.stats.proportion import proportions_ztest"
   ]
  },
  {
   "cell_type": "code",
   "execution_count": 2,
   "metadata": {},
   "outputs": [],
   "source": [
    "# Загрузим исторические данные\n",
    "sessions_history = pd.read_csv('https://code.s3.yandex.net/datasets/sessions_project_history.csv')"
   ]
  },
  {
   "cell_type": "code",
   "execution_count": 3,
   "metadata": {},
   "outputs": [
    {
     "data": {
      "text/html": [
       "<div>\n",
       "<style scoped>\n",
       "    .dataframe tbody tr th:only-of-type {\n",
       "        vertical-align: middle;\n",
       "    }\n",
       "\n",
       "    .dataframe tbody tr th {\n",
       "        vertical-align: top;\n",
       "    }\n",
       "\n",
       "    .dataframe thead th {\n",
       "        text-align: right;\n",
       "    }\n",
       "</style>\n",
       "<table border=\"1\" class=\"dataframe\">\n",
       "  <thead>\n",
       "    <tr style=\"text-align: right;\">\n",
       "      <th></th>\n",
       "      <th>user_id</th>\n",
       "      <th>session_id</th>\n",
       "      <th>session_date</th>\n",
       "      <th>session_start_ts</th>\n",
       "      <th>install_date</th>\n",
       "      <th>session_number</th>\n",
       "      <th>registration_flag</th>\n",
       "      <th>page_counter</th>\n",
       "      <th>region</th>\n",
       "      <th>device</th>\n",
       "    </tr>\n",
       "  </thead>\n",
       "  <tbody>\n",
       "    <tr>\n",
       "      <th>0</th>\n",
       "      <td>E302123B7000BFE4</td>\n",
       "      <td>F9AF61A0C2023832</td>\n",
       "      <td>2025-08-15</td>\n",
       "      <td>2025-08-15 17:47:35</td>\n",
       "      <td>2025-08-15</td>\n",
       "      <td>1</td>\n",
       "      <td>0</td>\n",
       "      <td>3</td>\n",
       "      <td>CIS</td>\n",
       "      <td>iPhone</td>\n",
       "    </tr>\n",
       "    <tr>\n",
       "      <th>1</th>\n",
       "      <td>2530F72E221829FB</td>\n",
       "      <td>85003A206CBDAC6F</td>\n",
       "      <td>2025-08-15</td>\n",
       "      <td>2025-08-15 16:42:14</td>\n",
       "      <td>2025-08-15</td>\n",
       "      <td>1</td>\n",
       "      <td>0</td>\n",
       "      <td>4</td>\n",
       "      <td>MENA</td>\n",
       "      <td>Android</td>\n",
       "    </tr>\n",
       "    <tr>\n",
       "      <th>2</th>\n",
       "      <td>876E020A4FC512F5</td>\n",
       "      <td>3677423E49D72DEE</td>\n",
       "      <td>2025-08-15</td>\n",
       "      <td>2025-08-15 12:30:00</td>\n",
       "      <td>2025-08-15</td>\n",
       "      <td>1</td>\n",
       "      <td>0</td>\n",
       "      <td>4</td>\n",
       "      <td>EU</td>\n",
       "      <td>PC</td>\n",
       "    </tr>\n",
       "    <tr>\n",
       "      <th>3</th>\n",
       "      <td>2640B349E1D81584</td>\n",
       "      <td>956B45F5915CA225</td>\n",
       "      <td>2025-08-15</td>\n",
       "      <td>2025-08-15 15:31:31</td>\n",
       "      <td>2025-08-15</td>\n",
       "      <td>1</td>\n",
       "      <td>0</td>\n",
       "      <td>4</td>\n",
       "      <td>CIS</td>\n",
       "      <td>Android</td>\n",
       "    </tr>\n",
       "    <tr>\n",
       "      <th>4</th>\n",
       "      <td>94E1CBFAEF1F5EE9</td>\n",
       "      <td>83BF0DA35F9F1F40</td>\n",
       "      <td>2025-08-15</td>\n",
       "      <td>2025-08-15 21:33:53</td>\n",
       "      <td>2025-08-15</td>\n",
       "      <td>1</td>\n",
       "      <td>0</td>\n",
       "      <td>3</td>\n",
       "      <td>CIS</td>\n",
       "      <td>Android</td>\n",
       "    </tr>\n",
       "  </tbody>\n",
       "</table>\n",
       "</div>"
      ],
      "text/plain": [
       "            user_id        session_id session_date     session_start_ts  \\\n",
       "0  E302123B7000BFE4  F9AF61A0C2023832   2025-08-15  2025-08-15 17:47:35   \n",
       "1  2530F72E221829FB  85003A206CBDAC6F   2025-08-15  2025-08-15 16:42:14   \n",
       "2  876E020A4FC512F5  3677423E49D72DEE   2025-08-15  2025-08-15 12:30:00   \n",
       "3  2640B349E1D81584  956B45F5915CA225   2025-08-15  2025-08-15 15:31:31   \n",
       "4  94E1CBFAEF1F5EE9  83BF0DA35F9F1F40   2025-08-15  2025-08-15 21:33:53   \n",
       "\n",
       "  install_date  session_number  registration_flag  page_counter region  \\\n",
       "0   2025-08-15               1                  0             3    CIS   \n",
       "1   2025-08-15               1                  0             4   MENA   \n",
       "2   2025-08-15               1                  0             4     EU   \n",
       "3   2025-08-15               1                  0             4    CIS   \n",
       "4   2025-08-15               1                  0             3    CIS   \n",
       "\n",
       "    device  \n",
       "0   iPhone  \n",
       "1  Android  \n",
       "2       PC  \n",
       "3  Android  \n",
       "4  Android  "
      ]
     },
     "execution_count": 3,
     "metadata": {},
     "output_type": "execute_result"
    }
   ],
   "source": [
    "# Изучим первые пять строк полученного датафрейма\n",
    "sessions_history.head()"
   ]
  },
  {
   "cell_type": "markdown",
   "metadata": {
    "id": "qTDoiODz0eMo"
   },
   "source": [
    "#### 1.2. Знакомство с данными\n",
    "Для знакомства с историческими данными рассмотрим информацию о пользователе с наибольшим количеством сессий. Это позволит изучить структуру таблицы и понять логику формирования каждого столбца данных."
   ]
  },
  {
   "cell_type": "code",
   "execution_count": 4,
   "metadata": {
    "id": "PWZO9vTIPbPN"
   },
   "outputs": [
    {
     "data": {
      "text/html": [
       "<div>\n",
       "<style scoped>\n",
       "    .dataframe tbody tr th:only-of-type {\n",
       "        vertical-align: middle;\n",
       "    }\n",
       "\n",
       "    .dataframe tbody tr th {\n",
       "        vertical-align: top;\n",
       "    }\n",
       "\n",
       "    .dataframe thead th {\n",
       "        text-align: right;\n",
       "    }\n",
       "</style>\n",
       "<table border=\"1\" class=\"dataframe\">\n",
       "  <thead>\n",
       "    <tr style=\"text-align: right;\">\n",
       "      <th></th>\n",
       "      <th>user_id</th>\n",
       "      <th>session_id</th>\n",
       "      <th>session_date</th>\n",
       "      <th>session_start_ts</th>\n",
       "      <th>install_date</th>\n",
       "      <th>session_number</th>\n",
       "      <th>registration_flag</th>\n",
       "      <th>page_counter</th>\n",
       "      <th>region</th>\n",
       "      <th>device</th>\n",
       "    </tr>\n",
       "  </thead>\n",
       "  <tbody>\n",
       "    <tr>\n",
       "      <th>124515</th>\n",
       "      <td>6A73CB5566BB494D</td>\n",
       "      <td>110E3F28C1F5415F</td>\n",
       "      <td>2025-08-28</td>\n",
       "      <td>2025-08-28 18:58:19</td>\n",
       "      <td>2025-08-28</td>\n",
       "      <td>1</td>\n",
       "      <td>0</td>\n",
       "      <td>3</td>\n",
       "      <td>MENA</td>\n",
       "      <td>Mac</td>\n",
       "    </tr>\n",
       "    <tr>\n",
       "      <th>196252</th>\n",
       "      <td>6A73CB5566BB494D</td>\n",
       "      <td>D68C8D98A0F1C439</td>\n",
       "      <td>2025-08-29</td>\n",
       "      <td>2025-08-29 20:53:27</td>\n",
       "      <td>2025-08-28</td>\n",
       "      <td>2</td>\n",
       "      <td>1</td>\n",
       "      <td>3</td>\n",
       "      <td>MENA</td>\n",
       "      <td>Mac</td>\n",
       "    </tr>\n",
       "    <tr>\n",
       "      <th>242428</th>\n",
       "      <td>6A73CB5566BB494D</td>\n",
       "      <td>6587D217472BF807</td>\n",
       "      <td>2025-08-30</td>\n",
       "      <td>2025-08-30 13:08:22</td>\n",
       "      <td>2025-08-28</td>\n",
       "      <td>3</td>\n",
       "      <td>1</td>\n",
       "      <td>1</td>\n",
       "      <td>MENA</td>\n",
       "      <td>Mac</td>\n",
       "    </tr>\n",
       "    <tr>\n",
       "      <th>304287</th>\n",
       "      <td>6A73CB5566BB494D</td>\n",
       "      <td>A9BC25593D056F8E</td>\n",
       "      <td>2025-09-01</td>\n",
       "      <td>2025-09-01 18:52:49</td>\n",
       "      <td>2025-08-28</td>\n",
       "      <td>4</td>\n",
       "      <td>1</td>\n",
       "      <td>2</td>\n",
       "      <td>MENA</td>\n",
       "      <td>Mac</td>\n",
       "    </tr>\n",
       "    <tr>\n",
       "      <th>346611</th>\n",
       "      <td>6A73CB5566BB494D</td>\n",
       "      <td>CB6F9C4191FAF6F6</td>\n",
       "      <td>2025-09-03</td>\n",
       "      <td>2025-09-03 22:49:08</td>\n",
       "      <td>2025-08-28</td>\n",
       "      <td>5</td>\n",
       "      <td>1</td>\n",
       "      <td>3</td>\n",
       "      <td>MENA</td>\n",
       "      <td>Mac</td>\n",
       "    </tr>\n",
       "    <tr>\n",
       "      <th>363510</th>\n",
       "      <td>6A73CB5566BB494D</td>\n",
       "      <td>9C609432F6E6535A</td>\n",
       "      <td>2025-09-04</td>\n",
       "      <td>2025-09-04 13:59:46</td>\n",
       "      <td>2025-08-28</td>\n",
       "      <td>6</td>\n",
       "      <td>1</td>\n",
       "      <td>4</td>\n",
       "      <td>MENA</td>\n",
       "      <td>Mac</td>\n",
       "    </tr>\n",
       "    <tr>\n",
       "      <th>391902</th>\n",
       "      <td>6A73CB5566BB494D</td>\n",
       "      <td>5D892E33B97A257A</td>\n",
       "      <td>2025-09-06</td>\n",
       "      <td>2025-09-06 18:46:55</td>\n",
       "      <td>2025-08-28</td>\n",
       "      <td>7</td>\n",
       "      <td>1</td>\n",
       "      <td>2</td>\n",
       "      <td>MENA</td>\n",
       "      <td>Mac</td>\n",
       "    </tr>\n",
       "    <tr>\n",
       "      <th>404322</th>\n",
       "      <td>6A73CB5566BB494D</td>\n",
       "      <td>22A9BD3861F49087</td>\n",
       "      <td>2025-09-07</td>\n",
       "      <td>2025-09-07 18:33:49</td>\n",
       "      <td>2025-08-28</td>\n",
       "      <td>8</td>\n",
       "      <td>1</td>\n",
       "      <td>3</td>\n",
       "      <td>MENA</td>\n",
       "      <td>Mac</td>\n",
       "    </tr>\n",
       "    <tr>\n",
       "      <th>415489</th>\n",
       "      <td>6A73CB5566BB494D</td>\n",
       "      <td>F70E351154B092DC</td>\n",
       "      <td>2025-09-08</td>\n",
       "      <td>2025-09-08 20:30:22</td>\n",
       "      <td>2025-08-28</td>\n",
       "      <td>9</td>\n",
       "      <td>1</td>\n",
       "      <td>4</td>\n",
       "      <td>MENA</td>\n",
       "      <td>Mac</td>\n",
       "    </tr>\n",
       "    <tr>\n",
       "      <th>425805</th>\n",
       "      <td>6A73CB5566BB494D</td>\n",
       "      <td>84A3DC0CFF449F53</td>\n",
       "      <td>2025-09-09</td>\n",
       "      <td>2025-09-09 16:36:04</td>\n",
       "      <td>2025-08-28</td>\n",
       "      <td>10</td>\n",
       "      <td>1</td>\n",
       "      <td>1</td>\n",
       "      <td>MENA</td>\n",
       "      <td>Mac</td>\n",
       "    </tr>\n",
       "  </tbody>\n",
       "</table>\n",
       "</div>"
      ],
      "text/plain": [
       "                 user_id        session_id session_date     session_start_ts  \\\n",
       "124515  6A73CB5566BB494D  110E3F28C1F5415F   2025-08-28  2025-08-28 18:58:19   \n",
       "196252  6A73CB5566BB494D  D68C8D98A0F1C439   2025-08-29  2025-08-29 20:53:27   \n",
       "242428  6A73CB5566BB494D  6587D217472BF807   2025-08-30  2025-08-30 13:08:22   \n",
       "304287  6A73CB5566BB494D  A9BC25593D056F8E   2025-09-01  2025-09-01 18:52:49   \n",
       "346611  6A73CB5566BB494D  CB6F9C4191FAF6F6   2025-09-03  2025-09-03 22:49:08   \n",
       "363510  6A73CB5566BB494D  9C609432F6E6535A   2025-09-04  2025-09-04 13:59:46   \n",
       "391902  6A73CB5566BB494D  5D892E33B97A257A   2025-09-06  2025-09-06 18:46:55   \n",
       "404322  6A73CB5566BB494D  22A9BD3861F49087   2025-09-07  2025-09-07 18:33:49   \n",
       "415489  6A73CB5566BB494D  F70E351154B092DC   2025-09-08  2025-09-08 20:30:22   \n",
       "425805  6A73CB5566BB494D  84A3DC0CFF449F53   2025-09-09  2025-09-09 16:36:04   \n",
       "\n",
       "       install_date  session_number  registration_flag  page_counter region  \\\n",
       "124515   2025-08-28               1                  0             3   MENA   \n",
       "196252   2025-08-28               2                  1             3   MENA   \n",
       "242428   2025-08-28               3                  1             1   MENA   \n",
       "304287   2025-08-28               4                  1             2   MENA   \n",
       "346611   2025-08-28               5                  1             3   MENA   \n",
       "363510   2025-08-28               6                  1             4   MENA   \n",
       "391902   2025-08-28               7                  1             2   MENA   \n",
       "404322   2025-08-28               8                  1             3   MENA   \n",
       "415489   2025-08-28               9                  1             4   MENA   \n",
       "425805   2025-08-28              10                  1             1   MENA   \n",
       "\n",
       "       device  \n",
       "124515    Mac  \n",
       "196252    Mac  \n",
       "242428    Mac  \n",
       "304287    Mac  \n",
       "346611    Mac  \n",
       "363510    Mac  \n",
       "391902    Mac  \n",
       "404322    Mac  \n",
       "415489    Mac  \n",
       "425805    Mac  "
      ]
     },
     "execution_count": 4,
     "metadata": {},
     "output_type": "execute_result"
    }
   ],
   "source": [
    "# Находим user_id с наибольшим числом сессий\n",
    "active_user = sessions_history['user_id'].value_counts().idxmax()\n",
    "\n",
    "# Выводим все сессии этого пользователя\n",
    "sessions_history[sessions_history['user_id'] == active_user]"
   ]
  },
  {
   "cell_type": "markdown",
   "metadata": {
    "id": "CmcGpJTP0eMq"
   },
   "source": [
    "#### 1.3. Анализ числа регистраций\n",
    "Одна из важнейших метрик продукта — число зарегистрированных пользователей. Для визуализации динамики регистраций и общего роста аудитории приложения будут построены линейные диаграммы."
   ]
  },
  {
   "cell_type": "markdown",
   "metadata": {},
   "source": [
    "- Визуализация общего числа пользователей и общего числа зарегистрированных пользователей по дням"
   ]
  },
  {
   "cell_type": "code",
   "execution_count": 5,
   "metadata": {},
   "outputs": [],
   "source": [
    "# Рассчитаем число уникальных пользователей и число зарегистрированных пользователей для каждого дня наблюдения\n",
    "date_users = sessions_history.groupby('session_date').agg(\n",
    "    unique_users = ('user_id', 'nunique'),\n",
    "    registered_users = ('registration_flag', 'sum')\n",
    ").reset_index()"
   ]
  },
  {
   "cell_type": "code",
   "execution_count": 6,
   "metadata": {},
   "outputs": [
    {
     "data": {
      "image/png": "[encoded data removed]",
      "text/plain": [
       "<Figure size 1080x576 with 1 Axes>"
      ]
     },
     "metadata": {
      "needs_background": "light"
     },
     "output_type": "display_data"
    }
   ],
   "source": [
    "# Создадим переменные для будущего графика\n",
    "x = date_users['session_date']\n",
    "y_a = date_users['unique_users']\n",
    "y_b = date_users['registered_users']\n",
    "\n",
    "# Построим график общего числа пользователей и общего числа зарегистрированных пользователей по дням\n",
    "plt.figure(figsize = (15, 8))\n",
    "plt.plot(x, y_a, label = 'unique_users', color = 'coral')\n",
    "plt.plot(x, y_b, label = 'registered_users', color = 'blue')\n",
    "\n",
    "plt.ylabel('Количество пользователей')\n",
    "plt.legend(['Уникальные пользователи', 'Зарегистрированные пользователи'])\n",
    "plt.title('Динамика числа регистраций в приложении')\n",
    "plt.xticks(rotation = 90)\n",
    "plt.grid(color = '#ededed')\n",
    "plt.show()"
   ]
  },
  {
   "cell_type": "markdown",
   "metadata": {},
   "source": [
    "- Визуализация изменения доли зарегистрированных пользователей от всех пользователей по дням"
   ]
  },
  {
   "cell_type": "code",
   "execution_count": 7,
   "metadata": {},
   "outputs": [
    {
     "data": {
      "image/png": "[encoded data removed]",
      "text/plain": [
       "<Figure size 1080x576 with 1 Axes>"
      ]
     },
     "metadata": {
      "needs_background": "light"
     },
     "output_type": "display_data"
    }
   ],
   "source": [
    "# Доля зарегистрированных пользователей от всех пользователей по дням\n",
    "date_users['registered_share'] = date_users['registered_users']/date_users['unique_users']\n",
    "\n",
    "# Создадим переменные для будущего графика\n",
    "x = date_users['session_date']\n",
    "y = date_users['registered_share']\n",
    "\n",
    "# Построим график доли зарегистрированных пользователей от всех пользователей по дням\n",
    "plt.figure(figsize = (15, 8))\n",
    "plt.plot(x, y, color = 'coral', marker = 'o')\n",
    "\n",
    "plt.ylabel('Доля зарегистрированных пользователей')\n",
    "plt.title('Динамика доли зарегистрированных пользователей')\n",
    "plt.xticks(rotation = 90)\n",
    "plt.grid(color = '#ededed')\n",
    "plt.ylim(bottom = 0)\n",
    "\n",
    "plt.show()"
   ]
  },
  {
   "cell_type": "markdown",
   "metadata": {},
   "source": [
    "**По диаграммам можно выделить следующие тенденции:**\n",
    "1. Динамика уникальных и зарегистрированных пользователей\n",
    "\n",
    "- С 11.08 по 22.08 наблюдается рост числа как уникальных пользователей, так и зарегистрированных.\n",
    "\n",
    "- Период с 22.08 по 10.09 характеризуется относительной стабильностью обеих метрик.\n",
    "\n",
    "- После 10.09 происходит резкое снижение числа пользователей, особенно уникальных, вплоть до конца периода наблюдений (23.09).\n",
    "\n",
    "2. Доля зарегистрированных пользователей\n",
    "\n",
    "- На протяжении всего периода с 11.08 по 23.09 доля зарегистрированных пользователей среди всех пользователей демонстрирует общий рост.\n",
    "\n",
    "- Даже при падении абсолютного числа пользователей после 10.09 доля зарегистрированных продолжала расти, что может указывать на повышенную конверсию среди оставшейся аудитории."
   ]
  },
  {
   "cell_type": "markdown",
   "metadata": {
    "id": "UR7D7RhF0eMr"
   },
   "source": [
    "#### 1.4. Анализ числа просмотренных страниц\n",
    "Другая важная метрика продукта — число просмотренных страниц в приложении. Чем больше страниц просмотрено, тем сильнее пользователь увлечён контентом, а значит, выше шансы, что он зарегистрируется и оплатит подписку."
   ]
  },
  {
   "cell_type": "code",
   "execution_count": 8,
   "metadata": {},
   "outputs": [
    {
     "data": {
      "image/png": "[encoded data removed]",
      "text/plain": [
       "<Figure size 720x360 with 1 Axes>"
      ]
     },
     "metadata": {
      "needs_background": "light"
     },
     "output_type": "display_data"
    }
   ],
   "source": [
    "# Определим кол-во сессий с разным числом просмотренных страниц\n",
    "sessions_page = sessions_history['page_counter'].value_counts().sort_index()\n",
    "\n",
    "# Построим столбчатую диаграмму для демонстрации\n",
    "plt.figure(figsize = (10, 5))\n",
    "\n",
    "sessions_page.plot.bar(color = 'coral')\n",
    "\n",
    "plt.title('Количество просмотренных страниц в приложении')\n",
    "plt.xlabel('Количество просмотренных страниц')\n",
    "plt.ylabel('Количество сессий')\n",
    "plt.xticks(rotation = 0)\n",
    "plt.grid(axis = 'y')\n",
    "\n",
    "plt.show()"
   ]
  },
  {
   "cell_type": "markdown",
   "metadata": {},
   "source": [
    "В большинстве сессий пользователи просматривают 3 страницы (ок. 170 тыс. сессий). Примерно одинаковое количество сессий приходится на 2 и 4 страницы (около 105 тыс.). Одностраничные сессии встречаются заметно реже (ок. 30 тыс.), что говорит о том, что значительная часть аудитории всё же просматривает больше одного экрана. Сессий с 5 страницами примерно столько же, с 6 страницами — почти исчезающе мало (2,5 тыс.), а с 7 страницами — крайне редко (всего 92).\n",
    "\n",
    "Таким образом, большинство пользователей просматривают от 2 до 4 страниц за сессию, а более продолжительные сессии встречаются редко. Это может указывать на то, что контент удерживает внимание лишь на несколько экранов, а лишь небольшой процент аудитории остаётся вовлечённым на длительное время."
   ]
  },
  {
   "cell_type": "markdown",
   "metadata": {
    "id": "xDltSpVP0eMr"
   },
   "source": [
    "#### 1.5. Доля пользователей, просмотревших более четырёх страниц\n",
    "Продуктовая команда продукта считает, что сессии, в рамках которых пользователь просмотрел 4 и более страниц, говорят об удовлетворённости контентом и алгоритмами рекомендаций. Этот показатель является важной метрикой для продукта.\n",
    "\n",
    "Для анализа изменения доли успешных сессий от всех сессий в течение исследуемого периода имеет смысл построить линейную диаграмму."
   ]
  },
  {
   "cell_type": "code",
   "execution_count": 9,
   "metadata": {
    "id": "iygaPfixPYMW"
   },
   "outputs": [],
   "source": [
    "# Создадим столбец, в котором обозначим сессии с большим числом просмотренных страниц (>= 4)\n",
    "sessions_history['good_session'] = 0\n",
    "sessions_history.loc[sessions_history['page_counter'] >= 4, 'good_session'] = 1"
   ]
  },
  {
   "cell_type": "code",
   "execution_count": 10,
   "metadata": {},
   "outputs": [
    {
     "data": {
      "image/png": "[encoded data removed]",
      "text/plain": [
       "<Figure size 1080x576 with 1 Axes>"
      ]
     },
     "metadata": {
      "needs_background": "light"
     },
     "output_type": "display_data"
    }
   ],
   "source": [
    "# Определим долю успешных сессий по дням\n",
    "good_sessions_by_day = sessions_history.groupby('session_date')['good_session'].mean().reset_index()\n",
    "\n",
    "# Создадим переменные для будущего графика\n",
    "x = good_sessions_by_day['session_date']\n",
    "y = good_sessions_by_day['good_session']\n",
    "\n",
    "# Построим график со средним значением доли успешных сессий от всех сессий по дням за весь период наблюдения\n",
    "plt.figure(figsize = (15, 8))\n",
    "plt.plot(x, y, color = 'coral')\n",
    "\n",
    "plt.ylabel('Доля успешных сессий')\n",
    "plt.title('Динамика доли успешных сессий')\n",
    "plt.xticks(rotation = 90)\n",
    "plt.grid(color = '#ededed')\n",
    "\n",
    "plt.show()"
   ]
  },
  {
   "cell_type": "markdown",
   "metadata": {},
   "source": [
    "Доля успешных сессий в течение всего периода остаётся относительно стабильной, колеблясь в диапазоне от 0,29 до 0,32. Небольшие колебания от дня к дню носят нерегулярный характер и не формируют выраженного тренда на рост или снижение."
   ]
  },
  {
   "cell_type": "markdown",
   "metadata": {
    "id": "21JcG77Y0eMt"
   },
   "source": [
    "### 2. Подготовка к тесту\n",
    "При планировании теста необходимо проделать несколько важных шагов:\n",
    "\n",
    "- Определиться с целевой метрикой.\n",
    "\n",
    "- Сформулировать нулевую и альтернативную гипотезы\n",
    "\n",
    "- Рассчитать необходимый размер выборки.\n",
    "\n",
    "- Исходя из текущих значений трафика рассчитать необходимую длительность проведения теста."
   ]
  },
  {
   "cell_type": "markdown",
   "metadata": {
    "id": "kXdcwkjf859k"
   },
   "source": [
    "#### 2.1 Формулировка нулевой и альтернативной гипотез\n",
    "\n",
    "Команда разработчиков рекомендательных систем создала новый алгоритм, который, по их мнению, будет показывать более интересный контент для каждого пользователя, что, предположительно, должно повысить их вовлечённость. В рамках эксперимента целевая метрика — **доля успешных сессий**, то есть доля сессий, в которых пользователь просмотрел 4 и более страниц. Этот показатель используется как основной индикатор уровня вовлечённости.\n",
    "\n",
    "**Нулевая гипотеза:** доли успешных сессий равны в группах A и B.\n",
    "\n",
    "**Альтернативная гипотеза:** доля успешных сессий в группе B больше, чем в группе A."
   ]
  },
  {
   "cell_type": "markdown",
   "metadata": {
    "id": "uzaeln270eMt"
   },
   "source": [
    "#### 2.2. Расчёт размера выборки\n",
    "Рассчитаем необходимое для эксперимента количество пользователей."
   ]
  },
  {
   "cell_type": "code",
   "execution_count": 11,
   "metadata": {
    "id": "zSxJyPGPNdaI"
   },
   "outputs": [
    {
     "name": "stdout",
     "output_type": "stream",
     "text": [
      "Необходимый размер выборки для каждой группы: 41040\n"
     ]
    }
   ],
   "source": [
    "# Задаём параметры\n",
    "alpha = 0.05  # Уровень значимости\n",
    "beta = 0.2  # Ошибка второго рода, часто 1 - мощность\n",
    "power = 1 - beta  # Мощность теста\n",
    "p = 0.3 # Базовый уровень доли\n",
    "mde = 0.03 * p  # Минимальный детектируемый эффект\n",
    "effect_size = proportion_effectsize(p, p + mde)\n",
    "\n",
    "# Инициализируем класс NormalIndPower\n",
    "power_analysis = NormalIndPower()\n",
    "\n",
    "# Рассчитываем размер выборки\n",
    "sample_size = power_analysis.solve_power(\n",
    "    effect_size = effect_size,\n",
    "    power = power,\n",
    "    alpha = alpha,\n",
    "    ratio = 1 # Равномерное распределение выборок\n",
    ")\n",
    "\n",
    "print(f\"Необходимый размер выборки для каждой группы: {int(sample_size)}\")"
   ]
  },
  {
   "cell_type": "markdown",
   "metadata": {
    "id": "qLEv4RoV0eMu"
   },
   "source": [
    "#### 2.3. Расчёт длительности A/B-теста\n",
    "\n",
    "Рассчитаем длительность A/B-теста, используя данные о количестве пользователей в каждой выборке и среднем количестве пользователей приложения."
   ]
  },
  {
   "cell_type": "code",
   "execution_count": 12,
   "metadata": {
    "id": "KZDRbryDOGHa"
   },
   "outputs": [
    {
     "name": "stdout",
     "output_type": "stream",
     "text": [
      "Рассчитанная длительность A/B-теста при текущем уровене трафика в 9907 пользователей в день составит 9 дней.\n"
     ]
    }
   ],
   "source": [
    "# Среднее количество пользователей приложения в день по историческим данным\n",
    "avg_daily_users = sessions_history.groupby('session_date')['user_id'].nunique().mean()\n",
    "\n",
    "# Рассчитываем длительность теста в днях как отношение размера выборки к среднему числу пользователей\n",
    "test_duration = ceil(int(sample_size)*2/avg_daily_users)\n",
    "\n",
    "print(f\"Рассчитанная длительность A/B-теста при текущем уровене трафика в {round(avg_daily_users)} пользователей в день составит {test_duration} дней.\")"
   ]
  },
  {
   "cell_type": "markdown",
   "metadata": {},
   "source": [
    "Рассчитали допустимый минимальный срок для проведения A/B-теста — 9 дней. однако для повышения надёжности результатов теста желательно провести его дольше — например, на 14 дней, чтобы сгладить возможные колебания в поведении пользователей по дням недели и собрать больше данных для анализа."
   ]
  },
  {
   "cell_type": "markdown",
   "metadata": {
    "id": "ZuvtAdha0eMv"
   },
   "source": [
    "### 3. Мониторинг А/В-теста"
   ]
  },
  {
   "cell_type": "markdown",
   "metadata": {
    "id": "jq5sE3Ya0eMv"
   },
   "source": [
    "#### 3.1. Проверка распределения пользователей\n",
    "\n",
    "После запуска A/B-теста важно убедиться в корректности его проведения, в частности, в правильности распределения пользователей между группами. Для этого проверяются:\n",
    "\n",
    "- **Сопоставимое количество пользователей** в тестовой и контрольной группах.\n",
    "\n",
    "- **Независимость пользователей** — отсутствие участников, одновременно присутствующих в обеих группах.\n",
    "\n",
    "- **Равномерность распределения по ключевым характеристикам**, в нашем случае — по используемым устройствам и регионам.\n",
    "\n",
    "Для начала определим и визуализируем количество уникальных пользователей в каждой группе по итогам первого дня наблюдения."
   ]
  },
  {
   "cell_type": "code",
   "execution_count": 13,
   "metadata": {},
   "outputs": [],
   "source": [
    "# Сохраним в переменную данные с информацией о сессиях пользователей в первый день теста\n",
    "sessions_test_part = pd.read_csv('https://code.s3.yandex.net/datasets/sessions_project_test_part.csv')"
   ]
  },
  {
   "cell_type": "code",
   "execution_count": 14,
   "metadata": {},
   "outputs": [
    {
     "name": "stdout",
     "output_type": "stream",
     "text": [
      "Процентная разница в количестве пользователей в группах A и B составляет 0.74%\n"
     ]
    }
   ],
   "source": [
    "# Рассчитаем количество уникальных пользователей в каждой из экспериментальных групп\n",
    "group_users = sessions_test_part.groupby('test_group')['user_id'].nunique().reset_index()\n",
    "\n",
    "# Рассчитаем процентную разницу в количестве пользователей в группах A и B\n",
    "a_users_count = group_users[group_users['test_group'] == 'A']['user_id'].iloc[0]\n",
    "b_users_count = group_users[group_users['test_group'] == 'B']['user_id'].iloc[0]\n",
    "perc_diff = 100 * abs(a_users_count - b_users_count)/a_users_count\n",
    "\n",
    "print(f'Процентная разница в количестве пользователей в группах A и B составляет {perc_diff.round(2)}%')"
   ]
  },
  {
   "cell_type": "code",
   "execution_count": 15,
   "metadata": {},
   "outputs": [
    {
     "data": {
      "image/png": "[encoded data removed]",
      "text/plain": [
       "<Figure size 360x360 with 1 Axes>"
      ]
     },
     "metadata": {},
     "output_type": "display_data"
    }
   ],
   "source": [
    "# Построим круговую диаграмму для демонстрации распределения пользователей по группам\n",
    "plt.figure(figsize = (5, 5))\n",
    "\n",
    "plt.pie(group_users['user_id'],\n",
    "        labels = group_users['test_group'],\n",
    "        colors = ['coral', 'skyblue'],\n",
    "        startangle = 90,\n",
    "        autopct = '%1.2f%%')\n",
    "\n",
    "plt.title('Распределение уникальных пользователей по группам')\n",
    "plt.show()"
   ]
  },
  {
   "cell_type": "markdown",
   "metadata": {},
   "source": [
    "Пользователи распределены между группами равномерно: 50,19% — в группе A и 49,81% — в группе B."
   ]
  },
  {
   "cell_type": "markdown",
   "metadata": {
    "id": "sgpNY5bv0eM0"
   },
   "source": [
    "#### 3.2. Проверка пересечений пользователей\n",
    "Помимо проверки равенства количества пользователей в группах, полезно убедиться в том, что группы независимы. Для этого нужно убедиться, что никто из пользователей случайно не попал в обе группы одновременно.\n",
    "\n",
    "Рассчитаем количество пользователей, которые встречаются одновременно в группах A и B, или убедимся, что таких нет."
   ]
  },
  {
   "cell_type": "code",
   "execution_count": 16,
   "metadata": {
    "id": "E72ozN9FOX1u"
   },
   "outputs": [
    {
     "name": "stdout",
     "output_type": "stream",
     "text": [
      "Пользователей, которые встречаются одновременно в группах A и B: 0.\n"
     ]
    }
   ],
   "source": [
    "# Считаем кол-во уникальных значений test_group для каждого пользователя \n",
    "# Отбираем только тех пользователей, у которых количество уникальных значений test_group больше 1.\n",
    "intersection = sessions_test_part.groupby('user_id').agg({'test_group': 'nunique'}).query('test_group > 1')\n",
    "\n",
    "print(f'Пользователей, которые встречаются одновременно в группах A и B: {len(intersection)}.')"
   ]
  },
  {
   "cell_type": "markdown",
   "metadata": {
    "id": "6RvkNLrg0eM1"
   },
   "source": [
    "#### 3.3. Равномерность разделения пользователей по устройствам\n",
    "Полезно также убедиться в том, что пользователи равномерно распределены по всем доступным категориальным переменным — типам устройств и регионам.\n",
    "\n",
    "Построим две диаграммы:\n",
    "\n",
    "- доля каждого типа устройства для пользователей из группы A,\n",
    "\n",
    "- доля каждого типа устройства для пользователей из группы B."
   ]
  },
  {
   "cell_type": "code",
   "execution_count": 17,
   "metadata": {},
   "outputs": [
    {
     "data": {
      "text/html": [
       "<div>\n",
       "<style scoped>\n",
       "    .dataframe tbody tr th:only-of-type {\n",
       "        vertical-align: middle;\n",
       "    }\n",
       "\n",
       "    .dataframe tbody tr th {\n",
       "        vertical-align: top;\n",
       "    }\n",
       "\n",
       "    .dataframe thead th {\n",
       "        text-align: right;\n",
       "    }\n",
       "</style>\n",
       "<table border=\"1\" class=\"dataframe\">\n",
       "  <thead>\n",
       "    <tr style=\"text-align: right;\">\n",
       "      <th>test_group</th>\n",
       "      <th>A</th>\n",
       "      <th>B</th>\n",
       "    </tr>\n",
       "    <tr>\n",
       "      <th>device</th>\n",
       "      <th></th>\n",
       "      <th></th>\n",
       "    </tr>\n",
       "  </thead>\n",
       "  <tbody>\n",
       "    <tr>\n",
       "      <th>Android</th>\n",
       "      <td>656</td>\n",
       "      <td>668</td>\n",
       "    </tr>\n",
       "    <tr>\n",
       "      <th>Mac</th>\n",
       "      <td>156</td>\n",
       "      <td>148</td>\n",
       "    </tr>\n",
       "    <tr>\n",
       "      <th>PC</th>\n",
       "      <td>369</td>\n",
       "      <td>381</td>\n",
       "    </tr>\n",
       "    <tr>\n",
       "      <th>iPhone</th>\n",
       "      <td>296</td>\n",
       "      <td>269</td>\n",
       "    </tr>\n",
       "  </tbody>\n",
       "</table>\n",
       "</div>"
      ],
      "text/plain": [
       "test_group    A    B\n",
       "device              \n",
       "Android     656  668\n",
       "Mac         156  148\n",
       "PC          369  381\n",
       "iPhone      296  269"
      ]
     },
     "execution_count": 17,
     "metadata": {},
     "output_type": "execute_result"
    }
   ],
   "source": [
    "# Создадим сводную таблицу с информацией о распределении типов устройств для пользователей из разных групп\n",
    "device_groups = pd.pivot_table(sessions_test_part, \n",
    "                               index = 'device', \n",
    "                               columns = 'test_group', \n",
    "                               values = 'user_id', \n",
    "                               aggfunc = 'nunique')\n",
    "device_groups"
   ]
  },
  {
   "cell_type": "code",
   "execution_count": 18,
   "metadata": {},
   "outputs": [
    {
     "data": {
      "image/png": "[encoded data removed]",
      "text/plain": [
       "<Figure size 720x360 with 2 Axes>"
      ]
     },
     "metadata": {},
     "output_type": "display_data"
    }
   ],
   "source": [
    "# Построим диаграмму с информацией о распределении типов устройств в группах A и B\n",
    "fig, axes = plt.subplots(1, 2, figsize = (10, 5))\n",
    "\n",
    "axes[0].pie(device_groups['A'],\n",
    "            labels = device_groups.index,\n",
    "            colors = ['#BFD3E6', '#9EBCDA', '#8C96C6', '#8856A7'],\n",
    "            startangle = 90,\n",
    "            autopct = '%1.2f%%')\n",
    "axes[0].set_title('Группа A')\n",
    "\n",
    "axes[1].pie(device_groups['B'],\n",
    "            labels = device_groups.index,\n",
    "            colors = ['#BFD3E6', '#9EBCDA', '#8C96C6', '#8856A7'],\n",
    "            startangle = 90,\n",
    "            autopct = '%1.2f%%')\n",
    "axes[1].set_title('Группа B')\n",
    "\n",
    "plt.suptitle('Распределение типов устройств в группах')\n",
    "plt.show()"
   ]
  },
  {
   "cell_type": "markdown",
   "metadata": {},
   "source": [
    "Пользователи равномерно распределены по устройствам, что важно для корректности A/B-теста. Это исключает риск, что различия в целевой метрике будут вызваны не самим тестом, а, например, особенностями поведения владельцев Android и iOS (разная конверсия, активность или средний чек)."
   ]
  },
  {
   "cell_type": "markdown",
   "metadata": {
    "id": "gAgmP6vo0eM1"
   },
   "source": [
    "#### 3.4. Равномерность распределения пользователей по регионам\n",
    "Теперь убедимся, что пользователи равномерно распределены по регионам.\n",
    "\n",
    "Построим две диаграммы:\n",
    "\n",
    "- доля каждого региона для пользователей из группы A,\n",
    "\n",
    "- доля каждого региона для пользователей из группы B."
   ]
  },
  {
   "cell_type": "code",
   "execution_count": 19,
   "metadata": {
    "id": "3hAq-FG4OdYM"
   },
   "outputs": [
    {
     "data": {
      "text/html": [
       "<div>\n",
       "<style scoped>\n",
       "    .dataframe tbody tr th:only-of-type {\n",
       "        vertical-align: middle;\n",
       "    }\n",
       "\n",
       "    .dataframe tbody tr th {\n",
       "        vertical-align: top;\n",
       "    }\n",
       "\n",
       "    .dataframe thead th {\n",
       "        text-align: right;\n",
       "    }\n",
       "</style>\n",
       "<table border=\"1\" class=\"dataframe\">\n",
       "  <thead>\n",
       "    <tr style=\"text-align: right;\">\n",
       "      <th>test_group</th>\n",
       "      <th>A</th>\n",
       "      <th>B</th>\n",
       "    </tr>\n",
       "    <tr>\n",
       "      <th>region</th>\n",
       "      <th></th>\n",
       "      <th></th>\n",
       "    </tr>\n",
       "  </thead>\n",
       "  <tbody>\n",
       "    <tr>\n",
       "      <th>CIS</th>\n",
       "      <td>0.436019</td>\n",
       "      <td>0.439973</td>\n",
       "    </tr>\n",
       "    <tr>\n",
       "      <th>EU</th>\n",
       "      <td>0.151659</td>\n",
       "      <td>0.148022</td>\n",
       "    </tr>\n",
       "    <tr>\n",
       "      <th>MENA</th>\n",
       "      <td>0.412322</td>\n",
       "      <td>0.412005</td>\n",
       "    </tr>\n",
       "  </tbody>\n",
       "</table>\n",
       "</div>"
      ],
      "text/plain": [
       "test_group         A         B\n",
       "region                        \n",
       "CIS         0.436019  0.439973\n",
       "EU          0.151659  0.148022\n",
       "MENA        0.412322  0.412005"
      ]
     },
     "execution_count": 19,
     "metadata": {},
     "output_type": "execute_result"
    }
   ],
   "source": [
    "# Создадим сводную таблицу с информацией о распределении по регионам для пользователей из разных групп\n",
    "region_groups = pd.pivot_table(sessions_test_part,\n",
    "                               index = 'region',\n",
    "                               columns = 'test_group',\n",
    "                               values = 'user_id',\n",
    "                               aggfunc = 'nunique')\n",
    "\n",
    "# Выведем значения в долях\n",
    "region_shares = region_groups/region_groups.sum()\n",
    "region_shares"
   ]
  },
  {
   "cell_type": "code",
   "execution_count": 20,
   "metadata": {},
   "outputs": [
    {
     "data": {
      "image/png": "[encoded data removed]",
      "text/plain": [
       "<Figure size 720x432 with 1 Axes>"
      ]
     },
     "metadata": {
      "needs_background": "light"
     },
     "output_type": "display_data"
    }
   ],
   "source": [
    "# Построим диаграмму для демонстрации распределения пользователей по регионам в группах A и B\n",
    "region_shares.plot(kind = 'bar', \n",
    "                   rot = 0,\n",
    "                   color = ['coral', 'skyblue'],\n",
    "                   figsize = (10, 6))\n",
    "\n",
    "plt.xlabel('')\n",
    "plt.ylabel('Доля пользователей')\n",
    "plt.title('Распределение пользователей по регионам в группах A и B')\n",
    "plt.legend()\n",
    "plt.show()"
   ]
  },
  {
   "cell_type": "markdown",
   "metadata": {},
   "source": [
    "Распределение пользователей по регионам также равномерное."
   ]
  },
  {
   "cell_type": "markdown",
   "metadata": {
    "id": "X2WSZ-sDrSUi"
   },
   "source": [
    "#### 3.5. Вывод после проверки A/B-теста\n",
    "\n",
    "После первого дня проведения A/B-теста был выполнен мониторинг для проверки корректности его проведения. По результатам анализа можно сделать следующие выводы:\n",
    "\n",
    "1. Обнаружены незначительные различия в количестве пользователей в двух группах: процентное отклонение между группами A и B составляет 0,74%, что находится в пределах статистической погрешности и не является значимым.\n",
    "\n",
    "2. Выборки пользователей в тестовой и контрольной группах являются независимыми: не выявлено ни одного пользователя, который одновременно присутствовал бы в обеих группах.\n",
    "\n",
    "3. Сохраняется равномерное распределение пользователей тестовой и контрольной групп по категориальным переменным: устройствам и регионам, что подтверждает отсутствие систематических смещений.\n",
    "\n",
    "Таким образом, на данном этапе можно заключить, что A/B-тест проводится корректно, без выявленных нарушений."
   ]
  },
  {
   "cell_type": "markdown",
   "metadata": {
    "id": "nudRr_BQ0eM2"
   },
   "source": [
    "### 4. Проверка результатов A/B-теста\n",
    "\n",
    "После завершения A/B-теста необходимо убедиться в корректности теста и верно интерпретировать результаты."
   ]
  },
  {
   "cell_type": "markdown",
   "metadata": {
    "id": "JVve-YBB0eM2"
   },
   "source": [
    "#### 4.1. Получение результатов теста и подсчёт основной метрики"
   ]
  },
  {
   "cell_type": "code",
   "execution_count": 21,
   "metadata": {
    "id": "EqRlwMtKPTir"
   },
   "outputs": [],
   "source": [
    "# Сохраним в переменную данные с результатами A/B-теста\n",
    "sessions_test = pd.read_csv('https://code.s3.yandex.net/datasets/sessions_project_test.csv')"
   ]
  },
  {
   "cell_type": "code",
   "execution_count": 22,
   "metadata": {},
   "outputs": [],
   "source": [
    "# Создадим столбец, в котором обозначим сессии с большим числом просмотренных страниц (>= 4)\n",
    "sessions_test['good_session'] = 0\n",
    "sessions_test.loc[sessions_test['page_counter'] >= 4, 'good_session'] = 1"
   ]
  },
  {
   "cell_type": "markdown",
   "metadata": {
    "id": "aeYhrMYy0eM2"
   },
   "source": [
    "#### 4.2. Проверка корректности результатов теста\n",
    "\n",
    "Прежде чем приступать к анализу ключевых продуктовых метрик, необходимо убедиться, что тест проведён корректно и мы будем сравнивать две сопоставимые группы.\n",
    "\n",
    "Проверим, что количество уникальных дневных сессий в двух выборках не различается или различия не статистически значимыми. Для этого используем t-тест, который позволит сделать вывод о равенстве средних двух выборок."
   ]
  },
  {
   "cell_type": "code",
   "execution_count": 23,
   "metadata": {
    "id": "5NUlcltkTTSU",
    "scrolled": true
   },
   "outputs": [
    {
     "data": {
      "text/html": [
       "<div>\n",
       "<style scoped>\n",
       "    .dataframe tbody tr th:only-of-type {\n",
       "        vertical-align: middle;\n",
       "    }\n",
       "\n",
       "    .dataframe tbody tr th {\n",
       "        vertical-align: top;\n",
       "    }\n",
       "\n",
       "    .dataframe thead th {\n",
       "        text-align: right;\n",
       "    }\n",
       "</style>\n",
       "<table border=\"1\" class=\"dataframe\">\n",
       "  <thead>\n",
       "    <tr style=\"text-align: right;\">\n",
       "      <th>test_group</th>\n",
       "      <th>A</th>\n",
       "      <th>B</th>\n",
       "    </tr>\n",
       "    <tr>\n",
       "      <th>session_date</th>\n",
       "      <th></th>\n",
       "      <th></th>\n",
       "    </tr>\n",
       "  </thead>\n",
       "  <tbody>\n",
       "    <tr>\n",
       "      <th>2025-10-14</th>\n",
       "      <td>1502</td>\n",
       "      <td>1628</td>\n",
       "    </tr>\n",
       "    <tr>\n",
       "      <th>2025-10-15</th>\n",
       "      <td>2235</td>\n",
       "      <td>2283</td>\n",
       "    </tr>\n",
       "    <tr>\n",
       "      <th>2025-10-16</th>\n",
       "      <td>3280</td>\n",
       "      <td>3241</td>\n",
       "    </tr>\n",
       "    <tr>\n",
       "      <th>2025-10-17</th>\n",
       "      <td>4089</td>\n",
       "      <td>4054</td>\n",
       "    </tr>\n",
       "    <tr>\n",
       "      <th>2025-10-18</th>\n",
       "      <td>5013</td>\n",
       "      <td>5059</td>\n",
       "    </tr>\n",
       "    <tr>\n",
       "      <th>2025-10-19</th>\n",
       "      <td>6535</td>\n",
       "      <td>6779</td>\n",
       "    </tr>\n",
       "    <tr>\n",
       "      <th>2025-10-20</th>\n",
       "      <td>5837</td>\n",
       "      <td>6089</td>\n",
       "    </tr>\n",
       "    <tr>\n",
       "      <th>2025-10-21</th>\n",
       "      <td>3927</td>\n",
       "      <td>3981</td>\n",
       "    </tr>\n",
       "    <tr>\n",
       "      <th>2025-10-22</th>\n",
       "      <td>3083</td>\n",
       "      <td>3111</td>\n",
       "    </tr>\n",
       "    <tr>\n",
       "      <th>2025-10-23</th>\n",
       "      <td>2470</td>\n",
       "      <td>2548</td>\n",
       "    </tr>\n",
       "    <tr>\n",
       "      <th>2025-10-24</th>\n",
       "      <td>2090</td>\n",
       "      <td>2068</td>\n",
       "    </tr>\n",
       "    <tr>\n",
       "      <th>2025-10-25</th>\n",
       "      <td>1897</td>\n",
       "      <td>1814</td>\n",
       "    </tr>\n",
       "    <tr>\n",
       "      <th>2025-10-26</th>\n",
       "      <td>1669</td>\n",
       "      <td>1692</td>\n",
       "    </tr>\n",
       "    <tr>\n",
       "      <th>2025-10-27</th>\n",
       "      <td>1454</td>\n",
       "      <td>1517</td>\n",
       "    </tr>\n",
       "    <tr>\n",
       "      <th>2025-10-28</th>\n",
       "      <td>1279</td>\n",
       "      <td>1289</td>\n",
       "    </tr>\n",
       "    <tr>\n",
       "      <th>2025-10-29</th>\n",
       "      <td>1068</td>\n",
       "      <td>1131</td>\n",
       "    </tr>\n",
       "    <tr>\n",
       "      <th>2025-10-30</th>\n",
       "      <td>887</td>\n",
       "      <td>876</td>\n",
       "    </tr>\n",
       "    <tr>\n",
       "      <th>2025-10-31</th>\n",
       "      <td>644</td>\n",
       "      <td>669</td>\n",
       "    </tr>\n",
       "    <tr>\n",
       "      <th>2025-11-01</th>\n",
       "      <td>434</td>\n",
       "      <td>465</td>\n",
       "    </tr>\n",
       "    <tr>\n",
       "      <th>2025-11-02</th>\n",
       "      <td>158</td>\n",
       "      <td>160</td>\n",
       "    </tr>\n",
       "  </tbody>\n",
       "</table>\n",
       "</div>"
      ],
      "text/plain": [
       "test_group       A     B\n",
       "session_date            \n",
       "2025-10-14    1502  1628\n",
       "2025-10-15    2235  2283\n",
       "2025-10-16    3280  3241\n",
       "2025-10-17    4089  4054\n",
       "2025-10-18    5013  5059\n",
       "2025-10-19    6535  6779\n",
       "2025-10-20    5837  6089\n",
       "2025-10-21    3927  3981\n",
       "2025-10-22    3083  3111\n",
       "2025-10-23    2470  2548\n",
       "2025-10-24    2090  2068\n",
       "2025-10-25    1897  1814\n",
       "2025-10-26    1669  1692\n",
       "2025-10-27    1454  1517\n",
       "2025-10-28    1279  1289\n",
       "2025-10-29    1068  1131\n",
       "2025-10-30     887   876\n",
       "2025-10-31     644   669\n",
       "2025-11-01     434   465\n",
       "2025-11-02     158   160"
      ]
     },
     "execution_count": 23,
     "metadata": {},
     "output_type": "execute_result"
    }
   ],
   "source": [
    "# Рассчитаем количество уникальных сессий для каждого дня и обеих тестовых групп\n",
    "daily_sessions = pd.pivot_table(sessions_test,\n",
    "                 index = 'session_date',\n",
    "                 columns = 'test_group',\n",
    "                 values = 'session_id',\n",
    "                 aggfunc = 'nunique')\n",
    "daily_sessions"
   ]
  },
  {
   "cell_type": "code",
   "execution_count": 24,
   "metadata": {},
   "outputs": [
    {
     "name": "stdout",
     "output_type": "stream",
     "text": [
      "p-value = 0.94\n",
      "Среднее кол-во уникальных дневных сессий одинаково в двух выборках. Тест проведен корректно.\n"
     ]
    }
   ],
   "source": [
    "# Проведем t-тест для проверки того, насколько значимы различия в количестве уникальных дневных сессий в двух выборках \n",
    "# Нулевая гипотеза: Среднее кол-во уникальных дневных сессий одинаково в двух выборках.\n",
    "# Альтернативная гипотеза: Среднее кол-во уникальных дневных сессий отличается в двух выборках.\n",
    "\n",
    "a = daily_sessions['A']\n",
    "b = daily_sessions['B']\n",
    "\n",
    "alpha = 0.05\n",
    "\n",
    "results = st.ttest_ind(a, b, alternative = 'two-sided')\n",
    "\n",
    "if results.pvalue < alpha:\n",
    "    print(f'p-value = {results.pvalue.round(2)}')\n",
    "    print('Среднее кол-во уникальных дневных сессий отличается в двух выборках.')\n",
    "else:\n",
    "    print(f'p-value = {results.pvalue.round(2)}')\n",
    "    print('Среднее кол-во уникальных дневных сессий одинаково в двух выборках. Тест проведен корректно.')"
   ]
  },
  {
   "cell_type": "markdown",
   "metadata": {
    "id": "7kwRxzg70eM3"
   },
   "source": [
    "#### 4.3. Сравнение доли успешных сессий\n",
    "\n",
    "Когда мы убедились, что количество сессий в обеих выборках не различалось, можно переходить к анализу ключевой метрики — доли успешных сессий."
   ]
  },
  {
   "cell_type": "code",
   "execution_count": 25,
   "metadata": {
    "id": "Uku-V1CpPRCz"
   },
   "outputs": [
    {
     "name": "stdout",
     "output_type": "stream",
     "text": [
      "Доля успешных сессий в выборках A и B: test_group\n",
      "A    0.307723\n",
      "B    0.318290\n",
      "Name: good_session, dtype: float64\n",
      "\n",
      "Разница между выборками A и B: 1.06%\n"
     ]
    }
   ],
   "source": [
    "# Рассчитаем долю успешных сессий в выборках A и B\n",
    "share_good_session = sessions_test.groupby('test_group')['good_session'].mean()\n",
    "diff_good_session = abs(share_good_session['A'] - share_good_session['B'])\n",
    "\n",
    "print(f'Доля успешных сессий в выборках A и B: {share_good_session}')\n",
    "print()\n",
    "print(f'Разница между выборками A и B: {(diff_good_session*100).round(2)}%')"
   ]
  },
  {
   "cell_type": "markdown",
   "metadata": {
    "id": "9fMFuja10eM4"
   },
   "source": [
    "#### 4.4. Насколько статистически значимо изменение ключевой метрики\n",
    "\n",
    "На предыдущем шаге мы убедились, что количество успешных сессий в тестовой выборке примерно на 1.1% выше, чем в контрольной, но делать выводы только на основе этого значения будет некорректно. Для принятия решения необходимо ответить на вопрос: является ли это изменение статистически значимым.\n",
    "\n",
    "Используя z-тест пропорций, проверим, является ли изменение в метрике доли успешных сессий статистически значимым."
   ]
  },
  {
   "cell_type": "code",
   "execution_count": 26,
   "metadata": {
    "id": "gFvhRGwlPLS0"
   },
   "outputs": [
    {
     "name": "stdout",
     "output_type": "stream",
     "text": [
      "p-value = 0.0001574739988036123\n",
      "Доля успешных сессий в тестовой группе выше, чем в контрольной.\n"
     ]
    }
   ],
   "source": [
    "# Проведем z-тест пропорций для проверки того, насколько значимы различия в доле успешных сессий в группах A и B\n",
    "# H0: доли успешных сессий равны в группах A и B\n",
    "# H1: доля успешных сессий в группе B выше, чем в группе A\n",
    "\n",
    "n_a = sessions_test[sessions_test['test_group'] == 'A']['session_id'].nunique() # размер выборки A\n",
    "n_b = sessions_test[sessions_test['test_group'] == 'B']['session_id'].nunique() # размер выборки B\n",
    "m_a = sessions_test[sessions_test['test_group'] == 'A']['good_session'].sum() # кол-во успешных сессий в группе A\n",
    "m_b = sessions_test[sessions_test['test_group'] == 'B']['good_session'].sum() # кол-во успешных сессий в группе B\n",
    "\n",
    "alpha = 0.05\n",
    "\n",
    "stat_ztest, p_value_ztest = proportions_ztest([m_b, m_a],\n",
    "                                              [n_b, n_a],\n",
    "                                              alternative = 'larger')\n",
    "\n",
    "if p_value_ztest > alpha:\n",
    "    print(f'p-value = {p_value_ztest}')\n",
    "    print('Доли успешных сессий в контрольной и тестовой группах равны.')\n",
    "else:\n",
    "    print(f'p-value = {p_value_ztest}')\n",
    "    print('Доля успешных сессий в тестовой группе выше, чем в контрольной.')"
   ]
  },
  {
   "cell_type": "markdown",
   "metadata": {},
   "source": [
    "Разница в 1,06% в пользу тестовой группы статистически значима (p-value ≈ 0,00016), что подтверждает улучшение метрики."
   ]
  },
  {
   "cell_type": "markdown",
   "metadata": {},
   "source": [
    "#### 4.5. Общая информация о проведенном эксперименте"
   ]
  },
  {
   "cell_type": "code",
   "execution_count": 26,
   "metadata": {},
   "outputs": [
    {
     "name": "stdout",
     "output_type": "stream",
     "text": [
      "В эксперименте было задействовано 30579 пользователей.\n",
      "Эксперимент длился 20 дней: с 2025-10-14 по 2025-11-02.\n"
     ]
    }
   ],
   "source": [
    "# Посчитаем количество задействованных в эксперименте пользователей\n",
    "users_count = sessions_test['user_id'].nunique()\n",
    "\n",
    "# Определим длительность эксперимента\n",
    "duration_test = sessions_test['session_date'].nunique()\n",
    "\n",
    "# Определим даты проведения эксперимента\n",
    "first_day = sessions_test['session_date'].min()\n",
    "last_day = sessions_test['session_date'].max()\n",
    "\n",
    "print(f'В эксперименте было задействовано {users_count} пользователей.')\n",
    "print(f'Эксперимент длился {duration_test} дней: с {first_day} по {last_day}.')"
   ]
  },
  {
   "cell_type": "markdown",
   "metadata": {},
   "source": [
    "Был проведён A/B-тест, чтобы оценить, как новый алгоритм рекомендаций влияет на вовлечённость пользователей. Ключевой метрикой была доля успешных сессий — случаев, когда пользователь просмотрел 4 и более страниц за одну сессию. Была выдвинута гипотеза о том, что при внедрении нового алгоритма рекомендаций доля успешных сессий увеличится.\n",
    "\n",
    "**Характеристики выборки**  \n",
    "В тесте участвовало **30 579 пользователей**, распределённых по устройствам и регионам равномерно: \n",
    "- 45% — Android, 20% — iPhone, 25% — PC, 10% — Mac; \n",
    "- по регионам: 44% — CIS, 15% — EU, 41% — MENA. \n",
    "\n",
    "**Сроки проведения эксперимента**  \n",
    "Эксперимент длился **20 дней** — с 14.10.2025 по 02.11.2025.\n",
    "\n",
    "**Результаты**  \n",
    "По результатам A/B-теста доля успешных сессий выросла с 30.77% в группе A до 31.83% в группе B, что составляет +1.06 процентных пункта или **+3.45%** в относительном выражении. Минимальный детектируемый эффект (MDE) был задан как 3% относительного изменения, а полученный эффект этот порог превысил. Статистический анализ показал, что различия значимы — **p-value = 0.00016**, что меньше уровня значимости 0.05.\n",
    "\n",
    "Таким образом, **нововведение стоит внедрять** в приложение, так как оно дало измеримый и статистически подтверждённый положительный результат."
   ]
  }
 ],
 "metadata": {
  "ExecuteTimeLog": [
   {
    "duration": 443,
    "start_time": "2025-08-09T08:09:40.635Z"
   },
   {
    "duration": 63,
    "start_time": "2025-08-09T08:11:20.135Z"
   },
   {
    "duration": 1727,
    "start_time": "2025-08-09T08:11:25.761Z"
   },
   {
    "duration": 17,
    "start_time": "2025-08-09T08:11:56.421Z"
   },
   {
    "duration": 648,
    "start_time": "2025-08-09T08:19:50.747Z"
   },
   {
    "duration": 562,
    "start_time": "2025-08-09T08:20:06.549Z"
   },
   {
    "duration": 566,
    "start_time": "2025-08-09T08:20:44.974Z"
   },
   {
    "duration": 576,
    "start_time": "2025-08-09T08:20:51.051Z"
   },
   {
    "duration": 548,
    "start_time": "2025-08-09T08:20:55.381Z"
   },
   {
    "duration": 580,
    "start_time": "2025-08-09T08:21:06.670Z"
   },
   {
    "duration": 587,
    "start_time": "2025-08-09T08:22:35.168Z"
   },
   {
    "duration": 555,
    "start_time": "2025-08-09T08:22:49.862Z"
   },
   {
    "duration": 560,
    "start_time": "2025-08-09T08:23:21.244Z"
   },
   {
    "duration": 651,
    "start_time": "2025-08-09T08:23:30.627Z"
   },
   {
    "duration": 556,
    "start_time": "2025-08-09T08:24:45.813Z"
   },
   {
    "duration": 537,
    "start_time": "2025-08-09T08:24:53.665Z"
   },
   {
    "duration": 560,
    "start_time": "2025-08-09T08:25:08.450Z"
   },
   {
    "duration": 546,
    "start_time": "2025-08-09T08:28:28.865Z"
   },
   {
    "duration": 530,
    "start_time": "2025-08-09T08:28:44.456Z"
   },
   {
    "duration": 571,
    "start_time": "2025-08-09T08:28:53.856Z"
   },
   {
    "duration": 580,
    "start_time": "2025-08-09T08:30:20.772Z"
   },
   {
    "duration": 688,
    "start_time": "2025-08-09T08:34:30.504Z"
   },
   {
    "duration": 621,
    "start_time": "2025-08-09T08:34:46.282Z"
   },
   {
    "duration": 189,
    "start_time": "2025-08-09T08:48:09.256Z"
   },
   {
    "duration": 221,
    "start_time": "2025-08-09T08:58:48.991Z"
   },
   {
    "duration": 230,
    "start_time": "2025-08-09T09:02:06.712Z"
   },
   {
    "duration": 207,
    "start_time": "2025-08-09T09:03:52.717Z"
   },
   {
    "duration": 259,
    "start_time": "2025-08-09T09:04:34.936Z"
   },
   {
    "duration": 1610,
    "start_time": "2025-08-09T09:27:19.345Z"
   },
   {
    "duration": 192,
    "start_time": "2025-08-09T09:27:54.394Z"
   },
   {
    "duration": 195,
    "start_time": "2025-08-09T09:27:58.763Z"
   },
   {
    "duration": 198,
    "start_time": "2025-08-09T09:28:11.861Z"
   },
   {
    "duration": 196,
    "start_time": "2025-08-09T09:28:25.168Z"
   },
   {
    "duration": 189,
    "start_time": "2025-08-09T09:28:31.146Z"
   },
   {
    "duration": 11,
    "start_time": "2025-08-09T09:28:36.759Z"
   },
   {
    "duration": 522,
    "start_time": "2025-08-09T09:28:56.763Z"
   },
   {
    "duration": 540,
    "start_time": "2025-08-09T09:29:05.278Z"
   },
   {
    "duration": 207,
    "start_time": "2025-08-09T09:30:11.825Z"
   },
   {
    "duration": 185,
    "start_time": "2025-08-09T09:31:16.404Z"
   },
   {
    "duration": 192,
    "start_time": "2025-08-09T09:32:51.660Z"
   },
   {
    "duration": 516,
    "start_time": "2025-08-09T09:33:29.761Z"
   },
   {
    "duration": 228,
    "start_time": "2025-08-09T09:33:50.087Z"
   },
   {
    "duration": 507,
    "start_time": "2025-08-09T09:35:58.141Z"
   },
   {
    "duration": 511,
    "start_time": "2025-08-09T09:36:06.233Z"
   },
   {
    "duration": 505,
    "start_time": "2025-08-09T09:36:12.478Z"
   },
   {
    "duration": 516,
    "start_time": "2025-08-09T09:36:28.118Z"
   },
   {
    "duration": 532,
    "start_time": "2025-08-09T09:38:29.336Z"
   },
   {
    "duration": 546,
    "start_time": "2025-08-09T09:40:04.849Z"
   },
   {
    "duration": 603,
    "start_time": "2025-08-09T09:40:26.125Z"
   },
   {
    "duration": 521,
    "start_time": "2025-08-09T09:40:41.166Z"
   },
   {
    "duration": 534,
    "start_time": "2025-08-09T09:40:44.645Z"
   },
   {
    "duration": 509,
    "start_time": "2025-08-09T09:40:48.753Z"
   },
   {
    "duration": 510,
    "start_time": "2025-08-09T09:40:59.747Z"
   },
   {
    "duration": 490,
    "start_time": "2025-08-09T09:41:04.870Z"
   },
   {
    "duration": 598,
    "start_time": "2025-08-09T09:41:10.436Z"
   },
   {
    "duration": 1656,
    "start_time": "2025-08-09T09:47:34.528Z"
   },
   {
    "duration": 7,
    "start_time": "2025-08-09T09:47:44.285Z"
   },
   {
    "duration": 488,
    "start_time": "2025-08-09T09:49:13.922Z"
   },
   {
    "duration": 560,
    "start_time": "2025-08-09T09:49:24.037Z"
   },
   {
    "duration": 509,
    "start_time": "2025-08-09T09:55:15.149Z"
   },
   {
    "duration": 505,
    "start_time": "2025-08-09T09:55:42.083Z"
   },
   {
    "duration": 511,
    "start_time": "2025-08-09T09:56:52.341Z"
   },
   {
    "duration": 700,
    "start_time": "2025-08-09T09:57:03.190Z"
   },
   {
    "duration": 702,
    "start_time": "2025-08-09T09:57:22.180Z"
   },
   {
    "duration": 505,
    "start_time": "2025-08-09T09:57:30.399Z"
   },
   {
    "duration": 596,
    "start_time": "2025-08-09T09:58:28.327Z"
   },
   {
    "duration": 519,
    "start_time": "2025-08-09T09:59:46.424Z"
   },
   {
    "duration": 8,
    "start_time": "2025-08-09T10:59:31.236Z"
   },
   {
    "duration": 8,
    "start_time": "2025-08-09T10:59:42.420Z"
   },
   {
    "duration": 8,
    "start_time": "2025-08-09T10:59:50.364Z"
   },
   {
    "duration": 12,
    "start_time": "2025-08-09T11:01:09.905Z"
   },
   {
    "duration": 11,
    "start_time": "2025-08-09T11:01:14.002Z"
   },
   {
    "duration": 10,
    "start_time": "2025-08-09T11:01:41.894Z"
   },
   {
    "duration": 8,
    "start_time": "2025-08-09T11:02:55.400Z"
   },
   {
    "duration": 8,
    "start_time": "2025-08-09T11:02:55.609Z"
   },
   {
    "duration": 9,
    "start_time": "2025-08-09T11:03:59.928Z"
   },
   {
    "duration": 12,
    "start_time": "2025-08-09T11:08:37.161Z"
   },
   {
    "duration": 9,
    "start_time": "2025-08-09T11:08:46.990Z"
   },
   {
    "duration": 8,
    "start_time": "2025-08-09T11:10:21.390Z"
   },
   {
    "duration": 9,
    "start_time": "2025-08-09T11:10:24.669Z"
   },
   {
    "duration": 156,
    "start_time": "2025-08-09T11:10:26.298Z"
   },
   {
    "duration": 10,
    "start_time": "2025-08-09T11:10:31.424Z"
   },
   {
    "duration": 149,
    "start_time": "2025-08-09T11:12:12.770Z"
   },
   {
    "duration": 13,
    "start_time": "2025-08-09T11:12:23.723Z"
   },
   {
    "duration": 15,
    "start_time": "2025-08-09T11:13:18.323Z"
   },
   {
    "duration": 133,
    "start_time": "2025-08-09T11:14:38.176Z"
   },
   {
    "duration": 158,
    "start_time": "2025-08-09T11:17:32.751Z"
   },
   {
    "duration": 150,
    "start_time": "2025-08-09T11:17:48.439Z"
   },
   {
    "duration": 785,
    "start_time": "2025-08-09T11:18:36.547Z"
   },
   {
    "duration": 708,
    "start_time": "2025-08-09T11:23:02.081Z"
   },
   {
    "duration": 541,
    "start_time": "2025-08-09T11:23:20.587Z"
   },
   {
    "duration": 159,
    "start_time": "2025-08-09T11:23:34.238Z"
   },
   {
    "duration": 157,
    "start_time": "2025-08-09T11:23:51.718Z"
   },
   {
    "duration": 11,
    "start_time": "2025-08-09T11:46:25.944Z"
   },
   {
    "duration": 13,
    "start_time": "2025-08-09T11:46:27.378Z"
   },
   {
    "duration": 11,
    "start_time": "2025-08-09T11:46:29.108Z"
   },
   {
    "duration": 9,
    "start_time": "2025-08-09T11:49:30.616Z"
   },
   {
    "duration": 47,
    "start_time": "2025-08-09T11:57:04.664Z"
   },
   {
    "duration": 55,
    "start_time": "2025-08-09T11:59:06.573Z"
   },
   {
    "duration": 9,
    "start_time": "2025-08-09T11:59:38.488Z"
   },
   {
    "duration": 11,
    "start_time": "2025-08-09T11:59:50.115Z"
   },
   {
    "duration": 45,
    "start_time": "2025-08-09T12:21:22.219Z"
   },
   {
    "duration": 163,
    "start_time": "2025-08-09T12:22:09.441Z"
   },
   {
    "duration": 13,
    "start_time": "2025-08-09T12:27:33.017Z"
   },
   {
    "duration": 149,
    "start_time": "2025-08-09T12:30:28.476Z"
   },
   {
    "duration": 236,
    "start_time": "2025-08-09T12:45:46.008Z"
   },
   {
    "duration": 6,
    "start_time": "2025-08-09T12:46:04.865Z"
   },
   {
    "duration": 233,
    "start_time": "2025-08-09T12:48:01.225Z"
   },
   {
    "duration": 11,
    "start_time": "2025-08-09T12:48:12.514Z"
   },
   {
    "duration": 286,
    "start_time": "2025-08-09T12:49:09.426Z"
   },
   {
    "duration": 593,
    "start_time": "2025-08-09T12:49:17.888Z"
   },
   {
    "duration": 592,
    "start_time": "2025-08-09T12:52:07.020Z"
   },
   {
    "duration": 616,
    "start_time": "2025-08-09T12:52:36.791Z"
   },
   {
    "duration": 592,
    "start_time": "2025-08-09T12:52:42.564Z"
   },
   {
    "duration": 593,
    "start_time": "2025-08-09T12:52:52.540Z"
   },
   {
    "duration": 607,
    "start_time": "2025-08-09T12:53:01.158Z"
   },
   {
    "duration": 497,
    "start_time": "2025-08-09T13:51:12.810Z"
   },
   {
    "duration": 16,
    "start_time": "2025-08-09T13:51:20.305Z"
   },
   {
    "duration": 66,
    "start_time": "2025-08-09T13:54:21.285Z"
   },
   {
    "duration": 59,
    "start_time": "2025-08-09T13:54:32.395Z"
   },
   {
    "duration": 165,
    "start_time": "2025-08-09T13:54:48.905Z"
   },
   {
    "duration": 163,
    "start_time": "2025-08-09T13:54:56.001Z"
   },
   {
    "duration": 168,
    "start_time": "2025-08-09T13:55:02.049Z"
   },
   {
    "duration": 80,
    "start_time": "2025-08-09T13:56:48.256Z"
   },
   {
    "duration": 176,
    "start_time": "2025-08-09T13:57:00.106Z"
   },
   {
    "duration": 286,
    "start_time": "2025-08-09T13:57:07.847Z"
   },
   {
    "duration": 274,
    "start_time": "2025-08-09T13:57:17.899Z"
   },
   {
    "duration": 101,
    "start_time": "2025-08-09T13:57:29.757Z"
   },
   {
    "duration": 277,
    "start_time": "2025-08-09T13:57:45.771Z"
   },
   {
    "duration": 274,
    "start_time": "2025-08-09T13:57:51.051Z"
   },
   {
    "duration": 4,
    "start_time": "2025-08-09T13:58:15.115Z"
   },
   {
    "duration": 158,
    "start_time": "2025-08-09T13:58:29.225Z"
   },
   {
    "duration": 164,
    "start_time": "2025-08-09T13:58:49.806Z"
   },
   {
    "duration": 163,
    "start_time": "2025-08-09T13:59:10.384Z"
   },
   {
    "duration": 164,
    "start_time": "2025-08-09T13:59:14.246Z"
   },
   {
    "duration": 171,
    "start_time": "2025-08-09T13:59:48.904Z"
   },
   {
    "duration": 181,
    "start_time": "2025-08-09T14:00:00.169Z"
   },
   {
    "duration": 166,
    "start_time": "2025-08-09T14:00:03.915Z"
   },
   {
    "duration": 41,
    "start_time": "2025-08-09T14:27:26.894Z"
   },
   {
    "duration": 15,
    "start_time": "2025-08-09T14:29:00.767Z"
   },
   {
    "duration": 49,
    "start_time": "2025-08-09T14:31:01.917Z"
   },
   {
    "duration": 45,
    "start_time": "2025-08-09T14:31:47.241Z"
   },
   {
    "duration": 52,
    "start_time": "2025-08-09T14:31:50.323Z"
   },
   {
    "duration": 42,
    "start_time": "2025-08-09T14:32:24.619Z"
   },
   {
    "duration": 46,
    "start_time": "2025-08-09T14:37:15.415Z"
   },
   {
    "duration": 75,
    "start_time": "2025-08-09T14:37:29.133Z"
   },
   {
    "duration": 44,
    "start_time": "2025-08-09T14:37:43.242Z"
   },
   {
    "duration": 44,
    "start_time": "2025-08-09T14:37:49.899Z"
   },
   {
    "duration": 43,
    "start_time": "2025-08-09T14:37:53.876Z"
   },
   {
    "duration": 45,
    "start_time": "2025-08-09T14:41:41.200Z"
   },
   {
    "duration": 43,
    "start_time": "2025-08-09T14:41:48.349Z"
   },
   {
    "duration": 43,
    "start_time": "2025-08-09T14:42:42.549Z"
   },
   {
    "duration": 59,
    "start_time": "2025-08-09T14:42:47.524Z"
   },
   {
    "duration": 44,
    "start_time": "2025-08-09T14:43:00.834Z"
   },
   {
    "duration": 56,
    "start_time": "2025-08-09T14:46:48.222Z"
   },
   {
    "duration": 45,
    "start_time": "2025-08-09T14:46:54.364Z"
   },
   {
    "duration": 7,
    "start_time": "2025-08-09T14:48:32.458Z"
   },
   {
    "duration": 46,
    "start_time": "2025-08-09T14:53:45.636Z"
   },
   {
    "duration": 41,
    "start_time": "2025-08-09T14:55:28.776Z"
   },
   {
    "duration": 46,
    "start_time": "2025-08-09T14:55:35.560Z"
   },
   {
    "duration": 10,
    "start_time": "2025-08-09T14:58:46.210Z"
   },
   {
    "duration": 8,
    "start_time": "2025-08-09T14:58:54.085Z"
   },
   {
    "duration": 108,
    "start_time": "2025-08-09T14:59:40.732Z"
   },
   {
    "duration": 108,
    "start_time": "2025-08-09T15:00:08.187Z"
   },
   {
    "duration": 9,
    "start_time": "2025-08-09T15:00:24.609Z"
   },
   {
    "duration": 108,
    "start_time": "2025-08-09T15:00:35.486Z"
   },
   {
    "duration": 80,
    "start_time": "2025-08-09T15:02:34.181Z"
   },
   {
    "duration": 106,
    "start_time": "2025-08-09T15:06:11.418Z"
   },
   {
    "duration": 141,
    "start_time": "2025-08-09T15:06:36.685Z"
   },
   {
    "duration": 72,
    "start_time": "2025-08-09T15:07:55.478Z"
   },
   {
    "duration": 78,
    "start_time": "2025-08-09T15:08:37.315Z"
   },
   {
    "duration": 73,
    "start_time": "2025-08-09T15:08:44.334Z"
   },
   {
    "duration": 74,
    "start_time": "2025-08-09T15:09:12.768Z"
   },
   {
    "duration": 49,
    "start_time": "2025-08-10T08:37:37.056Z"
   },
   {
    "duration": 1011,
    "start_time": "2025-08-10T08:37:50.115Z"
   },
   {
    "duration": 2056,
    "start_time": "2025-08-10T08:37:51.129Z"
   },
   {
    "duration": 13,
    "start_time": "2025-08-10T08:37:53.187Z"
   },
   {
    "duration": 558,
    "start_time": "2025-08-10T08:37:53.202Z"
   },
   {
    "duration": 742,
    "start_time": "2025-08-10T08:37:53.762Z"
   },
   {
    "duration": 494,
    "start_time": "2025-08-10T08:37:54.505Z"
   },
   {
    "duration": 473,
    "start_time": "2025-08-10T08:37:55.001Z"
   },
   {
    "duration": 0,
    "start_time": "2025-08-10T08:37:55.476Z"
   },
   {
    "duration": 0,
    "start_time": "2025-08-10T08:37:55.477Z"
   },
   {
    "duration": 0,
    "start_time": "2025-08-10T08:37:55.479Z"
   },
   {
    "duration": 0,
    "start_time": "2025-08-10T08:37:55.481Z"
   },
   {
    "duration": 0,
    "start_time": "2025-08-10T08:37:55.483Z"
   },
   {
    "duration": 0,
    "start_time": "2025-08-10T08:37:55.484Z"
   },
   {
    "duration": 0,
    "start_time": "2025-08-10T08:37:55.486Z"
   },
   {
    "duration": 154,
    "start_time": "2025-08-10T08:38:24.297Z"
   },
   {
    "duration": 13,
    "start_time": "2025-08-10T08:38:27.407Z"
   },
   {
    "duration": 561,
    "start_time": "2025-08-10T08:38:27.900Z"
   },
   {
    "duration": 412,
    "start_time": "2025-08-10T08:38:33.106Z"
   },
   {
    "duration": 149,
    "start_time": "2025-08-10T08:38:36.009Z"
   },
   {
    "duration": 61,
    "start_time": "2025-08-10T08:38:38.962Z"
   },
   {
    "duration": 39,
    "start_time": "2025-08-10T08:40:56.454Z"
   },
   {
    "duration": 8,
    "start_time": "2025-08-10T08:40:58.150Z"
   },
   {
    "duration": 72,
    "start_time": "2025-08-10T08:41:01.557Z"
   },
   {
    "duration": 10,
    "start_time": "2025-08-10T08:46:41.238Z"
   },
   {
    "duration": 8,
    "start_time": "2025-08-10T08:46:53.350Z"
   },
   {
    "duration": 7,
    "start_time": "2025-08-10T08:50:36.529Z"
   },
   {
    "duration": 7,
    "start_time": "2025-08-10T09:04:48.348Z"
   },
   {
    "duration": 7,
    "start_time": "2025-08-10T09:04:59.034Z"
   },
   {
    "duration": 12,
    "start_time": "2025-08-10T09:05:56.891Z"
   },
   {
    "duration": 6,
    "start_time": "2025-08-10T09:15:54.109Z"
   },
   {
    "duration": 18,
    "start_time": "2025-08-10T09:22:37.467Z"
   },
   {
    "duration": 15,
    "start_time": "2025-08-10T09:22:59.793Z"
   },
   {
    "duration": 17,
    "start_time": "2025-08-10T09:43:40.058Z"
   },
   {
    "duration": 5,
    "start_time": "2025-08-10T09:46:34.652Z"
   },
   {
    "duration": 10,
    "start_time": "2025-08-10T09:48:10.416Z"
   },
   {
    "duration": 99,
    "start_time": "2025-08-10T09:48:22.264Z"
   },
   {
    "duration": 101,
    "start_time": "2025-08-10T09:48:31.688Z"
   },
   {
    "duration": 4,
    "start_time": "2025-08-10T09:50:41.118Z"
   },
   {
    "duration": 4,
    "start_time": "2025-08-10T09:51:50.049Z"
   },
   {
    "duration": 1460,
    "start_time": "2025-08-10T09:52:10.267Z"
   },
   {
    "duration": 5,
    "start_time": "2025-08-10T09:53:27.493Z"
   },
   {
    "duration": 7,
    "start_time": "2025-08-10T09:55:10.328Z"
   },
   {
    "duration": 9,
    "start_time": "2025-08-10T09:55:25.729Z"
   },
   {
    "duration": 13,
    "start_time": "2025-08-10T09:56:05.861Z"
   },
   {
    "duration": 8,
    "start_time": "2025-08-10T09:56:10.314Z"
   },
   {
    "duration": 149,
    "start_time": "2025-08-10T09:56:11.906Z"
   },
   {
    "duration": 104,
    "start_time": "2025-08-10T09:56:17.044Z"
   },
   {
    "duration": 91,
    "start_time": "2025-08-10T09:59:04.145Z"
   },
   {
    "duration": 87,
    "start_time": "2025-08-10T09:59:07.363Z"
   },
   {
    "duration": 91,
    "start_time": "2025-08-10T09:59:46.619Z"
   },
   {
    "duration": 89,
    "start_time": "2025-08-10T10:00:19.234Z"
   },
   {
    "duration": 93,
    "start_time": "2025-08-10T10:24:39.997Z"
   },
   {
    "duration": 94,
    "start_time": "2025-08-10T10:24:49.385Z"
   },
   {
    "duration": 11,
    "start_time": "2025-08-10T10:29:11.442Z"
   },
   {
    "duration": 10,
    "start_time": "2025-08-10T10:29:15.837Z"
   },
   {
    "duration": 105,
    "start_time": "2025-08-10T10:29:21.139Z"
   },
   {
    "duration": 11,
    "start_time": "2025-08-10T10:29:31.059Z"
   },
   {
    "duration": 98,
    "start_time": "2025-08-10T10:31:41.791Z"
   },
   {
    "duration": 90,
    "start_time": "2025-08-10T10:33:45.701Z"
   },
   {
    "duration": 92,
    "start_time": "2025-08-10T10:34:07.065Z"
   },
   {
    "duration": 90,
    "start_time": "2025-08-10T10:34:26.729Z"
   },
   {
    "duration": 161,
    "start_time": "2025-08-10T10:34:40.648Z"
   },
   {
    "duration": 86,
    "start_time": "2025-08-10T10:44:18.564Z"
   },
   {
    "duration": 86,
    "start_time": "2025-08-10T10:44:36.874Z"
   },
   {
    "duration": 157,
    "start_time": "2025-08-10T10:47:20.503Z"
   },
   {
    "duration": 165,
    "start_time": "2025-08-10T10:58:59.802Z"
   },
   {
    "duration": 23,
    "start_time": "2025-08-10T11:08:43.963Z"
   },
   {
    "duration": 15,
    "start_time": "2025-08-10T11:08:55.824Z"
   },
   {
    "duration": 17,
    "start_time": "2025-08-10T11:09:07.792Z"
   },
   {
    "duration": 166,
    "start_time": "2025-08-10T11:09:18.734Z"
   },
   {
    "duration": 17,
    "start_time": "2025-08-10T11:09:27.429Z"
   },
   {
    "duration": 14,
    "start_time": "2025-08-10T11:09:36.354Z"
   },
   {
    "duration": 16,
    "start_time": "2025-08-10T11:09:42.605Z"
   },
   {
    "duration": 12,
    "start_time": "2025-08-10T11:10:10.652Z"
   },
   {
    "duration": 129,
    "start_time": "2025-08-10T11:10:21.293Z"
   },
   {
    "duration": 130,
    "start_time": "2025-08-10T11:10:53.329Z"
   },
   {
    "duration": 133,
    "start_time": "2025-08-10T11:11:05.973Z"
   },
   {
    "duration": 139,
    "start_time": "2025-08-10T11:19:30.220Z"
   },
   {
    "duration": 9,
    "start_time": "2025-08-10T11:33:31.763Z"
   },
   {
    "duration": 212,
    "start_time": "2025-08-10T11:33:54.160Z"
   },
   {
    "duration": 111,
    "start_time": "2025-08-10T11:39:04.255Z"
   },
   {
    "duration": 120,
    "start_time": "2025-08-10T11:39:19.178Z"
   },
   {
    "duration": 119,
    "start_time": "2025-08-10T11:40:05.713Z"
   },
   {
    "duration": 162,
    "start_time": "2025-08-10T11:41:26.380Z"
   },
   {
    "duration": 95,
    "start_time": "2025-08-10T11:41:55.981Z"
   },
   {
    "duration": 140,
    "start_time": "2025-08-10T11:42:09.736Z"
   },
   {
    "duration": 137,
    "start_time": "2025-08-10T11:43:16.530Z"
   },
   {
    "duration": 146,
    "start_time": "2025-08-10T11:43:23.530Z"
   },
   {
    "duration": 150,
    "start_time": "2025-08-10T11:43:28.330Z"
   },
   {
    "duration": 264,
    "start_time": "2025-08-10T11:44:28.866Z"
   },
   {
    "duration": 141,
    "start_time": "2025-08-10T11:44:33.531Z"
   },
   {
    "duration": 7,
    "start_time": "2025-08-10T11:52:26.124Z"
   },
   {
    "duration": 546,
    "start_time": "2025-08-10T14:04:24.922Z"
   },
   {
    "duration": 18,
    "start_time": "2025-08-10T14:06:36.444Z"
   },
   {
    "duration": 10,
    "start_time": "2025-08-10T14:07:38.435Z"
   },
   {
    "duration": 56,
    "start_time": "2025-08-10T14:15:17.495Z"
   },
   {
    "duration": 27,
    "start_time": "2025-08-10T14:16:11.620Z"
   },
   {
    "duration": 51,
    "start_time": "2025-08-10T14:23:50.226Z"
   },
   {
    "duration": 54,
    "start_time": "2025-08-10T14:24:31.567Z"
   },
   {
    "duration": 3,
    "start_time": "2025-08-10T14:30:20.018Z"
   },
   {
    "duration": 5,
    "start_time": "2025-08-10T14:30:57.687Z"
   },
   {
    "duration": 11,
    "start_time": "2025-08-10T14:39:10.661Z"
   },
   {
    "duration": 3,
    "start_time": "2025-08-10T14:40:06.518Z"
   },
   {
    "duration": 7,
    "start_time": "2025-08-10T14:40:14.008Z"
   },
   {
    "duration": 5,
    "start_time": "2025-08-10T14:40:30.603Z"
   },
   {
    "duration": 5,
    "start_time": "2025-08-10T14:42:05.343Z"
   },
   {
    "duration": 16,
    "start_time": "2025-08-10T14:44:22.175Z"
   },
   {
    "duration": 14,
    "start_time": "2025-08-10T14:44:50.342Z"
   },
   {
    "duration": 12,
    "start_time": "2025-08-10T14:45:56.719Z"
   },
   {
    "duration": 5,
    "start_time": "2025-08-10T14:47:08.053Z"
   },
   {
    "duration": 5,
    "start_time": "2025-08-10T14:47:37.470Z"
   },
   {
    "duration": 11,
    "start_time": "2025-08-10T14:48:32.926Z"
   },
   {
    "duration": 5,
    "start_time": "2025-08-10T14:48:41.074Z"
   },
   {
    "duration": 98,
    "start_time": "2025-08-10T14:48:47.276Z"
   },
   {
    "duration": 11,
    "start_time": "2025-08-10T14:48:51.461Z"
   },
   {
    "duration": 78,
    "start_time": "2025-08-10T14:49:46.583Z"
   },
   {
    "duration": 12,
    "start_time": "2025-08-10T14:50:20.752Z"
   },
   {
    "duration": 12,
    "start_time": "2025-08-10T14:50:24.084Z"
   },
   {
    "duration": 12,
    "start_time": "2025-08-10T14:50:28.652Z"
   },
   {
    "duration": 13,
    "start_time": "2025-08-10T14:50:35.331Z"
   },
   {
    "duration": 14,
    "start_time": "2025-08-10T14:51:03.294Z"
   },
   {
    "duration": 1576,
    "start_time": "2025-08-10T14:51:14.537Z"
   },
   {
    "duration": 13,
    "start_time": "2025-08-10T14:51:27.280Z"
   },
   {
    "duration": 12,
    "start_time": "2025-08-10T14:51:34.296Z"
   },
   {
    "duration": 19,
    "start_time": "2025-08-10T14:51:45.696Z"
   },
   {
    "duration": 12,
    "start_time": "2025-08-10T14:51:50.067Z"
   },
   {
    "duration": 11,
    "start_time": "2025-08-10T14:54:26.881Z"
   },
   {
    "duration": 6,
    "start_time": "2025-08-10T14:55:25.571Z"
   },
   {
    "duration": 10,
    "start_time": "2025-08-10T14:55:43.705Z"
   },
   {
    "duration": 10,
    "start_time": "2025-08-10T14:56:12.826Z"
   },
   {
    "duration": 11,
    "start_time": "2025-08-10T14:56:16.767Z"
   },
   {
    "duration": 10,
    "start_time": "2025-08-10T14:56:18.486Z"
   },
   {
    "duration": 4,
    "start_time": "2025-08-10T14:56:29.790Z"
   },
   {
    "duration": 15,
    "start_time": "2025-08-10T14:57:00.909Z"
   },
   {
    "duration": 4,
    "start_time": "2025-08-10T14:57:11.847Z"
   },
   {
    "duration": 10,
    "start_time": "2025-08-10T14:57:20.364Z"
   },
   {
    "duration": 5,
    "start_time": "2025-08-10T14:57:24.969Z"
   },
   {
    "duration": 9,
    "start_time": "2025-08-10T14:58:17.631Z"
   },
   {
    "duration": 1770,
    "start_time": "2025-08-10T14:58:34.247Z"
   },
   {
    "duration": 13,
    "start_time": "2025-08-10T14:59:10.008Z"
   },
   {
    "duration": 15,
    "start_time": "2025-08-10T15:14:01.013Z"
   },
   {
    "duration": 109,
    "start_time": "2025-08-10T15:15:12.311Z"
   },
   {
    "duration": 14,
    "start_time": "2025-08-10T15:15:19.081Z"
   },
   {
    "duration": 14,
    "start_time": "2025-08-10T15:26:17.370Z"
   },
   {
    "duration": 5,
    "start_time": "2025-08-10T15:27:46.874Z"
   },
   {
    "duration": 12,
    "start_time": "2025-08-10T15:28:00.746Z"
   },
   {
    "duration": 13,
    "start_time": "2025-08-10T15:28:07.763Z"
   },
   {
    "duration": 1393,
    "start_time": "2025-08-10T15:28:43.392Z"
   },
   {
    "duration": 1477,
    "start_time": "2025-08-10T15:28:46.801Z"
   },
   {
    "duration": 8,
    "start_time": "2025-08-10T15:28:55.182Z"
   },
   {
    "duration": 12,
    "start_time": "2025-08-10T15:32:05.414Z"
   },
   {
    "duration": 6,
    "start_time": "2025-08-10T15:32:15.108Z"
   },
   {
    "duration": 11,
    "start_time": "2025-08-10T15:32:19.926Z"
   },
   {
    "duration": 32,
    "start_time": "2025-08-10T15:33:21.673Z"
   },
   {
    "duration": 1128,
    "start_time": "2025-08-10T15:34:03.898Z"
   },
   {
    "duration": 1789,
    "start_time": "2025-08-10T15:34:05.027Z"
   },
   {
    "duration": 15,
    "start_time": "2025-08-10T15:34:06.817Z"
   },
   {
    "duration": 574,
    "start_time": "2025-08-10T15:34:06.833Z"
   },
   {
    "duration": 725,
    "start_time": "2025-08-10T15:34:07.409Z"
   },
   {
    "duration": 514,
    "start_time": "2025-08-10T15:34:08.135Z"
   },
   {
    "duration": 167,
    "start_time": "2025-08-10T15:34:08.651Z"
   },
   {
    "duration": 9,
    "start_time": "2025-08-10T15:34:08.819Z"
   },
   {
    "duration": 548,
    "start_time": "2025-08-10T15:34:08.830Z"
   },
   {
    "duration": 29,
    "start_time": "2025-08-10T15:34:09.380Z"
   },
   {
    "duration": 166,
    "start_time": "2025-08-10T15:34:09.411Z"
   },
   {
    "duration": 69,
    "start_time": "2025-08-10T15:34:09.579Z"
   },
   {
    "duration": 8,
    "start_time": "2025-08-10T15:34:09.650Z"
   },
   {
    "duration": 85,
    "start_time": "2025-08-10T15:34:09.661Z"
   },
   {
    "duration": 8,
    "start_time": "2025-08-10T15:34:09.748Z"
   },
   {
    "duration": 17,
    "start_time": "2025-08-10T15:34:09.757Z"
   },
   {
    "duration": 179,
    "start_time": "2025-08-10T15:34:09.775Z"
   },
   {
    "duration": 19,
    "start_time": "2025-08-10T15:34:09.956Z"
   },
   {
    "duration": 213,
    "start_time": "2025-08-10T15:34:09.977Z"
   },
   {
    "duration": 518,
    "start_time": "2025-08-10T15:34:10.192Z"
   },
   {
    "duration": 9,
    "start_time": "2025-08-10T15:34:10.711Z"
   },
   {
    "duration": 69,
    "start_time": "2025-08-10T15:34:10.721Z"
   },
   {
    "duration": 5,
    "start_time": "2025-08-10T15:34:10.792Z"
   },
   {
    "duration": 15,
    "start_time": "2025-08-10T15:34:10.798Z"
   },
   {
    "duration": 17,
    "start_time": "2025-08-10T15:34:10.815Z"
   },
   {
    "duration": 5,
    "start_time": "2025-08-10T15:34:42.459Z"
   },
   {
    "duration": 62,
    "start_time": "2025-08-10T15:34:46.559Z"
   },
   {
    "duration": 6,
    "start_time": "2025-08-10T15:34:51.148Z"
   },
   {
    "duration": 14,
    "start_time": "2025-08-10T15:34:54.606Z"
   },
   {
    "duration": 83,
    "start_time": "2025-08-10T15:52:47.013Z"
   },
   {
    "duration": 73,
    "start_time": "2025-08-10T15:52:53.936Z"
   },
   {
    "duration": 119,
    "start_time": "2025-08-10T15:53:03.915Z"
   },
   {
    "duration": 76,
    "start_time": "2025-08-10T15:53:18.069Z"
   },
   {
    "duration": 98,
    "start_time": "2025-08-10T15:53:20.321Z"
   },
   {
    "duration": 104,
    "start_time": "2025-08-10T15:53:22.966Z"
   },
   {
    "duration": 705,
    "start_time": "2025-08-10T15:53:36.506Z"
   },
   {
    "duration": 25,
    "start_time": "2025-08-10T15:53:45.852Z"
   },
   {
    "duration": 30,
    "start_time": "2025-08-10T15:53:55.471Z"
   },
   {
    "duration": 12,
    "start_time": "2025-08-10T15:55:19.818Z"
   },
   {
    "duration": 12,
    "start_time": "2025-08-10T15:55:24.836Z"
   },
   {
    "duration": 32,
    "start_time": "2025-08-10T15:56:21.873Z"
   },
   {
    "duration": 19,
    "start_time": "2025-08-10T15:56:38.799Z"
   },
   {
    "duration": 24,
    "start_time": "2025-08-10T15:57:01.019Z"
   },
   {
    "duration": 21,
    "start_time": "2025-08-10T15:57:09.804Z"
   },
   {
    "duration": 56,
    "start_time": "2025-08-10T16:00:53.913Z"
   },
   {
    "duration": 9,
    "start_time": "2025-08-10T16:01:16.098Z"
   },
   {
    "duration": 75,
    "start_time": "2025-08-10T16:37:47.541Z"
   },
   {
    "duration": 4,
    "start_time": "2025-08-10T16:37:59.480Z"
   },
   {
    "duration": 75,
    "start_time": "2025-08-10T16:38:07.264Z"
   },
   {
    "duration": 4,
    "start_time": "2025-08-10T16:38:08.671Z"
   },
   {
    "duration": 157,
    "start_time": "2025-08-10T16:46:12.062Z"
   },
   {
    "duration": 3,
    "start_time": "2025-08-10T16:46:24.415Z"
   },
   {
    "duration": 73,
    "start_time": "2025-08-10T16:47:01.722Z"
   },
   {
    "duration": 71,
    "start_time": "2025-08-10T16:47:09.933Z"
   },
   {
    "duration": 74,
    "start_time": "2025-08-10T16:47:14.513Z"
   },
   {
    "duration": 5,
    "start_time": "2025-08-10T16:47:34.199Z"
   },
   {
    "duration": 75,
    "start_time": "2025-08-10T16:47:48.358Z"
   },
   {
    "duration": 77,
    "start_time": "2025-08-10T16:50:03.173Z"
   },
   {
    "duration": 4,
    "start_time": "2025-08-10T16:50:22.941Z"
   },
   {
    "duration": 76,
    "start_time": "2025-08-10T16:50:38.001Z"
   },
   {
    "duration": 12,
    "start_time": "2025-08-10T17:03:57.232Z"
   },
   {
    "duration": 1324,
    "start_time": "2025-08-11T06:36:47.334Z"
   },
   {
    "duration": 1881,
    "start_time": "2025-08-11T06:36:48.660Z"
   },
   {
    "duration": 15,
    "start_time": "2025-08-11T06:36:50.542Z"
   },
   {
    "duration": 526,
    "start_time": "2025-08-11T06:36:50.558Z"
   },
   {
    "duration": 681,
    "start_time": "2025-08-11T06:36:51.089Z"
   },
   {
    "duration": 487,
    "start_time": "2025-08-11T06:36:51.772Z"
   },
   {
    "duration": 173,
    "start_time": "2025-08-11T06:36:52.261Z"
   },
   {
    "duration": 10,
    "start_time": "2025-08-11T06:36:52.436Z"
   },
   {
    "duration": 544,
    "start_time": "2025-08-11T06:36:52.447Z"
   },
   {
    "duration": 22,
    "start_time": "2025-08-11T06:36:52.993Z"
   },
   {
    "duration": 157,
    "start_time": "2025-08-11T06:36:53.016Z"
   },
   {
    "duration": 42,
    "start_time": "2025-08-11T06:36:53.175Z"
   },
   {
    "duration": 21,
    "start_time": "2025-08-11T06:36:53.218Z"
   },
   {
    "duration": 116,
    "start_time": "2025-08-11T06:36:53.242Z"
   },
   {
    "duration": 7,
    "start_time": "2025-08-11T06:36:53.360Z"
   },
   {
    "duration": 146,
    "start_time": "2025-08-11T06:36:53.368Z"
   },
   {
    "duration": 166,
    "start_time": "2025-08-11T06:36:53.515Z"
   },
   {
    "duration": 23,
    "start_time": "2025-08-11T06:36:53.682Z"
   },
   {
    "duration": 263,
    "start_time": "2025-08-11T06:36:53.706Z"
   },
   {
    "duration": 502,
    "start_time": "2025-08-11T06:36:53.970Z"
   },
   {
    "duration": 5,
    "start_time": "2025-08-11T06:36:54.474Z"
   },
   {
    "duration": 103,
    "start_time": "2025-08-11T06:36:54.489Z"
   },
   {
    "duration": 6,
    "start_time": "2025-08-11T06:36:54.593Z"
   },
   {
    "duration": 45,
    "start_time": "2025-08-11T06:36:54.600Z"
   },
   {
    "duration": 167,
    "start_time": "2025-08-11T06:36:54.646Z"
   },
   {
    "duration": 25,
    "start_time": "2025-08-11T06:37:44.709Z"
   },
   {
    "duration": 1518,
    "start_time": "2025-08-11T06:38:28.111Z"
   },
   {
    "duration": 14,
    "start_time": "2025-08-11T06:39:00.484Z"
   },
   {
    "duration": 29,
    "start_time": "2025-08-11T06:41:05.410Z"
   },
   {
    "duration": 31,
    "start_time": "2025-08-11T06:43:15.857Z"
   },
   {
    "duration": 31,
    "start_time": "2025-08-11T06:43:22.066Z"
   },
   {
    "duration": 37,
    "start_time": "2025-08-11T06:49:05.653Z"
   },
   {
    "duration": 40,
    "start_time": "2025-08-11T06:49:12.328Z"
   },
   {
    "duration": 14,
    "start_time": "2025-08-11T06:49:30.494Z"
   },
   {
    "duration": 10,
    "start_time": "2025-08-11T06:49:33.880Z"
   },
   {
    "duration": 13,
    "start_time": "2025-08-11T06:49:53.066Z"
   },
   {
    "duration": 41,
    "start_time": "2025-08-11T06:50:37.824Z"
   },
   {
    "duration": 42,
    "start_time": "2025-08-11T06:50:49.795Z"
   },
   {
    "duration": 43,
    "start_time": "2025-08-11T06:51:17.315Z"
   },
   {
    "duration": 9,
    "start_time": "2025-08-11T06:57:39.820Z"
   },
   {
    "duration": 28,
    "start_time": "2025-08-11T07:00:09.559Z"
   },
   {
    "duration": 20,
    "start_time": "2025-08-11T07:00:13.491Z"
   },
   {
    "duration": 47,
    "start_time": "2025-08-11T07:00:18.200Z"
   },
   {
    "duration": 19,
    "start_time": "2025-08-11T07:01:19.374Z"
   },
   {
    "duration": 24,
    "start_time": "2025-08-11T07:01:26.390Z"
   },
   {
    "duration": 46,
    "start_time": "2025-08-11T07:01:38.917Z"
   },
   {
    "duration": 43,
    "start_time": "2025-08-11T07:01:47.607Z"
   },
   {
    "duration": 45,
    "start_time": "2025-08-11T07:01:50.078Z"
   },
   {
    "duration": 54,
    "start_time": "2025-08-11T07:02:58.388Z"
   },
   {
    "duration": 1087,
    "start_time": "2025-08-11T07:03:19.654Z"
   },
   {
    "duration": 1852,
    "start_time": "2025-08-11T07:03:20.743Z"
   },
   {
    "duration": 13,
    "start_time": "2025-08-11T07:03:22.597Z"
   },
   {
    "duration": 544,
    "start_time": "2025-08-11T07:03:22.612Z"
   },
   {
    "duration": 696,
    "start_time": "2025-08-11T07:03:23.157Z"
   },
   {
    "duration": 504,
    "start_time": "2025-08-11T07:03:23.855Z"
   },
   {
    "duration": 171,
    "start_time": "2025-08-11T07:03:24.361Z"
   },
   {
    "duration": 9,
    "start_time": "2025-08-11T07:03:24.533Z"
   },
   {
    "duration": 576,
    "start_time": "2025-08-11T07:03:24.543Z"
   },
   {
    "duration": 33,
    "start_time": "2025-08-11T07:03:25.122Z"
   },
   {
    "duration": 166,
    "start_time": "2025-08-11T07:03:25.157Z"
   },
   {
    "duration": 33,
    "start_time": "2025-08-11T07:03:25.324Z"
   },
   {
    "duration": 109,
    "start_time": "2025-08-11T07:03:25.358Z"
   },
   {
    "duration": 79,
    "start_time": "2025-08-11T07:03:25.469Z"
   },
   {
    "duration": 59,
    "start_time": "2025-08-11T07:03:25.550Z"
   },
   {
    "duration": 107,
    "start_time": "2025-08-11T07:03:25.611Z"
   },
   {
    "duration": 172,
    "start_time": "2025-08-11T07:03:25.720Z"
   },
   {
    "duration": 20,
    "start_time": "2025-08-11T07:03:25.893Z"
   },
   {
    "duration": 159,
    "start_time": "2025-08-11T07:03:25.914Z"
   },
   {
    "duration": 498,
    "start_time": "2025-08-11T07:03:26.074Z"
   },
   {
    "duration": 6,
    "start_time": "2025-08-11T07:03:26.574Z"
   },
   {
    "duration": 65,
    "start_time": "2025-08-11T07:03:26.589Z"
   },
   {
    "duration": 7,
    "start_time": "2025-08-11T07:03:26.655Z"
   },
   {
    "duration": 31,
    "start_time": "2025-08-11T07:03:26.663Z"
   },
   {
    "duration": 161,
    "start_time": "2025-08-11T07:03:26.695Z"
   },
   {
    "duration": 55,
    "start_time": "2025-08-11T07:03:26.857Z"
   },
   {
    "duration": 157,
    "start_time": "2025-08-11T07:30:37.960Z"
   },
   {
    "duration": 96,
    "start_time": "2025-08-11T07:32:16.357Z"
   },
   {
    "duration": 6,
    "start_time": "2025-08-11T07:32:22.732Z"
   },
   {
    "duration": 20,
    "start_time": "2025-08-11T07:32:31.396Z"
   },
   {
    "duration": 1216,
    "start_time": "2025-08-11T09:54:42.150Z"
   },
   {
    "duration": 2401,
    "start_time": "2025-08-11T09:54:43.368Z"
   },
   {
    "duration": 22,
    "start_time": "2025-08-11T09:54:45.771Z"
   },
   {
    "duration": 665,
    "start_time": "2025-08-11T09:54:45.795Z"
   },
   {
    "duration": 845,
    "start_time": "2025-08-11T09:54:46.463Z"
   },
   {
    "duration": 554,
    "start_time": "2025-08-11T09:54:47.310Z"
   },
   {
    "duration": 189,
    "start_time": "2025-08-11T09:54:47.866Z"
   },
   {
    "duration": 10,
    "start_time": "2025-08-11T09:54:48.057Z"
   },
   {
    "duration": 595,
    "start_time": "2025-08-11T09:54:48.069Z"
   },
   {
    "duration": 50,
    "start_time": "2025-08-11T09:54:48.666Z"
   },
   {
    "duration": 234,
    "start_time": "2025-08-11T09:54:48.719Z"
   },
   {
    "duration": 66,
    "start_time": "2025-08-11T09:54:48.954Z"
   },
   {
    "duration": 25,
    "start_time": "2025-08-11T09:54:49.022Z"
   },
   {
    "duration": 97,
    "start_time": "2025-08-11T09:54:49.051Z"
   },
   {
    "duration": 44,
    "start_time": "2025-08-11T09:54:49.150Z"
   },
   {
    "duration": 42,
    "start_time": "2025-08-11T09:54:49.196Z"
   },
   {
    "duration": 202,
    "start_time": "2025-08-11T09:54:49.241Z"
   },
   {
    "duration": 23,
    "start_time": "2025-08-11T09:54:49.445Z"
   },
   {
    "duration": 238,
    "start_time": "2025-08-11T09:54:49.471Z"
   },
   {
    "duration": 504,
    "start_time": "2025-08-11T09:54:49.711Z"
   },
   {
    "duration": 8,
    "start_time": "2025-08-11T09:54:50.217Z"
   },
   {
    "duration": 98,
    "start_time": "2025-08-11T09:54:50.228Z"
   },
   {
    "duration": 6,
    "start_time": "2025-08-11T09:54:50.328Z"
   },
   {
    "duration": 76,
    "start_time": "2025-08-11T09:54:50.335Z"
   },
   {
    "duration": 160,
    "start_time": "2025-08-11T09:54:50.413Z"
   },
   {
    "duration": 130,
    "start_time": "2025-08-11T09:54:50.575Z"
   },
   {
    "duration": 1169,
    "start_time": "2025-08-11T15:26:08.892Z"
   },
   {
    "duration": 2254,
    "start_time": "2025-08-11T15:26:10.063Z"
   },
   {
    "duration": 73,
    "start_time": "2025-08-11T15:26:12.319Z"
   },
   {
    "duration": 1374,
    "start_time": "2025-08-11T15:26:12.394Z"
   },
   {
    "duration": 810,
    "start_time": "2025-08-11T15:26:13.770Z"
   },
   {
    "duration": 576,
    "start_time": "2025-08-11T15:26:14.582Z"
   },
   {
    "duration": 199,
    "start_time": "2025-08-11T15:26:15.160Z"
   },
   {
    "duration": 29,
    "start_time": "2025-08-11T15:26:15.361Z"
   },
   {
    "duration": 611,
    "start_time": "2025-08-11T15:26:15.392Z"
   },
   {
    "duration": 23,
    "start_time": "2025-08-11T15:26:16.005Z"
   },
   {
    "duration": 229,
    "start_time": "2025-08-11T15:26:16.029Z"
   },
   {
    "duration": 71,
    "start_time": "2025-08-11T15:26:16.260Z"
   },
   {
    "duration": 9,
    "start_time": "2025-08-11T15:26:16.333Z"
   },
   {
    "duration": 100,
    "start_time": "2025-08-11T15:26:16.345Z"
   },
   {
    "duration": 74,
    "start_time": "2025-08-11T15:26:16.447Z"
   },
   {
    "duration": 172,
    "start_time": "2025-08-11T15:26:16.524Z"
   },
   {
    "duration": 296,
    "start_time": "2025-08-11T15:26:16.698Z"
   },
   {
    "duration": 23,
    "start_time": "2025-08-11T15:26:16.996Z"
   },
   {
    "duration": 181,
    "start_time": "2025-08-11T15:26:17.020Z"
   },
   {
    "duration": 555,
    "start_time": "2025-08-11T15:26:17.203Z"
   },
   {
    "duration": 7,
    "start_time": "2025-08-11T15:26:17.759Z"
   },
   {
    "duration": 92,
    "start_time": "2025-08-11T15:26:17.767Z"
   },
   {
    "duration": 8,
    "start_time": "2025-08-11T15:26:17.861Z"
   },
   {
    "duration": 30,
    "start_time": "2025-08-11T15:26:17.872Z"
   },
   {
    "duration": 187,
    "start_time": "2025-08-11T15:26:17.904Z"
   },
   {
    "duration": 49,
    "start_time": "2025-08-11T15:26:18.093Z"
   }
  ],
  "colab": {
   "provenance": []
  },
  "kernelspec": {
   "display_name": "Python 3 (ipykernel)",
   "language": "python",
   "name": "python3"
  },
  "language_info": {
   "codemirror_mode": {
    "name": "ipython",
    "version": 3
   },
   "file_extension": ".py",
   "mimetype": "text/x-python",
   "name": "python",
   "nbconvert_exporter": "python",
   "pygments_lexer": "ipython3",
   "version": "3.9.7"
  },
  "toc": {
   "base_numbering": 1,
   "nav_menu": {},
   "number_sections": true,
   "sideBar": true,
   "skip_h1_title": true,
   "title_cell": "Table of Contents",
   "title_sidebar": "Contents",
   "toc_cell": false,
   "toc_position": {},
   "toc_section_display": true,
   "toc_window_display": true
  }
 },
 "nbformat": 4,
 "nbformat_minor": 1
}
