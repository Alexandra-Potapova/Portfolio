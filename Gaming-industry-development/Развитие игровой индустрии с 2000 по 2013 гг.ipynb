{
 "cells": [
  {
   "cell_type": "markdown",
   "id": "e06910dd",
   "metadata": {
    "id": "e06910dd"
   },
   "source": [
    "# Развитие игровой индустрии с 2000 по 2013 год"
   ]
  },
  {
   "cell_type": "markdown",
   "id": "4149134c",
   "metadata": {
    "id": "4149134c"
   },
   "source": [
    "### Цели и задачи проекта\n",
    "\n",
    "**Цель** — изучить развитие игровой индустрии с 2000 по 2013 год\n",
    "\n",
    "**Задачи**:\n",
    "- ознакомиться с данными и проверить их корректность;\n",
    "- провести предобработку данных;\n",
    "- отфильтровать данные в соответствии с целью проекта;\n",
    "- провести категоризацию данных по оценкам пользователей и экспертов;\n",
    "- проанализировать динамику продаж видеоигр по годам и регионам;\n",
    "- определить ведущие платформы и распределение игр по ESRB-рейтингам;\n",
    "- изучить динамику оценок критиков и пользователей и их связь с продажами;\n",
    "- пределить жанры игр с наивысшими оценками пользователей и критиков."
   ]
  },
  {
   "cell_type": "markdown",
   "id": "728986ea",
   "metadata": {
    "id": "728986ea"
   },
   "source": [
    "### Описание данных\n",
    "Данные `/datasets/new_games.csv` содержат информацию о продажах игр разных жанров и платформ, а также пользовательские и экспертные оценки игр:\n",
    "\n",
    "`Name` — название игры.  \n",
    "`Platform` — название платформы.  \n",
    "`Year of Release` — год выпуска игры.  \n",
    "`Genre` — жанр игры.  \n",
    "`NA sales` — продажи в Северной Америке (в миллионах проданных копий).  \n",
    "`EU sales` — продажи в Европе (в миллионах проданных копий).  \n",
    "`JP sales` — продажи в Японии (в миллионах проданных копий).  \n",
    "`Other sales` — продажи в других странах (в миллионах проданных копий).  \n",
    "`Critic Score` — оценка критиков (от 0 до 100).  \n",
    "`User Score` — оценка пользователей (от 0 до 10).  \n",
    "`Rating` — рейтинг организации ESRB (англ. Entertainment Software Rating Board). Эта ассоциация определяет рейтинг компьютерных игр и присваивает им подходящую возрастную категорию."
   ]
  },
  {
   "cell_type": "markdown",
   "id": "4fecaf95",
   "metadata": {
    "id": "4fecaf95"
   },
   "source": [
    "### Содержимое проекта\n",
    "\n",
    "1. [Загрузка данных и знакомство с ними](#загрузка)\n",
    "2. [Проверка ошибок в данных и их предобработка](#проверка)  \n",
    "    2.1. [Названия, или метки, столбцов датафрейма](#столбцы)  \n",
    "    2.2. [Типы данных](#типы)  \n",
    "    2.3. [Наличие пропусков в данных](#пропуски)  \n",
    "    2.4. [Явные и неявные дубликаты в данных](#дубликаты)\n",
    "3. [Исследование истории игр в начале XXI века](#фильтрация)\n",
    "4. [Итоговый вывод](#вывод)\n",
    "\n",
    "---"
   ]
  },
  {
   "cell_type": "markdown",
   "id": "6f7d21d6",
   "metadata": {
    "id": "6f7d21d6"
   },
   "source": [
    "<a id='загрузка'></a>\n",
    "## 1. Загрузка данных и знакомство с ними \n",
    "\n",
    "- Загрузим необходимые библиотеки Python и данные датасета `/datasets/new_games.csv`.\n"
   ]
  },
  {
   "cell_type": "code",
   "execution_count": 2,
   "id": "ebb66dc5",
   "metadata": {
    "id": "ebb66dc5"
   },
   "outputs": [],
   "source": [
    "# Импортируем библиотеки\n",
    "import pandas as pd\n",
    "import matplotlib.pyplot as plt\n",
    "import seaborn as sns\n",
    "\n",
    "# Защитимся от назойливых предупреждений\n",
    "import warnings\n",
    "warnings.simplefilter(action='ignore', category=Warning)"
   ]
  },
  {
   "cell_type": "code",
   "execution_count": 3,
   "id": "ce87c1db",
   "metadata": {
    "id": "ce87c1db"
   },
   "outputs": [],
   "source": [
    "# Загружаем датасет new_games.csv\n",
    "df = pd.read_csv('https://code.s3.yandex.net/datasets/new_games.csv')\n",
    "# Посчитаем количество строк в исходном датафрейме для дальнейших вычислений\n",
    "df_rows_count = df.shape[0]"
   ]
  },
  {
   "cell_type": "markdown",
   "id": "e0a8705f",
   "metadata": {
    "id": "e0a8705f"
   },
   "source": [
    "- Познакомимся с данными: выведем первые строки и результат метода `info()`.\n"
   ]
  },
  {
   "cell_type": "code",
   "execution_count": 4,
   "id": "3937acf7",
   "metadata": {
    "id": "3937acf7"
   },
   "outputs": [
    {
     "name": "stdout",
     "output_type": "stream",
     "text": [
      "<class 'pandas.core.frame.DataFrame'>\n",
      "RangeIndex: 16956 entries, 0 to 16955\n",
      "Data columns (total 11 columns):\n",
      " #   Column           Non-Null Count  Dtype  \n",
      "---  ------           --------------  -----  \n",
      " 0   Name             16954 non-null  object \n",
      " 1   Platform         16956 non-null  object \n",
      " 2   Year of Release  16681 non-null  float64\n",
      " 3   Genre            16954 non-null  object \n",
      " 4   NA sales         16956 non-null  float64\n",
      " 5   EU sales         16956 non-null  object \n",
      " 6   JP sales         16956 non-null  object \n",
      " 7   Other sales      16956 non-null  float64\n",
      " 8   Critic Score     8242 non-null   float64\n",
      " 9   User Score       10152 non-null  object \n",
      " 10  Rating           10085 non-null  object \n",
      "dtypes: float64(4), object(7)\n",
      "memory usage: 1.4+ MB\n"
     ]
    }
   ],
   "source": [
    "df.info()"
   ]
  },
  {
   "cell_type": "code",
   "execution_count": 5,
   "id": "d7c8eb4b",
   "metadata": {
    "id": "d7c8eb4b"
   },
   "outputs": [
    {
     "data": {
      "text/html": [
       "<div>\n",
       "<style scoped>\n",
       "    .dataframe tbody tr th:only-of-type {\n",
       "        vertical-align: middle;\n",
       "    }\n",
       "\n",
       "    .dataframe tbody tr th {\n",
       "        vertical-align: top;\n",
       "    }\n",
       "\n",
       "    .dataframe thead th {\n",
       "        text-align: right;\n",
       "    }\n",
       "</style>\n",
       "<table border=\"1\" class=\"dataframe\">\n",
       "  <thead>\n",
       "    <tr style=\"text-align: right;\">\n",
       "      <th></th>\n",
       "      <th>Name</th>\n",
       "      <th>Platform</th>\n",
       "      <th>Year of Release</th>\n",
       "      <th>Genre</th>\n",
       "      <th>NA sales</th>\n",
       "      <th>EU sales</th>\n",
       "      <th>JP sales</th>\n",
       "      <th>Other sales</th>\n",
       "      <th>Critic Score</th>\n",
       "      <th>User Score</th>\n",
       "      <th>Rating</th>\n",
       "    </tr>\n",
       "  </thead>\n",
       "  <tbody>\n",
       "    <tr>\n",
       "      <th>0</th>\n",
       "      <td>Wii Sports</td>\n",
       "      <td>Wii</td>\n",
       "      <td>2006.0</td>\n",
       "      <td>Sports</td>\n",
       "      <td>41.36</td>\n",
       "      <td>28.96</td>\n",
       "      <td>3.77</td>\n",
       "      <td>8.45</td>\n",
       "      <td>76.0</td>\n",
       "      <td>8</td>\n",
       "      <td>E</td>\n",
       "    </tr>\n",
       "    <tr>\n",
       "      <th>1</th>\n",
       "      <td>Super Mario Bros.</td>\n",
       "      <td>NES</td>\n",
       "      <td>1985.0</td>\n",
       "      <td>Platform</td>\n",
       "      <td>29.08</td>\n",
       "      <td>3.58</td>\n",
       "      <td>6.81</td>\n",
       "      <td>0.77</td>\n",
       "      <td>NaN</td>\n",
       "      <td>NaN</td>\n",
       "      <td>NaN</td>\n",
       "    </tr>\n",
       "    <tr>\n",
       "      <th>2</th>\n",
       "      <td>Mario Kart Wii</td>\n",
       "      <td>Wii</td>\n",
       "      <td>2008.0</td>\n",
       "      <td>Racing</td>\n",
       "      <td>15.68</td>\n",
       "      <td>12.76</td>\n",
       "      <td>3.79</td>\n",
       "      <td>3.29</td>\n",
       "      <td>82.0</td>\n",
       "      <td>8.3</td>\n",
       "      <td>E</td>\n",
       "    </tr>\n",
       "    <tr>\n",
       "      <th>3</th>\n",
       "      <td>Wii Sports Resort</td>\n",
       "      <td>Wii</td>\n",
       "      <td>2009.0</td>\n",
       "      <td>Sports</td>\n",
       "      <td>15.61</td>\n",
       "      <td>10.93</td>\n",
       "      <td>3.28</td>\n",
       "      <td>2.95</td>\n",
       "      <td>80.0</td>\n",
       "      <td>8</td>\n",
       "      <td>E</td>\n",
       "    </tr>\n",
       "    <tr>\n",
       "      <th>4</th>\n",
       "      <td>Pokemon Red/Pokemon Blue</td>\n",
       "      <td>GB</td>\n",
       "      <td>1996.0</td>\n",
       "      <td>Role-Playing</td>\n",
       "      <td>11.27</td>\n",
       "      <td>8.89</td>\n",
       "      <td>10.22</td>\n",
       "      <td>1.00</td>\n",
       "      <td>NaN</td>\n",
       "      <td>NaN</td>\n",
       "      <td>NaN</td>\n",
       "    </tr>\n",
       "  </tbody>\n",
       "</table>\n",
       "</div>"
      ],
      "text/plain": [
       "                       Name Platform  Year of Release         Genre  NA sales  \\\n",
       "0                Wii Sports      Wii           2006.0        Sports     41.36   \n",
       "1         Super Mario Bros.      NES           1985.0      Platform     29.08   \n",
       "2            Mario Kart Wii      Wii           2008.0        Racing     15.68   \n",
       "3         Wii Sports Resort      Wii           2009.0        Sports     15.61   \n",
       "4  Pokemon Red/Pokemon Blue       GB           1996.0  Role-Playing     11.27   \n",
       "\n",
       "  EU sales JP sales  Other sales  Critic Score User Score Rating  \n",
       "0    28.96     3.77         8.45          76.0          8      E  \n",
       "1     3.58     6.81         0.77           NaN        NaN    NaN  \n",
       "2    12.76     3.79         3.29          82.0        8.3      E  \n",
       "3    10.93     3.28         2.95          80.0          8      E  \n",
       "4     8.89    10.22         1.00           NaN        NaN    NaN  "
      ]
     },
     "execution_count": 5,
     "metadata": {},
     "output_type": "execute_result"
    }
   ],
   "source": [
    "df.head()"
   ]
  },
  {
   "cell_type": "markdown",
   "id": "1ef231bf-9a74-4c17-84d0-a8db9e44c75f",
   "metadata": {
    "id": "81651b8d"
   },
   "source": [
    "Датасет `new_games.csv` содержит 11 столбцов и 16956 строк.  \n",
    "\n",
    "Количество и названия столбцов соответствуют описанию. Для более удобной работы с данными имеет смысл привести столбцы к стилю `snake case`."
   ]
  },
  {
   "cell_type": "markdown",
   "id": "774bf76e",
   "metadata": {
    "id": "774bf76e"
   },
   "source": [
    "---\n",
    "<a id='проверка'></a>\n",
    "## 2.  Проверка ошибок в данных и их предобработка\n",
    "\n",
    "<a id='столбцы'></a>\n",
    "### 2.1. Названия, или метки, столбцов датафрейма"
   ]
  },
  {
   "cell_type": "code",
   "execution_count": 6,
   "id": "b9276a2b",
   "metadata": {
    "id": "b9276a2b"
   },
   "outputs": [
    {
     "data": {
      "text/plain": [
       "Index(['Name', 'Platform', 'Year of Release', 'Genre', 'NA sales', 'EU sales',\n",
       "       'JP sales', 'Other sales', 'Critic Score', 'User Score', 'Rating'],\n",
       "      dtype='object')"
      ]
     },
     "execution_count": 6,
     "metadata": {},
     "output_type": "execute_result"
    }
   ],
   "source": [
    "# Выведем названия столбцов датафрейма\n",
    "df.columns"
   ]
  },
  {
   "cell_type": "code",
   "execution_count": 7,
   "id": "87b573dd",
   "metadata": {
    "id": "87b573dd"
   },
   "outputs": [],
   "source": [
    "# Переведем названия столбцов в формат snake case с помощью цикла\n",
    "df.columns = df.columns.str.lower().str.replace(' ','_')"
   ]
  },
  {
   "cell_type": "code",
   "execution_count": 8,
   "id": "fe6b1f2e-bd50-47c6-8dc2-878c457191b4",
   "metadata": {},
   "outputs": [
    {
     "data": {
      "text/plain": [
       "Index(['name', 'platform', 'year_of_release', 'genre', 'na_sales', 'eu_sales',\n",
       "       'jp_sales', 'other_sales', 'critic_score', 'user_score', 'rating'],\n",
       "      dtype='object')"
      ]
     },
     "execution_count": 8,
     "metadata": {},
     "output_type": "execute_result"
    }
   ],
   "source": [
    "# Проверим правильность работы кода и выведем новые названия столбцов\n",
    "df.columns"
   ]
  },
  {
   "cell_type": "markdown",
   "id": "41bc6bf8",
   "metadata": {
    "id": "41bc6bf8"
   },
   "source": [
    "<a id='типы'></a>\n",
    "### 2.2. Типы данных\n",
    "<a id='типы1'></a>\n",
    "#### Изучим типы данных и их корректность:"
   ]
  },
  {
   "cell_type": "code",
   "execution_count": 9,
   "id": "cb848569",
   "metadata": {},
   "outputs": [
    {
     "data": {
      "text/plain": [
       "name                object\n",
       "platform            object\n",
       "year_of_release    float64\n",
       "genre               object\n",
       "na_sales           float64\n",
       "eu_sales            object\n",
       "jp_sales            object\n",
       "other_sales        float64\n",
       "critic_score       float64\n",
       "user_score          object\n",
       "rating              object\n",
       "dtype: object"
      ]
     },
     "execution_count": 9,
     "metadata": {},
     "output_type": "execute_result"
    }
   ],
   "source": [
    "df.dtypes"
   ]
  },
  {
   "cell_type": "markdown",
   "id": "ed4a10dd-4264-4a78-a140-d64c5d856718",
   "metadata": {},
   "source": [
    "Всего в данных представлены переменные двух типов: 4 переменные типа `float64` и 7 переменных типа `object`.  \n",
    "\n",
    "**Тип object** \n",
    "- `name`, `rating` — данные столбцы содержат строковые значения, поэтому корректно использовать тип `object`.\n",
    "- `platform`, `genre` — эти столбцы имеют ограниченный набор значений, поэтому следует изменить тип данных на `category`.\n",
    "- `eu_sales`, `jp_sales`, `user_score` — данные в этих столбцах содержат числовые значения (числа с плавающей точкой), поэтому тип `object` в данной ситуации некорректен, следует изменить тип данных на `float64`.\n",
    "\n",
    "**Тип float64**\n",
    "- `na_sales`, `other_sales`, `critic_score` — данные содержат числовые значения, поэтому корректно использовать тип `float64`.\n",
    "- `year_of_release` — год является точным числом, поэтому тип данных в данном столбце следует заменить на `int64`."
   ]
  },
  {
   "cell_type": "markdown",
   "id": "33df66db-d08b-44a2-a3d0-f155766fc1e0",
   "metadata": {},
   "source": [
    "Как было отмечено, часть столбцов имеет некорректный тип данных, проведем необходимые преобразования."
   ]
  },
  {
   "cell_type": "code",
   "execution_count": 10,
   "id": "8adaac81",
   "metadata": {
    "id": "8adaac81"
   },
   "outputs": [],
   "source": [
    "# Переведем столбцы eu_sales, jp_sales, user_score в тип float64\n",
    "for column in ['eu_sales', 'jp_sales', 'user_score']:\n",
    "    df[column] = pd.to_numeric(df[column], errors = 'coerce')\n",
    "\n",
    "# Переведем тип данных столбца year_of_release в тип int64\n",
    "df['year_of_release'] = pd.to_numeric(df['year_of_release'], errors = 'coerce')\n",
    "\n",
    "# Переведем столбцы platform, genre в тип category\n",
    "df[['platform', 'genre']] = df[['platform', 'genre']].astype('category')"
   ]
  },
  {
   "cell_type": "code",
   "execution_count": 11,
   "id": "5277a3eb",
   "metadata": {},
   "outputs": [
    {
     "data": {
      "text/plain": [
       "name                 object\n",
       "platform           category\n",
       "year_of_release     float64\n",
       "genre              category\n",
       "na_sales            float64\n",
       "eu_sales            float64\n",
       "jp_sales            float64\n",
       "other_sales         float64\n",
       "critic_score        float64\n",
       "user_score          float64\n",
       "rating               object\n",
       "dtype: object"
      ]
     },
     "execution_count": 11,
     "metadata": {},
     "output_type": "execute_result"
    }
   ],
   "source": [
    "# Проверим данные после преобразования типов данных\n",
    "df.dtypes"
   ]
  },
  {
   "cell_type": "markdown",
   "id": "b39893cb",
   "metadata": {
    "id": "b39893cb"
   },
   "source": [
    "<a id='пропуски'></a>\n",
    "### 2.3. Наличие пропусков в данных"
   ]
  },
  {
   "cell_type": "markdown",
   "id": "67d10bb7-b685-4c21-ab2d-2599afcf89c5",
   "metadata": {},
   "source": [
    "В этом разделе определим, в каких переменных встречаются пропуски, каково их количество и доля от всех значений."
   ]
  },
  {
   "cell_type": "code",
   "execution_count": 12,
   "id": "6b67931f-764b-4771-8c55-2a6ac12f3045",
   "metadata": {},
   "outputs": [
    {
     "data": {
      "text/plain": [
       "name                  2\n",
       "platform              0\n",
       "year_of_release     275\n",
       "genre                 2\n",
       "na_sales              0\n",
       "eu_sales              6\n",
       "jp_sales              4\n",
       "other_sales           0\n",
       "critic_score       8714\n",
       "user_score         9268\n",
       "rating             6871\n",
       "dtype: int64"
      ]
     },
     "execution_count": 12,
     "metadata": {},
     "output_type": "execute_result"
    }
   ],
   "source": [
    "# Выводим количество пропущенных строк в датафрейме\n",
    "df.isna().sum()"
   ]
  },
  {
   "cell_type": "code",
   "execution_count": 13,
   "id": "7e435a15-936a-4cc8-9c8a-969c361e5123",
   "metadata": {},
   "outputs": [
    {
     "data": {
      "text/plain": [
       "name                0.011795\n",
       "platform            0.000000\n",
       "year_of_release     1.621845\n",
       "genre               0.011795\n",
       "na_sales            0.000000\n",
       "eu_sales            0.035386\n",
       "jp_sales            0.023590\n",
       "other_sales         0.000000\n",
       "critic_score       51.391838\n",
       "user_score         54.659118\n",
       "rating             40.522529\n",
       "dtype: float64"
      ]
     },
     "execution_count": 13,
     "metadata": {},
     "output_type": "execute_result"
    }
   ],
   "source": [
    "# Подсчитываем процент строк с пропусками\n",
    "df.isna().mean()*100"
   ]
  },
  {
   "cell_type": "markdown",
   "id": "9433a2c8-0839-42a4-9454-f471a17b787d",
   "metadata": {},
   "source": [
    "**В данных наблюдаются пропуски в следующих столбцах:**  \n",
    "- `name` — в 2 (0.01% данных) строках отсутствует информация о названии игры. Поскольку количество пропусков ничтожно мало, строки с пропусками можно удалить.\n",
    "- `year_of_release` — в 275 (1.62% данных) строках отсутствует информация о годе выпуска игры. Это может затруднить дальнейший анализ, в частности, фильтрацию данных по времени выхода игры. Поскольку невозможно предложить корректный способ по замене отсутствующих значений, строки с пропусками следует оставить без изменений или удалить.\n",
    "- `genre` — в 2 (0.01% данных) строках отсутствует информация о жанре игры. Учитывая количество, это может быть связано с отсутствием информации о названии игры. Поскольку количество пропусков ничтожно мало, строки с пропусками можно удалить.\n",
    "- `eu_sales` — в 6 (0.04% данных) строках отсутствует информация о продажах в Европе. Пропуски можно заполнить средним с группировкой по году и платформе.\n",
    "- `jp_sales` — в 4 (0.02% данных) строках отсутствует информация о продажах в Японии. Пропуски можно заполнить средним с группировкой по году и платформе.\n",
    "- `critic_score` — в 8714 (51.39% данных) строках отсутствует информация об оценке критиков. Это существенное количество, которое может серьезно затруднить категоризацию игр по оценкам критиков. Учитывая количество пропущенных значений, их необходимо заменить — чтобы не исказить имеющиеся данные, наиболее оптимальным способом представляется замена пропусков значениями-индикаторами.\n",
    "- `user_score` — в 9268 (54.66% данных) строках отсутствует информация об оценке пользователей. Это существенное количество, которое может серьезно затруднить категоризацию игр по оценкам пользователей. Учитывая количество пропущенных значений, их необходимо заменить — чтобы не исказить имеющиеся данные, наиболее оптимальным способом представляется замена пропусков значениями-индикаторами.\n",
    "- `rating` — в 6871 (40.52% данных) строках отсутствует информация о рейтинге организации ESRB. Это существенное количество, которое, однако, не повлияет на дальнейший анализ, т.к. эти данные не используются в данном исследовании. Следовательно, этот столбец можно будет удалить или заменить пропуски индикатором."
   ]
  },
  {
   "cell_type": "markdown",
   "id": "8d48aa60-3fa2-4ed3-9cb3-4f98e0d60f34",
   "metadata": {},
   "source": [
    "**Причины появления пропусков в данных**\n",
    "\n",
    "- Можно предположить, что `отсутствие информации в столбцах name и genre` связано с потерей информации из-за раннего года выпуска игр. Нижная выгрузка подтверждает это, причем пропуски в этих строках связаны между собой и относятся к одним и тем же строкам."
   ]
  },
  {
   "cell_type": "code",
   "execution_count": 14,
   "id": "eec9e5c4-7d33-4b46-91ee-e3fd3a72a43f",
   "metadata": {},
   "outputs": [
    {
     "data": {
      "text/html": [
       "<div>\n",
       "<style scoped>\n",
       "    .dataframe tbody tr th:only-of-type {\n",
       "        vertical-align: middle;\n",
       "    }\n",
       "\n",
       "    .dataframe tbody tr th {\n",
       "        vertical-align: top;\n",
       "    }\n",
       "\n",
       "    .dataframe thead th {\n",
       "        text-align: right;\n",
       "    }\n",
       "</style>\n",
       "<table border=\"1\" class=\"dataframe\">\n",
       "  <thead>\n",
       "    <tr style=\"text-align: right;\">\n",
       "      <th></th>\n",
       "      <th>name</th>\n",
       "      <th>platform</th>\n",
       "      <th>year_of_release</th>\n",
       "      <th>genre</th>\n",
       "      <th>na_sales</th>\n",
       "      <th>eu_sales</th>\n",
       "      <th>jp_sales</th>\n",
       "      <th>other_sales</th>\n",
       "      <th>critic_score</th>\n",
       "      <th>user_score</th>\n",
       "      <th>rating</th>\n",
       "    </tr>\n",
       "  </thead>\n",
       "  <tbody>\n",
       "    <tr>\n",
       "      <th>661</th>\n",
       "      <td>NaN</td>\n",
       "      <td>GEN</td>\n",
       "      <td>1993.0</td>\n",
       "      <td>NaN</td>\n",
       "      <td>1.78</td>\n",
       "      <td>0.53</td>\n",
       "      <td>0.00</td>\n",
       "      <td>0.08</td>\n",
       "      <td>NaN</td>\n",
       "      <td>NaN</td>\n",
       "      <td>NaN</td>\n",
       "    </tr>\n",
       "    <tr>\n",
       "      <th>14439</th>\n",
       "      <td>NaN</td>\n",
       "      <td>GEN</td>\n",
       "      <td>1993.0</td>\n",
       "      <td>NaN</td>\n",
       "      <td>0.00</td>\n",
       "      <td>0.00</td>\n",
       "      <td>0.03</td>\n",
       "      <td>0.00</td>\n",
       "      <td>NaN</td>\n",
       "      <td>NaN</td>\n",
       "      <td>NaN</td>\n",
       "    </tr>\n",
       "  </tbody>\n",
       "</table>\n",
       "</div>"
      ],
      "text/plain": [
       "      name platform  year_of_release genre  na_sales  eu_sales  jp_sales  \\\n",
       "661    NaN      GEN           1993.0   NaN      1.78      0.53      0.00   \n",
       "14439  NaN      GEN           1993.0   NaN      0.00      0.00      0.03   \n",
       "\n",
       "       other_sales  critic_score  user_score rating  \n",
       "661           0.08           NaN         NaN    NaN  \n",
       "14439         0.00           NaN         NaN    NaN  "
      ]
     },
     "execution_count": 14,
     "metadata": {},
     "output_type": "execute_result"
    }
   ],
   "source": [
    "df[df['name'].isna()]"
   ]
  },
  {
   "cell_type": "markdown",
   "id": "45c3bdf2-43ea-419d-a6f8-b5c2dfee331e",
   "metadata": {},
   "source": [
    "- `Отсутствие данных о годе выпуска` может быть связано с ошибками ввода, когда информация известна, но ее не внесли в базу данных, или с отсутствием информации в связи с низкой популярностью игры.\n",
    "- `Наличие пропусков в столбцах critic_score и user_score` может быть связано с действительным отсутствием рейтинга, например, по причине низкой популярности игр.\n",
    "- `Отсутствие данных о рейтинге ESRB`, скорее всего, связано со страной происхождения игры, поскольку рейтинг ESRB присваивается только играм из США и Канады.\n",
    "- Причиной `наличия пропусков в столбцах eu_sales и jp_sales` может быть непопулярность этих игр в странах Европы и в Японии соответственно."
   ]
  },
  {
   "cell_type": "markdown",
   "id": "bc28717d",
   "metadata": {},
   "source": [
    "**Обработка пропусков в данных**"
   ]
  },
  {
   "cell_type": "code",
   "execution_count": 15,
   "id": "154be65d",
   "metadata": {
    "id": "154be65d"
   },
   "outputs": [],
   "source": [
    "# Удалим пропуски в столбцах name, genre, year_of_release\n",
    "df = df.dropna(subset = ['name', 'genre', 'year_of_release'])"
   ]
  },
  {
   "cell_type": "markdown",
   "id": "c99d6975-5070-4ee0-9a74-e2e6a51b84a2",
   "metadata": {},
   "source": [
    "Поскольку выше было выдвинуто предположение о том, что отсутствие данных в столбцах `critic_score`, `user_score` и `rating` связано с действительным отсутствием таких рейтингов по некоторым играм, то было принято решение заменить пропущенные значения в этих столбцах на значения индикаторы, которые будут однозначно сообщать о пропусках.  \n",
    "Переменные `critic_score` и `user_score` содержат числовые значения, поэтому в качестве значения-индикатора было выбрано значение `-1`.\n",
    "`rating` содержит строковые значения, поэтому заменим пропуски на `no rating`."
   ]
  },
  {
   "cell_type": "code",
   "execution_count": 16,
   "id": "ef989da1-c0c4-48bf-92f0-3d2fc40f3baf",
   "metadata": {},
   "outputs": [],
   "source": [
    "# Заполним пропуски в столбцах critic_score и user_score\n",
    "df['critic_score'] = df['critic_score'].fillna(-1)\n",
    "df['user_score'] = df['user_score'].fillna(-1)"
   ]
  },
  {
   "cell_type": "code",
   "execution_count": 17,
   "id": "e7e3bc52-9a55-41fb-a8ef-728737a6c01b",
   "metadata": {},
   "outputs": [],
   "source": [
    "# Заполним пропуски в столбце rating\n",
    "df['rating'] = df['rating'].fillna('no rating')"
   ]
  },
  {
   "cell_type": "code",
   "execution_count": 18,
   "id": "6f4be3b5-e45d-450c-ba71-89a51e1714cd",
   "metadata": {},
   "outputs": [],
   "source": [
    "# Заполним пропуски в столбцах year_of_release и jp_sales средним с группировкой по году и платформе\n",
    "avg_eu_sales = df.groupby(['year_of_release', 'platform'])['eu_sales'].transform('mean')\n",
    "df['eu_sales'] = df['eu_sales'].fillna(avg_eu_sales)\n",
    "\n",
    "avg_jp_sales = df.groupby(['year_of_release', 'platform'])['jp_sales'].transform('mean')\n",
    "df['jp_sales'] = df['jp_sales'].fillna(avg_jp_sales)"
   ]
  },
  {
   "cell_type": "code",
   "execution_count": 19,
   "id": "3de6037f-f0d8-4900-bd6f-7ec6ffb154d7",
   "metadata": {},
   "outputs": [
    {
     "data": {
      "text/plain": [
       "name               0\n",
       "platform           0\n",
       "year_of_release    0\n",
       "genre              0\n",
       "na_sales           0\n",
       "eu_sales           0\n",
       "jp_sales           0\n",
       "other_sales        0\n",
       "critic_score       0\n",
       "user_score         0\n",
       "rating             0\n",
       "dtype: int64"
      ]
     },
     "execution_count": 19,
     "metadata": {},
     "output_type": "execute_result"
    }
   ],
   "source": [
    "# Проверим данные после обработки пропусков\n",
    "df.isna().sum()"
   ]
  },
  {
   "cell_type": "code",
   "execution_count": 20,
   "id": "3e983840",
   "metadata": {},
   "outputs": [],
   "source": [
    "df['year_of_release'] = df['year_of_release'].astype('int64')"
   ]
  },
  {
   "cell_type": "markdown",
   "id": "a63363fd",
   "metadata": {
    "id": "a63363fd"
   },
   "source": [
    "<a id='дубликаты'></a>\n",
    "### 2.4. Явные и неявные дубликаты в данных"
   ]
  },
  {
   "cell_type": "markdown",
   "id": "97393648-98a2-434d-b0ad-e1960043740d",
   "metadata": {},
   "source": [
    "- **Изучим данные на предмет неявных дубликатов**"
   ]
  },
  {
   "cell_type": "code",
   "execution_count": 21,
   "id": "26498a3b-5b8f-49ba-ba2f-f7a6b6b39944",
   "metadata": {
    "id": "491c9c39",
    "scrolled": true
   },
   "outputs": [
    {
     "data": {
      "text/plain": [
       "['Sports',\n",
       " 'Platform',\n",
       " 'Racing',\n",
       " 'Role-Playing',\n",
       " 'Puzzle',\n",
       " 'Misc',\n",
       " 'Shooter',\n",
       " 'Simulation',\n",
       " 'Action',\n",
       " 'Fighting',\n",
       " 'Adventure',\n",
       " 'Strategy',\n",
       " 'MISC',\n",
       " 'ROLE-PLAYING',\n",
       " 'RACING',\n",
       " 'ACTION',\n",
       " 'SHOOTER',\n",
       " 'FIGHTING',\n",
       " 'SPORTS',\n",
       " 'PLATFORM',\n",
       " 'ADVENTURE',\n",
       " 'SIMULATION',\n",
       " 'PUZZLE',\n",
       " 'STRATEGY']"
      ]
     },
     "execution_count": 21,
     "metadata": {},
     "output_type": "execute_result"
    }
   ],
   "source": [
    "# Рассмотрим уникальные значения в категориальной переменной genre\n",
    "df['genre'].unique().tolist()"
   ]
  },
  {
   "cell_type": "markdown",
   "id": "eeaca328",
   "metadata": {},
   "source": [
    "Можно заметить, что одни и те же категории записаны в разном регистре (например, `Adventure` и `ADVENTURE`). Поэтому имеет смысл перевести значения в нижний регистр для дальнейшей проверки данных на явные дубликаты."
   ]
  },
  {
   "cell_type": "code",
   "execution_count": 22,
   "id": "6208b747-802d-4f3c-a8dc-0b220c66353e",
   "metadata": {},
   "outputs": [],
   "source": [
    "# Приведем все значения к нижнему регистру, чтобы исключить неявные дубликаты\n",
    "df['genre'] = df['genre'].str.lower()"
   ]
  },
  {
   "cell_type": "markdown",
   "id": "186cd479",
   "metadata": {},
   "source": [
    "  "
   ]
  },
  {
   "cell_type": "code",
   "execution_count": 23,
   "id": "f1627198",
   "metadata": {
    "id": "f1627198",
    "scrolled": true
   },
   "outputs": [
    {
     "data": {
      "text/plain": [
       "['Wii',\n",
       " 'NES',\n",
       " 'GB',\n",
       " 'DS',\n",
       " 'X360',\n",
       " 'PS3',\n",
       " 'PS2',\n",
       " 'SNES',\n",
       " 'GBA',\n",
       " 'PS4',\n",
       " '3DS',\n",
       " 'N64',\n",
       " 'PS',\n",
       " 'XB',\n",
       " 'PC',\n",
       " '2600',\n",
       " 'PSP',\n",
       " 'XOne',\n",
       " 'WiiU',\n",
       " 'GC',\n",
       " 'GEN',\n",
       " 'DC',\n",
       " 'PSV',\n",
       " 'SAT',\n",
       " 'SCD',\n",
       " 'WS',\n",
       " 'NG',\n",
       " 'TG16',\n",
       " '3DO',\n",
       " 'GG',\n",
       " 'PCFX']"
      ]
     },
     "execution_count": 23,
     "metadata": {},
     "output_type": "execute_result"
    }
   ],
   "source": [
    "# Рассмотрим уникальные значения в категориальной переменной platform\n",
    "df['platform'].unique().tolist()"
   ]
  },
  {
   "cell_type": "markdown",
   "id": "5b54a0c9",
   "metadata": {},
   "source": [
    "Повторов в названиях платформ не выявлено.\n",
    "  "
   ]
  },
  {
   "cell_type": "markdown",
   "id": "84bcae27",
   "metadata": {},
   "source": [
    "  "
   ]
  },
  {
   "cell_type": "code",
   "execution_count": 24,
   "id": "a0cac80c",
   "metadata": {
    "id": "a0cac80c"
   },
   "outputs": [
    {
     "data": {
      "text/plain": [
       "array(['E', 'no rating', 'M', 'T', 'E10+', 'K-A', 'AO', 'EC', 'RP'],\n",
       "      dtype=object)"
      ]
     },
     "execution_count": 24,
     "metadata": {},
     "output_type": "execute_result"
    }
   ],
   "source": [
    "# Рассмотрим уникальные значения в категориальной переменной rating\n",
    "df['rating'].unique()"
   ]
  },
  {
   "cell_type": "markdown",
   "id": "0448ca55",
   "metadata": {},
   "source": [
    "Для корректной оценки данных стоит ознакомиться с особенностями рейтинга ESRB, который отражает столбец `rating` https://ru.wikipedia.org/wiki/Entertainment_Software_Rating_Board. Можно заметить, что в текущей версии рейтинга нет категории `K-A`, но она является более ранней версией категории `E`, поэтому для корректного анализа следует заменить значения `K-A` на `E`."
   ]
  },
  {
   "cell_type": "code",
   "execution_count": 25,
   "id": "06cdeca6-d551-4f07-974c-be2059eee127",
   "metadata": {},
   "outputs": [],
   "source": [
    "# Заменим значения K-A в столбце rating на E\n",
    "df.loc[df['rating'] == 'K-A', 'rating'] = 'E'"
   ]
  },
  {
   "cell_type": "markdown",
   "id": "364a4848",
   "metadata": {},
   "source": [
    "  "
   ]
  },
  {
   "cell_type": "code",
   "execution_count": 26,
   "id": "e033fcaf-cc7a-414a-8cd8-9c1bbcc37c33",
   "metadata": {},
   "outputs": [],
   "source": [
    "# Так как названия для одних и тех же игр могут быть записаны по-разному, приведем все значения в переменной name к нижнему регистру\n",
    "# Это позволит обнаружить больше полных дубликатов\n",
    "df['name'] = df['name'].str.lower()"
   ]
  },
  {
   "cell_type": "markdown",
   "id": "fc3d3db4",
   "metadata": {
    "id": "fc3d3db4"
   },
   "source": [
    "- **Изучим данные на предмет явных дубликатов**"
   ]
  },
  {
   "cell_type": "code",
   "execution_count": 27,
   "id": "fc5c91b5",
   "metadata": {
    "id": "fc5c91b5"
   },
   "outputs": [
    {
     "data": {
      "text/plain": [
       "235"
      ]
     },
     "execution_count": 27,
     "metadata": {},
     "output_type": "execute_result"
    }
   ],
   "source": [
    "# Определим количество повторяющихся строк\n",
    "df.duplicated().sum()"
   ]
  },
  {
   "cell_type": "code",
   "execution_count": 28,
   "id": "2f61e076",
   "metadata": {
    "id": "2f61e076"
   },
   "outputs": [],
   "source": [
    "# Удалим дубликаты\n",
    "df = df.drop_duplicates()"
   ]
  },
  {
   "cell_type": "markdown",
   "id": "813eb53c-3176-4e7d-b30b-e11d97a07ba0",
   "metadata": {
    "id": "8548f894"
   },
   "source": [
    "\n",
    "Было обнаружено `235` явных дубликатов — идентичных строк. Все дублирующиеся строки были удалены методом `drop_duplicates`.\n",
    "\n",
    "Также среди значений переменной `genre` были обнаружены дубликаты, связанные с различным регистром написания. Для исправления этой проблемы все значения были переведены в нижний регистр. Аналогично — с переменной `name`."
   ]
  },
  {
   "cell_type": "markdown",
   "id": "1b92c5e7-43c4-4126-b9a2-f76441049ce1",
   "metadata": {
    "id": "f9d8ee19"
   },
   "source": [
    "- **Расчет удаленных значений**"
   ]
  },
  {
   "cell_type": "code",
   "execution_count": 29,
   "id": "3d7a9d8e",
   "metadata": {
    "id": "3d7a9d8e"
   },
   "outputs": [
    {
     "name": "stdout",
     "output_type": "stream",
     "text": [
      "Количество удаленных строк = 512\n",
      "Доля удаленных строк от исходного кол-ва строк в датафрейме = 0.03\n"
     ]
    }
   ],
   "source": [
    "# Кол-во строк в датафрейме после преобразований\n",
    "df_rows_count_result = df.shape[0]\n",
    "# Количество удаленных строк\n",
    "deleted_rows = df_rows_count - df_rows_count_result\n",
    "# Доля удаленных строк от исходного кол-ва строк в датафрейме\n",
    "deleted_rows_share = round(deleted_rows/df_rows_count, 2)\n",
    "\n",
    "print(f'Количество удаленных строк = {deleted_rows}',\n",
    "f'Доля удаленных строк от исходного кол-ва строк в датафрейме = {deleted_rows_share}',\n",
    "sep = '\\n')"
   ]
  },
  {
   "cell_type": "markdown",
   "id": "47613d75",
   "metadata": {
    "id": "47613d75"
   },
   "source": [
    "- **Вывод по результатам предобработки данных**"
   ]
  },
  {
   "cell_type": "markdown",
   "id": "f3485095-727b-45da-bd4a-f8feb0eef924",
   "metadata": {
    "id": "5166fdf8"
   },
   "source": [
    "В процессе предобработки данных были проведены следующие преобразования:\n",
    "- Приведение названий столбцов в соответствие со стилем `snake case`.\n",
    "- Удаление пропущенных значений в столбцах `name`, `genre`, `year_of_release`;\n",
    "- Замена пропущенных значений индикатором в столбцах `critic_score`, `user_score`, `rating`;\n",
    "- Заполнение пропусков средним с группировкой по году и платформе в столбцах `eu_sales` и `jp_sales`;\n",
    "- Изменение типов данных переменных: `platform`, `genre` (с `object` на `category`), `eu_sales`, `jp_sales`, `user_score` (с `object` на `float64`), `year_of_release` (с `float64` на `int64`);\n",
    "- Обработка неявных дубликатов в столбце `genre`;\n",
    "- Удаление `235` повторяющихся строк (явных дубликатов);\n",
    "  \n",
    "Всего было удалено `512` строк, что составляет `3%` от всего объема исходных данных."
   ]
  },
  {
   "cell_type": "markdown",
   "id": "613f0eb0",
   "metadata": {
    "id": "613f0eb0"
   },
   "source": [
    "---\n",
    "<a id='фильтрация'></a>\n",
    "## 3. Исследование истории продаж игр в начале XXI века\n",
    "\n",
    "**Цель** — изучить развитие игровой индустрии с 2000 по 2013 год"
   ]
  },
  {
   "cell_type": "markdown",
   "id": "4913862c",
   "metadata": {},
   "source": [
    "### 3.1. Фильтрация и категоризация данных"
   ]
  },
  {
   "cell_type": "code",
   "execution_count": 30,
   "id": "2344916d",
   "metadata": {
    "id": "2344916d"
   },
   "outputs": [],
   "source": [
    "# Отберем данные за 2000-2013 гг. и создадим новый датафрейм\n",
    "df_actual = df[(df['year_of_release'] >= 2000) & (df['year_of_release'] <= 2013)]"
   ]
  },
  {
   "cell_type": "markdown",
   "id": "a6f10b01",
   "metadata": {
    "id": "a6f10b01"
   },
   "source": [
    "\n",
    "    \n",
    "- Разделим все игры по оценкам пользователей и выделим такие категории: высокая оценка (от 8 до 10 включительно), средняя оценка (от 3 до 8, не включая правую границу интервала) и низкая оценка (от 0 до 3, не включая правую границу интервала)."
   ]
  },
  {
   "cell_type": "code",
   "execution_count": 31,
   "id": "a5945c3a-638c-4605-a51f-336f2badedd6",
   "metadata": {},
   "outputs": [],
   "source": [
    "df_actual.loc[:, 'user_rating'] = pd.cut(df_actual['user_score'], bins = [0, 3, 8, 11], right = False,\n",
    "                                  labels = ['низкая оценка', 'средняя оценка', 'высокая оценка'])"
   ]
  },
  {
   "cell_type": "markdown",
   "id": "f8f34b40",
   "metadata": {
    "id": "f8f34b40"
   },
   "source": [
    "- Разделим все игры по оценкам критиков и выделим такие категории: высокая оценка (от 80 до 100 включительно), средняя оценка (от 30 до 80, не включая правую границу интервала) и низкая оценка (от 0 до 30, не включая правую границу интервала)."
   ]
  },
  {
   "cell_type": "code",
   "execution_count": 32,
   "id": "e3f7acb0",
   "metadata": {
    "id": "e3f7acb0"
   },
   "outputs": [],
   "source": [
    "df_actual.loc[:, 'critic_rating'] = pd.cut(df_actual['critic_score'], bins = [0, 30, 80, 101], right = False, \n",
    "                                  labels = ['низкая оценка', 'средняя оценка', 'высокая оценка'])"
   ]
  },
  {
   "cell_type": "markdown",
   "id": "olkTlTlAUDR9",
   "metadata": {
    "id": "olkTlTlAUDR9"
   },
   "source": [
    "- Проверим результат: сгруппируем данные по выделенным категориям и посчитаем количество игр в каждой категории."
   ]
  },
  {
   "cell_type": "code",
   "execution_count": 33,
   "id": "HW0Nsp-4UMSL",
   "metadata": {
    "id": "HW0Nsp-4UMSL"
   },
   "outputs": [
    {
     "data": {
      "text/plain": [
       "user_rating\n",
       "низкая оценка      116\n",
       "средняя оценка    4081\n",
       "высокая оценка    2286\n",
       "Name: name, dtype: int64"
      ]
     },
     "execution_count": 33,
     "metadata": {},
     "output_type": "execute_result"
    }
   ],
   "source": [
    "# Посчитаем количество игр в каждой категории рейтинга пользователей\n",
    "df_actual.groupby('user_rating')['name'].count()"
   ]
  },
  {
   "cell_type": "code",
   "execution_count": 34,
   "id": "x2ne0HIpUMMD",
   "metadata": {
    "id": "x2ne0HIpUMMD"
   },
   "outputs": [
    {
     "data": {
      "text/plain": [
       "critic_rating\n",
       "низкая оценка       55\n",
       "средняя оценка    5422\n",
       "высокая оценка    1692\n",
       "Name: name, dtype: int64"
      ]
     },
     "execution_count": 34,
     "metadata": {},
     "output_type": "execute_result"
    }
   ],
   "source": [
    "# Посчитаем количество игр в каждой категории рейтинга критиков\n",
    "df_actual.groupby('critic_rating')['name'].count()"
   ]
  },
  {
   "cell_type": "markdown",
   "id": "e33bdacb",
   "metadata": {},
   "source": [
    "### 3.2. Динамика развития рынка\n",
    "\n",
    "#### Общая динамика продаж по годам"
   ]
  },
  {
   "cell_type": "code",
   "execution_count": 35,
   "id": "5dcd039e",
   "metadata": {},
   "outputs": [
    {
     "data": {
      "image/png": "[encoded data removed]",
      "text/plain": [
       "<Figure size 720x432 with 1 Axes>"
      ]
     },
     "metadata": {
      "needs_background": "light"
     },
     "output_type": "display_data"
    }
   ],
   "source": [
    "# Просуммируем значения продаж из разных регионов и сгруппируем данные по годам\n",
    "year_sales = df_actual.groupby('year_of_release')[['na_sales', 'eu_sales', 'jp_sales', 'other_sales']].sum().sum(axis=1)\n",
    "\n",
    "# Построим линейную диаграмму для демонстрации динамики продаж по всем регионам\n",
    "year_sales.plot(kind = 'line',\n",
    "                figsize =(10, 6), \n",
    "                xlabel = '',\n",
    "                ylabel = 'Количество продаж, в млн. проданных копий',\n",
    "                title = 'Динамика продаж игр с 2000 по 2013 гг.',\n",
    "                marker = 'o',\n",
    "                grid = True,\n",
    "                color = 'blue')\n",
    "\n",
    "plt.show()"
   ]
  },
  {
   "cell_type": "markdown",
   "id": "ec31e12e",
   "metadata": {},
   "source": [
    "#### Динамика продаж по регионам"
   ]
  },
  {
   "cell_type": "code",
   "execution_count": 36,
   "id": "2e69fa77",
   "metadata": {},
   "outputs": [
    {
     "data": {
      "image/png": "[encoded data removed]",
      "text/plain": [
       "<Figure size 720x432 with 1 Axes>"
      ]
     },
     "metadata": {
      "needs_background": "light"
     },
     "output_type": "display_data"
    }
   ],
   "source": [
    "# Сгруппируем значения продаж в разных регионах по годам\n",
    "year_sales_regions = df_actual.groupby('year_of_release')[['na_sales', 'eu_sales', 'jp_sales', 'other_sales']].sum()\n",
    "\n",
    "# Заменим названия столбцов на более понятные\n",
    "year_sales_regions.columns = ['Северная Америка', 'Европа', 'Япония', 'Другие страны']\n",
    "\n",
    "# Построим линейную диаграмму для демонстрации динамики продаж в разных регионах\n",
    "year_sales_regions.plot(kind = 'line',\n",
    "                figsize = (10, 6), \n",
    "                xlabel = '',\n",
    "                ylabel = 'Количество проданных копий, в млн.',\n",
    "                title = 'Динамика продаж игр в разных регионах',\n",
    "                marker = 'o',\n",
    "                grid = True,\n",
    "                color = ['blue', 'coral', 'gold', 'mediumseagreen'])\n",
    "\n",
    "plt.show()"
   ]
  },
  {
   "cell_type": "markdown",
   "id": "1661b4a7",
   "metadata": {},
   "source": [
    "**Общая динамика продаж игр**   \n",
    "С начала 2000-х рынок видеоигр демонстрировал **устойчивый рост**. Продажи увеличивались вплоть до **пика в 2008 году** (671 млн копий). Далее началось постепенное **снижение интереса** или насыщение рынка: к 2013 году продажи сократились почти на 50% от максимального значения. Можно предположить, что падению спроса на видеоигры способствовал рост конкуренции с мобильным сегментом игр.\n",
    "\n",
    "**При анализе региональной динамики наблюдается:**\n",
    "- Северная Америка — самый крупный рынок: уверенный рост до 2008 г., далее — снижение. В пике (2008) продажи достигли почти 350 млн копий.\n",
    "- Европа — второй по величине рынок, демонстрирует схожий тренд с Северной Америкой, однако рост более плавный.\n",
    "- Япония — рынок видеоигр в стране значительно меньше по объёму. При этом наблюдается плавный рост до 2006 г., а затем — плавное снижение.\n",
    "- Другие страны (остальной мир) — также демонстрируют схожие тенденции с Европой и Северной Америкой, однако этот рынок значительно меньше по количеству проданных игр и отражают плавный последовательный рост до 2008 и также дальнейшее снижение показателей.\n",
    "\n",
    "В целом, можно заключить, что основной вклад в рост рынка в 2000-х вносили Северная Америка и Европа. При этом наблюдались схожие тенденции во всех регионах — после 2009 г. наблюдается общемировое падение продаж, особенно ощутимое в Японии и Северной Америке."
   ]
  },
  {
   "cell_type": "markdown",
   "id": "ee7a67b5",
   "metadata": {},
   "source": [
    "### 3.3. Платформы и рейтинги"
   ]
  },
  {
   "cell_type": "markdown",
   "id": "6a98444c",
   "metadata": {
    "id": "6a98444c"
   },
   "source": [
    "#### Топ-10 платформ по количеству игр, выпущенных за весь актуальный период"
   ]
  },
  {
   "cell_type": "code",
   "execution_count": 90,
   "id": "003caa2c",
   "metadata": {
    "id": "003caa2c",
    "scrolled": true
   },
   "outputs": [],
   "source": [
    "# Посчитаем количество игр, выпущенных на каждой платформе\n",
    "platform_games_count = df_actual.groupby('platform')['name'].count().reset_index(name = 'games')\n",
    "\n",
    "# Отсортируем данные в порядке убывания и оставим 10 платформ с наибольшим количеством выпущенных игр\n",
    "platform_games_top = platform_games_count.sort_values(by = 'games', ascending = False).head(10)"
   ]
  },
  {
   "cell_type": "code",
   "execution_count": 91,
   "id": "6bac192c",
   "metadata": {},
   "outputs": [
    {
     "data": {
      "image/png": "[encoded data removed]",
      "text/plain": [
       "<Figure size 720x432 with 1 Axes>"
      ]
     },
     "metadata": {
      "needs_background": "light"
     },
     "output_type": "display_data"
    }
   ],
   "source": [
    "# Построим столбчатую диаграмму для демонстрации топ-10 платформ по количеству проданных игр\n",
    "platform_games_top.plot(kind = 'bar', \n",
    "                        x = 'platform', \n",
    "                        y = 'games',\n",
    "                        legend = False, \n",
    "                        figsize = (10, 6), \n",
    "                        rot = 0, \n",
    "                        color = 'coral',\n",
    "                        xlabel = '',\n",
    "                        ylabel = 'Количество выпущенных игр')\n",
    "plt.show()"
   ]
  },
  {
   "cell_type": "markdown",
   "id": "636c7bf8",
   "metadata": {},
   "source": [
    "**Наибольшее количество игр** за рассматриваемый период было выпущено на платформах **PS2 и Nintendo DS** — более 2100 игр на каждой. Эти две платформы значительно опережают остальные по объёму контента, что говорит об их высокой популярности среди разработчиков и пользователей в те годы.  \n",
    "\n",
    "На третьем месте — Nintendo Wii (1275 игр), за ним следуют портативная PSP и консоль Xbox 360, каждая из которых превысила отметку в 1000 игр. Также в десятку вошли PS3, GBA, оригинальный Xbox, ПК, а замыкает список GameCube."
   ]
  },
  {
   "cell_type": "markdown",
   "id": "672eff78",
   "metadata": {},
   "source": [
    "#### ESRB-рейтинг и активность выпуска игр"
   ]
  },
  {
   "cell_type": "code",
   "execution_count": 39,
   "id": "204eaca0",
   "metadata": {},
   "outputs": [],
   "source": [
    "# Определим количество выпущенных игр каждого ESRB-рейтинга\n",
    "rating_games = df_actual.groupby('rating')['name'].count().sort_values(ascending = False).reset_index(name = 'games_count')"
   ]
  },
  {
   "cell_type": "code",
   "execution_count": 40,
   "id": "0ee17a40",
   "metadata": {},
   "outputs": [],
   "source": [
    "# Определим количество проданных копий игр каждого ESRB-рейтинга\n",
    "rating_sales = df_actual.groupby('rating')[['na_sales', 'eu_sales', 'jp_sales', 'other_sales']].sum().sum(axis=1).sort_values(ascending = False).reset_index(name = 'sales_count').round(2)"
   ]
  },
  {
   "cell_type": "code",
   "execution_count": 109,
   "id": "46d10b02",
   "metadata": {},
   "outputs": [
    {
     "data": {
      "text/html": [
       "<div>\n",
       "<style scoped>\n",
       "    .dataframe tbody tr th:only-of-type {\n",
       "        vertical-align: middle;\n",
       "    }\n",
       "\n",
       "    .dataframe tbody tr th {\n",
       "        vertical-align: top;\n",
       "    }\n",
       "\n",
       "    .dataframe thead th {\n",
       "        text-align: right;\n",
       "    }\n",
       "</style>\n",
       "<table border=\"1\" class=\"dataframe\">\n",
       "  <thead>\n",
       "    <tr style=\"text-align: right;\">\n",
       "      <th></th>\n",
       "      <th>rating</th>\n",
       "      <th>games_count</th>\n",
       "      <th>sales_count</th>\n",
       "    </tr>\n",
       "  </thead>\n",
       "  <tbody>\n",
       "    <tr>\n",
       "      <th>0</th>\n",
       "      <td>no rating</td>\n",
       "      <td>4058</td>\n",
       "      <td>1141.66</td>\n",
       "    </tr>\n",
       "    <tr>\n",
       "      <th>1</th>\n",
       "      <td>E</td>\n",
       "      <td>3662</td>\n",
       "      <td>2225.25</td>\n",
       "    </tr>\n",
       "    <tr>\n",
       "      <th>2</th>\n",
       "      <td>T</td>\n",
       "      <td>2588</td>\n",
       "      <td>1282.66</td>\n",
       "    </tr>\n",
       "    <tr>\n",
       "      <th>3</th>\n",
       "      <td>M</td>\n",
       "      <td>1256</td>\n",
       "      <td>1204.61</td>\n",
       "    </tr>\n",
       "    <tr>\n",
       "      <th>4</th>\n",
       "      <td>E10+</td>\n",
       "      <td>1207</td>\n",
       "      <td>569.27</td>\n",
       "    </tr>\n",
       "    <tr>\n",
       "      <th>5</th>\n",
       "      <td>EC</td>\n",
       "      <td>8</td>\n",
       "      <td>1.75</td>\n",
       "    </tr>\n",
       "    <tr>\n",
       "      <th>6</th>\n",
       "      <td>AO</td>\n",
       "      <td>1</td>\n",
       "      <td>1.96</td>\n",
       "    </tr>\n",
       "    <tr>\n",
       "      <th>7</th>\n",
       "      <td>RP</td>\n",
       "      <td>1</td>\n",
       "      <td>0.04</td>\n",
       "    </tr>\n",
       "  </tbody>\n",
       "</table>\n",
       "</div>"
      ],
      "text/plain": [
       "      rating  games_count  sales_count\n",
       "0  no rating         4058      1141.66\n",
       "1          E         3662      2225.25\n",
       "2          T         2588      1282.66\n",
       "3          M         1256      1204.61\n",
       "4       E10+         1207       569.27\n",
       "5         EC            8         1.75\n",
       "6         AO            1         1.96\n",
       "7         RP            1         0.04"
      ]
     },
     "execution_count": 109,
     "metadata": {},
     "output_type": "execute_result"
    }
   ],
   "source": [
    "# Объединим таблицы rating_games и rating_sales\n",
    "rating_df = pd.merge(rating_games, rating_sales)\n",
    "rating_df"
   ]
  },
  {
   "cell_type": "code",
   "execution_count": 111,
   "id": "ee5af880",
   "metadata": {},
   "outputs": [
    {
     "data": {
      "image/png": "[encoded data removed]",
      "text/plain": [
       "<Figure size 720x432 with 2 Axes>"
      ]
     },
     "metadata": {},
     "output_type": "display_data"
    }
   ],
   "source": [
    "# Построим диаграмму для сравнения количества игр и объема продаж по ESRB-рейтингам\n",
    "fig, ax1 = plt.subplots(figsize=(10, 6))\n",
    "\n",
    "rating_df_top = rating_df.head()\n",
    "x = rating_df_top['rating']\n",
    "games = rating_df_top['games_count']\n",
    "sales = rating_df_top['sales_count']\n",
    "\n",
    "# Столбцы — количество игр\n",
    "ax1.bar(x, games, color='skyblue', label='Количество игр')\n",
    "ax1.set_ylabel('Количество игр', color='blue')\n",
    "ax1.tick_params(axis='y', labelcolor='blue')\n",
    "\n",
    "# Линия — продажи\n",
    "ax2 = ax1.twinx()\n",
    "ax2.plot(x, sales, color='coral', marker='o', label='Сумма продаж')\n",
    "ax2.set_ylabel('Сумма продаж, млн копий', color='coral')\n",
    "ax2.tick_params(axis='y', labelcolor='coral')\n",
    "\n",
    "plt.title('Сравнение количества игр и объема продаж по ESRB-рейтингам')\n",
    "fig.tight_layout()\n",
    "plt.show()"
   ]
  },
  {
   "cell_type": "markdown",
   "id": "03d09746",
   "metadata": {},
   "source": [
    "Наиболее популярные рейтинги по количеству выпущенных игр — это:  \n",
    "- no rating (без указания рейтинга) — более 4000 игр,\n",
    "- E (Everyone) — свыше 3600 игр,\n",
    "- T (Teen) — около 2600 игр.\n",
    "\n",
    "Лидером по продажам является рейтинг E — игры с таким возрастным ограничением продались на сумму более 2,2 млрд копий. Это говорит о высоком спросе на продукты, ориентированные на широкую аудиторию.\n",
    "\n",
    "Рейтинг M (Mature), несмотря на меньшее количество выпущенных игр, показывает высокий уровень продаж: при 1256 играх продажи составили более 1,2 млрд, что говорит о коммерческом успехе игр для взрослых.\n",
    "\n",
    "Игры без рейтинга (no rating) составляют наибольшую долю по количеству, но по объёму продаж они уступают всем основным категориям, что может указывать на менее популярные или нишевые проекты (например, японские релизы или устаревшие платформы).\n",
    "\n",
    "Игры с рейтингом EC, AO, RP почти не представлены на рынке — это единичные случаи, которые не повлияли на общую картину."
   ]
  },
  {
   "cell_type": "markdown",
   "id": "e3077c2b",
   "metadata": {},
   "source": [
    "### 3.4. Оценки критиков и пользователей\n",
    "#### Динамика средних оценок пользователей и критиков с 2000 по 2013 гг."
   ]
  },
  {
   "cell_type": "code",
   "execution_count": 113,
   "id": "f479b93d",
   "metadata": {},
   "outputs": [
    {
     "data": {
      "image/png": "[encoded data removed]",
      "text/plain": [
       "<Figure size 720x432 with 1 Axes>"
      ]
     },
     "metadata": {
      "needs_background": "light"
     },
     "output_type": "display_data"
    }
   ],
   "source": [
    "# Приведем оценки пользователей и критиков к единому масштабу \n",
    "df_actual['user_score_x10'] = df_actual['user_score']*10 #переведем шкалу пользовательских оценок из 10-балльной в 100-балльную\n",
    "\n",
    "# Сгруппируем средние оценки критиков и пользователей по годам\n",
    "mean_score = df_actual.groupby('year_of_release')[['user_score_x10', 'critic_score']].mean()\n",
    "\n",
    "# Построим линейную диаграмму для сравнения пользовательских и экспертных оценок\n",
    "mean_score.plot(kind = 'line',\n",
    "                figsize = (10, 6),\n",
    "                title = 'Динамика средних оценок критиков и пользователей с 2000 по 2013 гг.',\n",
    "                xlabel = '',\n",
    "                ylabel = '100-балльная шкала оценок',\n",
    "                legend = True,\n",
    "                marker = 'o',\n",
    "                color = ['blue', 'coral'])\n",
    "\n",
    "# Поменяем названия в легенде на более понятные\n",
    "plt.legend(['Оценки пользователей', 'Оценки критиков'])\n",
    "plt.grid(True, axis = 'y')\n",
    "plt.show()"
   ]
  },
  {
   "cell_type": "markdown",
   "id": "e88651fc",
   "metadata": {},
   "source": [
    "С 2000 по 2003 год наблюдается стремительный рост средних оценок: у пользователей — с 16.1 до 49, у критиков — с 27.7 до 52.7. Это — пик исследуемого периода.\n",
    "\n",
    "Начиная с 2004 года, оценки обеих сторон начали стабильно снижаться, достигнув минимума в 2010 году (у пользователей — 19.3, у критиков — 26.3). Затем с 2011 по 2013 год виден небольшой рост.\n",
    "\n",
    "В целом, критики в среднем оценивают игры выше, чем пользователи, но общая динамика идентична. Падение оценок может отражать насыщение рынка или рост требований аудитории. После 2010 года начинается умеренное восстановление интереса и, вероятно, качества игр."
   ]
  },
  {
   "cell_type": "markdown",
   "id": "b57eb091",
   "metadata": {},
   "source": [
    "#### Связь между оценками и продажами в разных регионах"
   ]
  },
  {
   "cell_type": "code",
   "execution_count": 44,
   "id": "ffdc1565",
   "metadata": {},
   "outputs": [],
   "source": [
    "user_sales = df_actual.groupby('user_rating')[['na_sales', 'eu_sales', 'jp_sales', 'other_sales']].mean()"
   ]
  },
  {
   "cell_type": "code",
   "execution_count": 45,
   "id": "f16f4fe4",
   "metadata": {},
   "outputs": [],
   "source": [
    "critic_sales = df_actual.groupby('critic_rating')[['na_sales', 'eu_sales', 'jp_sales', 'other_sales']].mean()"
   ]
  },
  {
   "cell_type": "code",
   "execution_count": 47,
   "id": "b7d6f654",
   "metadata": {},
   "outputs": [
    {
     "data": {
      "image/png": "[encoded data removed]",
      "text/plain": [
       "<Figure size 1008x360 with 2 Axes>"
      ]
     },
     "metadata": {
      "needs_background": "light"
     },
     "output_type": "display_data"
    }
   ],
   "source": [
    "fig, axes = plt.subplots(1, 2, figsize = (14, 5), sharey = True)\n",
    "\n",
    "# Диаграмма по оценкам пользователей\n",
    "user_sales.columns = ['Северная Америка', 'Европа', 'Япония', 'Другие страны']\n",
    "user_sales.T.plot(kind = 'bar',\n",
    "                  ax = axes[0],\n",
    "                  title = 'Средние продажи игр по пользовательским оценкам \\n в разных регионах',\n",
    "                  ylabel = 'Средние продажи, млн копий',\n",
    "                  legend = True,\n",
    "                  rot = 0,\n",
    "                  color = ['skyblue', 'coral', 'gold'])\n",
    "\n",
    "axes[0].grid(True, axis='y')\n",
    "axes[0].legend(title = 'Оценки пользователей')\n",
    "\n",
    "# Диаграмма по оценкам экспертов\n",
    "critic_sales.columns = ['Северная Америка', 'Европа', 'Япония', 'Другие страны']\n",
    "critic_sales.T.plot(kind = 'bar',\n",
    "                  ax = axes[1],\n",
    "                  title = 'Средние продажи игр по экспертным оценкам \\n в разных регионах',\n",
    "                  ylabel = 'Средние продажи, млн копий',\n",
    "                  legend = True,\n",
    "                  rot = 0,\n",
    "                  color = ['lightblue', 'coral', 'gold'])\n",
    "\n",
    "axes[1].grid(True, axis='y')\n",
    "axes[1].legend(title = 'Оценки экспертов')\n",
    "\n",
    "plt.show()"
   ]
  },
  {
   "cell_type": "markdown",
   "id": "94f10204",
   "metadata": {},
   "source": [
    "Игры с `высокой пользовательской оценкой` в среднем `продаются лучше` во всех регионах.  \n",
    "Особенно заметна разница в Японии: средние продажи игр с высокой оценкой там в 22 раза выше, чем у игр с низкой оценкой (0.098 млн против 0.004 млн копий). В Северной Америке, Европе и других регионах игры с высокой оценкой также опережают по продажам, но разница составляет примерно в 2 раза.\n",
    "\n",
    "Что касается оценок критиков, то здесь различия еще более выражены:\n",
    " - В Северной Америке игры с высокой оценкой критиков продаются в 4.8 раза лучше, чем игры со средней оценкой (0.76 млн против 0.23 млн).\n",
    " - В Европе — почти в 3.7 раза лучше.\n",
    " - В остальных регионах наблюдается аналогичная картина.\n",
    "\n",
    "Это может свидетельствовать о том, что `экспертные оценки особенно сильно влияют на решение о покупке`. Пользователи ориентируются на мнение критиков, считая их авторитетными источниками. При этом уже после покупки пользовательская оценка может быть ниже, но на объем продаж это не влияет."
   ]
  },
  {
   "cell_type": "markdown",
   "id": "d2fb32ae",
   "metadata": {},
   "source": [
    "### 3.5. Жанры игр"
   ]
  },
  {
   "cell_type": "markdown",
   "id": "fbcb4a74",
   "metadata": {},
   "source": [
    "**Топ жанров по средним оценкам пользователей и экспертов**"
   ]
  },
  {
   "cell_type": "code",
   "execution_count": 48,
   "id": "5395e5a9",
   "metadata": {},
   "outputs": [
    {
     "data": {
      "text/html": [
       "<div>\n",
       "<style scoped>\n",
       "    .dataframe tbody tr th:only-of-type {\n",
       "        vertical-align: middle;\n",
       "    }\n",
       "\n",
       "    .dataframe tbody tr th {\n",
       "        vertical-align: top;\n",
       "    }\n",
       "\n",
       "    .dataframe thead th {\n",
       "        text-align: right;\n",
       "    }\n",
       "</style>\n",
       "<table border=\"1\" class=\"dataframe\">\n",
       "  <thead>\n",
       "    <tr style=\"text-align: right;\">\n",
       "      <th></th>\n",
       "      <th>genre</th>\n",
       "      <th>user_score_x10</th>\n",
       "      <th>critic_score</th>\n",
       "    </tr>\n",
       "  </thead>\n",
       "  <tbody>\n",
       "    <tr>\n",
       "      <th>8</th>\n",
       "      <td>shooter</td>\n",
       "      <td>54.195804</td>\n",
       "      <td>57.337662</td>\n",
       "    </tr>\n",
       "    <tr>\n",
       "      <th>2</th>\n",
       "      <td>fighting</td>\n",
       "      <td>40.005172</td>\n",
       "      <td>42.920690</td>\n",
       "    </tr>\n",
       "    <tr>\n",
       "      <th>7</th>\n",
       "      <td>role-playing</td>\n",
       "      <td>38.929564</td>\n",
       "      <td>40.489342</td>\n",
       "    </tr>\n",
       "    <tr>\n",
       "      <th>0</th>\n",
       "      <td>action</td>\n",
       "      <td>38.879675</td>\n",
       "      <td>42.790244</td>\n",
       "    </tr>\n",
       "    <tr>\n",
       "      <th>6</th>\n",
       "      <td>racing</td>\n",
       "      <td>37.592133</td>\n",
       "      <td>46.299172</td>\n",
       "    </tr>\n",
       "    <tr>\n",
       "      <th>4</th>\n",
       "      <td>platform</td>\n",
       "      <td>37.485337</td>\n",
       "      <td>44.838710</td>\n",
       "    </tr>\n",
       "    <tr>\n",
       "      <th>11</th>\n",
       "      <td>strategy</td>\n",
       "      <td>34.397661</td>\n",
       "      <td>37.538012</td>\n",
       "    </tr>\n",
       "    <tr>\n",
       "      <th>10</th>\n",
       "      <td>sports</td>\n",
       "      <td>32.821782</td>\n",
       "      <td>42.309131</td>\n",
       "    </tr>\n",
       "    <tr>\n",
       "      <th>9</th>\n",
       "      <td>simulation</td>\n",
       "      <td>24.802486</td>\n",
       "      <td>29.338398</td>\n",
       "    </tr>\n",
       "    <tr>\n",
       "      <th>5</th>\n",
       "      <td>puzzle</td>\n",
       "      <td>10.724731</td>\n",
       "      <td>30.255914</td>\n",
       "    </tr>\n",
       "    <tr>\n",
       "      <th>3</th>\n",
       "      <td>misc</td>\n",
       "      <td>10.240566</td>\n",
       "      <td>20.435984</td>\n",
       "    </tr>\n",
       "    <tr>\n",
       "      <th>1</th>\n",
       "      <td>adventure</td>\n",
       "      <td>9.826561</td>\n",
       "      <td>17.050545</td>\n",
       "    </tr>\n",
       "  </tbody>\n",
       "</table>\n",
       "</div>"
      ],
      "text/plain": [
       "           genre  user_score_x10  critic_score\n",
       "8        shooter       54.195804     57.337662\n",
       "2       fighting       40.005172     42.920690\n",
       "7   role-playing       38.929564     40.489342\n",
       "0         action       38.879675     42.790244\n",
       "6         racing       37.592133     46.299172\n",
       "4       platform       37.485337     44.838710\n",
       "11      strategy       34.397661     37.538012\n",
       "10        sports       32.821782     42.309131\n",
       "9     simulation       24.802486     29.338398\n",
       "5         puzzle       10.724731     30.255914\n",
       "3           misc       10.240566     20.435984\n",
       "1      adventure        9.826561     17.050545"
      ]
     },
     "execution_count": 48,
     "metadata": {},
     "output_type": "execute_result"
    }
   ],
   "source": [
    "# Посчитаем средние оценки пользователей по жанрам\n",
    "user_score_genres = df_actual.groupby('genre', as_index=False)['user_score_x10'].mean()\n",
    "\n",
    "# Посчитаем средние оценки экспертов по жанрам\n",
    "critic_score_genres = df_actual.groupby('genre', as_index=False)['critic_score'].mean()\n",
    "\n",
    "# Объдиним два датафрейма\n",
    "mean_scores_genres = pd.merge(user_score_genres, critic_score_genres, how = 'inner', on = 'genre')\n",
    "mean_scores_genres.sort_values(ascending = False, by = 'user_score_x10')"
   ]
  },
  {
   "cell_type": "code",
   "execution_count": 49,
   "id": "fc4bf67e",
   "metadata": {},
   "outputs": [
    {
     "data": {
      "image/png": "[encoded data removed]",
      "text/plain": [
       "<Figure size 720x432 with 1 Axes>"
      ]
     },
     "metadata": {
      "needs_background": "light"
     },
     "output_type": "display_data"
    }
   ],
   "source": [
    "# Построим диаграмму для демонстрации пользовательских и экспертных оценок игр разных жанров\n",
    "mean_scores_genres.sort_values(by = 'user_score_x10').tail(7).plot(kind = 'barh',\n",
    "                                                                   x = 'genre',\n",
    "                                                                   figsize = (10, 6),\n",
    "                                                                   color = ['skyblue', 'coral'],\n",
    "                                                                   xlabel = '',\n",
    "                                                                   ylabel = 'Средние оценки, в 100-балльной шкале')\n",
    "plt.legend(['Оценки пользователей', 'Оценки экспертов'])\n",
    "\n",
    "plt.show()"
   ]
  },
  {
   "cell_type": "markdown",
   "id": "c07b60d1",
   "metadata": {},
   "source": [
    "Наиболее высоко оценённый жанр у обеих групп — `Shooter` (средняя оценка пользователей — 54.2, критиков — 57.3). Он стабильно лидирует.\n",
    "\n",
    "В топ-5 также входят:\n",
    "— у пользователей: Fighting, Role-playing, Action, Racing\n",
    "— у критиков: Racing, Platform, Fighting, Action\n",
    "\n",
    "Жанры Adventure, Puzzle, Misc, Simulation и Strategy получают наименьшие оценки. Особенно низко их оценивают пользователи — зачастую в 2–3 раза ниже, чем критики.\n",
    "\n",
    "Критики в целом ставят более ровные и высокие оценки, особенно технически сложным жанрам (Racing, Platform).  \n",
    "Пользователи более эмоциональны: предпочитают динамичные жанры (Shooter, Fighting), игнорируя нишевые.  \n",
    "Наименее популярные по оценкам — Adventure и Misc, что может указывать на слабую проработку или узкую аудиторию."
   ]
  },
  {
   "cell_type": "markdown",
   "id": "c0158881",
   "metadata": {
    "id": "c0158881"
   },
   "source": [
    "---\n",
    "<a id='вывод'></a>\n",
    "## 4. Итоговый вывод"
   ]
  },
  {
   "cell_type": "markdown",
   "id": "187e29cb-ad70-4959-8447-92d0acc02701",
   "metadata": {
    "id": "0c1afc40"
   },
   "source": [
    "В рамках проекта была проделана работа по предобработке данных, категоризации и фильтрации, а также был проведен анализ развития игровой индустрии с 2000 по 2013 год. \n",
    "\n",
    "- В рамках `предобработки данных` были удалены пропущенные значения в некоторых столбцах, часть значений была заменена значениями-индикаторами. Кроме того, для части переменных типы данных были заменены на другие, более соответствующие имеющимся данным. Также были обработаны как неявные, так и явные дубликаты. В результате было удалено 512 строк, что составило 3% от всего объема исходных данных.\n",
    "\n",
    "\n",
    "- Для изучения истории продаж игр в начале XXI века были отфильтрованы данные за период с 2000 по 2013 год включительно, эти данные сформировали новый датасет `df_actual`.\n",
    "\n",
    "\n",
    "- В датасет `df_actual` было добавлено 2 новых столбцах, сформированных на основе категоризации:\n",
    "   - `user_rating` — на основе оценок пользователей (столбец `user_score`) были выделены следующие категории: высокая оценка (от 8 до 10 включительно), средняя оценка (от 3 до 8, не включая правую границу интервала) и низкая оценка (от 0 до 3, не включая правую границу интервала).\n",
    "   -  `critic_rating` — на основе оценок пользователей (столбец `critic_score`) были выделены следующие категории: высокая оценка (от 80 до 100 включительно), средняя оценка (от 30 до 80, не включая правую границу интервала) и низкая оценка (от 0 до 30, не включая правую границу интервала).\n",
    "\n",
    "**В результате исследования развития игровой индустрии с 2000 по 2013 гг. были сделаны следующие выводы:**\n",
    "\n",
    "- Рынок видеоигр рос до 2008 года, достигнув пика продаж в 671 млн копий. После этого начался стабильный спад, возможно из-за насыщения рынка и роста конкуренции со стороны мобильных игр.  \n",
    "\n",
    "\n",
    "- Северная Америка и Европа — ключевые регионы, определяющие объем мировых продаж. Япония и другие страны показывали схожую динамику, но в меньших масштабах.\n",
    "\n",
    "\n",
    "- Наибольшее количество игр было выпущено на платформах PS2 и Nintendo DS — свыше 2100 игр каждая. В десятку также вошли Wii, PSP, Xbox 360, PS3, GBA, ПК и другие популярные платформы тех лет.\n",
    "\n",
    "\n",
    "- Самыми распространёнными ESRB-рейтингами были:  \n",
    "  - E (Everyone) (3662 игр),\n",
    "  - T (Teen) (2588 игр),\n",
    "  - No rating (4058 игр, представленных в базе, не имели данных о рейтинге).\n",
    "\n",
    "При этом лидер по продажам — рейтинг E, ориентированный на широкую аудиторию. Игры с рейтингом M (Mature) при меньшем количестве демонстрируют сопоставимо высокие продажи.\n",
    "\n",
    "\n",
    "- Оценки пользователей и критиков достигли максимума в 2003 году, после чего началось их снижение. У критиков оценки стабильно выше, но общая тенденция одинаковая — падение до 2010 года и лёгкий рост после.\n",
    "\n",
    "\n",
    "- Оценки влияют на продажи:\n",
    "  - Игры с высокими оценками продаются лучше — особенно в Японии и в Северной Америке.\n",
    "  - Экспертные мнения оказывают более заметное влияние на решения о покупке.\n",
    "\n",
    "\n",
    "- Жанр Shooter — самый высоко оценённый как пользователями, так и критиками.\n",
    "  - Пользователи предпочитают динамичные жанры (Fighting, Role-playing).\n",
    "  - Критики выше оценивают технически сложные (Racing, Platform).\n",
    "  - Adventure и Puzzle — наименее любимые пользователями жанры."
   ]
  }
 ],
 "metadata": {
  "ExecuteTimeLog": [
   {
    "duration": 384,
    "start_time": "2025-04-20T17:17:54.862Z"
   },
   {
    "duration": 102,
    "start_time": "2025-04-20T17:17:55.248Z"
   },
   {
    "duration": 0,
    "start_time": "2025-04-20T17:17:55.352Z"
   },
   {
    "duration": 0,
    "start_time": "2025-04-20T17:17:55.353Z"
   },
   {
    "duration": 0,
    "start_time": "2025-04-20T17:17:55.354Z"
   },
   {
    "duration": 0,
    "start_time": "2025-04-20T17:17:55.355Z"
   },
   {
    "duration": 0,
    "start_time": "2025-04-20T17:17:55.356Z"
   },
   {
    "duration": 0,
    "start_time": "2025-04-20T17:17:55.358Z"
   },
   {
    "duration": 0,
    "start_time": "2025-04-20T17:17:55.359Z"
   },
   {
    "duration": 0,
    "start_time": "2025-04-20T17:17:55.360Z"
   },
   {
    "duration": 0,
    "start_time": "2025-04-20T17:17:55.360Z"
   },
   {
    "duration": 0,
    "start_time": "2025-04-20T17:17:55.361Z"
   },
   {
    "duration": 1,
    "start_time": "2025-04-20T17:17:55.362Z"
   },
   {
    "duration": 0,
    "start_time": "2025-04-20T17:17:55.363Z"
   },
   {
    "duration": 0,
    "start_time": "2025-04-20T17:17:55.364Z"
   },
   {
    "duration": 0,
    "start_time": "2025-04-20T17:17:55.366Z"
   },
   {
    "duration": 0,
    "start_time": "2025-04-20T17:17:55.366Z"
   },
   {
    "duration": 0,
    "start_time": "2025-04-20T17:17:55.367Z"
   },
   {
    "duration": 0,
    "start_time": "2025-04-20T17:17:55.368Z"
   },
   {
    "duration": 0,
    "start_time": "2025-04-20T17:17:55.369Z"
   },
   {
    "duration": 0,
    "start_time": "2025-04-20T17:17:55.371Z"
   },
   {
    "duration": 0,
    "start_time": "2025-04-20T17:17:55.371Z"
   },
   {
    "duration": 0,
    "start_time": "2025-04-20T17:17:55.372Z"
   },
   {
    "duration": 0,
    "start_time": "2025-04-20T17:17:55.373Z"
   },
   {
    "duration": 0,
    "start_time": "2025-04-20T17:17:55.374Z"
   },
   {
    "duration": 0,
    "start_time": "2025-04-20T17:17:55.375Z"
   },
   {
    "duration": 0,
    "start_time": "2025-04-20T17:17:55.376Z"
   },
   {
    "duration": 0,
    "start_time": "2025-04-20T17:17:55.378Z"
   },
   {
    "duration": 0,
    "start_time": "2025-04-20T17:17:55.379Z"
   },
   {
    "duration": 88,
    "start_time": "2025-04-20T17:18:36.379Z"
   },
   {
    "duration": 16,
    "start_time": "2025-04-20T17:18:43.273Z"
   },
   {
    "duration": 71,
    "start_time": "2025-04-20T17:18:43.291Z"
   },
   {
    "duration": 4,
    "start_time": "2025-04-20T17:18:43.364Z"
   },
   {
    "duration": 3,
    "start_time": "2025-04-20T17:18:43.369Z"
   },
   {
    "duration": 10,
    "start_time": "2025-04-20T17:18:43.374Z"
   },
   {
    "duration": 11,
    "start_time": "2025-04-20T17:18:43.386Z"
   },
   {
    "duration": 12,
    "start_time": "2025-04-20T17:18:43.398Z"
   },
   {
    "duration": 9,
    "start_time": "2025-04-20T17:18:43.434Z"
   },
   {
    "duration": 6,
    "start_time": "2025-04-20T17:18:43.445Z"
   },
   {
    "duration": 7,
    "start_time": "2025-04-20T17:18:43.452Z"
   },
   {
    "duration": 11,
    "start_time": "2025-04-20T17:18:43.460Z"
   },
   {
    "duration": 10,
    "start_time": "2025-04-20T17:18:43.473Z"
   },
   {
    "duration": 3,
    "start_time": "2025-04-20T17:18:43.485Z"
   },
   {
    "duration": 6,
    "start_time": "2025-04-20T17:18:43.489Z"
   },
   {
    "duration": 5,
    "start_time": "2025-04-20T17:18:43.536Z"
   },
   {
    "duration": 7,
    "start_time": "2025-04-20T17:18:43.542Z"
   },
   {
    "duration": 9,
    "start_time": "2025-04-20T17:18:43.550Z"
   },
   {
    "duration": 13,
    "start_time": "2025-04-20T17:18:43.561Z"
   },
   {
    "duration": 50,
    "start_time": "2025-04-20T17:18:43.576Z"
   },
   {
    "duration": 12,
    "start_time": "2025-04-20T17:18:43.629Z"
   },
   {
    "duration": 44,
    "start_time": "2025-04-20T17:18:43.642Z"
   },
   {
    "duration": 0,
    "start_time": "2025-04-20T17:18:43.687Z"
   },
   {
    "duration": 0,
    "start_time": "2025-04-20T17:18:43.689Z"
   },
   {
    "duration": 0,
    "start_time": "2025-04-20T17:18:43.690Z"
   },
   {
    "duration": 0,
    "start_time": "2025-04-20T17:18:43.691Z"
   },
   {
    "duration": 0,
    "start_time": "2025-04-20T17:18:43.692Z"
   },
   {
    "duration": 0,
    "start_time": "2025-04-20T17:18:43.693Z"
   },
   {
    "duration": 14,
    "start_time": "2025-04-20T17:19:02.649Z"
   },
   {
    "duration": 5,
    "start_time": "2025-04-20T17:23:56.004Z"
   },
   {
    "duration": 11,
    "start_time": "2025-04-20T17:23:56.011Z"
   },
   {
    "duration": 5,
    "start_time": "2025-04-20T17:23:56.023Z"
   },
   {
    "duration": 6,
    "start_time": "2025-04-20T17:23:56.030Z"
   },
   {
    "duration": 6,
    "start_time": "2025-04-20T17:23:56.037Z"
   },
   {
    "duration": 10,
    "start_time": "2025-04-20T17:23:56.045Z"
   },
   {
    "duration": 434,
    "start_time": "2025-04-21T08:46:53.431Z"
   },
   {
    "duration": 143,
    "start_time": "2025-04-21T08:46:53.867Z"
   },
   {
    "duration": 20,
    "start_time": "2025-04-21T08:46:54.011Z"
   },
   {
    "duration": 23,
    "start_time": "2025-04-21T08:46:54.033Z"
   },
   {
    "duration": 23,
    "start_time": "2025-04-21T08:46:54.059Z"
   },
   {
    "duration": 92,
    "start_time": "2025-04-21T08:46:54.084Z"
   },
   {
    "duration": 19,
    "start_time": "2025-04-21T08:46:54.178Z"
   },
   {
    "duration": 18,
    "start_time": "2025-04-21T08:46:54.199Z"
   },
   {
    "duration": 13,
    "start_time": "2025-04-21T08:46:54.218Z"
   },
   {
    "duration": 11,
    "start_time": "2025-04-21T08:46:54.233Z"
   },
   {
    "duration": 9,
    "start_time": "2025-04-21T08:46:54.246Z"
   },
   {
    "duration": 16,
    "start_time": "2025-04-21T08:46:54.257Z"
   },
   {
    "duration": 92,
    "start_time": "2025-04-21T08:46:54.275Z"
   },
   {
    "duration": 10,
    "start_time": "2025-04-21T08:46:54.370Z"
   },
   {
    "duration": 8,
    "start_time": "2025-04-21T08:46:54.381Z"
   },
   {
    "duration": 5,
    "start_time": "2025-04-21T08:46:54.391Z"
   },
   {
    "duration": 15,
    "start_time": "2025-04-21T08:46:54.397Z"
   },
   {
    "duration": 16,
    "start_time": "2025-04-21T08:46:54.414Z"
   },
   {
    "duration": 6,
    "start_time": "2025-04-21T08:46:54.432Z"
   },
   {
    "duration": 8,
    "start_time": "2025-04-21T08:46:54.440Z"
   },
   {
    "duration": 7,
    "start_time": "2025-04-21T08:46:54.449Z"
   },
   {
    "duration": 10,
    "start_time": "2025-04-21T08:46:54.457Z"
   },
   {
    "duration": 16,
    "start_time": "2025-04-21T08:46:54.469Z"
   },
   {
    "duration": 22,
    "start_time": "2025-04-21T08:46:54.486Z"
   },
   {
    "duration": 19,
    "start_time": "2025-04-21T08:46:54.510Z"
   },
   {
    "duration": 13,
    "start_time": "2025-04-21T08:46:54.531Z"
   },
   {
    "duration": 4,
    "start_time": "2025-04-21T08:46:54.546Z"
   },
   {
    "duration": 14,
    "start_time": "2025-04-21T08:46:54.551Z"
   },
   {
    "duration": 8,
    "start_time": "2025-04-21T08:46:54.567Z"
   },
   {
    "duration": 35,
    "start_time": "2025-04-21T08:46:54.576Z"
   },
   {
    "duration": 8,
    "start_time": "2025-04-21T08:46:54.612Z"
   },
   {
    "duration": 8,
    "start_time": "2025-04-21T08:46:54.622Z"
   },
   {
    "duration": 13,
    "start_time": "2025-04-21T08:46:54.631Z"
   }
  ],
  "colab": {
   "provenance": []
  },
  "kernelspec": {
   "display_name": "Python 3 (ipykernel)",
   "language": "python",
   "name": "python3"
  },
  "language_info": {
   "codemirror_mode": {
    "name": "ipython",
    "version": 3
   },
   "file_extension": ".py",
   "mimetype": "text/x-python",
   "name": "python",
   "nbconvert_exporter": "python",
   "pygments_lexer": "ipython3",
   "version": "3.9.7"
  },
  "toc": {
   "base_numbering": 1,
   "nav_menu": {},
   "number_sections": true,
   "sideBar": true,
   "skip_h1_title": true,
   "title_cell": "Table of Contents",
   "title_sidebar": "Contents",
   "toc_cell": false,
   "toc_position": {},
   "toc_section_display": true,
   "toc_window_display": false
  }
 },
 "nbformat": 4,
 "nbformat_minor": 5
}
