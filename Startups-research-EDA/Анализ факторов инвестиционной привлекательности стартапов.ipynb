{
 "cells": [
  {
   "cell_type": "markdown",
   "metadata": {
    "id": "4mJbK1knrJgz"
   },
   "source": [
    "# Анализ факторов инвестиционной привлекательности стартапов"
   ]
  },
  {
   "cell_type": "markdown",
   "metadata": {
    "id": "P6j0r3worJg0"
   },
   "source": [
    "## Введение"
   ]
  },
  {
   "cell_type": "markdown",
   "metadata": {
    "id": "8lQtbsIUyFG6"
   },
   "source": [
    "Финансовая компания, которая предоставляет льготные займы стартапам, хочет войти на инвестиционный рынок с прицелом на покупку, развитие и последующую перепродажу перспективных стартапов. Для разработки модели бизнеса нужна информация. Чтобы выработать общее понимание, какие данные могут быть полезны, проводится исследование на исторических данных.\n",
    "\n",
    "Данные неполны, поэтому заказчик, кроме ответа на некоторые интересующие его вопросы, просит аккуратно относиться к получаемым в процессе исследования значениям показателей и выводам и стараться оценивать их на возможные искажения.\n",
    "\n",
    "**Цель исследования** — выявить ключевые признаки и показатели, которые повышают вероятность успешной сделки по покупке стартапа, для улучшения оценки инвестиционной привлекательности."
   ]
  },
  {
   "cell_type": "markdown",
   "metadata": {},
   "source": [
    "### Описание данных\n",
    "В проекте будут использованы следующие датасеты:\n",
    "- `acquisition.csv` — содержит информацию о покупках одними компаниями других компаний;\n",
    "- `company_and_rounds.csv` — cодержит информацию о компаниях и раундах финансирования;\n",
    "- `education.csv` — содержит информацию об образовании сотрудника;\n",
    "- `people.csv` — содержит информацию о сотрудниках;\n",
    "- `degrees.csv` — содержит информацию о типе образования сотрудника."
   ]
  },
  {
   "cell_type": "markdown",
   "metadata": {},
   "source": [
    "### Содержимое проекта\n",
    "\n",
    "1. Знакомство с данными: загрузка и первичная предобработка.\n",
    "2. Предобработка данных, предварительное исследование.\n",
    "3. Исследовательский анализ объединённых таблиц.\n",
    "4. Итоговый вывод и рекомендации.\n",
    "\n",
    "---"
   ]
  },
  {
   "cell_type": "markdown",
   "metadata": {
    "id": "xqr6uttCrJg0"
   },
   "source": [
    "\n",
    "## Шаг 1. Знакомство с данными: загрузка и первичная предобработка"
   ]
  },
  {
   "cell_type": "code",
   "execution_count": 1,
   "metadata": {},
   "outputs": [],
   "source": [
    "#!pip install missingno"
   ]
  },
  {
   "cell_type": "code",
   "execution_count": 76,
   "metadata": {},
   "outputs": [],
   "source": [
    "# Импортируем библиотеки\n",
    "import pandas as pd\n",
    "import numpy as np\n",
    "from scipy.stats import percentileofscore\n",
    "\n",
    "# Загружаем библиотеки для визуализации данных\n",
    "import matplotlib.pyplot as plt\n",
    "import seaborn as sns\n",
    "import missingno as msno"
   ]
  },
  {
   "cell_type": "markdown",
   "metadata": {},
   "source": [
    "### 1.1. Вывод общей информации, исправление названия столбцов"
   ]
  },
  {
   "cell_type": "code",
   "execution_count": 3,
   "metadata": {},
   "outputs": [],
   "source": [
    "# Загружаем данные\n",
    "path = 'https://code.s3.yandex.net/datasets/'\n",
    "company_and_rounds_df = pd.read_csv(path + 'company_and_rounds.csv')\n",
    "acquisition_df = pd.read_csv(path + 'acquisition.csv')\n",
    "people_df = pd.read_csv(path + 'people.csv')\n",
    "education_df = pd.read_csv(path + 'education.csv')\n",
    "degrees_df = pd.read_csv(path + 'degrees.csv')\n",
    "fund_df = pd.read_csv(path + 'fund.csv')\n",
    "investment_df = pd.read_csv(path + 'investment.csv')"
   ]
  },
  {
   "cell_type": "markdown",
   "metadata": {},
   "source": [
    "**Познакомимся с данными датасета `company_and_rounds_df`**"
   ]
  },
  {
   "cell_type": "code",
   "execution_count": 4,
   "metadata": {},
   "outputs": [
    {
     "data": {
      "text/html": [
       "<div>\n",
       "<style scoped>\n",
       "    .dataframe tbody tr th:only-of-type {\n",
       "        vertical-align: middle;\n",
       "    }\n",
       "\n",
       "    .dataframe tbody tr th {\n",
       "        vertical-align: top;\n",
       "    }\n",
       "\n",
       "    .dataframe thead th {\n",
       "        text-align: right;\n",
       "    }\n",
       "</style>\n",
       "<table border=\"1\" class=\"dataframe\">\n",
       "  <thead>\n",
       "    <tr style=\"text-align: right;\">\n",
       "      <th></th>\n",
       "      <th>company  ID</th>\n",
       "      <th>name</th>\n",
       "      <th>category  code</th>\n",
       "      <th>status</th>\n",
       "      <th>founded  at</th>\n",
       "      <th>closed  at</th>\n",
       "      <th>domain</th>\n",
       "      <th>network  username</th>\n",
       "      <th>country  code</th>\n",
       "      <th>investment  rounds</th>\n",
       "      <th>...</th>\n",
       "      <th>milestones</th>\n",
       "      <th>funding  round  id</th>\n",
       "      <th>company  id</th>\n",
       "      <th>funded  at</th>\n",
       "      <th>funding  round  type</th>\n",
       "      <th>raised  amount</th>\n",
       "      <th>pre  money  valuation</th>\n",
       "      <th>participants</th>\n",
       "      <th>is  first  round</th>\n",
       "      <th>is  last  round</th>\n",
       "    </tr>\n",
       "  </thead>\n",
       "  <tbody>\n",
       "    <tr>\n",
       "      <th>0</th>\n",
       "      <td>1.0</td>\n",
       "      <td>Wetpaint</td>\n",
       "      <td>web</td>\n",
       "      <td>operating</td>\n",
       "      <td>2005-10-17</td>\n",
       "      <td>NaN</td>\n",
       "      <td>wetpaint-inc.com</td>\n",
       "      <td>BachelrWetpaint</td>\n",
       "      <td>USA</td>\n",
       "      <td>0.0</td>\n",
       "      <td>...</td>\n",
       "      <td>5.0</td>\n",
       "      <td>888.0</td>\n",
       "      <td>1.0</td>\n",
       "      <td>2005-10-01</td>\n",
       "      <td>series-a</td>\n",
       "      <td>5250000.0</td>\n",
       "      <td>0.0</td>\n",
       "      <td>2.0</td>\n",
       "      <td>0.0</td>\n",
       "      <td>1.0</td>\n",
       "    </tr>\n",
       "    <tr>\n",
       "      <th>1</th>\n",
       "      <td>1.0</td>\n",
       "      <td>Wetpaint</td>\n",
       "      <td>web</td>\n",
       "      <td>operating</td>\n",
       "      <td>2005-10-17</td>\n",
       "      <td>NaN</td>\n",
       "      <td>wetpaint-inc.com</td>\n",
       "      <td>BachelrWetpaint</td>\n",
       "      <td>USA</td>\n",
       "      <td>0.0</td>\n",
       "      <td>...</td>\n",
       "      <td>5.0</td>\n",
       "      <td>889.0</td>\n",
       "      <td>1.0</td>\n",
       "      <td>2007-01-01</td>\n",
       "      <td>series-b</td>\n",
       "      <td>9500000.0</td>\n",
       "      <td>0.0</td>\n",
       "      <td>3.0</td>\n",
       "      <td>0.0</td>\n",
       "      <td>0.0</td>\n",
       "    </tr>\n",
       "    <tr>\n",
       "      <th>2</th>\n",
       "      <td>1.0</td>\n",
       "      <td>Wetpaint</td>\n",
       "      <td>web</td>\n",
       "      <td>operating</td>\n",
       "      <td>2005-10-17</td>\n",
       "      <td>NaN</td>\n",
       "      <td>wetpaint-inc.com</td>\n",
       "      <td>BachelrWetpaint</td>\n",
       "      <td>USA</td>\n",
       "      <td>0.0</td>\n",
       "      <td>...</td>\n",
       "      <td>5.0</td>\n",
       "      <td>2312.0</td>\n",
       "      <td>1.0</td>\n",
       "      <td>2008-05-19</td>\n",
       "      <td>series-c+</td>\n",
       "      <td>25000000.0</td>\n",
       "      <td>0.0</td>\n",
       "      <td>4.0</td>\n",
       "      <td>1.0</td>\n",
       "      <td>0.0</td>\n",
       "    </tr>\n",
       "    <tr>\n",
       "      <th>3</th>\n",
       "      <td>10.0</td>\n",
       "      <td>Flektor</td>\n",
       "      <td>games_video</td>\n",
       "      <td>acquired</td>\n",
       "      <td>NaN</td>\n",
       "      <td>NaN</td>\n",
       "      <td>flektor.com</td>\n",
       "      <td>NaN</td>\n",
       "      <td>USA</td>\n",
       "      <td>0.0</td>\n",
       "      <td>...</td>\n",
       "      <td>0.0</td>\n",
       "      <td>NaN</td>\n",
       "      <td>NaN</td>\n",
       "      <td>NaN</td>\n",
       "      <td>NaN</td>\n",
       "      <td>NaN</td>\n",
       "      <td>NaN</td>\n",
       "      <td>NaN</td>\n",
       "      <td>NaN</td>\n",
       "      <td>NaN</td>\n",
       "    </tr>\n",
       "    <tr>\n",
       "      <th>4</th>\n",
       "      <td>100.0</td>\n",
       "      <td>There</td>\n",
       "      <td>games_video</td>\n",
       "      <td>acquired</td>\n",
       "      <td>NaN</td>\n",
       "      <td>NaN</td>\n",
       "      <td>there.com</td>\n",
       "      <td>NaN</td>\n",
       "      <td>USA</td>\n",
       "      <td>0.0</td>\n",
       "      <td>...</td>\n",
       "      <td>4.0</td>\n",
       "      <td>NaN</td>\n",
       "      <td>NaN</td>\n",
       "      <td>NaN</td>\n",
       "      <td>NaN</td>\n",
       "      <td>NaN</td>\n",
       "      <td>NaN</td>\n",
       "      <td>NaN</td>\n",
       "      <td>NaN</td>\n",
       "      <td>NaN</td>\n",
       "    </tr>\n",
       "  </tbody>\n",
       "</table>\n",
       "<p>5 rows × 22 columns</p>\n",
       "</div>"
      ],
      "text/plain": [
       "   company  ID      name category  code     status founded  at closed  at  \\\n",
       "0          1.0  Wetpaint            web  operating  2005-10-17        NaN   \n",
       "1          1.0  Wetpaint            web  operating  2005-10-17        NaN   \n",
       "2          1.0  Wetpaint            web  operating  2005-10-17        NaN   \n",
       "3         10.0   Flektor    games_video   acquired         NaN        NaN   \n",
       "4        100.0     There    games_video   acquired         NaN        NaN   \n",
       "\n",
       "             domain network  username country  code  investment  rounds  ...  \\\n",
       "0  wetpaint-inc.com   BachelrWetpaint           USA                 0.0  ...   \n",
       "1  wetpaint-inc.com   BachelrWetpaint           USA                 0.0  ...   \n",
       "2  wetpaint-inc.com   BachelrWetpaint           USA                 0.0  ...   \n",
       "3       flektor.com               NaN           USA                 0.0  ...   \n",
       "4         there.com               NaN           USA                 0.0  ...   \n",
       "\n",
       "   milestones  funding  round  id  company  id  funded  at  \\\n",
       "0         5.0               888.0          1.0  2005-10-01   \n",
       "1         5.0               889.0          1.0  2007-01-01   \n",
       "2         5.0              2312.0          1.0  2008-05-19   \n",
       "3         0.0                 NaN          NaN         NaN   \n",
       "4         4.0                 NaN          NaN         NaN   \n",
       "\n",
       "   funding  round  type raised  amount pre  money  valuation  participants  \\\n",
       "0              series-a      5250000.0                   0.0           2.0   \n",
       "1              series-b      9500000.0                   0.0           3.0   \n",
       "2             series-c+     25000000.0                   0.0           4.0   \n",
       "3                   NaN            NaN                   NaN           NaN   \n",
       "4                   NaN            NaN                   NaN           NaN   \n",
       "\n",
       "   is  first  round  is  last  round  \n",
       "0               0.0              1.0  \n",
       "1               0.0              0.0  \n",
       "2               1.0              0.0  \n",
       "3               NaN              NaN  \n",
       "4               NaN              NaN  \n",
       "\n",
       "[5 rows x 22 columns]"
      ]
     },
     "execution_count": 4,
     "metadata": {},
     "output_type": "execute_result"
    }
   ],
   "source": [
    "company_and_rounds_df.head()"
   ]
  },
  {
   "cell_type": "code",
   "execution_count": 5,
   "metadata": {
    "scrolled": false
   },
   "outputs": [
    {
     "name": "stdout",
     "output_type": "stream",
     "text": [
      "<class 'pandas.core.frame.DataFrame'>\n",
      "RangeIndex: 217774 entries, 0 to 217773\n",
      "Data columns (total 22 columns):\n",
      " #   Column                 Non-Null Count   Dtype  \n",
      "---  ------                 --------------   -----  \n",
      " 0   company  ID            217472 non-null  float64\n",
      " 1   name                   217472 non-null  object \n",
      " 2   category  code         143886 non-null  object \n",
      " 3   status                 217472 non-null  object \n",
      " 4   founded  at            109956 non-null  object \n",
      " 5   closed  at             3449 non-null    object \n",
      " 6   domain                 147159 non-null  object \n",
      " 7   network  username      95534 non-null   object \n",
      " 8   country  code          108607 non-null  object \n",
      " 9   investment  rounds     217472 non-null  float64\n",
      " 10  funding  rounds        217472 non-null  float64\n",
      " 11  funding  total         217472 non-null  float64\n",
      " 12  milestones             217472 non-null  float64\n",
      " 13  funding  round  id     52928 non-null   float64\n",
      " 14  company  id            52928 non-null   float64\n",
      " 15  funded  at             52680 non-null   object \n",
      " 16  funding  round  type   52928 non-null   object \n",
      " 17  raised  amount         52928 non-null   float64\n",
      " 18  pre  money  valuation  52928 non-null   float64\n",
      " 19  participants           52928 non-null   float64\n",
      " 20  is  first  round       52928 non-null   float64\n",
      " 21  is  last  round        52928 non-null   float64\n",
      "dtypes: float64(12), object(10)\n",
      "memory usage: 36.6+ MB\n"
     ]
    }
   ],
   "source": [
    "company_and_rounds_df.info()"
   ]
  },
  {
   "cell_type": "markdown",
   "metadata": {},
   "source": [
    "Датасет `company_and_rounds_df` содержит 22 столбца и 217774 строк, в которых представлена информация о компаниях и раундах финансирования.\n",
    "\n",
    "После первичного анализа данных можно сделать следующие выводы:\n",
    "- Названия столбцов лучше привести к одному виду — snake case.\n",
    "- Данные содержат 12 столбцов типа `float64` и 10 столбцов типа `object`.  \n",
    "  - Данные в столбцах `category  code`, `funding  round  type` и `status` представлены ограниченным набором значений и хранятся в типе `object` — эти столбцы следует перевести в тип `category`.\n",
    "  - Столбцы `funded  at` и `founded_at` следует перевести в тип `data`.\n",
    "  - Данные в столбцах `is  first  round` и `is  last  round` следует перевести в тип `bool`, т.к. они содержат логические значения 1 и 0.\n",
    "- Судя по первому знакомству с данными, значения в столбцах соответствуют своему описанию.\n",
    "\n",
    "---"
   ]
  },
  {
   "cell_type": "markdown",
   "metadata": {},
   "source": [
    "**Теперь познакомимся с данными датасета `acquisition_df`**"
   ]
  },
  {
   "cell_type": "code",
   "execution_count": 6,
   "metadata": {},
   "outputs": [
    {
     "data": {
      "text/html": [
       "<div>\n",
       "<style scoped>\n",
       "    .dataframe tbody tr th:only-of-type {\n",
       "        vertical-align: middle;\n",
       "    }\n",
       "\n",
       "    .dataframe tbody tr th {\n",
       "        vertical-align: top;\n",
       "    }\n",
       "\n",
       "    .dataframe thead th {\n",
       "        text-align: right;\n",
       "    }\n",
       "</style>\n",
       "<table border=\"1\" class=\"dataframe\">\n",
       "  <thead>\n",
       "    <tr style=\"text-align: right;\">\n",
       "      <th></th>\n",
       "      <th>id</th>\n",
       "      <th>acquiring_company_id</th>\n",
       "      <th>acquired_company_id</th>\n",
       "      <th>term_code</th>\n",
       "      <th>price_amount</th>\n",
       "      <th>acquired_at</th>\n",
       "    </tr>\n",
       "  </thead>\n",
       "  <tbody>\n",
       "    <tr>\n",
       "      <th>0</th>\n",
       "      <td>1</td>\n",
       "      <td>11</td>\n",
       "      <td>10</td>\n",
       "      <td>NaN</td>\n",
       "      <td>20000000</td>\n",
       "      <td>2007-05-30</td>\n",
       "    </tr>\n",
       "    <tr>\n",
       "      <th>1</th>\n",
       "      <td>7</td>\n",
       "      <td>59</td>\n",
       "      <td>72</td>\n",
       "      <td>cash</td>\n",
       "      <td>60000000</td>\n",
       "      <td>2007-07-01</td>\n",
       "    </tr>\n",
       "    <tr>\n",
       "      <th>2</th>\n",
       "      <td>8</td>\n",
       "      <td>24</td>\n",
       "      <td>132</td>\n",
       "      <td>cash</td>\n",
       "      <td>280000000</td>\n",
       "      <td>2007-05-01</td>\n",
       "    </tr>\n",
       "    <tr>\n",
       "      <th>3</th>\n",
       "      <td>9</td>\n",
       "      <td>59</td>\n",
       "      <td>155</td>\n",
       "      <td>cash</td>\n",
       "      <td>100000000</td>\n",
       "      <td>2007-06-01</td>\n",
       "    </tr>\n",
       "    <tr>\n",
       "      <th>4</th>\n",
       "      <td>10</td>\n",
       "      <td>212</td>\n",
       "      <td>215</td>\n",
       "      <td>cash</td>\n",
       "      <td>25000000</td>\n",
       "      <td>2007-07-01</td>\n",
       "    </tr>\n",
       "  </tbody>\n",
       "</table>\n",
       "</div>"
      ],
      "text/plain": [
       "   id  acquiring_company_id  acquired_company_id term_code  price_amount  \\\n",
       "0   1                    11                   10       NaN      20000000   \n",
       "1   7                    59                   72      cash      60000000   \n",
       "2   8                    24                  132      cash     280000000   \n",
       "3   9                    59                  155      cash     100000000   \n",
       "4  10                   212                  215      cash      25000000   \n",
       "\n",
       "  acquired_at  \n",
       "0  2007-05-30  \n",
       "1  2007-07-01  \n",
       "2  2007-05-01  \n",
       "3  2007-06-01  \n",
       "4  2007-07-01  "
      ]
     },
     "execution_count": 6,
     "metadata": {},
     "output_type": "execute_result"
    }
   ],
   "source": [
    "acquisition_df.head()"
   ]
  },
  {
   "cell_type": "code",
   "execution_count": 7,
   "metadata": {},
   "outputs": [
    {
     "name": "stdout",
     "output_type": "stream",
     "text": [
      "<class 'pandas.core.frame.DataFrame'>\n",
      "RangeIndex: 9407 entries, 0 to 9406\n",
      "Data columns (total 6 columns):\n",
      " #   Column                Non-Null Count  Dtype \n",
      "---  ------                --------------  ----- \n",
      " 0   id                    9407 non-null   int64 \n",
      " 1   acquiring_company_id  9407 non-null   int64 \n",
      " 2   acquired_company_id   9407 non-null   int64 \n",
      " 3   term_code             1831 non-null   object\n",
      " 4   price_amount          9407 non-null   int64 \n",
      " 5   acquired_at           9378 non-null   object\n",
      "dtypes: int64(4), object(2)\n",
      "memory usage: 441.1+ KB\n"
     ]
    }
   ],
   "source": [
    "acquisition_df.info()"
   ]
  },
  {
   "cell_type": "markdown",
   "metadata": {},
   "source": [
    "Датасет `acquisition_df` содержит 6 столбцов и 9407 строк, в которых представлена информация о покупках одними компаниями других компаний.\n",
    "\n",
    "После первичного анализа данных можно сделать следующие выводы:\n",
    "- Данные содержат 4 столбца типа `int64` и 2 столбца типа `object`.  \n",
    "  - Столбец `term_code` следует перевести в тип `category`, т.к. данные в этом столбце представлены ограниченным набором значений.\n",
    "  - Столбец `acquired_at` следует перевести в тип `data`, т.к. данные содержат значения дат.\n",
    "- Судя по первому знакомству с данными, значения в столбцах соответствуют своему описанию.\n",
    "\n",
    "---"
   ]
  },
  {
   "cell_type": "markdown",
   "metadata": {},
   "source": [
    "**Теперь познакомимся с данными датасета `people_df`**"
   ]
  },
  {
   "cell_type": "code",
   "execution_count": 8,
   "metadata": {},
   "outputs": [
    {
     "data": {
      "text/html": [
       "<div>\n",
       "<style scoped>\n",
       "    .dataframe tbody tr th:only-of-type {\n",
       "        vertical-align: middle;\n",
       "    }\n",
       "\n",
       "    .dataframe tbody tr th {\n",
       "        vertical-align: top;\n",
       "    }\n",
       "\n",
       "    .dataframe thead th {\n",
       "        text-align: right;\n",
       "    }\n",
       "</style>\n",
       "<table border=\"1\" class=\"dataframe\">\n",
       "  <thead>\n",
       "    <tr style=\"text-align: right;\">\n",
       "      <th></th>\n",
       "      <th>id</th>\n",
       "      <th>first_name</th>\n",
       "      <th>last_name</th>\n",
       "      <th>company_id</th>\n",
       "      <th>network_username</th>\n",
       "    </tr>\n",
       "  </thead>\n",
       "  <tbody>\n",
       "    <tr>\n",
       "      <th>0</th>\n",
       "      <td>10</td>\n",
       "      <td>Mark</td>\n",
       "      <td>Zuckerberg</td>\n",
       "      <td>5.0</td>\n",
       "      <td>NaN</td>\n",
       "    </tr>\n",
       "    <tr>\n",
       "      <th>1</th>\n",
       "      <td>100</td>\n",
       "      <td>Peter</td>\n",
       "      <td>Lester</td>\n",
       "      <td>27.0</td>\n",
       "      <td>NaN</td>\n",
       "    </tr>\n",
       "    <tr>\n",
       "      <th>2</th>\n",
       "      <td>1000</td>\n",
       "      <td>Dr. Steven</td>\n",
       "      <td>E. Saunders</td>\n",
       "      <td>292.0</td>\n",
       "      <td>NaN</td>\n",
       "    </tr>\n",
       "    <tr>\n",
       "      <th>3</th>\n",
       "      <td>10000</td>\n",
       "      <td>Neil</td>\n",
       "      <td>Capel</td>\n",
       "      <td>2526.0</td>\n",
       "      <td>NaN</td>\n",
       "    </tr>\n",
       "    <tr>\n",
       "      <th>4</th>\n",
       "      <td>100000</td>\n",
       "      <td>Sue</td>\n",
       "      <td>Pilsch</td>\n",
       "      <td>NaN</td>\n",
       "      <td>NaN</td>\n",
       "    </tr>\n",
       "    <tr>\n",
       "      <th>...</th>\n",
       "      <td>...</td>\n",
       "      <td>...</td>\n",
       "      <td>...</td>\n",
       "      <td>...</td>\n",
       "      <td>...</td>\n",
       "    </tr>\n",
       "    <tr>\n",
       "      <th>95</th>\n",
       "      <td>100124</td>\n",
       "      <td>Simone</td>\n",
       "      <td>Biagiotti</td>\n",
       "      <td>163822.0</td>\n",
       "      <td>365albe</td>\n",
       "    </tr>\n",
       "    <tr>\n",
       "      <th>96</th>\n",
       "      <td>100125</td>\n",
       "      <td>Michele</td>\n",
       "      <td>Orsi</td>\n",
       "      <td>NaN</td>\n",
       "      <td>micheleorsi</td>\n",
       "    </tr>\n",
       "    <tr>\n",
       "      <th>97</th>\n",
       "      <td>100126</td>\n",
       "      <td>DaniÃ«l</td>\n",
       "      <td>Goyvaerts</td>\n",
       "      <td>NaN</td>\n",
       "      <td>NaN</td>\n",
       "    </tr>\n",
       "    <tr>\n",
       "      <th>98</th>\n",
       "      <td>100127</td>\n",
       "      <td>Todd</td>\n",
       "      <td>Sullivan</td>\n",
       "      <td>NaN</td>\n",
       "      <td>NaN</td>\n",
       "    </tr>\n",
       "    <tr>\n",
       "      <th>99</th>\n",
       "      <td>100129</td>\n",
       "      <td>Danilo</td>\n",
       "      <td>Leao</td>\n",
       "      <td>NaN</td>\n",
       "      <td>daniloleao</td>\n",
       "    </tr>\n",
       "  </tbody>\n",
       "</table>\n",
       "<p>100 rows × 5 columns</p>\n",
       "</div>"
      ],
      "text/plain": [
       "        id  first_name    last_name  company_id network_username\n",
       "0       10        Mark   Zuckerberg         5.0              NaN\n",
       "1      100       Peter       Lester        27.0              NaN\n",
       "2     1000  Dr. Steven  E. Saunders       292.0              NaN\n",
       "3    10000        Neil        Capel      2526.0              NaN\n",
       "4   100000         Sue       Pilsch         NaN              NaN\n",
       "..     ...         ...          ...         ...              ...\n",
       "95  100124      Simone    Biagiotti    163822.0          365albe\n",
       "96  100125     Michele         Orsi         NaN      micheleorsi\n",
       "97  100126     DaniÃ«l    Goyvaerts         NaN              NaN\n",
       "98  100127        Todd     Sullivan         NaN              NaN\n",
       "99  100129      Danilo         Leao         NaN       daniloleao\n",
       "\n",
       "[100 rows x 5 columns]"
      ]
     },
     "execution_count": 8,
     "metadata": {},
     "output_type": "execute_result"
    }
   ],
   "source": [
    "people_df.head(100)"
   ]
  },
  {
   "cell_type": "code",
   "execution_count": 9,
   "metadata": {},
   "outputs": [
    {
     "name": "stdout",
     "output_type": "stream",
     "text": [
      "<class 'pandas.core.frame.DataFrame'>\n",
      "RangeIndex: 226709 entries, 0 to 226708\n",
      "Data columns (total 5 columns):\n",
      " #   Column            Non-Null Count   Dtype  \n",
      "---  ------            --------------   -----  \n",
      " 0   id                226709 non-null  int64  \n",
      " 1   first_name        226704 non-null  object \n",
      " 2   last_name         226708 non-null  object \n",
      " 3   company_id        34615 non-null   float64\n",
      " 4   network_username  38867 non-null   object \n",
      "dtypes: float64(1), int64(1), object(3)\n",
      "memory usage: 8.6+ MB\n"
     ]
    }
   ],
   "source": [
    "people_df.info()"
   ]
  },
  {
   "cell_type": "markdown",
   "metadata": {},
   "source": [
    "Датасет `people_df` содержит 5 столбцов и 226709 строк, в которых представлена информация о сотрудниках.\n",
    "\n",
    "После первичного анализа данных можно сделать следующие выводы:\n",
    "- Данные содержат один столбец типа `int64`, один столбец типа `float64` и 3 столбца типа `object`. Типы данных соответствуют содержимому. \n",
    "- Судя по первому знакомству с данными, значения в столбцах соответствуют своему описанию.\n",
    "\n",
    "---"
   ]
  },
  {
   "cell_type": "markdown",
   "metadata": {},
   "source": [
    "**Теперь познакомимся с данными датасета `education_df`**"
   ]
  },
  {
   "cell_type": "code",
   "execution_count": 10,
   "metadata": {},
   "outputs": [
    {
     "data": {
      "text/html": [
       "<div>\n",
       "<style scoped>\n",
       "    .dataframe tbody tr th:only-of-type {\n",
       "        vertical-align: middle;\n",
       "    }\n",
       "\n",
       "    .dataframe tbody tr th {\n",
       "        vertical-align: top;\n",
       "    }\n",
       "\n",
       "    .dataframe thead th {\n",
       "        text-align: right;\n",
       "    }\n",
       "</style>\n",
       "<table border=\"1\" class=\"dataframe\">\n",
       "  <thead>\n",
       "    <tr style=\"text-align: right;\">\n",
       "      <th></th>\n",
       "      <th>id</th>\n",
       "      <th>person_id</th>\n",
       "      <th>instituition</th>\n",
       "      <th>graduated_at</th>\n",
       "    </tr>\n",
       "  </thead>\n",
       "  <tbody>\n",
       "    <tr>\n",
       "      <th>0</th>\n",
       "      <td>1</td>\n",
       "      <td>6117</td>\n",
       "      <td>NaN</td>\n",
       "      <td>NaN</td>\n",
       "    </tr>\n",
       "    <tr>\n",
       "      <th>1</th>\n",
       "      <td>2</td>\n",
       "      <td>6136</td>\n",
       "      <td>Washington University, St. Louis</td>\n",
       "      <td>1990-01-01</td>\n",
       "    </tr>\n",
       "    <tr>\n",
       "      <th>2</th>\n",
       "      <td>3</td>\n",
       "      <td>6136</td>\n",
       "      <td>Boston University</td>\n",
       "      <td>1992-01-01</td>\n",
       "    </tr>\n",
       "    <tr>\n",
       "      <th>3</th>\n",
       "      <td>4</td>\n",
       "      <td>6005</td>\n",
       "      <td>University of Greenwich</td>\n",
       "      <td>2006-01-01</td>\n",
       "    </tr>\n",
       "    <tr>\n",
       "      <th>4</th>\n",
       "      <td>5</td>\n",
       "      <td>5832</td>\n",
       "      <td>Rice University</td>\n",
       "      <td>NaN</td>\n",
       "    </tr>\n",
       "  </tbody>\n",
       "</table>\n",
       "</div>"
      ],
      "text/plain": [
       "   id  person_id                      instituition graduated_at\n",
       "0   1       6117                               NaN          NaN\n",
       "1   2       6136  Washington University, St. Louis   1990-01-01\n",
       "2   3       6136                 Boston University   1992-01-01\n",
       "3   4       6005           University of Greenwich   2006-01-01\n",
       "4   5       5832                   Rice University          NaN"
      ]
     },
     "execution_count": 10,
     "metadata": {},
     "output_type": "execute_result"
    }
   ],
   "source": [
    "education_df.head()"
   ]
  },
  {
   "cell_type": "code",
   "execution_count": 11,
   "metadata": {},
   "outputs": [
    {
     "name": "stdout",
     "output_type": "stream",
     "text": [
      "<class 'pandas.core.frame.DataFrame'>\n",
      "RangeIndex: 109610 entries, 0 to 109609\n",
      "Data columns (total 4 columns):\n",
      " #   Column        Non-Null Count   Dtype \n",
      "---  ------        --------------   ----- \n",
      " 0   id            109610 non-null  int64 \n",
      " 1   person_id     109610 non-null  int64 \n",
      " 2   instituition  109555 non-null  object\n",
      " 3   graduated_at  58054 non-null   object\n",
      "dtypes: int64(2), object(2)\n",
      "memory usage: 3.3+ MB\n"
     ]
    }
   ],
   "source": [
    "education_df.info()"
   ]
  },
  {
   "cell_type": "markdown",
   "metadata": {},
   "source": [
    "Датасет `education_df` содержит 4 столбца и 109610 строк, в которых представлена информация об образовании сотрудника.\n",
    "\n",
    "После первичного анализа данных можно сделать следующие выводы:\n",
    "- Данные содержат два столбца типа `int64` и 2 столбца типа `object`. Столбец `graduated_at` следует перевести в тип `data`, т.к. данные содержат значения дат.\n",
    "- Название столбца с информацией о названии учебного заведения содержит опечатку: следует исправить `instituition` на `institution`.\n",
    "- Судя по первому знакомству с данными, значения в столбцах соответствуют своему описанию.\n"
   ]
  },
  {
   "cell_type": "code",
   "execution_count": 12,
   "metadata": {},
   "outputs": [],
   "source": [
    "# Исправим опечатку в названии столбца с информацией об учебном заведении\n",
    "education_df.rename(columns = {'instituition': 'institution'}, inplace = True) "
   ]
  },
  {
   "cell_type": "markdown",
   "metadata": {},
   "source": [
    "\n",
    "---"
   ]
  },
  {
   "cell_type": "markdown",
   "metadata": {},
   "source": [
    "**Теперь познакомимся с данными датасета `degrees_df`**"
   ]
  },
  {
   "cell_type": "code",
   "execution_count": 13,
   "metadata": {},
   "outputs": [
    {
     "data": {
      "text/html": [
       "<div>\n",
       "<style scoped>\n",
       "    .dataframe tbody tr th:only-of-type {\n",
       "        vertical-align: middle;\n",
       "    }\n",
       "\n",
       "    .dataframe tbody tr th {\n",
       "        vertical-align: top;\n",
       "    }\n",
       "\n",
       "    .dataframe thead th {\n",
       "        text-align: right;\n",
       "    }\n",
       "</style>\n",
       "<table border=\"1\" class=\"dataframe\">\n",
       "  <thead>\n",
       "    <tr style=\"text-align: right;\">\n",
       "      <th></th>\n",
       "      <th>id</th>\n",
       "      <th>object_id</th>\n",
       "      <th>degree_type</th>\n",
       "      <th>subject</th>\n",
       "    </tr>\n",
       "  </thead>\n",
       "  <tbody>\n",
       "    <tr>\n",
       "      <th>0</th>\n",
       "      <td>1</td>\n",
       "      <td>p:6117</td>\n",
       "      <td>MBA</td>\n",
       "      <td>NaN</td>\n",
       "    </tr>\n",
       "    <tr>\n",
       "      <th>1</th>\n",
       "      <td>2</td>\n",
       "      <td>p:6136</td>\n",
       "      <td>BA</td>\n",
       "      <td>English, French</td>\n",
       "    </tr>\n",
       "    <tr>\n",
       "      <th>2</th>\n",
       "      <td>3</td>\n",
       "      <td>p:6136</td>\n",
       "      <td>MS</td>\n",
       "      <td>Mass Communication</td>\n",
       "    </tr>\n",
       "    <tr>\n",
       "      <th>3</th>\n",
       "      <td>4</td>\n",
       "      <td>p:6005</td>\n",
       "      <td>MS</td>\n",
       "      <td>Internet Technology</td>\n",
       "    </tr>\n",
       "    <tr>\n",
       "      <th>4</th>\n",
       "      <td>5</td>\n",
       "      <td>p:5832</td>\n",
       "      <td>BCS</td>\n",
       "      <td>Computer Science, Psychology</td>\n",
       "    </tr>\n",
       "  </tbody>\n",
       "</table>\n",
       "</div>"
      ],
      "text/plain": [
       "   id object_id degree_type                       subject\n",
       "0   1    p:6117         MBA                           NaN\n",
       "1   2    p:6136          BA               English, French\n",
       "2   3    p:6136          MS            Mass Communication\n",
       "3   4    p:6005          MS           Internet Technology\n",
       "4   5    p:5832         BCS  Computer Science, Psychology"
      ]
     },
     "execution_count": 13,
     "metadata": {},
     "output_type": "execute_result"
    }
   ],
   "source": [
    "degrees_df.head()"
   ]
  },
  {
   "cell_type": "code",
   "execution_count": 14,
   "metadata": {},
   "outputs": [
    {
     "name": "stdout",
     "output_type": "stream",
     "text": [
      "<class 'pandas.core.frame.DataFrame'>\n",
      "RangeIndex: 109610 entries, 0 to 109609\n",
      "Data columns (total 4 columns):\n",
      " #   Column       Non-Null Count   Dtype \n",
      "---  ------       --------------   ----- \n",
      " 0   id           109610 non-null  int64 \n",
      " 1   object_id    109610 non-null  object\n",
      " 2   degree_type  98392 non-null   object\n",
      " 3   subject      81298 non-null   object\n",
      "dtypes: int64(1), object(3)\n",
      "memory usage: 3.3+ MB\n"
     ]
    }
   ],
   "source": [
    "degrees_df.info()"
   ]
  },
  {
   "cell_type": "markdown",
   "metadata": {},
   "source": [
    "Датасет `degrees_df` содержит 4 столбца и 109610 строк, в которых представлена информация о типе образования сотрудника.\n",
    "\n",
    "После первичного анализа данных можно сделать следующие выводы:\n",
    "- Данные содержат один столбец типа `int64` и 3 столбца типа `object`. Типы данных соответствуют содержимому. \n",
    "- Судя по первому знакомству с данными, значения в столбцах соответствуют своему описанию.\n",
    "\n",
    "---"
   ]
  },
  {
   "cell_type": "markdown",
   "metadata": {
    "id": "mg2gEwh0rJg0"
   },
   "source": [
    "### 1.2. Смена типов и анализ пропусков\n",
    "\n",
    "- Обработайте типы данных в столбцах, которые хранят значения даты и времени, если это необходимо.\n",
    "- Оцените полноту данных — сделайте предварительный вывод, достаточно ли данных для решения задач проекта."
   ]
  },
  {
   "cell_type": "markdown",
   "metadata": {},
   "source": [
    "**Поработаем с датасетом `company_and_rounds_df`**"
   ]
  },
  {
   "cell_type": "code",
   "execution_count": 15,
   "metadata": {},
   "outputs": [],
   "source": [
    "# Подключаем модуль re для работы с регулярными выражениями\n",
    "import re\n",
    "\n",
    "# Приведем названия столбцов в датасете company_and_rounds_df к виду snake_case\n",
    "company_and_rounds_df.columns = [\n",
    "    re.sub(r'\\s+', '_', column.strip().lower()) for column in company_and_rounds_df.columns\n",
    "]"
   ]
  },
  {
   "cell_type": "markdown",
   "metadata": {},
   "source": [
    "После преобразования названий столбцов к виду snake_case в датафрейме появилось два столбца с одинаковыми названиями — переименуем один из них."
   ]
  },
  {
   "cell_type": "code",
   "execution_count": 16,
   "metadata": {},
   "outputs": [],
   "source": [
    "company_and_rounds_df.columns.values[0] = 'company_id1'"
   ]
  },
  {
   "cell_type": "code",
   "execution_count": 17,
   "metadata": {
    "id": "DEg1tl8DFeBn"
   },
   "outputs": [],
   "source": [
    "# Поменяем типы данных в столбцах\n",
    "company_and_rounds_df[['category_code', 'status', 'funding_round_type']] = company_and_rounds_df[['category_code', 'status', 'funding_round_type']].astype('category')\n",
    "company_and_rounds_df[['is_first_round', 'is_last_round']] = company_and_rounds_df[['is_first_round', 'is_last_round']].astype('bool')"
   ]
  },
  {
   "cell_type": "code",
   "execution_count": 18,
   "metadata": {
    "scrolled": true
   },
   "outputs": [
    {
     "data": {
      "text/plain": [
       "\"Датасет 'company_and_rounds_df':\""
      ]
     },
     "metadata": {},
     "output_type": "display_data"
    },
    {
     "name": "stdout",
     "output_type": "stream",
     "text": [
      "<class 'pandas.core.frame.DataFrame'>\n",
      "RangeIndex: 217774 entries, 0 to 217773\n",
      "Data columns (total 22 columns):\n",
      " #   Column               Non-Null Count   Dtype         \n",
      "---  ------               --------------   -----         \n",
      " 0   company_id1          217472 non-null  float64       \n",
      " 1   name                 217472 non-null  object        \n",
      " 2   category_code        143886 non-null  category      \n",
      " 3   status               217472 non-null  category      \n",
      " 4   founded_at           109956 non-null  datetime64[ns]\n",
      " 5   closed_at            3449 non-null    datetime64[ns]\n",
      " 6   domain               147159 non-null  object        \n",
      " 7   network_username     95534 non-null   object        \n",
      " 8   country_code         108607 non-null  object        \n",
      " 9   investment_rounds    217472 non-null  float64       \n",
      " 10  funding_rounds       217472 non-null  float64       \n",
      " 11  funding_total        217472 non-null  float64       \n",
      " 12  milestones           217472 non-null  float64       \n",
      " 13  funding_round_id     52928 non-null   float64       \n",
      " 14  company_id           52928 non-null   float64       \n",
      " 15  funded_at            52680 non-null   datetime64[ns]\n",
      " 16  funding_round_type   52928 non-null   category      \n",
      " 17  raised_amount        52928 non-null   float64       \n",
      " 18  pre_money_valuation  52928 non-null   float64       \n",
      " 19  participants         52928 non-null   float64       \n",
      " 20  is_first_round       217774 non-null  bool          \n",
      " 21  is_last_round        217774 non-null  bool          \n",
      "dtypes: bool(2), category(3), datetime64[ns](3), float64(10), object(4)\n",
      "memory usage: 29.3+ MB\n"
     ]
    },
    {
     "data": {
      "text/plain": [
       "None"
      ]
     },
     "metadata": {},
     "output_type": "display_data"
    },
    {
     "data": {
      "text/plain": [
       "\"Датасет 'acquisition_df':\""
      ]
     },
     "metadata": {},
     "output_type": "display_data"
    },
    {
     "name": "stdout",
     "output_type": "stream",
     "text": [
      "<class 'pandas.core.frame.DataFrame'>\n",
      "RangeIndex: 9407 entries, 0 to 9406\n",
      "Data columns (total 6 columns):\n",
      " #   Column                Non-Null Count  Dtype         \n",
      "---  ------                --------------  -----         \n",
      " 0   id                    9407 non-null   int64         \n",
      " 1   acquiring_company_id  9407 non-null   int64         \n",
      " 2   acquired_company_id   9407 non-null   int64         \n",
      " 3   term_code             1831 non-null   object        \n",
      " 4   price_amount          9407 non-null   int64         \n",
      " 5   acquired_at           9378 non-null   datetime64[ns]\n",
      "dtypes: datetime64[ns](1), int64(4), object(1)\n",
      "memory usage: 441.1+ KB\n"
     ]
    },
    {
     "data": {
      "text/plain": [
       "None"
      ]
     },
     "metadata": {},
     "output_type": "display_data"
    },
    {
     "data": {
      "text/plain": [
       "\"Датасет 'education_df':\""
      ]
     },
     "metadata": {},
     "output_type": "display_data"
    },
    {
     "name": "stdout",
     "output_type": "stream",
     "text": [
      "<class 'pandas.core.frame.DataFrame'>\n",
      "RangeIndex: 109610 entries, 0 to 109609\n",
      "Data columns (total 4 columns):\n",
      " #   Column        Non-Null Count   Dtype         \n",
      "---  ------        --------------   -----         \n",
      " 0   id            109610 non-null  int64         \n",
      " 1   person_id     109610 non-null  int64         \n",
      " 2   institution   109555 non-null  object        \n",
      " 3   graduated_at  58054 non-null   datetime64[ns]\n",
      "dtypes: datetime64[ns](1), int64(2), object(1)\n",
      "memory usage: 3.3+ MB\n"
     ]
    },
    {
     "data": {
      "text/plain": [
       "None"
      ]
     },
     "metadata": {},
     "output_type": "display_data"
    },
    {
     "data": {
      "text/plain": [
       "\"Датасет 'fund_df':\""
      ]
     },
     "metadata": {},
     "output_type": "display_data"
    },
    {
     "name": "stdout",
     "output_type": "stream",
     "text": [
      "<class 'pandas.core.frame.DataFrame'>\n",
      "RangeIndex: 11652 entries, 0 to 11651\n",
      "Data columns (total 9 columns):\n",
      " #   Column              Non-Null Count  Dtype         \n",
      "---  ------              --------------  -----         \n",
      " 0   id                  11652 non-null  int64         \n",
      " 1   name                11650 non-null  object        \n",
      " 2   founded_at          4605 non-null   datetime64[ns]\n",
      " 3   domain              7362 non-null   object        \n",
      " 4   network_username    2149 non-null   object        \n",
      " 5   country_code        7053 non-null   object        \n",
      " 6   investment_rounds   11652 non-null  int64         \n",
      " 7   invested_companies  11652 non-null  int64         \n",
      " 8   milestones          11652 non-null  int64         \n",
      "dtypes: datetime64[ns](1), int64(4), object(4)\n",
      "memory usage: 819.4+ KB\n"
     ]
    },
    {
     "data": {
      "text/plain": [
       "None"
      ]
     },
     "metadata": {},
     "output_type": "display_data"
    }
   ],
   "source": [
    "# Поменяем типы данных для всех столбцов, подразумевающих тип даты datetime\n",
    "def process_to_datetime(column):\n",
    "    \"\"\"\n",
    "    Функция, которая выполняет действия над столбцом.\n",
    "    Например, преобразует столбцы с '_at' в datetime.\n",
    "    \"\"\"\n",
    "    if '_at' in column.name:  # Проверяем, содержит ли название столбца '_at'\n",
    "        return pd.to_datetime(column)  # Преобразуем в datetime\n",
    "    return column  # Возвращаем столбец без изменений\n",
    "\n",
    "# Основная функция для обработки датасетов\n",
    "def process_datasets(dataset_dict, column_processor):\n",
    "    \"\"\"\n",
    "    Функция, которая проходит по каждому датасету в словаре и каждому столбцу,\n",
    "    применяя к ним функцию column_processor.\n",
    "    \"\"\"\n",
    "    for dataset_name, dataset in dataset_dict.items():  # Проходим по каждому датасету в словаре\n",
    "        for column_name in dataset.columns:  # Проходим по каждому столбцу\n",
    "            dataset[column_name] = column_processor(dataset[column_name])  # Применяем функцию\n",
    "    return dataset_dict\n",
    "    \n",
    "# Словарь датасетов\n",
    "dataset_dict = {\n",
    "    'company_and_rounds_df': company_and_rounds_df,\n",
    "    'acquisition_df': acquisition_df,\n",
    "    'education_df': education_df,\n",
    "    'fund_df': fund_df\n",
    "}\n",
    "\n",
    "# Обрабатываем датасеты\n",
    "processed_datasets = process_datasets(dataset_dict, process_to_datetime)\n",
    "\n",
    "# Выводим результат\n",
    "for dataset_name, dataset in processed_datasets.items():\n",
    "    display(f\"Датасет '{dataset_name}':\")\n",
    "    display(dataset.info())"
   ]
  },
  {
   "cell_type": "code",
   "execution_count": 19,
   "metadata": {},
   "outputs": [
    {
     "data": {
      "text/plain": [
       "<AxesSubplot:>"
      ]
     },
     "execution_count": 19,
     "metadata": {},
     "output_type": "execute_result"
    },
    {
     "data": {
      "image/png": "[encoded data removed]",
      "text/plain": [
       "<Figure size 1800x720 with 3 Axes>"
      ]
     },
     "metadata": {
      "needs_background": "light"
     },
     "output_type": "display_data"
    }
   ],
   "source": [
    "# Изучим датасет company_and_rounds_df на предмет пропусков\n",
    "msno.bar(company_and_rounds_df)"
   ]
  },
  {
   "cell_type": "markdown",
   "metadata": {},
   "source": [
    "На столбчатой диаграмме видим большое количество пропусков, особенно во второй половине датасета — одинаковое количество данных (около 80%) пропущено в столбцах funding_round_id, company_id, funded_at, funding_round_type, raised_amount, pre_money_valuation, participants. Изучим подробнее расположение пропусков в датасете."
   ]
  },
  {
   "cell_type": "code",
   "execution_count": 20,
   "metadata": {},
   "outputs": [
    {
     "data": {
      "text/plain": [
       "<AxesSubplot:>"
      ]
     },
     "execution_count": 20,
     "metadata": {},
     "output_type": "execute_result"
    },
    {
     "data": {
      "image/png": "[encoded data removed]",
      "text/plain": [
       "<Figure size 1800x720 with 2 Axes>"
      ]
     },
     "metadata": {
      "needs_background": "light"
     },
     "output_type": "display_data"
    }
   ],
   "source": [
    "# Построим матрицу для демонстрации закономерности в пропущенных значениях\n",
    "msno.matrix(company_and_rounds_df)"
   ]
  },
  {
   "cell_type": "markdown",
   "metadata": {},
   "source": [
    "Согласно матрице, в датасете наблюдается отчетливая закономерность в расположении пропусков во второй половине датасета — пропуски располагаются на одних и тех же места. Скорее всего, это связано с происхождением датасета `company_and_rounds` — было объединено два датасета через «левое» присоединение, где «левой» таблицей была таблица с информацией о компаниях, а «правой» — таблица с информацией о раундах финансирования. Таким образом, в полученном датасете были учтены все компании, но не все из них участвовали в финансировании, или об этом нет информации."
   ]
  },
  {
   "cell_type": "markdown",
   "metadata": {},
   "source": [
    "**Поработаем с датасетами `acquisition_df`, `education_df`, `people_df` и `degrees_df`**"
   ]
  },
  {
   "cell_type": "code",
   "execution_count": 21,
   "metadata": {},
   "outputs": [],
   "source": [
    "# Поменяем типы данных в столбцах term_code и acquired_at\n",
    "acquisition_df['term_code'] = acquisition_df['term_code'].astype('category')"
   ]
  },
  {
   "cell_type": "code",
   "execution_count": 22,
   "metadata": {},
   "outputs": [
    {
     "name": "stdout",
     "output_type": "stream",
     "text": [
      "id                  0\n",
      "person_id           0\n",
      "institution        55\n",
      "graduated_at    51556\n",
      "dtype: int64\n",
      "\n",
      "id               0.000000\n",
      "person_id        0.000000\n",
      "institution      0.050178\n",
      "graduated_at    47.035854\n",
      "dtype: float64\n"
     ]
    }
   ],
   "source": [
    "# Оценим полноту данных в датасете education_df\n",
    "print(education_df.isna().sum())\n",
    "print()\n",
    "print(education_df.isna().mean()*100)"
   ]
  },
  {
   "cell_type": "code",
   "execution_count": 23,
   "metadata": {},
   "outputs": [
    {
     "name": "stdout",
     "output_type": "stream",
     "text": [
      "id                       0\n",
      "first_name               5\n",
      "last_name                1\n",
      "company_id          192094\n",
      "network_username    187842\n",
      "dtype: int64\n",
      "\n",
      "id                   0.000000\n",
      "first_name           0.002205\n",
      "last_name            0.000441\n",
      "company_id          84.731528\n",
      "network_username    82.855996\n",
      "dtype: float64\n"
     ]
    }
   ],
   "source": [
    "# Оценим полноту данных в датасете people_df\n",
    "print(people_df.isna().sum())\n",
    "print()\n",
    "print(people_df.isna().mean()*100)"
   ]
  },
  {
   "cell_type": "code",
   "execution_count": 24,
   "metadata": {},
   "outputs": [
    {
     "data": {
      "text/html": [
       "<div>\n",
       "<style scoped>\n",
       "    .dataframe tbody tr th:only-of-type {\n",
       "        vertical-align: middle;\n",
       "    }\n",
       "\n",
       "    .dataframe tbody tr th {\n",
       "        vertical-align: top;\n",
       "    }\n",
       "\n",
       "    .dataframe thead th {\n",
       "        text-align: right;\n",
       "    }\n",
       "</style>\n",
       "<table border=\"1\" class=\"dataframe\">\n",
       "  <thead>\n",
       "    <tr style=\"text-align: right;\">\n",
       "      <th></th>\n",
       "      <th>id</th>\n",
       "      <th>object_id</th>\n",
       "      <th>degree_type</th>\n",
       "      <th>subject</th>\n",
       "    </tr>\n",
       "  </thead>\n",
       "  <tbody>\n",
       "    <tr>\n",
       "      <th>0</th>\n",
       "      <td>1</td>\n",
       "      <td>p:6117</td>\n",
       "      <td>MBA</td>\n",
       "      <td>NaN</td>\n",
       "    </tr>\n",
       "    <tr>\n",
       "      <th>1</th>\n",
       "      <td>2</td>\n",
       "      <td>p:6136</td>\n",
       "      <td>BA</td>\n",
       "      <td>English, French</td>\n",
       "    </tr>\n",
       "    <tr>\n",
       "      <th>2</th>\n",
       "      <td>3</td>\n",
       "      <td>p:6136</td>\n",
       "      <td>MS</td>\n",
       "      <td>Mass Communication</td>\n",
       "    </tr>\n",
       "    <tr>\n",
       "      <th>3</th>\n",
       "      <td>4</td>\n",
       "      <td>p:6005</td>\n",
       "      <td>MS</td>\n",
       "      <td>Internet Technology</td>\n",
       "    </tr>\n",
       "    <tr>\n",
       "      <th>4</th>\n",
       "      <td>5</td>\n",
       "      <td>p:5832</td>\n",
       "      <td>BCS</td>\n",
       "      <td>Computer Science, Psychology</td>\n",
       "    </tr>\n",
       "  </tbody>\n",
       "</table>\n",
       "</div>"
      ],
      "text/plain": [
       "   id object_id degree_type                       subject\n",
       "0   1    p:6117         MBA                           NaN\n",
       "1   2    p:6136          BA               English, French\n",
       "2   3    p:6136          MS            Mass Communication\n",
       "3   4    p:6005          MS           Internet Technology\n",
       "4   5    p:5832         BCS  Computer Science, Psychology"
      ]
     },
     "execution_count": 24,
     "metadata": {},
     "output_type": "execute_result"
    }
   ],
   "source": [
    "degrees_df.head()"
   ]
  },
  {
   "cell_type": "markdown",
   "metadata": {},
   "source": [
    "Данные в столбце `object_id`, которые содержат идентификатор сотрудника, представлены в формате `object`. Для того, чтобы далее можно было объединять этот датасет с датасетами `people_df` и `education_df`, необходимо обработать этот столбец (удалить приставку «р:») и поменять тип данных на integer."
   ]
  },
  {
   "cell_type": "code",
   "execution_count": 25,
   "metadata": {},
   "outputs": [],
   "source": [
    "# Удалим первые два знака в значениях столбца object_id\n",
    "degrees_df['object_id'] = degrees_df['object_id'].str[2:]\n",
    "\n",
    "# Поменяем тип данных в столбце object_id\n",
    "degrees_df['object_id'] = pd.to_numeric(degrees_df['object_id'])"
   ]
  },
  {
   "cell_type": "markdown",
   "metadata": {},
   "source": [
    "Судя по предварительной оценке пропущенных значений, можно сделать следующие выводе о полноте данных:\n",
    "- В датасете `company_and_rounds_df` содержится неполная информация о суммах, дате и раундах финансирования: столбцы `raised_amount`, `funded_at`, `funding_round_id` содержат **76%** пропущенных значений. Поэтому к полученным результатам по задаче 2.1 о раундах финансирования по годам стоит относиться аккуратно.\n",
    "- Таблица `people_df` демонстрирует, что всего у 15% сотрудников имеется информация о компании, поэтому к результатам задания 2.2 об оценке зависимости полноты информации о сотрудниках от размера компании также надо подходить к осторожностью. Также отсутствует по 47% сотрудников нет информации о годе выпуска. Кроме того, таблица `education_df` содержит в 2 раза меньше сотрудников, чем таблица `people_df`, что также уменьшает объем данных, по которым можно делать выводы."
   ]
  },
  {
   "cell_type": "markdown",
   "metadata": {},
   "source": [
    "### Изучим данные на предмет дубликатов"
   ]
  },
  {
   "cell_type": "markdown",
   "metadata": {},
   "source": [
    "Начнем с проверки явных дубликатов"
   ]
  },
  {
   "cell_type": "code",
   "execution_count": 26,
   "metadata": {},
   "outputs": [
    {
     "name": "stdout",
     "output_type": "stream",
     "text": [
      "Количество дубликатов в датасете company_and_rounds_df: 0\n",
      "Количество дубликатов в датасете acquisition_df: 0\n",
      "Количество дубликатов в датасете education_df: 0\n",
      "Количество дубликатов в датасете people_df: 0\n",
      "Количество дубликатов в датасете degrees_df: 0\n"
     ]
    }
   ],
   "source": [
    "# Создадим словарь с названиями датафреймов\n",
    "dfs = {\n",
    "    'company_and_rounds_df': company_and_rounds_df,\n",
    "    'acquisition_df': acquisition_df,\n",
    "    'education_df': education_df,\n",
    "    'people_df': people_df,\n",
    "    'degrees_df': degrees_df\n",
    "}\n",
    "\n",
    "# Выведем информацию о кол-ве дубликатов с помощью цикла\n",
    "for name, df in dfs.items():\n",
    "    print(f'Количество дубликатов в датасете {name}: {df.duplicated().sum()}')"
   ]
  },
  {
   "cell_type": "markdown",
   "metadata": {},
   "source": [
    "В данных **нет явных дубликатов**. Теперь перейдем к проверке **неявных дубликатов** — значения id в таблицах должны быть уникальными."
   ]
  },
  {
   "cell_type": "code",
   "execution_count": 27,
   "metadata": {},
   "outputs": [
    {
     "data": {
      "text/plain": [
       "21220"
      ]
     },
     "execution_count": 27,
     "metadata": {},
     "output_type": "execute_result"
    }
   ],
   "source": [
    "# Посмотрим, сколько в датасете company_and_rounds_df строк с одинаковыми id компаний\n",
    "company_and_rounds_df.duplicated(subset = 'company_id1').sum()"
   ]
  },
  {
   "cell_type": "code",
   "execution_count": 28,
   "metadata": {},
   "outputs": [
    {
     "data": {
      "text/html": [
       "<div>\n",
       "<style scoped>\n",
       "    .dataframe tbody tr th:only-of-type {\n",
       "        vertical-align: middle;\n",
       "    }\n",
       "\n",
       "    .dataframe tbody tr th {\n",
       "        vertical-align: top;\n",
       "    }\n",
       "\n",
       "    .dataframe thead th {\n",
       "        text-align: right;\n",
       "    }\n",
       "</style>\n",
       "<table border=\"1\" class=\"dataframe\">\n",
       "  <thead>\n",
       "    <tr style=\"text-align: right;\">\n",
       "      <th></th>\n",
       "      <th>company_id1</th>\n",
       "      <th>name</th>\n",
       "      <th>category_code</th>\n",
       "      <th>status</th>\n",
       "      <th>founded_at</th>\n",
       "      <th>closed_at</th>\n",
       "      <th>domain</th>\n",
       "      <th>network_username</th>\n",
       "      <th>country_code</th>\n",
       "      <th>investment_rounds</th>\n",
       "      <th>...</th>\n",
       "      <th>milestones</th>\n",
       "      <th>funding_round_id</th>\n",
       "      <th>company_id</th>\n",
       "      <th>funded_at</th>\n",
       "      <th>funding_round_type</th>\n",
       "      <th>raised_amount</th>\n",
       "      <th>pre_money_valuation</th>\n",
       "      <th>participants</th>\n",
       "      <th>is_first_round</th>\n",
       "      <th>is_last_round</th>\n",
       "    </tr>\n",
       "  </thead>\n",
       "  <tbody>\n",
       "    <tr>\n",
       "      <th>0</th>\n",
       "      <td>1.0</td>\n",
       "      <td>Wetpaint</td>\n",
       "      <td>web</td>\n",
       "      <td>operating</td>\n",
       "      <td>2005-10-17</td>\n",
       "      <td>NaT</td>\n",
       "      <td>wetpaint-inc.com</td>\n",
       "      <td>BachelrWetpaint</td>\n",
       "      <td>USA</td>\n",
       "      <td>0.0</td>\n",
       "      <td>...</td>\n",
       "      <td>5.0</td>\n",
       "      <td>888.0</td>\n",
       "      <td>1.0</td>\n",
       "      <td>2005-10-01</td>\n",
       "      <td>series-a</td>\n",
       "      <td>5250000.0</td>\n",
       "      <td>0.0</td>\n",
       "      <td>2.0</td>\n",
       "      <td>False</td>\n",
       "      <td>True</td>\n",
       "    </tr>\n",
       "    <tr>\n",
       "      <th>1</th>\n",
       "      <td>1.0</td>\n",
       "      <td>Wetpaint</td>\n",
       "      <td>web</td>\n",
       "      <td>operating</td>\n",
       "      <td>2005-10-17</td>\n",
       "      <td>NaT</td>\n",
       "      <td>wetpaint-inc.com</td>\n",
       "      <td>BachelrWetpaint</td>\n",
       "      <td>USA</td>\n",
       "      <td>0.0</td>\n",
       "      <td>...</td>\n",
       "      <td>5.0</td>\n",
       "      <td>889.0</td>\n",
       "      <td>1.0</td>\n",
       "      <td>2007-01-01</td>\n",
       "      <td>series-b</td>\n",
       "      <td>9500000.0</td>\n",
       "      <td>0.0</td>\n",
       "      <td>3.0</td>\n",
       "      <td>False</td>\n",
       "      <td>False</td>\n",
       "    </tr>\n",
       "    <tr>\n",
       "      <th>2</th>\n",
       "      <td>1.0</td>\n",
       "      <td>Wetpaint</td>\n",
       "      <td>web</td>\n",
       "      <td>operating</td>\n",
       "      <td>2005-10-17</td>\n",
       "      <td>NaT</td>\n",
       "      <td>wetpaint-inc.com</td>\n",
       "      <td>BachelrWetpaint</td>\n",
       "      <td>USA</td>\n",
       "      <td>0.0</td>\n",
       "      <td>...</td>\n",
       "      <td>5.0</td>\n",
       "      <td>2312.0</td>\n",
       "      <td>1.0</td>\n",
       "      <td>2008-05-19</td>\n",
       "      <td>series-c+</td>\n",
       "      <td>25000000.0</td>\n",
       "      <td>0.0</td>\n",
       "      <td>4.0</td>\n",
       "      <td>True</td>\n",
       "      <td>False</td>\n",
       "    </tr>\n",
       "    <tr>\n",
       "      <th>21</th>\n",
       "      <td>10015.0</td>\n",
       "      <td>Fitbit</td>\n",
       "      <td>health</td>\n",
       "      <td>operating</td>\n",
       "      <td>2007-10-01</td>\n",
       "      <td>NaT</td>\n",
       "      <td>fitbit.com</td>\n",
       "      <td>fitbit</td>\n",
       "      <td>USA</td>\n",
       "      <td>0.0</td>\n",
       "      <td>...</td>\n",
       "      <td>0.0</td>\n",
       "      <td>3619.0</td>\n",
       "      <td>10015.0</td>\n",
       "      <td>2008-10-10</td>\n",
       "      <td>series-a</td>\n",
       "      <td>2000000.0</td>\n",
       "      <td>0.0</td>\n",
       "      <td>2.0</td>\n",
       "      <td>False</td>\n",
       "      <td>True</td>\n",
       "    </tr>\n",
       "    <tr>\n",
       "      <th>22</th>\n",
       "      <td>10015.0</td>\n",
       "      <td>Fitbit</td>\n",
       "      <td>health</td>\n",
       "      <td>operating</td>\n",
       "      <td>2007-10-01</td>\n",
       "      <td>NaT</td>\n",
       "      <td>fitbit.com</td>\n",
       "      <td>fitbit</td>\n",
       "      <td>USA</td>\n",
       "      <td>0.0</td>\n",
       "      <td>...</td>\n",
       "      <td>0.0</td>\n",
       "      <td>18213.0</td>\n",
       "      <td>10015.0</td>\n",
       "      <td>2010-09-10</td>\n",
       "      <td>series-b</td>\n",
       "      <td>9000000.0</td>\n",
       "      <td>0.0</td>\n",
       "      <td>4.0</td>\n",
       "      <td>False</td>\n",
       "      <td>False</td>\n",
       "    </tr>\n",
       "    <tr>\n",
       "      <th>...</th>\n",
       "      <td>...</td>\n",
       "      <td>...</td>\n",
       "      <td>...</td>\n",
       "      <td>...</td>\n",
       "      <td>...</td>\n",
       "      <td>...</td>\n",
       "      <td>...</td>\n",
       "      <td>...</td>\n",
       "      <td>...</td>\n",
       "      <td>...</td>\n",
       "      <td>...</td>\n",
       "      <td>...</td>\n",
       "      <td>...</td>\n",
       "      <td>...</td>\n",
       "      <td>...</td>\n",
       "      <td>...</td>\n",
       "      <td>...</td>\n",
       "      <td>...</td>\n",
       "      <td>...</td>\n",
       "      <td>...</td>\n",
       "      <td>...</td>\n",
       "    </tr>\n",
       "    <tr>\n",
       "      <th>217769</th>\n",
       "      <td>NaN</td>\n",
       "      <td>NaN</td>\n",
       "      <td>NaN</td>\n",
       "      <td>NaN</td>\n",
       "      <td>NaT</td>\n",
       "      <td>NaT</td>\n",
       "      <td>NaN</td>\n",
       "      <td>NaN</td>\n",
       "      <td>NaN</td>\n",
       "      <td>NaN</td>\n",
       "      <td>...</td>\n",
       "      <td>NaN</td>\n",
       "      <td>56454.0</td>\n",
       "      <td>282847.0</td>\n",
       "      <td>2011-01-31</td>\n",
       "      <td>other</td>\n",
       "      <td>5500000.0</td>\n",
       "      <td>0.0</td>\n",
       "      <td>0.0</td>\n",
       "      <td>True</td>\n",
       "      <td>True</td>\n",
       "    </tr>\n",
       "    <tr>\n",
       "      <th>217770</th>\n",
       "      <td>NaN</td>\n",
       "      <td>NaN</td>\n",
       "      <td>NaN</td>\n",
       "      <td>NaN</td>\n",
       "      <td>NaT</td>\n",
       "      <td>NaT</td>\n",
       "      <td>NaN</td>\n",
       "      <td>NaN</td>\n",
       "      <td>NaN</td>\n",
       "      <td>NaN</td>\n",
       "      <td>...</td>\n",
       "      <td>NaN</td>\n",
       "      <td>56542.0</td>\n",
       "      <td>55477.0</td>\n",
       "      <td>2011-01-13</td>\n",
       "      <td>venture</td>\n",
       "      <td>10633300.0</td>\n",
       "      <td>0.0</td>\n",
       "      <td>0.0</td>\n",
       "      <td>False</td>\n",
       "      <td>True</td>\n",
       "    </tr>\n",
       "    <tr>\n",
       "      <th>217771</th>\n",
       "      <td>NaN</td>\n",
       "      <td>NaN</td>\n",
       "      <td>NaN</td>\n",
       "      <td>NaN</td>\n",
       "      <td>NaT</td>\n",
       "      <td>NaT</td>\n",
       "      <td>NaN</td>\n",
       "      <td>NaN</td>\n",
       "      <td>NaN</td>\n",
       "      <td>NaN</td>\n",
       "      <td>...</td>\n",
       "      <td>NaN</td>\n",
       "      <td>56543.0</td>\n",
       "      <td>55477.0</td>\n",
       "      <td>2012-05-31</td>\n",
       "      <td>venture</td>\n",
       "      <td>2125720.0</td>\n",
       "      <td>0.0</td>\n",
       "      <td>0.0</td>\n",
       "      <td>True</td>\n",
       "      <td>False</td>\n",
       "    </tr>\n",
       "    <tr>\n",
       "      <th>217772</th>\n",
       "      <td>NaN</td>\n",
       "      <td>NaN</td>\n",
       "      <td>NaN</td>\n",
       "      <td>NaN</td>\n",
       "      <td>NaT</td>\n",
       "      <td>NaT</td>\n",
       "      <td>NaN</td>\n",
       "      <td>NaN</td>\n",
       "      <td>NaN</td>\n",
       "      <td>NaN</td>\n",
       "      <td>...</td>\n",
       "      <td>NaN</td>\n",
       "      <td>56928.0</td>\n",
       "      <td>283492.0</td>\n",
       "      <td>2013-12-03</td>\n",
       "      <td>venture</td>\n",
       "      <td>3602480.0</td>\n",
       "      <td>0.0</td>\n",
       "      <td>5.0</td>\n",
       "      <td>True</td>\n",
       "      <td>True</td>\n",
       "    </tr>\n",
       "    <tr>\n",
       "      <th>217773</th>\n",
       "      <td>NaN</td>\n",
       "      <td>NaN</td>\n",
       "      <td>NaN</td>\n",
       "      <td>NaN</td>\n",
       "      <td>NaT</td>\n",
       "      <td>NaT</td>\n",
       "      <td>NaN</td>\n",
       "      <td>NaN</td>\n",
       "      <td>NaN</td>\n",
       "      <td>NaN</td>\n",
       "      <td>...</td>\n",
       "      <td>NaN</td>\n",
       "      <td>57063.0</td>\n",
       "      <td>284191.0</td>\n",
       "      <td>2013-12-04</td>\n",
       "      <td>venture</td>\n",
       "      <td>7000000.0</td>\n",
       "      <td>0.0</td>\n",
       "      <td>4.0</td>\n",
       "      <td>True</td>\n",
       "      <td>True</td>\n",
       "    </tr>\n",
       "  </tbody>\n",
       "</table>\n",
       "<p>32394 rows × 22 columns</p>\n",
       "</div>"
      ],
      "text/plain": [
       "        company_id1      name category_code     status founded_at closed_at  \\\n",
       "0               1.0  Wetpaint           web  operating 2005-10-17       NaT   \n",
       "1               1.0  Wetpaint           web  operating 2005-10-17       NaT   \n",
       "2               1.0  Wetpaint           web  operating 2005-10-17       NaT   \n",
       "21          10015.0    Fitbit        health  operating 2007-10-01       NaT   \n",
       "22          10015.0    Fitbit        health  operating 2007-10-01       NaT   \n",
       "...             ...       ...           ...        ...        ...       ...   \n",
       "217769          NaN       NaN           NaN        NaN        NaT       NaT   \n",
       "217770          NaN       NaN           NaN        NaN        NaT       NaT   \n",
       "217771          NaN       NaN           NaN        NaN        NaT       NaT   \n",
       "217772          NaN       NaN           NaN        NaN        NaT       NaT   \n",
       "217773          NaN       NaN           NaN        NaN        NaT       NaT   \n",
       "\n",
       "                  domain network_username country_code  investment_rounds  \\\n",
       "0       wetpaint-inc.com  BachelrWetpaint          USA                0.0   \n",
       "1       wetpaint-inc.com  BachelrWetpaint          USA                0.0   \n",
       "2       wetpaint-inc.com  BachelrWetpaint          USA                0.0   \n",
       "21            fitbit.com           fitbit          USA                0.0   \n",
       "22            fitbit.com           fitbit          USA                0.0   \n",
       "...                  ...              ...          ...                ...   \n",
       "217769               NaN              NaN          NaN                NaN   \n",
       "217770               NaN              NaN          NaN                NaN   \n",
       "217771               NaN              NaN          NaN                NaN   \n",
       "217772               NaN              NaN          NaN                NaN   \n",
       "217773               NaN              NaN          NaN                NaN   \n",
       "\n",
       "        ...  milestones  funding_round_id  company_id  funded_at  \\\n",
       "0       ...         5.0             888.0         1.0 2005-10-01   \n",
       "1       ...         5.0             889.0         1.0 2007-01-01   \n",
       "2       ...         5.0            2312.0         1.0 2008-05-19   \n",
       "21      ...         0.0            3619.0     10015.0 2008-10-10   \n",
       "22      ...         0.0           18213.0     10015.0 2010-09-10   \n",
       "...     ...         ...               ...         ...        ...   \n",
       "217769  ...         NaN           56454.0    282847.0 2011-01-31   \n",
       "217770  ...         NaN           56542.0     55477.0 2011-01-13   \n",
       "217771  ...         NaN           56543.0     55477.0 2012-05-31   \n",
       "217772  ...         NaN           56928.0    283492.0 2013-12-03   \n",
       "217773  ...         NaN           57063.0    284191.0 2013-12-04   \n",
       "\n",
       "        funding_round_type raised_amount pre_money_valuation  participants  \\\n",
       "0                 series-a     5250000.0                 0.0           2.0   \n",
       "1                 series-b     9500000.0                 0.0           3.0   \n",
       "2                series-c+    25000000.0                 0.0           4.0   \n",
       "21                series-a     2000000.0                 0.0           2.0   \n",
       "22                series-b     9000000.0                 0.0           4.0   \n",
       "...                    ...           ...                 ...           ...   \n",
       "217769               other     5500000.0                 0.0           0.0   \n",
       "217770             venture    10633300.0                 0.0           0.0   \n",
       "217771             venture     2125720.0                 0.0           0.0   \n",
       "217772             venture     3602480.0                 0.0           5.0   \n",
       "217773             venture     7000000.0                 0.0           4.0   \n",
       "\n",
       "        is_first_round  is_last_round  \n",
       "0                False           True  \n",
       "1                False          False  \n",
       "2                 True          False  \n",
       "21               False           True  \n",
       "22               False          False  \n",
       "...                ...            ...  \n",
       "217769            True           True  \n",
       "217770           False           True  \n",
       "217771            True          False  \n",
       "217772            True           True  \n",
       "217773            True           True  \n",
       "\n",
       "[32394 rows x 22 columns]"
      ]
     },
     "execution_count": 28,
     "metadata": {},
     "output_type": "execute_result"
    }
   ],
   "source": [
    "# Посмотрим на строки с дублирующимися company_id1\n",
    "company_and_rounds_df[company_and_rounds_df.duplicated(subset = 'company_id1', keep = False)]"
   ]
  },
  {
   "cell_type": "markdown",
   "metadata": {},
   "source": [
    "В датасете `company_and_rounds_df` найдено 21 220 повторяющихся company_id1. Это не ошибка, поскольку каждая запись соответствует отдельному раунду финансирования компании, и идентификатор компании повторяется при наличии нескольких раундов. Однако при этом общая информация о компаниях дублируется, поэтому имеет смысл разделить данные на два датафрейма: один — с информацией о компаниях, второй — с данными о раундах."
   ]
  },
  {
   "cell_type": "code",
   "execution_count": 29,
   "metadata": {},
   "outputs": [
    {
     "name": "stdout",
     "output_type": "stream",
     "text": [
      "Количество дубликатов по столбцу id в датасете acquisition_df: 0\n",
      "Количество дубликатов по столбцу id в датасете education_df: 0\n",
      "Количество дубликатов по столбцу id в датасете people_df: 1\n",
      "Количество дубликатов по столбцу id в датасете degrees_df: 0\n"
     ]
    }
   ],
   "source": [
    "# Создадим словарь с названиями датафреймов\n",
    "dfs = {\n",
    "    'acquisition_df': acquisition_df,\n",
    "    'education_df': education_df,\n",
    "    'people_df': people_df,\n",
    "    'degrees_df': degrees_df\n",
    "}\n",
    "\n",
    "# Проверим кол-во дубликатов по столбцу id в остальных датасетах\n",
    "for name, df in dfs.items():\n",
    "    print(f\"Количество дубликатов по столбцу id в датасете {name}: {df.duplicated(subset = 'id').sum()}\")"
   ]
  },
  {
   "cell_type": "code",
   "execution_count": 30,
   "metadata": {},
   "outputs": [
    {
     "data": {
      "text/html": [
       "<div>\n",
       "<style scoped>\n",
       "    .dataframe tbody tr th:only-of-type {\n",
       "        vertical-align: middle;\n",
       "    }\n",
       "\n",
       "    .dataframe tbody tr th {\n",
       "        vertical-align: top;\n",
       "    }\n",
       "\n",
       "    .dataframe thead th {\n",
       "        text-align: right;\n",
       "    }\n",
       "</style>\n",
       "<table border=\"1\" class=\"dataframe\">\n",
       "  <thead>\n",
       "    <tr style=\"text-align: right;\">\n",
       "      <th></th>\n",
       "      <th>id</th>\n",
       "      <th>first_name</th>\n",
       "      <th>last_name</th>\n",
       "      <th>company_id</th>\n",
       "      <th>network_username</th>\n",
       "    </tr>\n",
       "  </thead>\n",
       "  <tbody>\n",
       "    <tr>\n",
       "      <th>13171</th>\n",
       "      <td>116554</td>\n",
       "      <td>Nicole</td>\n",
       "      <td>Couto</td>\n",
       "      <td>200243.0</td>\n",
       "      <td>NaN</td>\n",
       "    </tr>\n",
       "    <tr>\n",
       "      <th>13172</th>\n",
       "      <td>116554</td>\n",
       "      <td>Nicole</td>\n",
       "      <td>Couto</td>\n",
       "      <td>212993.0</td>\n",
       "      <td>NaN</td>\n",
       "    </tr>\n",
       "  </tbody>\n",
       "</table>\n",
       "</div>"
      ],
      "text/plain": [
       "           id first_name last_name  company_id network_username\n",
       "13171  116554     Nicole     Couto    200243.0              NaN\n",
       "13172  116554     Nicole     Couto    212993.0              NaN"
      ]
     },
     "execution_count": 30,
     "metadata": {},
     "output_type": "execute_result"
    }
   ],
   "source": [
    "# Познакомимся с дубликатом в датасете people_df\n",
    "people_df[people_df.duplicated(subset='id', keep=False)]"
   ]
  },
  {
   "cell_type": "markdown",
   "metadata": {},
   "source": [
    "В датасете `people_df` также обнаружилось две записи об одном сотруднике. Но, учитывая, что один человек может работать в разных компаниях, этот дубликат не требует обработки. В остальных датасетах нет повторяющихся id. \n",
    "\n",
    "Теперь проверим корректность **категориальных значений**, чтобы убедиться, что одинаковые сущности не представлены в данных разными написаниями или вариантами названий."
   ]
  },
  {
   "cell_type": "code",
   "execution_count": 31,
   "metadata": {},
   "outputs": [
    {
     "data": {
      "text/plain": [
       "[NaN, 'cash', 'stock', 'cash_and_stock']\n",
       "Categories (3, object): ['cash', 'cash_and_stock', 'stock']"
      ]
     },
     "execution_count": 31,
     "metadata": {},
     "output_type": "execute_result"
    }
   ],
   "source": [
    "# Выведем все уникальные объекты в столбце term_code датасета acquisition_df\n",
    "acquisition_df['term_code'].unique()"
   ]
  },
  {
   "cell_type": "code",
   "execution_count": 32,
   "metadata": {
    "scrolled": true
   },
   "outputs": [
    {
     "data": {
      "text/plain": [
       "['web',\n",
       " 'games_video',\n",
       " 'network_hosting',\n",
       " 'advertising',\n",
       " 'cleantech',\n",
       " nan,\n",
       " 'enterprise',\n",
       " 'other',\n",
       " 'consulting',\n",
       " 'mobile',\n",
       " 'health',\n",
       " 'software',\n",
       " 'analytics',\n",
       " 'finance',\n",
       " 'education',\n",
       " 'medical',\n",
       " 'manufacturing',\n",
       " 'biotech',\n",
       " 'ecommerce',\n",
       " 'public_relations',\n",
       " 'hardware',\n",
       " 'search',\n",
       " 'news',\n",
       " 'government',\n",
       " 'security',\n",
       " 'photo_video',\n",
       " 'travel',\n",
       " 'semiconductor',\n",
       " 'social',\n",
       " 'legal',\n",
       " 'transportation',\n",
       " 'hospitality',\n",
       " 'sports',\n",
       " 'nonprofit',\n",
       " 'fashion',\n",
       " 'messaging',\n",
       " 'music',\n",
       " 'automotive',\n",
       " 'design',\n",
       " 'real_estate',\n",
       " 'local',\n",
       " 'nanotech',\n",
       " 'pets']"
      ]
     },
     "execution_count": 32,
     "metadata": {},
     "output_type": "execute_result"
    }
   ],
   "source": [
    "# Выведем все уникальные объекты в столбце category_code датасета company_and_rounds_df\n",
    "company_and_rounds_df['category_code'].unique().tolist()"
   ]
  },
  {
   "cell_type": "code",
   "execution_count": 33,
   "metadata": {},
   "outputs": [
    {
     "data": {
      "text/plain": [
       "['operating', 'acquired', 'closed', 'ipo', NaN]\n",
       "Categories (4, object): ['acquired', 'closed', 'ipo', 'operating']"
      ]
     },
     "execution_count": 33,
     "metadata": {},
     "output_type": "execute_result"
    }
   ],
   "source": [
    "# Выведем все уникальные объекты в столбце status датасета company_and_rounds_df\n",
    "company_and_rounds_df['status'].unique()"
   ]
  },
  {
   "cell_type": "code",
   "execution_count": 34,
   "metadata": {},
   "outputs": [
    {
     "data": {
      "text/plain": [
       "['series-a', 'series-b', 'series-c+', NaN, 'angel', 'venture', 'other', 'private-equity', 'post-ipo', 'crowdfunding']\n",
       "Categories (9, object): ['angel', 'crowdfunding', 'other', 'post-ipo', ..., 'series-a', 'series-b', 'series-c+', 'venture']"
      ]
     },
     "execution_count": 34,
     "metadata": {},
     "output_type": "execute_result"
    }
   ],
   "source": [
    "# Выведем все уникальные объекты в столбце funding_round_type датасета company_and_rounds_df\n",
    "company_and_rounds_df['funding_round_type'].unique()"
   ]
  },
  {
   "cell_type": "markdown",
   "metadata": {},
   "source": [
    "В обозначениях вариантов расчета, категорий области деятельности компании, статуса компаниий и типа финансирования нет ошибок."
   ]
  },
  {
   "cell_type": "markdown",
   "metadata": {
    "id": "u60cHsn6rJg1"
   },
   "source": [
    "## Шаг 2. Предобработка данных, предварительное исследование"
   ]
  },
  {
   "cell_type": "markdown",
   "metadata": {
    "id": "g2bHIIjcrJg1"
   },
   "source": [
    "\n",
    "### 2.1. Раунды финансирования по годам\n",
    "\n",
    "В этом разделе будет проведён анализ динамики финансирования стартапов по годам. Будет рассмотрено, как изменялся типичный размер средств, выделяемых в рамках одного раунда, и общее количество раундов финансирования, а также выявим годы с наибольшими значениями и ключевые тенденции."
   ]
  },
  {
   "cell_type": "code",
   "execution_count": 35,
   "metadata": {},
   "outputs": [
    {
     "data": {
      "text/html": [
       "<div>\n",
       "<style scoped>\n",
       "    .dataframe tbody tr th:only-of-type {\n",
       "        vertical-align: middle;\n",
       "    }\n",
       "\n",
       "    .dataframe tbody tr th {\n",
       "        vertical-align: top;\n",
       "    }\n",
       "\n",
       "    .dataframe thead th {\n",
       "        text-align: right;\n",
       "    }\n",
       "</style>\n",
       "<table border=\"1\" class=\"dataframe\">\n",
       "  <thead>\n",
       "    <tr style=\"text-align: right;\">\n",
       "      <th></th>\n",
       "      <th>funded_at_year</th>\n",
       "      <th>count</th>\n",
       "      <th>median</th>\n",
       "    </tr>\n",
       "  </thead>\n",
       "  <tbody>\n",
       "    <tr>\n",
       "      <th>15</th>\n",
       "      <td>1999.0</td>\n",
       "      <td>76</td>\n",
       "      <td>2000000.0</td>\n",
       "    </tr>\n",
       "    <tr>\n",
       "      <th>16</th>\n",
       "      <td>2000.0</td>\n",
       "      <td>125</td>\n",
       "      <td>4200000.0</td>\n",
       "    </tr>\n",
       "    <tr>\n",
       "      <th>17</th>\n",
       "      <td>2001.0</td>\n",
       "      <td>96</td>\n",
       "      <td>3000000.0</td>\n",
       "    </tr>\n",
       "    <tr>\n",
       "      <th>18</th>\n",
       "      <td>2002.0</td>\n",
       "      <td>116</td>\n",
       "      <td>4200000.0</td>\n",
       "    </tr>\n",
       "    <tr>\n",
       "      <th>19</th>\n",
       "      <td>2003.0</td>\n",
       "      <td>159</td>\n",
       "      <td>3000000.0</td>\n",
       "    </tr>\n",
       "    <tr>\n",
       "      <th>20</th>\n",
       "      <td>2004.0</td>\n",
       "      <td>291</td>\n",
       "      <td>5000000.0</td>\n",
       "    </tr>\n",
       "    <tr>\n",
       "      <th>21</th>\n",
       "      <td>2005.0</td>\n",
       "      <td>1633</td>\n",
       "      <td>5500000.0</td>\n",
       "    </tr>\n",
       "    <tr>\n",
       "      <th>22</th>\n",
       "      <td>2006.0</td>\n",
       "      <td>2436</td>\n",
       "      <td>5000000.0</td>\n",
       "    </tr>\n",
       "    <tr>\n",
       "      <th>23</th>\n",
       "      <td>2007.0</td>\n",
       "      <td>3279</td>\n",
       "      <td>3973320.0</td>\n",
       "    </tr>\n",
       "    <tr>\n",
       "      <th>24</th>\n",
       "      <td>2008.0</td>\n",
       "      <td>3774</td>\n",
       "      <td>3110000.0</td>\n",
       "    </tr>\n",
       "    <tr>\n",
       "      <th>25</th>\n",
       "      <td>2009.0</td>\n",
       "      <td>4151</td>\n",
       "      <td>2000000.0</td>\n",
       "    </tr>\n",
       "    <tr>\n",
       "      <th>26</th>\n",
       "      <td>2010.0</td>\n",
       "      <td>6221</td>\n",
       "      <td>1602500.0</td>\n",
       "    </tr>\n",
       "    <tr>\n",
       "      <th>27</th>\n",
       "      <td>2011.0</td>\n",
       "      <td>9204</td>\n",
       "      <td>1200000.0</td>\n",
       "    </tr>\n",
       "    <tr>\n",
       "      <th>28</th>\n",
       "      <td>2012.0</td>\n",
       "      <td>9970</td>\n",
       "      <td>1000000.0</td>\n",
       "    </tr>\n",
       "    <tr>\n",
       "      <th>29</th>\n",
       "      <td>2013.0</td>\n",
       "      <td>11072</td>\n",
       "      <td>1200000.0</td>\n",
       "    </tr>\n",
       "  </tbody>\n",
       "</table>\n",
       "</div>"
      ],
      "text/plain": [
       "    funded_at_year  count     median\n",
       "15          1999.0     76  2000000.0\n",
       "16          2000.0    125  4200000.0\n",
       "17          2001.0     96  3000000.0\n",
       "18          2002.0    116  4200000.0\n",
       "19          2003.0    159  3000000.0\n",
       "20          2004.0    291  5000000.0\n",
       "21          2005.0   1633  5500000.0\n",
       "22          2006.0   2436  5000000.0\n",
       "23          2007.0   3279  3973320.0\n",
       "24          2008.0   3774  3110000.0\n",
       "25          2009.0   4151  2000000.0\n",
       "26          2010.0   6221  1602500.0\n",
       "27          2011.0   9204  1200000.0\n",
       "28          2012.0   9970  1000000.0\n",
       "29          2013.0  11072  1200000.0"
      ]
     },
     "execution_count": 35,
     "metadata": {},
     "output_type": "execute_result"
    }
   ],
   "source": [
    "# Создадим столбец с годом финансирования на основе столбца funded_at\n",
    "company_and_rounds_df['funded_at_year'] = company_and_rounds_df['funded_at'].dt.year\n",
    "\n",
    "# Создадим сводную таблицу по годам с информацией о типичном размере средств, выделяемых в рамках одного раунда и\n",
    "# общем количестве раундов финансирования за каждый год\n",
    "summary_table = pd.pivot_table(\n",
    "    company_and_rounds_df, \n",
    "    index = 'funded_at_year', \n",
    "    values = 'raised_amount', \n",
    "    aggfunc = {'median', 'count'}\n",
    ").reset_index()\n",
    "\n",
    "# Оставим только те года, для которых есть информация о более чем 50 раундах финансирования\n",
    "filtered_table = summary_table[summary_table['count'] > 50]\n",
    "\n",
    "filtered_table"
   ]
  },
  {
   "cell_type": "code",
   "execution_count": 36,
   "metadata": {
    "scrolled": false
   },
   "outputs": [
    {
     "data": {
      "image/png": "[encoded data removed]",
      "text/plain": [
       "<Figure size 720x360 with 1 Axes>"
      ]
     },
     "metadata": {
      "needs_background": "light"
     },
     "output_type": "display_data"
    }
   ],
   "source": [
    "# Построим линейный график для отражения динамики типичного размера финансирования\n",
    "filtered_table.plot(kind = 'line', \n",
    "                    x = 'funded_at_year', \n",
    "                    y = 'median', \n",
    "                    title = 'Динамика типичного размера финансирования по годам',\n",
    "                    xlabel = '',\n",
    "                    ylabel = 'Типичный размер финансирования, млн.',\n",
    "                    legend = False,\n",
    "                    figsize = (10, 5),\n",
    "                    grid = True,\n",
    "                    marker = 'o')\n",
    "plt.show()"
   ]
  },
  {
   "cell_type": "code",
   "execution_count": 37,
   "metadata": {},
   "outputs": [
    {
     "data": {
      "image/png": "[encoded data removed]",
      "text/plain": [
       "<Figure size 720x360 with 2 Axes>"
      ]
     },
     "metadata": {
      "needs_background": "light"
     },
     "output_type": "display_data"
    }
   ],
   "source": [
    "# Построим линейный график для отражения динамики типичного размера финансирования и кол-ва раундов финансирования\n",
    "fig, ax1 = plt.subplots(figsize=(10, 5))\n",
    "\n",
    "# Первая линия: медианный размер финансирования\n",
    "ax1.plot(filtered_table['funded_at_year'], filtered_table['median'], color='blue', marker='o')\n",
    "ax1.set_xlabel('')\n",
    "ax1.set_ylabel('Типичный размер финансирования, млн.', color = 'blue')\n",
    "ax1.tick_params(axis='y')\n",
    "ax1.grid(True)\n",
    "\n",
    "# Вторая ось Y для количества раундов финансирования\n",
    "ax2 = ax1.twinx()\n",
    "ax2.plot(filtered_table['funded_at_year'], filtered_table['count'], color='orange', marker='s')\n",
    "ax2.set_ylabel('Количество раундов финансирования', color = 'orange')\n",
    "ax2.tick_params(axis='y')\n",
    "\n",
    "# Заголовок\n",
    "plt.title('Типичный размер финансирования и количество раундов финансирования по годам')\n",
    "\n",
    "plt.show()"
   ]
  },
  {
   "cell_type": "markdown",
   "metadata": {},
   "source": [
    "**На основе полученных данных можно сделать следующие выводы:**\n",
    "- Типичный размер собранных в рамках одного раунда средств был максимален в 2005 году и составлял 5.5 млн. Далее наблюдается резкое снижение вплоть до 2012 года.\n",
    "- В 1999 - 2005 гг. показатели типичного размера финансирования и количества раундов слабо, но постепенно росли. В 2005 г. медиана финансирования достигла пика и начала резко и неуклонно снижаться, при этом количество раундов финансирования продолжило расти. В 2013 году наблюдалось некоторое увеличение типичного размера финансирования, но этот показатель далек от значений прошлых лет. Что касается тенденции 2005-2012 гг., можно предположить, что в это время инвесторы стали более осторожными и предпочитали диверсифицировать свои инвестиции — меньшие суммы в большее количество компаний.\n"
   ]
  },
  {
   "cell_type": "markdown",
   "metadata": {
    "id": "45if1en1rJg2"
   },
   "source": [
    "\n",
    "### 2.2. Сотрудники и их образование\n",
    "\n",
    "**Цель раздела** — определить, зависит ли полнота сведений о сотрудниках (например, об их образовании) от размера компаний.\n",
    "\n",
    "Для достижения этой цели планируется:\n",
    "- Разделить компании на группы по численности сотрудников и рассчитать среднюю долю сотрудников без данных об образовании в каждой группе.\n",
    "- Определить набор таблиц, необходимых для проведения анализа."
   ]
  },
  {
   "cell_type": "markdown",
   "metadata": {},
   "source": [
    "Информация о сотрудниках содержится в таблицах `people_df`, `education_df` и `degrees_df`. \n",
    "\n",
    "В таблице `people_df` содержится информация о месте работы сотрудника (`company_id`), в `education_df` — об университете (`institution`). Этой информации достаточно для достижения цели раздела, поэтому присоединение таблицы `degrees_df` представляется изыбточным."
   ]
  },
  {
   "cell_type": "code",
   "execution_count": 38,
   "metadata": {
    "id": "4FC98Pd-FcmG"
   },
   "outputs": [],
   "source": [
    "# Объединим таблицы people_df и education_df\n",
    "people_education_df = people_df.merge(education_df, how = 'left', left_on = 'id', right_on = 'person_id')"
   ]
  },
  {
   "cell_type": "code",
   "execution_count": 39,
   "metadata": {},
   "outputs": [
    {
     "name": "stdout",
     "output_type": "stream",
     "text": [
      "<class 'pandas.core.frame.DataFrame'>\n",
      "Int64Index: 267694 entries, 0 to 267693\n",
      "Data columns (total 9 columns):\n",
      " #   Column            Non-Null Count   Dtype         \n",
      "---  ------            --------------   -----         \n",
      " 0   id_x              267694 non-null  int64         \n",
      " 1   first_name        267689 non-null  object        \n",
      " 2   last_name         267693 non-null  object        \n",
      " 3   company_id        44789 non-null   float64       \n",
      " 4   network_username  50775 non-null   object        \n",
      " 5   id_y              109056 non-null  float64       \n",
      " 6   person_id         109056 non-null  float64       \n",
      " 7   institution       109002 non-null  object        \n",
      " 8   graduated_at      57691 non-null   datetime64[ns]\n",
      "dtypes: datetime64[ns](1), float64(3), int64(1), object(4)\n",
      "memory usage: 20.4+ MB\n"
     ]
    }
   ],
   "source": [
    "# Изучим общую информацию о полученном датасете\n",
    "people_education_df.info()"
   ]
  },
  {
   "cell_type": "markdown",
   "metadata": {},
   "source": [
    "Видим, что новый датасет содержит 267 694 строк, хотя в таблице `people_df` содержится информация всего о 226 709 сотрудниках — это отражает наличие нескольких образований у некоторых сотрудников.\n",
    "\n",
    "Поскольку для целей исследования необходимы данные только о самом факте наличия информации об образовании, а конкретные данные (например, о годе выпуска, учебном заведении, типе образования и т.п.) не нужны, имеет смысл удалить строки-дубликаты, которые отражают несколько вариантов образования для одного и того же сотрудника. Это позволит избежать дублирующейся информации и не учитывать в расчетах одного сотрудника несколько раз."
   ]
  },
  {
   "cell_type": "code",
   "execution_count": 40,
   "metadata": {},
   "outputs": [],
   "source": [
    "# Удалим «дубликаты»\n",
    "people_education_df.drop_duplicates(subset = 'id_x', inplace = True)"
   ]
  },
  {
   "cell_type": "code",
   "execution_count": 41,
   "metadata": {},
   "outputs": [
    {
     "name": "stdout",
     "output_type": "stream",
     "text": [
      "<class 'pandas.core.frame.DataFrame'>\n",
      "Int64Index: 226708 entries, 0 to 267693\n",
      "Data columns (total 9 columns):\n",
      " #   Column            Non-Null Count   Dtype         \n",
      "---  ------            --------------   -----         \n",
      " 0   id_x              226708 non-null  int64         \n",
      " 1   first_name        226703 non-null  object        \n",
      " 2   last_name         226707 non-null  object        \n",
      " 3   company_id        34614 non-null   float64       \n",
      " 4   network_username  38867 non-null   object        \n",
      " 5   id_y              68071 non-null   float64       \n",
      " 6   person_id         68071 non-null   float64       \n",
      " 7   institution       68031 non-null   object        \n",
      " 8   graduated_at      36387 non-null   datetime64[ns]\n",
      "dtypes: datetime64[ns](1), float64(3), int64(1), object(4)\n",
      "memory usage: 17.3+ MB\n"
     ]
    }
   ],
   "source": [
    "# Проверим результат\n",
    "people_education_df.info()"
   ]
  },
  {
   "cell_type": "markdown",
   "metadata": {},
   "source": [
    "В датасете `people_education_cleaned` осталось по одной записи на каждого сотрудника. Теперь с этими данными можно работать далее."
   ]
  },
  {
   "cell_type": "markdown",
   "metadata": {},
   "source": [
    "Создадим новый столбец `is_education` с информацией о наличии или отсутствии информации об образовании"
   ]
  },
  {
   "cell_type": "code",
   "execution_count": 42,
   "metadata": {},
   "outputs": [],
   "source": [
    "# Создадим столбец is_education, где 1 будет означать наличие информации об образовании, а 0 — ее отсутствие\n",
    "people_education_df['is_education'] = (\n",
    "    people_education_df['institution'].notna() | \n",
    "    people_education_df['graduated_at'].notna()\n",
    ").astype(int)"
   ]
  },
  {
   "cell_type": "markdown",
   "metadata": {},
   "source": [
    "Перейдем непосредственно к задаче об оценке зависимости между размером компании и полнотой сведений об образовании сотрудников"
   ]
  },
  {
   "cell_type": "code",
   "execution_count": 43,
   "metadata": {
    "scrolled": true
   },
   "outputs": [
    {
     "data": {
      "text/plain": [
       "1      18116\n",
       "2       2709\n",
       "3        921\n",
       "4        450\n",
       "5        237\n",
       "6        138\n",
       "7        100\n",
       "8         59\n",
       "9         46\n",
       "11        30\n",
       "10        25\n",
       "13        17\n",
       "12        16\n",
       "14         8\n",
       "17         5\n",
       "16         4\n",
       "23         3\n",
       "19         3\n",
       "20         3\n",
       "18         3\n",
       "15         3\n",
       "29         2\n",
       "25         2\n",
       "56         2\n",
       "22         2\n",
       "21         2\n",
       "31         1\n",
       "138        1\n",
       "35         1\n",
       "47         1\n",
       "32         1\n",
       "39         1\n",
       "63         1\n",
       "36         1\n",
       "51         1\n",
       "48         1\n",
       "244        1\n",
       "61         1\n",
       "150        1\n",
       "26         1\n",
       "72         1\n",
       "Name: id_x, dtype: int64"
      ]
     },
     "execution_count": 43,
     "metadata": {},
     "output_type": "execute_result"
    }
   ],
   "source": [
    "# Оценим информацию о количестве сотрудников в каждой компании\n",
    "companies = pd.DataFrame(people_education_df.groupby('company_id')['id_x'].count())\n",
    "companies['id_x'].value_counts()"
   ]
  },
  {
   "cell_type": "markdown",
   "metadata": {},
   "source": [
    "В данных наблюдается неравномерное распределение — большое количество малых компаний (до 14 сотрудников) и маленькое количество более крупных компаний. "
   ]
  },
  {
   "cell_type": "code",
   "execution_count": 44,
   "metadata": {},
   "outputs": [],
   "source": [
    "# Создадим новый столбец company_size с группами по количеству сотрудников\n",
    "bins   = [0, 1, 2, 3, 5, 10, 25, float('inf')]\n",
    "labels = ['1', '2', '3', '4-5', '6-10', '11-25', '26+']\n",
    "companies['company_size'] = pd.cut(companies['id_x'], bins=bins, labels=labels)"
   ]
  },
  {
   "cell_type": "code",
   "execution_count": 45,
   "metadata": {},
   "outputs": [
    {
     "data": {
      "text/plain": [
       "1        18116\n",
       "2         2709\n",
       "3          921\n",
       "4-5        687\n",
       "6-10       368\n",
       "11-25      101\n",
       "26+         19\n",
       "Name: company_size, dtype: int64"
      ]
     },
     "execution_count": 45,
     "metadata": {},
     "output_type": "execute_result"
    }
   ],
   "source": [
    "# Посмотрим на получившиеся группы и количество компаний, попавших в эти группы\n",
    "companies['company_size'].value_counts()"
   ]
  },
  {
   "cell_type": "code",
   "execution_count": 46,
   "metadata": {},
   "outputs": [],
   "source": [
    "# Присоединяем информацию о типе компании к исходной таблице people_education_df\n",
    "people_education_df = people_education_df.merge(companies, how = 'left', on = 'company_id')"
   ]
  },
  {
   "cell_type": "code",
   "execution_count": 47,
   "metadata": {},
   "outputs": [
    {
     "data": {
      "text/plain": [
       "company_size\n",
       "1        0.462630\n",
       "2        0.466224\n",
       "3        0.487152\n",
       "4-5      0.499162\n",
       "6-10     0.533784\n",
       "11-25    0.456842\n",
       "26+      0.272727\n",
       "Name: is_education, dtype: float64"
      ]
     },
     "execution_count": 47,
     "metadata": {},
     "output_type": "execute_result"
    }
   ],
   "source": [
    "# Определяем среднюю долю сотрудников без информации об образовании в каждой из групп\n",
    "1 - people_education_df.groupby('company_size')['is_education'].mean()"
   ]
  },
  {
   "cell_type": "code",
   "execution_count": 48,
   "metadata": {
    "id": "_7gjdrGOFcB2"
   },
   "outputs": [
    {
     "data": {
      "image/png": "[encoded data removed]",
      "text/plain": [
       "<Figure size 720x360 with 1 Axes>"
      ]
     },
     "metadata": {
      "needs_background": "light"
     },
     "output_type": "display_data"
    }
   ],
   "source": [
    "# Построим столбчатую диаграмму для демонстрации различий\n",
    "(1 - people_education_df.groupby('company_size')['is_education'].mean()).plot(\n",
    "    kind = 'bar',\n",
    "    rot = 0,\n",
    "    title = 'Доля сотрудников без информации об образовании \\n в зависимости от размера компании',\n",
    "    xlabel = 'Количество сотрудников в компании',\n",
    "    ylabel = 'Доля сотрудников',\n",
    "    figsize = (10, 5))\n",
    "\n",
    "plt.show()"
   ]
  },
  {
   "cell_type": "markdown",
   "metadata": {},
   "source": [
    "В компаниях с числом сотрудников от 1 до 10 наблюдается умеренная тенденция к увеличению доли сотрудников без информации об образовании по мере роста размера компании — от 46% до 53%. Однако начиная с группы компаний с численностью от 11 сотрудников и выше, эта тенденция меняется на противоположную: доля сотрудников без данных об образовании начинает снижаться и достигает минимума (27%) в крупных компаниях (26+).\n",
    "\n",
    "Таким образом, можно сделать вывод, что в наиболее крупных компаниях образовательные данные сотрудников представлены наиболее полно, в то время как в малых и микропредприятиях наблюдается нехватка информации и менее выраженные различия между группами.\n",
    "\n",
    "Однако стоит учитывать следующие ограничения, которые заставляют с осторожностью смотреть на полученные результаты:\n",
    "- Используется не реальная информация о количестве сотрудников в компаниях, а синтетическая — учитывались только сотрудники, имеющиеся в базе данных.\n",
    "- Распределение количества компаний в группах неравномерное, т.к. в датасете в основном представлены компании с небольшим количеством сотрудников."
   ]
  },
  {
   "cell_type": "markdown",
   "metadata": {},
   "source": [
    "### 2.3. Объединять или не объединять — вот в чём вопрос\n",
    "\n",
    "В этом разделе предстоит проверить, можно ли использовать столбцы с именем `network_username` для объединения данных."
   ]
  },
  {
   "cell_type": "markdown",
   "metadata": {},
   "source": [
    "Столбец с именем `network_username` встречается в двух датасетах: `company_and_rounds_df`, `people_df`.\n",
    "\n",
    "Согласно описанию данных, столбец `network_username` в датасете `company_and_rounds_df` содержит ники компании в сети, а в датасете `people_df` — ники сотрудников. Поэтому маловероятно, что эти данные дублируют друг друга. Однако стоит проверить пересечения."
   ]
  },
  {
   "cell_type": "code",
   "execution_count": 49,
   "metadata": {},
   "outputs": [],
   "source": [
    "# Удалим пропуски перед использованием set и сразу сделаем копию\n",
    "clean_company = company_and_rounds_df.dropna(subset=['network_username']).copy()\n",
    "clean_people = people_df.dropna(subset=['network_username']).copy()\n",
    "\n",
    "# Приведем данные к одному регистру\n",
    "clean_company['network_username'] = clean_company['network_username'].str.lower()\n",
    "clean_people['network_username'] = clean_people['network_username'].str.lower()"
   ]
  },
  {
   "cell_type": "code",
   "execution_count": 50,
   "metadata": {},
   "outputs": [
    {
     "data": {
      "image/png": "[encoded data removed]",
      "text/plain": [
       "<Figure size 576x576 with 1 Axes>"
      ]
     },
     "metadata": {},
     "output_type": "display_data"
    },
    {
     "name": "stdout",
     "output_type": "stream",
     "text": [
      "Доля общего пересечения: 2.17%\n"
     ]
    }
   ],
   "source": [
    "#! pip install matplotlib_venn\n",
    "from matplotlib_venn import venn2\n",
    "import matplotlib.pyplot as plt\n",
    "\n",
    "# Превратим колонки в множества\n",
    "company_users = set(clean_company['network_username'])\n",
    "people_users = set(clean_people['network_username'])\n",
    "\n",
    "# Строим диаграмму Венна для двух множеств\n",
    "plt.figure(figsize=(8, 8))\n",
    "venn2([company_users, people_users],\n",
    "      set_labels=('Companies', 'People'))\n",
    "plt.title(\"Пересечения по network_username\")\n",
    "plt.show()\n",
    "\n",
    "# Дополнительно выведем относительные значения\n",
    "total_unique = len(company_users | people_users)\n",
    "print(f\"Доля общего пересечения: {len(company_users & people_users) / total_unique:.2%}\")\n"
   ]
  },
  {
   "cell_type": "markdown",
   "metadata": {},
   "source": [
    "Согласно диаграмме Венна, пересечение значений по столбцу `network_username` между датасетами `company_and_rounds_df` и `people_df` составило всего `2 503` записи (`2,17%` от общего числа уникальных значений). Вероятнее всего, это случайные совпадения, когда ники компаний и отдельных сотрудников оказались одинаковыми. Поэтому **использовать этот столбец для объединения данных нецелесообразно**."
   ]
  },
  {
   "cell_type": "markdown",
   "metadata": {
    "id": "EHcODomVrJg1"
   },
   "source": [
    "### 2.4. Проблемный датасет и причина возникновения пропусков\n",
    "\n",
    "В датасете `company_and_rounds_df` ранее было выявлено значительное количество пропусков в информации о раундах финансирования — ключевых для заказчика данных. \n",
    "\n",
    "В этом разделе датасет будет преобразован в более удобный для анализа формат, который позволит в дальнейшем проводить анализ в разрезе отдельных компаний без необходимости дополнительных агрегаций."
   ]
  },
  {
   "cell_type": "code",
   "execution_count": 51,
   "metadata": {},
   "outputs": [
    {
     "data": {
      "text/html": [
       "<div>\n",
       "<style scoped>\n",
       "    .dataframe tbody tr th:only-of-type {\n",
       "        vertical-align: middle;\n",
       "    }\n",
       "\n",
       "    .dataframe tbody tr th {\n",
       "        vertical-align: top;\n",
       "    }\n",
       "\n",
       "    .dataframe thead th {\n",
       "        text-align: right;\n",
       "    }\n",
       "</style>\n",
       "<table border=\"1\" class=\"dataframe\">\n",
       "  <thead>\n",
       "    <tr style=\"text-align: right;\">\n",
       "      <th></th>\n",
       "      <th>company_id1</th>\n",
       "      <th>name</th>\n",
       "      <th>category_code</th>\n",
       "      <th>status</th>\n",
       "      <th>founded_at</th>\n",
       "      <th>closed_at</th>\n",
       "      <th>domain</th>\n",
       "      <th>network_username</th>\n",
       "      <th>country_code</th>\n",
       "      <th>investment_rounds</th>\n",
       "      <th>...</th>\n",
       "      <th>funding_round_id</th>\n",
       "      <th>company_id</th>\n",
       "      <th>funded_at</th>\n",
       "      <th>funding_round_type</th>\n",
       "      <th>raised_amount</th>\n",
       "      <th>pre_money_valuation</th>\n",
       "      <th>participants</th>\n",
       "      <th>is_first_round</th>\n",
       "      <th>is_last_round</th>\n",
       "      <th>funded_at_year</th>\n",
       "    </tr>\n",
       "  </thead>\n",
       "  <tbody>\n",
       "    <tr>\n",
       "      <th>0</th>\n",
       "      <td>1.0</td>\n",
       "      <td>Wetpaint</td>\n",
       "      <td>web</td>\n",
       "      <td>operating</td>\n",
       "      <td>2005-10-17</td>\n",
       "      <td>NaT</td>\n",
       "      <td>wetpaint-inc.com</td>\n",
       "      <td>BachelrWetpaint</td>\n",
       "      <td>USA</td>\n",
       "      <td>0.0</td>\n",
       "      <td>...</td>\n",
       "      <td>888.0</td>\n",
       "      <td>1.0</td>\n",
       "      <td>2005-10-01</td>\n",
       "      <td>series-a</td>\n",
       "      <td>5250000.0</td>\n",
       "      <td>0.0</td>\n",
       "      <td>2.0</td>\n",
       "      <td>False</td>\n",
       "      <td>True</td>\n",
       "      <td>2005.0</td>\n",
       "    </tr>\n",
       "    <tr>\n",
       "      <th>1</th>\n",
       "      <td>1.0</td>\n",
       "      <td>Wetpaint</td>\n",
       "      <td>web</td>\n",
       "      <td>operating</td>\n",
       "      <td>2005-10-17</td>\n",
       "      <td>NaT</td>\n",
       "      <td>wetpaint-inc.com</td>\n",
       "      <td>BachelrWetpaint</td>\n",
       "      <td>USA</td>\n",
       "      <td>0.0</td>\n",
       "      <td>...</td>\n",
       "      <td>889.0</td>\n",
       "      <td>1.0</td>\n",
       "      <td>2007-01-01</td>\n",
       "      <td>series-b</td>\n",
       "      <td>9500000.0</td>\n",
       "      <td>0.0</td>\n",
       "      <td>3.0</td>\n",
       "      <td>False</td>\n",
       "      <td>False</td>\n",
       "      <td>2007.0</td>\n",
       "    </tr>\n",
       "    <tr>\n",
       "      <th>2</th>\n",
       "      <td>1.0</td>\n",
       "      <td>Wetpaint</td>\n",
       "      <td>web</td>\n",
       "      <td>operating</td>\n",
       "      <td>2005-10-17</td>\n",
       "      <td>NaT</td>\n",
       "      <td>wetpaint-inc.com</td>\n",
       "      <td>BachelrWetpaint</td>\n",
       "      <td>USA</td>\n",
       "      <td>0.0</td>\n",
       "      <td>...</td>\n",
       "      <td>2312.0</td>\n",
       "      <td>1.0</td>\n",
       "      <td>2008-05-19</td>\n",
       "      <td>series-c+</td>\n",
       "      <td>25000000.0</td>\n",
       "      <td>0.0</td>\n",
       "      <td>4.0</td>\n",
       "      <td>True</td>\n",
       "      <td>False</td>\n",
       "      <td>2008.0</td>\n",
       "    </tr>\n",
       "    <tr>\n",
       "      <th>3</th>\n",
       "      <td>10.0</td>\n",
       "      <td>Flektor</td>\n",
       "      <td>games_video</td>\n",
       "      <td>acquired</td>\n",
       "      <td>NaT</td>\n",
       "      <td>NaT</td>\n",
       "      <td>flektor.com</td>\n",
       "      <td>NaN</td>\n",
       "      <td>USA</td>\n",
       "      <td>0.0</td>\n",
       "      <td>...</td>\n",
       "      <td>NaN</td>\n",
       "      <td>NaN</td>\n",
       "      <td>NaT</td>\n",
       "      <td>NaN</td>\n",
       "      <td>NaN</td>\n",
       "      <td>NaN</td>\n",
       "      <td>NaN</td>\n",
       "      <td>True</td>\n",
       "      <td>True</td>\n",
       "      <td>NaN</td>\n",
       "    </tr>\n",
       "    <tr>\n",
       "      <th>4</th>\n",
       "      <td>100.0</td>\n",
       "      <td>There</td>\n",
       "      <td>games_video</td>\n",
       "      <td>acquired</td>\n",
       "      <td>NaT</td>\n",
       "      <td>NaT</td>\n",
       "      <td>there.com</td>\n",
       "      <td>NaN</td>\n",
       "      <td>USA</td>\n",
       "      <td>0.0</td>\n",
       "      <td>...</td>\n",
       "      <td>NaN</td>\n",
       "      <td>NaN</td>\n",
       "      <td>NaT</td>\n",
       "      <td>NaN</td>\n",
       "      <td>NaN</td>\n",
       "      <td>NaN</td>\n",
       "      <td>NaN</td>\n",
       "      <td>True</td>\n",
       "      <td>True</td>\n",
       "      <td>NaN</td>\n",
       "    </tr>\n",
       "  </tbody>\n",
       "</table>\n",
       "<p>5 rows × 23 columns</p>\n",
       "</div>"
      ],
      "text/plain": [
       "   company_id1      name category_code     status founded_at closed_at  \\\n",
       "0          1.0  Wetpaint           web  operating 2005-10-17       NaT   \n",
       "1          1.0  Wetpaint           web  operating 2005-10-17       NaT   \n",
       "2          1.0  Wetpaint           web  operating 2005-10-17       NaT   \n",
       "3         10.0   Flektor   games_video   acquired        NaT       NaT   \n",
       "4        100.0     There   games_video   acquired        NaT       NaT   \n",
       "\n",
       "             domain network_username country_code  investment_rounds  ...  \\\n",
       "0  wetpaint-inc.com  BachelrWetpaint          USA                0.0  ...   \n",
       "1  wetpaint-inc.com  BachelrWetpaint          USA                0.0  ...   \n",
       "2  wetpaint-inc.com  BachelrWetpaint          USA                0.0  ...   \n",
       "3       flektor.com              NaN          USA                0.0  ...   \n",
       "4         there.com              NaN          USA                0.0  ...   \n",
       "\n",
       "   funding_round_id  company_id  funded_at  funding_round_type  raised_amount  \\\n",
       "0             888.0         1.0 2005-10-01            series-a      5250000.0   \n",
       "1             889.0         1.0 2007-01-01            series-b      9500000.0   \n",
       "2            2312.0         1.0 2008-05-19           series-c+     25000000.0   \n",
       "3               NaN         NaN        NaT                 NaN            NaN   \n",
       "4               NaN         NaN        NaT                 NaN            NaN   \n",
       "\n",
       "  pre_money_valuation participants  is_first_round  is_last_round  \\\n",
       "0                 0.0          2.0           False           True   \n",
       "1                 0.0          3.0           False          False   \n",
       "2                 0.0          4.0            True          False   \n",
       "3                 NaN          NaN            True           True   \n",
       "4                 NaN          NaN            True           True   \n",
       "\n",
       "   funded_at_year  \n",
       "0          2005.0  \n",
       "1          2007.0  \n",
       "2          2008.0  \n",
       "3             NaN  \n",
       "4             NaN  \n",
       "\n",
       "[5 rows x 23 columns]"
      ]
     },
     "execution_count": 51,
     "metadata": {},
     "output_type": "execute_result"
    }
   ],
   "source": [
    "# Изучим данные в датасете company_and_rounds_df\n",
    "company_and_rounds_df.head()"
   ]
  },
  {
   "cell_type": "markdown",
   "metadata": {},
   "source": [
    "В данных обнаружено несоответствие между значениями в столбцах `is_first_round` и `is_last_round`, которые указывают, является ли конкретный раунд первым или последним для компании. В некоторых случаях, судя по хронологии дат в `funded_at`, эти признаки выставлены неверно: первые раунды помечены как последние, и наоборот. Это искажает дальнейший анализ и требует корректировки значений."
   ]
  },
  {
   "cell_type": "code",
   "execution_count": 52,
   "metadata": {},
   "outputs": [],
   "source": [
    "# «Поменяем местами» столбцы is_first_round и is_last_round\n",
    "first_round_copy = company_and_rounds_df['is_first_round'].copy()\n",
    "company_and_rounds_df['is_first_round'] = company_and_rounds_df['is_last_round']\n",
    "company_and_rounds_df['is_last_round'] = first_round_copy"
   ]
  },
  {
   "cell_type": "code",
   "execution_count": 53,
   "metadata": {},
   "outputs": [
    {
     "data": {
      "text/plain": [
       "<AxesSubplot:>"
      ]
     },
     "execution_count": 53,
     "metadata": {},
     "output_type": "execute_result"
    },
    {
     "data": {
      "image/png": "[encoded data removed]",
      "text/plain": [
       "<Figure size 1800x720 with 2 Axes>"
      ]
     },
     "metadata": {
      "needs_background": "light"
     },
     "output_type": "display_data"
    }
   ],
   "source": [
    "# Продублируем матрицу для демонстрации закономерности в пропущенных значениях\n",
    "msno.matrix(company_and_rounds_df)"
   ]
  },
  {
   "cell_type": "markdown",
   "metadata": {},
   "source": [
    "Вероятно, датасет `company_and_rounds.csv` был образован при объединении двух датасетов с помощью ключа `company_id`: в одном содержалась информация о компаниях, во втором — информация о раундах финансирования. Разделим этот датасет на два.\n",
    "\n",
    "1. Создадим датафрейм `companies_df` с информацией о компаниях"
   ]
  },
  {
   "cell_type": "code",
   "execution_count": 54,
   "metadata": {},
   "outputs": [],
   "source": [
    "# Создадим датафрейм companies_df с информацией о компаниях\n",
    "companies_df = company_and_rounds_df.iloc[:, :13]\n",
    "\n",
    "# Переименуем столбец company_id1, т.к. он больше не дублируется\n",
    "companies_df.rename(columns = {'company_id1': 'company_id'}, inplace = True)"
   ]
  },
  {
   "cell_type": "code",
   "execution_count": 55,
   "metadata": {},
   "outputs": [
    {
     "data": {
      "text/plain": [
       "21220"
      ]
     },
     "execution_count": 55,
     "metadata": {},
     "output_type": "execute_result"
    }
   ],
   "source": [
    "# Проверим новый датафрейм на явные дубликаты\n",
    "companies_df.duplicated().sum()"
   ]
  },
  {
   "cell_type": "markdown",
   "metadata": {},
   "source": [
    "Обнаружилось 21 220 полных дубликатов. Удалим их"
   ]
  },
  {
   "cell_type": "code",
   "execution_count": 56,
   "metadata": {},
   "outputs": [
    {
     "name": "stdout",
     "output_type": "stream",
     "text": [
      "<class 'pandas.core.frame.DataFrame'>\n",
      "Int64Index: 196554 entries, 0 to 217472\n",
      "Data columns (total 13 columns):\n",
      " #   Column             Non-Null Count   Dtype         \n",
      "---  ------             --------------   -----         \n",
      " 0   company_id         196553 non-null  float64       \n",
      " 1   name               196553 non-null  object        \n",
      " 2   category_code      123186 non-null  category      \n",
      " 3   status             196553 non-null  category      \n",
      " 4   founded_at         91227 non-null   datetime64[ns]\n",
      " 5   closed_at          2620 non-null    datetime64[ns]\n",
      " 6   domain             126545 non-null  object        \n",
      " 7   network_username   80591 non-null   object        \n",
      " 8   country_code       87990 non-null   object        \n",
      " 9   investment_rounds  196553 non-null  float64       \n",
      " 10  funding_rounds     196553 non-null  float64       \n",
      " 11  funding_total      196553 non-null  float64       \n",
      " 12  milestones         196553 non-null  float64       \n",
      "dtypes: category(2), datetime64[ns](2), float64(5), object(4)\n",
      "memory usage: 18.4+ MB\n"
     ]
    }
   ],
   "source": [
    "# Удалим дубликаты из датасета companies_df\n",
    "companies_df = companies_df.drop_duplicates()\n",
    "\n",
    "companies_df.info()"
   ]
  },
  {
   "cell_type": "markdown",
   "metadata": {},
   "source": [
    "В итоге имеем информацию о 196 553 компаниях."
   ]
  },
  {
   "cell_type": "markdown",
   "metadata": {},
   "source": [
    "2. Создадим датафрейм `rounds_df` с информацией о раундах финансирования"
   ]
  },
  {
   "cell_type": "code",
   "execution_count": 57,
   "metadata": {},
   "outputs": [],
   "source": [
    "# Создадим датафрейм rounds_df с информацией о раундах финансирования\n",
    "rounds_df = company_and_rounds_df.iloc[:, 13:]"
   ]
  },
  {
   "cell_type": "code",
   "execution_count": 58,
   "metadata": {},
   "outputs": [
    {
     "data": {
      "text/plain": [
       "164845"
      ]
     },
     "execution_count": 58,
     "metadata": {},
     "output_type": "execute_result"
    }
   ],
   "source": [
    "# Проверим новый датафрейм на явные дубликаты\n",
    "rounds_df.duplicated().sum()"
   ]
  },
  {
   "cell_type": "markdown",
   "metadata": {},
   "source": [
    "Обнаружилось 164 845 дубликатов, посмотрим на них подробнее."
   ]
  },
  {
   "cell_type": "code",
   "execution_count": 59,
   "metadata": {
    "scrolled": true
   },
   "outputs": [
    {
     "data": {
      "text/html": [
       "<div>\n",
       "<style scoped>\n",
       "    .dataframe tbody tr th:only-of-type {\n",
       "        vertical-align: middle;\n",
       "    }\n",
       "\n",
       "    .dataframe tbody tr th {\n",
       "        vertical-align: top;\n",
       "    }\n",
       "\n",
       "    .dataframe thead th {\n",
       "        text-align: right;\n",
       "    }\n",
       "</style>\n",
       "<table border=\"1\" class=\"dataframe\">\n",
       "  <thead>\n",
       "    <tr style=\"text-align: right;\">\n",
       "      <th></th>\n",
       "      <th>funding_round_id</th>\n",
       "      <th>company_id</th>\n",
       "      <th>funded_at</th>\n",
       "      <th>funding_round_type</th>\n",
       "      <th>raised_amount</th>\n",
       "      <th>pre_money_valuation</th>\n",
       "      <th>participants</th>\n",
       "      <th>is_first_round</th>\n",
       "      <th>is_last_round</th>\n",
       "      <th>funded_at_year</th>\n",
       "    </tr>\n",
       "  </thead>\n",
       "  <tbody>\n",
       "    <tr>\n",
       "      <th>3</th>\n",
       "      <td>NaN</td>\n",
       "      <td>NaN</td>\n",
       "      <td>NaT</td>\n",
       "      <td>NaN</td>\n",
       "      <td>NaN</td>\n",
       "      <td>NaN</td>\n",
       "      <td>NaN</td>\n",
       "      <td>True</td>\n",
       "      <td>True</td>\n",
       "      <td>NaN</td>\n",
       "    </tr>\n",
       "    <tr>\n",
       "      <th>4</th>\n",
       "      <td>NaN</td>\n",
       "      <td>NaN</td>\n",
       "      <td>NaT</td>\n",
       "      <td>NaN</td>\n",
       "      <td>NaN</td>\n",
       "      <td>NaN</td>\n",
       "      <td>NaN</td>\n",
       "      <td>True</td>\n",
       "      <td>True</td>\n",
       "      <td>NaN</td>\n",
       "    </tr>\n",
       "    <tr>\n",
       "      <th>5</th>\n",
       "      <td>NaN</td>\n",
       "      <td>NaN</td>\n",
       "      <td>NaT</td>\n",
       "      <td>NaN</td>\n",
       "      <td>NaN</td>\n",
       "      <td>NaN</td>\n",
       "      <td>NaN</td>\n",
       "      <td>True</td>\n",
       "      <td>True</td>\n",
       "      <td>NaN</td>\n",
       "    </tr>\n",
       "    <tr>\n",
       "      <th>6</th>\n",
       "      <td>NaN</td>\n",
       "      <td>NaN</td>\n",
       "      <td>NaT</td>\n",
       "      <td>NaN</td>\n",
       "      <td>NaN</td>\n",
       "      <td>NaN</td>\n",
       "      <td>NaN</td>\n",
       "      <td>True</td>\n",
       "      <td>True</td>\n",
       "      <td>NaN</td>\n",
       "    </tr>\n",
       "    <tr>\n",
       "      <th>7</th>\n",
       "      <td>NaN</td>\n",
       "      <td>NaN</td>\n",
       "      <td>NaT</td>\n",
       "      <td>NaN</td>\n",
       "      <td>NaN</td>\n",
       "      <td>NaN</td>\n",
       "      <td>NaN</td>\n",
       "      <td>True</td>\n",
       "      <td>True</td>\n",
       "      <td>NaN</td>\n",
       "    </tr>\n",
       "    <tr>\n",
       "      <th>...</th>\n",
       "      <td>...</td>\n",
       "      <td>...</td>\n",
       "      <td>...</td>\n",
       "      <td>...</td>\n",
       "      <td>...</td>\n",
       "      <td>...</td>\n",
       "      <td>...</td>\n",
       "      <td>...</td>\n",
       "      <td>...</td>\n",
       "      <td>...</td>\n",
       "    </tr>\n",
       "    <tr>\n",
       "      <th>217457</th>\n",
       "      <td>NaN</td>\n",
       "      <td>NaN</td>\n",
       "      <td>NaT</td>\n",
       "      <td>NaN</td>\n",
       "      <td>NaN</td>\n",
       "      <td>NaN</td>\n",
       "      <td>NaN</td>\n",
       "      <td>True</td>\n",
       "      <td>True</td>\n",
       "      <td>NaN</td>\n",
       "    </tr>\n",
       "    <tr>\n",
       "      <th>217460</th>\n",
       "      <td>NaN</td>\n",
       "      <td>NaN</td>\n",
       "      <td>NaT</td>\n",
       "      <td>NaN</td>\n",
       "      <td>NaN</td>\n",
       "      <td>NaN</td>\n",
       "      <td>NaN</td>\n",
       "      <td>True</td>\n",
       "      <td>True</td>\n",
       "      <td>NaN</td>\n",
       "    </tr>\n",
       "    <tr>\n",
       "      <th>217461</th>\n",
       "      <td>NaN</td>\n",
       "      <td>NaN</td>\n",
       "      <td>NaT</td>\n",
       "      <td>NaN</td>\n",
       "      <td>NaN</td>\n",
       "      <td>NaN</td>\n",
       "      <td>NaN</td>\n",
       "      <td>True</td>\n",
       "      <td>True</td>\n",
       "      <td>NaN</td>\n",
       "    </tr>\n",
       "    <tr>\n",
       "      <th>217462</th>\n",
       "      <td>NaN</td>\n",
       "      <td>NaN</td>\n",
       "      <td>NaT</td>\n",
       "      <td>NaN</td>\n",
       "      <td>NaN</td>\n",
       "      <td>NaN</td>\n",
       "      <td>NaN</td>\n",
       "      <td>True</td>\n",
       "      <td>True</td>\n",
       "      <td>NaN</td>\n",
       "    </tr>\n",
       "    <tr>\n",
       "      <th>217468</th>\n",
       "      <td>NaN</td>\n",
       "      <td>NaN</td>\n",
       "      <td>NaT</td>\n",
       "      <td>NaN</td>\n",
       "      <td>NaN</td>\n",
       "      <td>NaN</td>\n",
       "      <td>NaN</td>\n",
       "      <td>True</td>\n",
       "      <td>True</td>\n",
       "      <td>NaN</td>\n",
       "    </tr>\n",
       "  </tbody>\n",
       "</table>\n",
       "<p>164846 rows × 10 columns</p>\n",
       "</div>"
      ],
      "text/plain": [
       "        funding_round_id  company_id funded_at funding_round_type  \\\n",
       "3                    NaN         NaN       NaT                NaN   \n",
       "4                    NaN         NaN       NaT                NaN   \n",
       "5                    NaN         NaN       NaT                NaN   \n",
       "6                    NaN         NaN       NaT                NaN   \n",
       "7                    NaN         NaN       NaT                NaN   \n",
       "...                  ...         ...       ...                ...   \n",
       "217457               NaN         NaN       NaT                NaN   \n",
       "217460               NaN         NaN       NaT                NaN   \n",
       "217461               NaN         NaN       NaT                NaN   \n",
       "217462               NaN         NaN       NaT                NaN   \n",
       "217468               NaN         NaN       NaT                NaN   \n",
       "\n",
       "        raised_amount  pre_money_valuation  participants  is_first_round  \\\n",
       "3                 NaN                  NaN           NaN            True   \n",
       "4                 NaN                  NaN           NaN            True   \n",
       "5                 NaN                  NaN           NaN            True   \n",
       "6                 NaN                  NaN           NaN            True   \n",
       "7                 NaN                  NaN           NaN            True   \n",
       "...               ...                  ...           ...             ...   \n",
       "217457            NaN                  NaN           NaN            True   \n",
       "217460            NaN                  NaN           NaN            True   \n",
       "217461            NaN                  NaN           NaN            True   \n",
       "217462            NaN                  NaN           NaN            True   \n",
       "217468            NaN                  NaN           NaN            True   \n",
       "\n",
       "        is_last_round  funded_at_year  \n",
       "3                True             NaN  \n",
       "4                True             NaN  \n",
       "5                True             NaN  \n",
       "6                True             NaN  \n",
       "7                True             NaN  \n",
       "...               ...             ...  \n",
       "217457           True             NaN  \n",
       "217460           True             NaN  \n",
       "217461           True             NaN  \n",
       "217462           True             NaN  \n",
       "217468           True             NaN  \n",
       "\n",
       "[164846 rows x 10 columns]"
      ]
     },
     "execution_count": 59,
     "metadata": {},
     "output_type": "execute_result"
    }
   ],
   "source": [
    "# Сортируем датафрейм по всем столбцам\n",
    "df_sorted = rounds_df.sort_values(by=rounds_df.columns.tolist())\n",
    "\n",
    "# Находим дубликаты\n",
    "duplicates = df_sorted[df_sorted.duplicated(keep=False)]\n",
    "\n",
    "# Выводим дубликаты\n",
    "duplicates"
   ]
  },
  {
   "cell_type": "markdown",
   "metadata": {},
   "source": [
    "Оказалось, что дубликаты — это строки, практически полностью заполненные нулевыми значениями. Удалим такие строки, т.к. они не несут никакой полезной информации для дальнейшего анализа."
   ]
  },
  {
   "cell_type": "code",
   "execution_count": 60,
   "metadata": {},
   "outputs": [],
   "source": [
    "rounds_df = rounds_df.drop_duplicates()"
   ]
  },
  {
   "cell_type": "code",
   "execution_count": 61,
   "metadata": {},
   "outputs": [
    {
     "name": "stdout",
     "output_type": "stream",
     "text": [
      "<class 'pandas.core.frame.DataFrame'>\n",
      "Int64Index: 52929 entries, 0 to 217773\n",
      "Data columns (total 10 columns):\n",
      " #   Column               Non-Null Count  Dtype         \n",
      "---  ------               --------------  -----         \n",
      " 0   funding_round_id     52928 non-null  float64       \n",
      " 1   company_id           52928 non-null  float64       \n",
      " 2   funded_at            52680 non-null  datetime64[ns]\n",
      " 3   funding_round_type   52928 non-null  category      \n",
      " 4   raised_amount        52928 non-null  float64       \n",
      " 5   pre_money_valuation  52928 non-null  float64       \n",
      " 6   participants         52928 non-null  float64       \n",
      " 7   is_first_round       52929 non-null  bool          \n",
      " 8   is_last_round        52929 non-null  bool          \n",
      " 9   funded_at_year       52680 non-null  float64       \n",
      "dtypes: bool(2), category(1), datetime64[ns](1), float64(6)\n",
      "memory usage: 3.4 MB\n"
     ]
    }
   ],
   "source": [
    "rounds_df.info()"
   ]
  },
  {
   "cell_type": "markdown",
   "metadata": {},
   "source": [
    "Теперь имеем данные о 52 928 уникальных раундах финансирования"
   ]
  },
  {
   "cell_type": "markdown",
   "metadata": {},
   "source": [
    "В результате датафрейм `company_and_rounds_df` был разделен на два: `companies_df` с информацией о компаниях и `rounds_df` с информацией о раундах финансирования. Далее в каждом новом датафрейме были удалены явные дубликаты, которые появились в процессе разделения."
   ]
  },
  {
   "cell_type": "markdown",
   "metadata": {
    "id": "bmVYhphNrJg2"
   },
   "source": [
    "\n",
    "## Шаг 3. Исследовательский анализ объединённых таблиц"
   ]
  },
  {
   "cell_type": "markdown",
   "metadata": {
    "id": "3Di6tCT3rJg2"
   },
   "source": [
    "\n",
    "### 3.1. Объединение данных\n",
    "\n",
    "Предстоит сформировать объединённую таблицу для ответа на вопросы заказчика, которые касаются интересующих его компаний. Заказчика прежде всего интересуют те компании, которые меняли или готовы менять владельцев. Получение инвестиций или финансирования, по мнению заказчика, означает интерес к покупке или продаже компании.\n",
    "\n",
    "Для этого из датасета `companies_df` будут отобраны только те компании, у которых количество раундов финансирования (`funding_rounds` или `investment_rounds`) больше нуля, либо в колонке `status` указано значение `acquired`. Итоговая выборка послужит основой для дальнейшего объединения с другими источниками данных."
   ]
  },
  {
   "cell_type": "code",
   "execution_count": 62,
   "metadata": {},
   "outputs": [],
   "source": [
    "# Отфильтруем таблицу companies_df\n",
    "companies_filtered = companies_df[(companies_df['funding_rounds'] >0) | \n",
    "                                  (companies_df['investment_rounds'] > 0) | \n",
    "                                  (companies_df['status'] == 'acquired')]"
   ]
  },
  {
   "cell_type": "code",
   "execution_count": 63,
   "metadata": {},
   "outputs": [
    {
     "name": "stdout",
     "output_type": "stream",
     "text": [
      "<class 'pandas.core.frame.DataFrame'>\n",
      "Int64Index: 40747 entries, 0 to 217469\n",
      "Data columns (total 13 columns):\n",
      " #   Column             Non-Null Count  Dtype         \n",
      "---  ------             --------------  -----         \n",
      " 0   company_id         40747 non-null  float64       \n",
      " 1   name               40747 non-null  object        \n",
      " 2   category_code      35315 non-null  category      \n",
      " 3   status             40747 non-null  category      \n",
      " 4   founded_at         27807 non-null  datetime64[ns]\n",
      " 5   closed_at          2128 non-null   datetime64[ns]\n",
      " 6   domain             35754 non-null  object        \n",
      " 7   network_username   20850 non-null  object        \n",
      " 8   country_code       34742 non-null  object        \n",
      " 9   investment_rounds  40747 non-null  float64       \n",
      " 10  funding_rounds     40747 non-null  float64       \n",
      " 11  funding_total      40747 non-null  float64       \n",
      " 12  milestones         40747 non-null  float64       \n",
      "dtypes: category(2), datetime64[ns](2), float64(5), object(4)\n",
      "memory usage: 3.8+ MB\n"
     ]
    }
   ],
   "source": [
    "companies_filtered.info()"
   ]
  },
  {
   "cell_type": "markdown",
   "metadata": {},
   "source": [
    "В результате фильтрации получили таблицу `companies_filtered` с 40 747 компаниями. На первый взгляд, фильтрация прошла корректно."
   ]
  },
  {
   "cell_type": "markdown",
   "metadata": {
    "id": "DFHINkV3rJg2"
   },
   "source": [
    "\n",
    "### 3.2. Анализ выбросов\n",
    "\n",
    "В этом разделе рассматривается типичный размер общего финансирования, получаемого одной компанией за выбранный период, а также выявляются выбивающиеся значения. Для анализа используется столбец `funding_total`. Оценка распределения значений будет проведена с помощью графических методов, чтобы визуально определить характерные и аномальные объёмы финансирования."
   ]
  },
  {
   "cell_type": "code",
   "execution_count": 64,
   "metadata": {},
   "outputs": [
    {
     "data": {
      "text/plain": [
       "0"
      ]
     },
     "execution_count": 64,
     "metadata": {},
     "output_type": "execute_result"
    }
   ],
   "source": [
    "# Посмотрим, есть ли пропуски в столбце funding_total\n",
    "companies_filtered['funding_total'].isna().sum()"
   ]
  },
  {
   "cell_type": "code",
   "execution_count": 65,
   "metadata": {
    "id": "8jm75fKXrJg2",
    "vscode": {
     "languageId": "plaintext"
    }
   },
   "outputs": [
    {
     "data": {
      "text/html": [
       "<div>\n",
       "<style scoped>\n",
       "    .dataframe tbody tr th:only-of-type {\n",
       "        vertical-align: middle;\n",
       "    }\n",
       "\n",
       "    .dataframe tbody tr th {\n",
       "        vertical-align: top;\n",
       "    }\n",
       "\n",
       "    .dataframe thead th {\n",
       "        text-align: right;\n",
       "    }\n",
       "</style>\n",
       "<table border=\"1\" class=\"dataframe\">\n",
       "  <thead>\n",
       "    <tr style=\"text-align: right;\">\n",
       "      <th></th>\n",
       "      <th>company_id</th>\n",
       "      <th>name</th>\n",
       "      <th>category_code</th>\n",
       "      <th>status</th>\n",
       "      <th>founded_at</th>\n",
       "      <th>closed_at</th>\n",
       "      <th>domain</th>\n",
       "      <th>network_username</th>\n",
       "      <th>country_code</th>\n",
       "      <th>investment_rounds</th>\n",
       "      <th>funding_rounds</th>\n",
       "      <th>funding_total</th>\n",
       "      <th>milestones</th>\n",
       "    </tr>\n",
       "  </thead>\n",
       "  <tbody>\n",
       "    <tr>\n",
       "      <th>0</th>\n",
       "      <td>1.0</td>\n",
       "      <td>Wetpaint</td>\n",
       "      <td>web</td>\n",
       "      <td>operating</td>\n",
       "      <td>2005-10-17</td>\n",
       "      <td>NaT</td>\n",
       "      <td>wetpaint-inc.com</td>\n",
       "      <td>BachelrWetpaint</td>\n",
       "      <td>USA</td>\n",
       "      <td>0.0</td>\n",
       "      <td>3.0</td>\n",
       "      <td>39750000.0</td>\n",
       "      <td>5.0</td>\n",
       "    </tr>\n",
       "    <tr>\n",
       "      <th>3</th>\n",
       "      <td>10.0</td>\n",
       "      <td>Flektor</td>\n",
       "      <td>games_video</td>\n",
       "      <td>acquired</td>\n",
       "      <td>NaT</td>\n",
       "      <td>NaT</td>\n",
       "      <td>flektor.com</td>\n",
       "      <td>NaN</td>\n",
       "      <td>USA</td>\n",
       "      <td>0.0</td>\n",
       "      <td>0.0</td>\n",
       "      <td>0.0</td>\n",
       "      <td>0.0</td>\n",
       "    </tr>\n",
       "    <tr>\n",
       "      <th>4</th>\n",
       "      <td>100.0</td>\n",
       "      <td>There</td>\n",
       "      <td>games_video</td>\n",
       "      <td>acquired</td>\n",
       "      <td>NaT</td>\n",
       "      <td>NaT</td>\n",
       "      <td>there.com</td>\n",
       "      <td>NaN</td>\n",
       "      <td>USA</td>\n",
       "      <td>0.0</td>\n",
       "      <td>0.0</td>\n",
       "      <td>0.0</td>\n",
       "      <td>4.0</td>\n",
       "    </tr>\n",
       "    <tr>\n",
       "      <th>15</th>\n",
       "      <td>1001.0</td>\n",
       "      <td>FriendFeed</td>\n",
       "      <td>web</td>\n",
       "      <td>acquired</td>\n",
       "      <td>2007-10-01</td>\n",
       "      <td>NaT</td>\n",
       "      <td>friendfeed.com</td>\n",
       "      <td>friendfeed</td>\n",
       "      <td>USA</td>\n",
       "      <td>0.0</td>\n",
       "      <td>1.0</td>\n",
       "      <td>5000000.0</td>\n",
       "      <td>3.0</td>\n",
       "    </tr>\n",
       "    <tr>\n",
       "      <th>20</th>\n",
       "      <td>10014.0</td>\n",
       "      <td>Mobclix</td>\n",
       "      <td>mobile</td>\n",
       "      <td>acquired</td>\n",
       "      <td>2008-03-01</td>\n",
       "      <td>NaT</td>\n",
       "      <td>mobclix.com</td>\n",
       "      <td>mobclix</td>\n",
       "      <td>USA</td>\n",
       "      <td>0.0</td>\n",
       "      <td>1.0</td>\n",
       "      <td>0.0</td>\n",
       "      <td>4.0</td>\n",
       "    </tr>\n",
       "  </tbody>\n",
       "</table>\n",
       "</div>"
      ],
      "text/plain": [
       "    company_id        name category_code     status founded_at closed_at  \\\n",
       "0          1.0    Wetpaint           web  operating 2005-10-17       NaT   \n",
       "3         10.0     Flektor   games_video   acquired        NaT       NaT   \n",
       "4        100.0       There   games_video   acquired        NaT       NaT   \n",
       "15      1001.0  FriendFeed           web   acquired 2007-10-01       NaT   \n",
       "20     10014.0     Mobclix        mobile   acquired 2008-03-01       NaT   \n",
       "\n",
       "              domain network_username country_code  investment_rounds  \\\n",
       "0   wetpaint-inc.com  BachelrWetpaint          USA                0.0   \n",
       "3        flektor.com              NaN          USA                0.0   \n",
       "4          there.com              NaN          USA                0.0   \n",
       "15    friendfeed.com       friendfeed          USA                0.0   \n",
       "20       mobclix.com          mobclix          USA                0.0   \n",
       "\n",
       "    funding_rounds  funding_total  milestones  \n",
       "0              3.0     39750000.0         5.0  \n",
       "3              0.0            0.0         0.0  \n",
       "4              0.0            0.0         4.0  \n",
       "15             1.0      5000000.0         3.0  \n",
       "20             1.0            0.0         4.0  "
      ]
     },
     "execution_count": 65,
     "metadata": {},
     "output_type": "execute_result"
    }
   ],
   "source": [
    "companies_filtered.head()"
   ]
  },
  {
   "cell_type": "markdown",
   "metadata": {
    "id": "S1jrfr7rFhcw"
   },
   "source": [
    "В столбце `funding_total` отсутствуют пропуски, однако присутствуют строки со значением 0. Поскольку такие значения могут искажать результаты анализа, их целесообразно заменить на NaN, чтобы исключить из расчётов некорректные данные."
   ]
  },
  {
   "cell_type": "code",
   "execution_count": 66,
   "metadata": {},
   "outputs": [],
   "source": [
    "# Заменим все нулевые значения в столбце funding_total на NaN\n",
    "companies_filtered = companies_filtered.copy()\n",
    "companies_filtered['funding_total'] = companies_filtered['funding_total'].replace(0, np.nan)"
   ]
  },
  {
   "cell_type": "code",
   "execution_count": 67,
   "metadata": {},
   "outputs": [
    {
     "name": "stdout",
     "output_type": "stream",
     "text": [
      "<class 'pandas.core.frame.DataFrame'>\n",
      "Int64Index: 40747 entries, 0 to 217469\n",
      "Data columns (total 13 columns):\n",
      " #   Column             Non-Null Count  Dtype         \n",
      "---  ------             --------------  -----         \n",
      " 0   company_id         40747 non-null  float64       \n",
      " 1   name               40747 non-null  object        \n",
      " 2   category_code      35315 non-null  category      \n",
      " 3   status             40747 non-null  category      \n",
      " 4   founded_at         27807 non-null  datetime64[ns]\n",
      " 5   closed_at          2128 non-null   datetime64[ns]\n",
      " 6   domain             35754 non-null  object        \n",
      " 7   network_username   20850 non-null  object        \n",
      " 8   country_code       34742 non-null  object        \n",
      " 9   investment_rounds  40747 non-null  float64       \n",
      " 10  funding_rounds     40747 non-null  float64       \n",
      " 11  funding_total      27874 non-null  float64       \n",
      " 12  milestones         40747 non-null  float64       \n",
      "dtypes: category(2), datetime64[ns](2), float64(5), object(4)\n",
      "memory usage: 3.8+ MB\n"
     ]
    }
   ],
   "source": [
    "companies_filtered.info()"
   ]
  },
  {
   "cell_type": "markdown",
   "metadata": {},
   "source": [
    "В результате получаем датасет с 27 874 ненулевыми значениями в столбце `funding_total`, остальная часть — пропуски, полученные в результате замены нулевых значений на NaN."
   ]
  },
  {
   "cell_type": "code",
   "execution_count": 68,
   "metadata": {},
   "outputs": [
    {
     "data": {
      "text/plain": [
       "count    2.787400e+04\n",
       "mean     1.481652e+07\n",
       "std      6.775936e+07\n",
       "min      2.910000e+02\n",
       "25%      5.000000e+05\n",
       "50%      2.564500e+06\n",
       "75%      1.100000e+07\n",
       "max      5.700000e+09\n",
       "Name: funding_total, dtype: float64"
      ]
     },
     "execution_count": 68,
     "metadata": {},
     "output_type": "execute_result"
    }
   ],
   "source": [
    "# Выведем основную статистику по столбцу funding_total\n",
    "companies_filtered['funding_total'].describe()"
   ]
  },
  {
   "cell_type": "markdown",
   "metadata": {},
   "source": [
    "Результаты метода .describe() демонстрируют наличие большого количества выбросов, значительно отличающихся от типичных значений.\n",
    "\n",
    "Среднее значение составляет 14,8 млн, однако медиана — всего 2,56 млн, что почти в 7 раз меньше. Это свидетельствует о смещённости распределения и наличии крайне высоких значений, искажающих среднее. Значение стандартного отклонения — 67,8 млн — также указывает на большой разброс. Минимальное значение — 291, а максимальное — 5,7 млрд, что является явным выбросом.\n",
    "\n",
    "Если ориентироваться на межквартильный размах (от 25% до 75%), то типичный объём общего финансирования для одной компании находится в диапазоне от 500 000 до 11 000 000. Именно в этом диапазоне сосредоточена основная масса наблюдений.\n",
    "\n",
    "При таких значениях построение гистограммы с линейной шкалой будет малоинформативным, поскольку экстремально большие выбросы сильно сжимают основную часть распределения и делают детали в нижнем диапазоне почти невидимыми. Аналогично, классический boxplot также теряет смысл из-за выраженной асимметрии данных.\n",
    "\n",
    "Поэтому для более наглядного и адекватного отображения распределения общего финансирования компаний используется гистограмма с логарифмической шкалой, которая позволяет «сжать» большой разброс значений и одновременно показать структуру данных в широком диапазоне — от небольших сумм до крупных инвестиций."
   ]
  },
  {
   "cell_type": "code",
   "execution_count": 69,
   "metadata": {},
   "outputs": [
    {
     "data": {
      "image/png": "[encoded data removed]",
      "text/plain": [
       "<Figure size 720x432 with 1 Axes>"
      ]
     },
     "metadata": {
      "needs_background": "light"
     },
     "output_type": "display_data"
    }
   ],
   "source": [
    "# Построим гистограмму распредления по столбцу funding_total с логарифмической шкалой\n",
    "plt.figure(figsize=(10, 6))\n",
    "plt.hist(companies_filtered['funding_total'], bins=50, color='skyblue', edgecolor='black', log=True)\n",
    "plt.xscale('log')  # Логарифмическая шкала по оси X\n",
    "plt.xlabel('Общее финансирование (логарифмическая шкала)')\n",
    "plt.ylabel('Количество компаний')\n",
    "plt.title('Распределение общего финансирования (логарифмическая шкала)')\n",
    "plt.show()"
   ]
  },
  {
   "cell_type": "markdown",
   "metadata": {},
   "source": [
    "Гистограмму с логарифмической шкалой можно дополнить боксплотом с исключением выбросов — это позволит более наглядно отследить медиану, первый и третий квартиль (25-й и 75-й процентили), а также диапазон «усов», которые показывают границы данных без учёта выбросов."
   ]
  },
  {
   "cell_type": "code",
   "execution_count": 70,
   "metadata": {},
   "outputs": [
    {
     "data": {
      "image/png": "[encoded data removed]",
      "text/plain": [
       "<Figure size 720x288 with 1 Axes>"
      ]
     },
     "metadata": {
      "needs_background": "light"
     },
     "output_type": "display_data"
    }
   ],
   "source": [
    "# Создаём контейнер графика matplotlib и задаём его размер\n",
    "plt.figure(figsize=(10, 4))\n",
    "\n",
    "# Строим диаграмму размаха значений в столбце funding_total, исключая выбросы\n",
    "companies_filtered.boxplot(column='funding_total', vert=False, showfliers=False)\n",
    "\n",
    "# Добавляем заголовок и метки оси\n",
    "plt.title('Распределение значений общей суммы финансирования для одной компании')\n",
    "plt.xlabel('Сумма финансирования, млрд.')\n",
    "\n",
    "# Выводим график\n",
    "plt.show()"
   ]
  },
  {
   "cell_type": "markdown",
   "metadata": {},
   "source": [
    "Гистограмма с логарифмической шкалой и boxplot показывают, что большая часть компаний имеет объём финансирования в диапазоне от нескольких сотен тысяч до нескольких десятков миллионов. Значения выше этого уровня встречаются значительно реже и представлены узкими столбцами, отражая редкие, но крупные сделки."
   ]
  },
  {
   "cell_type": "markdown",
   "metadata": {
    "id": "JqkRAQrIrJg2"
   },
   "source": [
    "\n",
    "### 3.3. Куплены забесплатно?\n",
    "\n",
    "В данных есть компании, которые были проданы за ноль или за один доллар, и при этом известно, что у них был ненулевой общий объём финансирования. Следует изучить их поподробнее.\n",
    "\n",
    "Также будут рассмотрены верхняя и нижняя границы выбросов для столбца `funding_total` для этих компаний."
   ]
  },
  {
   "cell_type": "code",
   "execution_count": 71,
   "metadata": {
    "id": "9IDTHfYQFhuX"
   },
   "outputs": [],
   "source": [
    "# Объединим датасеты acquisition_df и companies_filtered\n",
    "acquired_companies = pd.merge(companies_filtered, acquisition_df, how = 'left', left_on = 'company_id', right_on = 'acquired_company_id')"
   ]
  },
  {
   "cell_type": "markdown",
   "metadata": {},
   "source": [
    "После объединения имеет смысл проверить датасет на дубликаты в столбце `company_id`."
   ]
  },
  {
   "cell_type": "code",
   "execution_count": 72,
   "metadata": {},
   "outputs": [
    {
     "data": {
      "text/plain": [
       "143"
      ]
     },
     "execution_count": 72,
     "metadata": {},
     "output_type": "execute_result"
    }
   ],
   "source": [
    "# Посчитаем количество дубликатов по столбцу company_id в таблице acquired_companies\n",
    "acquired_companies.duplicated(subset='company_id').sum()"
   ]
  },
  {
   "cell_type": "code",
   "execution_count": 73,
   "metadata": {
    "scrolled": true
   },
   "outputs": [
    {
     "data": {
      "text/html": [
       "<div>\n",
       "<style scoped>\n",
       "    .dataframe tbody tr th:only-of-type {\n",
       "        vertical-align: middle;\n",
       "    }\n",
       "\n",
       "    .dataframe tbody tr th {\n",
       "        vertical-align: top;\n",
       "    }\n",
       "\n",
       "    .dataframe thead th {\n",
       "        text-align: right;\n",
       "    }\n",
       "</style>\n",
       "<table border=\"1\" class=\"dataframe\">\n",
       "  <thead>\n",
       "    <tr style=\"text-align: right;\">\n",
       "      <th></th>\n",
       "      <th>company_id</th>\n",
       "      <th>name</th>\n",
       "      <th>category_code</th>\n",
       "      <th>status</th>\n",
       "      <th>founded_at</th>\n",
       "      <th>closed_at</th>\n",
       "      <th>domain</th>\n",
       "      <th>network_username</th>\n",
       "      <th>country_code</th>\n",
       "      <th>investment_rounds</th>\n",
       "      <th>funding_rounds</th>\n",
       "      <th>funding_total</th>\n",
       "      <th>milestones</th>\n",
       "      <th>id</th>\n",
       "      <th>acquiring_company_id</th>\n",
       "      <th>acquired_company_id</th>\n",
       "      <th>term_code</th>\n",
       "      <th>price_amount</th>\n",
       "      <th>acquired_at</th>\n",
       "    </tr>\n",
       "  </thead>\n",
       "  <tbody>\n",
       "    <tr>\n",
       "      <th>482</th>\n",
       "      <td>10963.0</td>\n",
       "      <td>TNC</td>\n",
       "      <td>web</td>\n",
       "      <td>acquired</td>\n",
       "      <td>2004-01-01</td>\n",
       "      <td>NaT</td>\n",
       "      <td>tnccompany.com</td>\n",
       "      <td>NaN</td>\n",
       "      <td>NaN</td>\n",
       "      <td>0.0</td>\n",
       "      <td>1.0</td>\n",
       "      <td>NaN</td>\n",
       "      <td>2.0</td>\n",
       "      <td>542.0</td>\n",
       "      <td>59.0</td>\n",
       "      <td>10963.0</td>\n",
       "      <td>NaN</td>\n",
       "      <td>0.0</td>\n",
       "      <td>2008-09-12</td>\n",
       "    </tr>\n",
       "    <tr>\n",
       "      <th>483</th>\n",
       "      <td>10963.0</td>\n",
       "      <td>TNC</td>\n",
       "      <td>web</td>\n",
       "      <td>acquired</td>\n",
       "      <td>2004-01-01</td>\n",
       "      <td>NaT</td>\n",
       "      <td>tnccompany.com</td>\n",
       "      <td>NaN</td>\n",
       "      <td>NaN</td>\n",
       "      <td>0.0</td>\n",
       "      <td>1.0</td>\n",
       "      <td>NaN</td>\n",
       "      <td>2.0</td>\n",
       "      <td>2484.0</td>\n",
       "      <td>59.0</td>\n",
       "      <td>10963.0</td>\n",
       "      <td>NaN</td>\n",
       "      <td>0.0</td>\n",
       "      <td>2008-09-12</td>\n",
       "    </tr>\n",
       "    <tr>\n",
       "      <th>717</th>\n",
       "      <td>11716.0</td>\n",
       "      <td>Hotjobs</td>\n",
       "      <td>NaN</td>\n",
       "      <td>acquired</td>\n",
       "      <td>NaT</td>\n",
       "      <td>NaT</td>\n",
       "      <td>NaN</td>\n",
       "      <td>NaN</td>\n",
       "      <td>NaN</td>\n",
       "      <td>0.0</td>\n",
       "      <td>0.0</td>\n",
       "      <td>NaN</td>\n",
       "      <td>3.0</td>\n",
       "      <td>2985.0</td>\n",
       "      <td>1735.0</td>\n",
       "      <td>11716.0</td>\n",
       "      <td>cash</td>\n",
       "      <td>225000000.0</td>\n",
       "      <td>2010-02-03</td>\n",
       "    </tr>\n",
       "    <tr>\n",
       "      <th>718</th>\n",
       "      <td>11716.0</td>\n",
       "      <td>Hotjobs</td>\n",
       "      <td>NaN</td>\n",
       "      <td>acquired</td>\n",
       "      <td>NaT</td>\n",
       "      <td>NaT</td>\n",
       "      <td>NaN</td>\n",
       "      <td>NaN</td>\n",
       "      <td>NaN</td>\n",
       "      <td>0.0</td>\n",
       "      <td>0.0</td>\n",
       "      <td>NaN</td>\n",
       "      <td>3.0</td>\n",
       "      <td>9033.0</td>\n",
       "      <td>29.0</td>\n",
       "      <td>11716.0</td>\n",
       "      <td>cash</td>\n",
       "      <td>436000000.0</td>\n",
       "      <td>2002-01-11</td>\n",
       "    </tr>\n",
       "    <tr>\n",
       "      <th>818</th>\n",
       "      <td>11943.0</td>\n",
       "      <td>Opusforum.org</td>\n",
       "      <td>NaN</td>\n",
       "      <td>acquired</td>\n",
       "      <td>NaT</td>\n",
       "      <td>NaT</td>\n",
       "      <td>NaN</td>\n",
       "      <td>NaN</td>\n",
       "      <td>DEU</td>\n",
       "      <td>0.0</td>\n",
       "      <td>0.0</td>\n",
       "      <td>NaN</td>\n",
       "      <td>0.0</td>\n",
       "      <td>633.0</td>\n",
       "      <td>20.0</td>\n",
       "      <td>11943.0</td>\n",
       "      <td>NaN</td>\n",
       "      <td>0.0</td>\n",
       "      <td>2005-06-30</td>\n",
       "    </tr>\n",
       "  </tbody>\n",
       "</table>\n",
       "</div>"
      ],
      "text/plain": [
       "     company_id           name category_code    status founded_at closed_at  \\\n",
       "482     10963.0            TNC           web  acquired 2004-01-01       NaT   \n",
       "483     10963.0            TNC           web  acquired 2004-01-01       NaT   \n",
       "717     11716.0        Hotjobs           NaN  acquired        NaT       NaT   \n",
       "718     11716.0        Hotjobs           NaN  acquired        NaT       NaT   \n",
       "818     11943.0  Opusforum.org           NaN  acquired        NaT       NaT   \n",
       "\n",
       "             domain network_username country_code  investment_rounds  \\\n",
       "482  tnccompany.com              NaN          NaN                0.0   \n",
       "483  tnccompany.com              NaN          NaN                0.0   \n",
       "717             NaN              NaN          NaN                0.0   \n",
       "718             NaN              NaN          NaN                0.0   \n",
       "818             NaN              NaN          DEU                0.0   \n",
       "\n",
       "     funding_rounds  funding_total  milestones      id  acquiring_company_id  \\\n",
       "482             1.0            NaN         2.0   542.0                  59.0   \n",
       "483             1.0            NaN         2.0  2484.0                  59.0   \n",
       "717             0.0            NaN         3.0  2985.0                1735.0   \n",
       "718             0.0            NaN         3.0  9033.0                  29.0   \n",
       "818             0.0            NaN         0.0   633.0                  20.0   \n",
       "\n",
       "     acquired_company_id term_code  price_amount acquired_at  \n",
       "482              10963.0       NaN           0.0  2008-09-12  \n",
       "483              10963.0       NaN           0.0  2008-09-12  \n",
       "717              11716.0      cash   225000000.0  2010-02-03  \n",
       "718              11716.0      cash   436000000.0  2002-01-11  \n",
       "818              11943.0       NaN           0.0  2005-06-30  "
      ]
     },
     "execution_count": 73,
     "metadata": {},
     "output_type": "execute_result"
    }
   ],
   "source": [
    "# Изучим дублирующиеся строки\n",
    "duplicates = acquired_companies[acquired_companies.duplicated(subset='company_id', keep=False)]\n",
    "duplicates.head()"
   ]
  },
  {
   "cell_type": "markdown",
   "metadata": {},
   "source": [
    "Было обнаружено 143 дубликата в столбце `company_id`. Их появление связано с тем, что в присоединённой таблице `acquisition_df` идентификаторы компаний могут встречаться несколько раз: компания может продаваться или покупать другие компании неоднократно. Поскольку для текущей задачи нас интересуют прежде всего сами сделки, а не компании, эти дубликаты удалять не стоит."
   ]
  },
  {
   "cell_type": "markdown",
   "metadata": {},
   "source": [
    "Теперь перейдем к изучению компаний, которые были проданы за ноль или за один доллар, и при этом имели ненулевой общий объём финансирования."
   ]
  },
  {
   "cell_type": "code",
   "execution_count": 74,
   "metadata": {},
   "outputs": [],
   "source": [
    "# Отфильтруем нужные строки\n",
    "acquired_companies_free = acquired_companies[((acquired_companies['price_amount'] == 0) |\n",
    "                                              (acquired_companies['price_amount'] == 1)) &\n",
    "                                              (acquired_companies['funding_total'].notna())]"
   ]
  },
  {
   "cell_type": "code",
   "execution_count": 75,
   "metadata": {},
   "outputs": [
    {
     "data": {
      "text/plain": [
       "count    1.618000e+03\n",
       "mean     1.815296e+07\n",
       "std      1.445030e+08\n",
       "min      3.750000e+03\n",
       "25%      2.000000e+06\n",
       "50%      6.000000e+06\n",
       "75%      1.550000e+07\n",
       "max      5.700000e+09\n",
       "Name: funding_total, dtype: float64"
      ]
     },
     "execution_count": 75,
     "metadata": {},
     "output_type": "execute_result"
    }
   ],
   "source": [
    "# Выведем статистику по столбцу funding_total в отфильтрованной таблице\n",
    "acquired_companies_free['funding_total'].describe()"
   ]
  },
  {
   "cell_type": "markdown",
   "metadata": {},
   "source": [
    "В целом, в отфильтрованной таблице с «бесплатными» компаниями тенденции в распределении значений сумм финансирования сохраняются — наблюдается большой разрыв между средним значением и медианой, а также большое стандратное отклонение, что говорит о наличии большого количества выбросов."
   ]
  },
  {
   "cell_type": "markdown",
   "metadata": {},
   "source": [
    "Теперь посчитаем верхнюю и нижнюю границу выбросов. Выбросами считаются значения, которые выходят за границы, определённые по формуле: `Q1 − 1.5 × IQR, Q3 + 1.5 × IQR`. Эти границы рассчитываются на основе межквартильного размаха (IQR)."
   ]
  },
  {
   "cell_type": "code",
   "execution_count": 77,
   "metadata": {},
   "outputs": [
    {
     "data": {
      "text/plain": [
       "'Верхняя граница выбросов: 35750000.0'"
      ]
     },
     "metadata": {},
     "output_type": "display_data"
    },
    {
     "data": {
      "text/plain": [
       "'Нижняя граница выбросов: 0'"
      ]
     },
     "metadata": {},
     "output_type": "display_data"
    }
   ],
   "source": [
    "# Вычисляем квартили Q1 и Q3\n",
    "Q1 = acquired_companies_free['funding_total'].quantile(0.25)\n",
    "Q3 = acquired_companies_free['funding_total'].quantile(0.75)\n",
    "\n",
    "# Вычисляем межквартильный размах IQR\n",
    "IQR = Q3 - Q1\n",
    "\n",
    "# Определяем верхнюю и нижнюю границы выбросов\n",
    "upper_bound = Q3 + 1.5 * IQR\n",
    "lower_bound = Q1 - 1.5 * IQR\n",
    "lower_bound = max(0, lower_bound)\n",
    "\n",
    "display (f'Верхняя граница выбросов: {upper_bound}')\n",
    "display (f'Нижняя граница выбросов: {lower_bound}')"
   ]
  },
  {
   "cell_type": "code",
   "execution_count": 79,
   "metadata": {},
   "outputs": [
    {
     "name": "stdout",
     "output_type": "stream",
     "text": [
      "Верхняя граница выбросов соответствует 90.75-му процентилю.\n"
     ]
    }
   ],
   "source": [
    "data = acquired_companies['funding_total'].dropna()\n",
    "\n",
    "percentile = percentileofscore(data, upper_bound, kind='weak')\n",
    "\n",
    "print(f'Верхняя граница выбросов соответствует {percentile:.2f}-му процентилю.')"
   ]
  },
  {
   "cell_type": "markdown",
   "metadata": {},
   "source": [
    "Верхняя граница выбросов составляет 35 750 000 и соответствует 90.75-му процентилю — то есть 90.75% значений в столбце `funding_total` находятся ниже этой величины. Значения выше этой границы можно считать выбросами.\n",
    "\n",
    "Нижняя граница выбросов, рассчитанная по формуле, оказалась отрицательной (−18 250 000), однако в контексте анализа финансирования такие значения не имеют смысла — финансирование не может быть отрицательным. Поэтому все значения от 0 до 35 750 000 выбросами не считаются.\n",
    "\n",
    "В итоге, при анализе выбросами считаются только значения, превышающие верхнюю границу — то есть выше 35,75 млн долларов."
   ]
  },
  {
   "cell_type": "markdown",
   "metadata": {},
   "source": [
    "Удалим одно явно аномальное значение 5,7 млрд. и построим boxplot."
   ]
  },
  {
   "cell_type": "code",
   "execution_count": 222,
   "metadata": {},
   "outputs": [
    {
     "data": {
      "image/png": "[encoded data removed]",
      "text/plain": [
       "<Figure size 864x432 with 1 Axes>"
      ]
     },
     "metadata": {
      "needs_background": "light"
     },
     "output_type": "display_data"
    }
   ],
   "source": [
    "# Создаём контейнер графика matplotlib и задаём его размер\n",
    "plt.figure(figsize=(12, 6))\n",
    "\n",
    "# Исключим явные выбросы для построения boxplot\n",
    "q95 = acquired_companies_free['funding_total'].quantile(0.95)\n",
    "\n",
    "# Строим диаграмму размаха значений в столбце balance\n",
    "acquired_companies_free[acquired_companies_free['funding_total'] <= q95].boxplot(column='funding_total', vert=False)\n",
    "\n",
    "# Добавляем заголовок и метки оси\n",
    "plt.title('Распределение значений общей суммы финансирования для одной компании')\n",
    "plt.xlabel('Сумма финансирования')\n",
    "\n",
    "# Выводим график\n",
    "plt.show()"
   ]
  },
  {
   "cell_type": "markdown",
   "metadata": {
    "id": "mEiWpROjrJg2"
   },
   "source": [
    "\n",
    "### 3.4. Цены стартапов по категориям\n",
    "\n",
    "Важная часть исследования — выявить категории стартапов, которые могут быть особенно интересны крупным инвесторам. Наибольший инвестиционный интерес часто вызывают проекты с высокими типичными ценами покупки и значительным разбросом стоимости, что предполагает как высокий риск, так и возможность крупной прибыли. В этом разделе будут определены категории стартапов, сочетающие оба этих признака."
   ]
  },
  {
   "cell_type": "markdown",
   "metadata": {},
   "source": [
    "Подготовим данные к дальнейшему анализу — во избежание искажения данных исключим сделки с нулевыми суммами и уберем значения выше 90-го перцентиля в столбце `price_amount`."
   ]
  },
  {
   "cell_type": "code",
   "execution_count": 80,
   "metadata": {},
   "outputs": [],
   "source": [
    "# Исключим из анализа сделки с нулевыми суммами \n",
    "acquired_companies = acquired_companies[acquired_companies['price_amount'] != 0]"
   ]
  },
  {
   "cell_type": "code",
   "execution_count": 81,
   "metadata": {},
   "outputs": [],
   "source": [
    "# Убираем из столбца price_amount сильные выбросы — значения выше 90 процентиля\n",
    "percentile_90 = acquired_companies['price_amount'].quantile(0.9)\n",
    "acquired_companies = acquired_companies[acquired_companies['price_amount'] < percentile_90]"
   ]
  },
  {
   "cell_type": "code",
   "execution_count": 82,
   "metadata": {
    "scrolled": true
   },
   "outputs": [
    {
     "data": {
      "text/plain": [
       "software            363\n",
       "web                 239\n",
       "biotech             226\n",
       "mobile              106\n",
       "enterprise           98\n",
       "games_video          82\n",
       "advertising          76\n",
       "hardware             73\n",
       "other                72\n",
       "semiconductor        64\n",
       "public_relations     63\n",
       "network_hosting      56\n",
       "ecommerce            46\n",
       "cleantech            34\n",
       "security             31\n",
       "consulting           30\n",
       "search               17\n",
       "finance              16\n",
       "manufacturing        14\n",
       "news                  9\n",
       "health                8\n",
       "education             6\n",
       "hospitality           6\n",
       "messaging             5\n",
       "social                4\n",
       "medical               4\n",
       "travel                4\n",
       "photo_video           4\n",
       "real_estate           4\n",
       "music                 3\n",
       "analytics             3\n",
       "fashion               3\n",
       "transportation        2\n",
       "sports                1\n",
       "automotive            1\n",
       "nanotech              1\n",
       "local                 1\n",
       "design                0\n",
       "legal                 0\n",
       "pets                  0\n",
       "nonprofit             0\n",
       "government            0\n",
       "Name: category_code, dtype: int64"
      ]
     },
     "execution_count": 82,
     "metadata": {},
     "output_type": "execute_result"
    }
   ],
   "source": [
    "# Посмотрим на распределение числа компаний по категориям\n",
    "acquired_companies['category_code'].value_counts()"
   ]
  },
  {
   "cell_type": "markdown",
   "metadata": {},
   "source": [
    "В данном контексте нас интересуют типичные цены покупки и величина разброса цен, которые статистически выражаются через медиану и стандартное отклонение соответственно. Медиана отражает типичную цену приобретения, устойчива к выбросам и показывает, какие категории стартапов чаще всего имеют высокую оценку. Стандартное отклонение, в свою очередь, позволяет оценить, насколько сильно варьируются цены внутри каждой категории"
   ]
  },
  {
   "cell_type": "code",
   "execution_count": 83,
   "metadata": {
    "scrolled": true
   },
   "outputs": [
    {
     "data": {
      "text/html": [
       "<div>\n",
       "<style scoped>\n",
       "    .dataframe tbody tr th:only-of-type {\n",
       "        vertical-align: middle;\n",
       "    }\n",
       "\n",
       "    .dataframe tbody tr th {\n",
       "        vertical-align: top;\n",
       "    }\n",
       "\n",
       "    .dataframe thead th {\n",
       "        text-align: right;\n",
       "    }\n",
       "</style>\n",
       "<table border=\"1\" class=\"dataframe\">\n",
       "  <thead>\n",
       "    <tr style=\"text-align: right;\">\n",
       "      <th></th>\n",
       "      <th>median</th>\n",
       "      <th>std</th>\n",
       "      <th>count</th>\n",
       "    </tr>\n",
       "    <tr>\n",
       "      <th>category_code</th>\n",
       "      <th></th>\n",
       "      <th></th>\n",
       "      <th></th>\n",
       "    </tr>\n",
       "  </thead>\n",
       "  <tbody>\n",
       "    <tr>\n",
       "      <th>cleantech</th>\n",
       "      <td>162500000.0</td>\n",
       "      <td>1.444089e+08</td>\n",
       "      <td>34</td>\n",
       "    </tr>\n",
       "    <tr>\n",
       "      <th>security</th>\n",
       "      <td>148500000.0</td>\n",
       "      <td>2.149933e+08</td>\n",
       "      <td>31</td>\n",
       "    </tr>\n",
       "    <tr>\n",
       "      <th>biotech</th>\n",
       "      <td>120750000.0</td>\n",
       "      <td>2.138114e+08</td>\n",
       "      <td>226</td>\n",
       "    </tr>\n",
       "    <tr>\n",
       "      <th>ecommerce</th>\n",
       "      <td>105000000.0</td>\n",
       "      <td>1.800376e+08</td>\n",
       "      <td>46</td>\n",
       "    </tr>\n",
       "    <tr>\n",
       "      <th>semiconductor</th>\n",
       "      <td>75000000.0</td>\n",
       "      <td>1.350668e+08</td>\n",
       "      <td>64</td>\n",
       "    </tr>\n",
       "    <tr>\n",
       "      <th>network_hosting</th>\n",
       "      <td>64115000.0</td>\n",
       "      <td>1.804666e+08</td>\n",
       "      <td>56</td>\n",
       "    </tr>\n",
       "    <tr>\n",
       "      <th>advertising</th>\n",
       "      <td>50000000.0</td>\n",
       "      <td>1.663535e+08</td>\n",
       "      <td>76</td>\n",
       "    </tr>\n",
       "    <tr>\n",
       "      <th>hardware</th>\n",
       "      <td>50000000.0</td>\n",
       "      <td>1.983578e+08</td>\n",
       "      <td>73</td>\n",
       "    </tr>\n",
       "    <tr>\n",
       "      <th>other</th>\n",
       "      <td>50000000.0</td>\n",
       "      <td>1.652277e+08</td>\n",
       "      <td>72</td>\n",
       "    </tr>\n",
       "    <tr>\n",
       "      <th>games_video</th>\n",
       "      <td>49500000.0</td>\n",
       "      <td>1.600747e+08</td>\n",
       "      <td>82</td>\n",
       "    </tr>\n",
       "    <tr>\n",
       "      <th>web</th>\n",
       "      <td>48300000.0</td>\n",
       "      <td>1.506738e+08</td>\n",
       "      <td>239</td>\n",
       "    </tr>\n",
       "    <tr>\n",
       "      <th>mobile</th>\n",
       "      <td>45100000.0</td>\n",
       "      <td>1.495079e+08</td>\n",
       "      <td>106</td>\n",
       "    </tr>\n",
       "    <tr>\n",
       "      <th>enterprise</th>\n",
       "      <td>43300000.0</td>\n",
       "      <td>1.754130e+08</td>\n",
       "      <td>98</td>\n",
       "    </tr>\n",
       "    <tr>\n",
       "      <th>public_relations</th>\n",
       "      <td>40000000.0</td>\n",
       "      <td>1.706015e+08</td>\n",
       "      <td>63</td>\n",
       "    </tr>\n",
       "    <tr>\n",
       "      <th>software</th>\n",
       "      <td>40000000.0</td>\n",
       "      <td>1.367910e+08</td>\n",
       "      <td>363</td>\n",
       "    </tr>\n",
       "    <tr>\n",
       "      <th>consulting</th>\n",
       "      <td>28125000.0</td>\n",
       "      <td>1.517534e+08</td>\n",
       "      <td>30</td>\n",
       "    </tr>\n",
       "  </tbody>\n",
       "</table>\n",
       "</div>"
      ],
      "text/plain": [
       "                       median           std  count\n",
       "category_code                                     \n",
       "cleantech         162500000.0  1.444089e+08     34\n",
       "security          148500000.0  2.149933e+08     31\n",
       "biotech           120750000.0  2.138114e+08    226\n",
       "ecommerce         105000000.0  1.800376e+08     46\n",
       "semiconductor      75000000.0  1.350668e+08     64\n",
       "network_hosting    64115000.0  1.804666e+08     56\n",
       "advertising        50000000.0  1.663535e+08     76\n",
       "hardware           50000000.0  1.983578e+08     73\n",
       "other              50000000.0  1.652277e+08     72\n",
       "games_video        49500000.0  1.600747e+08     82\n",
       "web                48300000.0  1.506738e+08    239\n",
       "mobile             45100000.0  1.495079e+08    106\n",
       "enterprise         43300000.0  1.754130e+08     98\n",
       "public_relations   40000000.0  1.706015e+08     63\n",
       "software           40000000.0  1.367910e+08    363\n",
       "consulting         28125000.0  1.517534e+08     30"
      ]
     },
     "execution_count": 83,
     "metadata": {},
     "output_type": "execute_result"
    }
   ],
   "source": [
    "# Сгруппируем данные по категориям стартапов и рассчитаем для каждой категории медиану и среднее\n",
    "categories = acquired_companies.groupby('category_code')['price_amount'].agg(['median', 'std', 'count'])\n",
    "\n",
    "# Исключим категории с числом компаний менее 30\n",
    "categories = categories[categories['count'] >= 30]\n",
    "\n",
    "# Отсортируем таблицу по убыванию медианы\n",
    "categories.sort_values(by = 'median', ascending = False)"
   ]
  },
  {
   "cell_type": "markdown",
   "metadata": {},
   "source": [
    "Для выявления категорий стартапов, привлекательных для крупных инвесторов, данные были сгруппированы по столбцу `category_code` и по каждой категории были рассчитаны медиана и стандартное отклонение цены покупки (`price_amount`). При этом были исключены категории с числом компаний менее 30."
   ]
  },
  {
   "cell_type": "code",
   "execution_count": 84,
   "metadata": {},
   "outputs": [
    {
     "data": {
      "image/png": "[encoded data removed]",
      "text/plain": [
       "<Figure size 864x576 with 1 Axes>"
      ]
     },
     "metadata": {
      "needs_background": "light"
     },
     "output_type": "display_data"
    }
   ],
   "source": [
    "# Построим диаграмму рассеяния для выявления категорий стартапов с высокими типичными ценами и большим разбросом цен\n",
    "categories = categories.reset_index()\n",
    "categories.plot(kind = 'scatter',\n",
    "                x = 'median',\n",
    "                y = 'std',\n",
    "                s = categories['count'] * 2, # задаем размеры точек в зависимости от количества компаний в категории\n",
    "                alpha = 0.6,\n",
    "                title = 'Топ-категории стартапов по типичной цене продажи и разбросу цен',\n",
    "                xlabel = 'Типичная цена продажи (медиана)',\n",
    "                ylabel = 'Разброс цен (стандартное отклонение)',\n",
    "                figsize = (12,8))\n",
    "\n",
    "# Добавим подписи к точкам\n",
    "for i, code in enumerate(categories['category_code']):\n",
    "    plt.text(\n",
    "        categories['median'].iloc[i],\n",
    "        categories['std'].iloc[i],\n",
    "        code,\n",
    "        fontsize=9,\n",
    "        alpha=0.7)\n",
    "    \n",
    "plt.grid(True)\n",
    "plt.show()"
   ]
  },
  {
   "cell_type": "markdown",
   "metadata": {},
   "source": [
    "**Топ-5 категорий стартапов с типично высокими ценами:** \n",
    "- cleantech — 162,5 млн.\n",
    "- security — 148,5 млн.\n",
    "- biotech — 120,75 млн.\n",
    "- ecommerce — 105 млн.\n",
    "- semiconductor — 75 млн.\n",
    "\n",
    "**Топ-5 категорий стартапов с наибольшим разбросом цен за стартап:**\n",
    "- security — 214,99 млн\n",
    "- biotech — 213,81 млн\n",
    "- hardware — 198,36 млн\n",
    "- network_hosting — 180,47 млн\n",
    "- ecommerce — 180,04 млн\n",
    "\n",
    "Помимо этого, scatterplot позволил наглядно выделить категории стартапов, которые одновременно характеризуются как высокими типичными ценами сделок, так и значительным разбросом цен: `security`, `biotech`, `ecommerce`. Эти категории можно считать наиболее перспективными для инвестиций, поскольку высокий разброс при высоких медианных ценах указывает на потенциал для крайне выгодных сделок при успешном развитии стартапа."
   ]
  },
  {
   "cell_type": "markdown",
   "metadata": {
    "id": "ADOfyVY_rJg3"
   },
   "source": [
    "\n",
    "### 3.5. Сколько раундов продержится стартап перед покупкой\n",
    "\n",
    "В этом разделе будет рассмотрено, сколько раундов финансирования в среднем проходит стартап в зависимости от его статуса."
   ]
  },
  {
   "cell_type": "code",
   "execution_count": 228,
   "metadata": {
    "id": "hgXMPC4WrJg3",
    "scrolled": true,
    "vscode": {
     "languageId": "plaintext"
    }
   },
   "outputs": [
    {
     "data": {
      "text/html": [
       "<div>\n",
       "<style scoped>\n",
       "    .dataframe tbody tr th:only-of-type {\n",
       "        vertical-align: middle;\n",
       "    }\n",
       "\n",
       "    .dataframe tbody tr th {\n",
       "        vertical-align: top;\n",
       "    }\n",
       "\n",
       "    .dataframe thead th {\n",
       "        text-align: right;\n",
       "    }\n",
       "</style>\n",
       "<table border=\"1\" class=\"dataframe\">\n",
       "  <thead>\n",
       "    <tr style=\"text-align: right;\">\n",
       "      <th></th>\n",
       "      <th>company_ID</th>\n",
       "      <th>name</th>\n",
       "      <th>category_code</th>\n",
       "      <th>status</th>\n",
       "      <th>founded_at</th>\n",
       "      <th>closed_at</th>\n",
       "      <th>domain</th>\n",
       "      <th>network_username</th>\n",
       "      <th>country_code</th>\n",
       "      <th>investment_rounds</th>\n",
       "      <th>funding_rounds</th>\n",
       "      <th>funding_total</th>\n",
       "      <th>milestones</th>\n",
       "    </tr>\n",
       "  </thead>\n",
       "  <tbody>\n",
       "    <tr>\n",
       "      <th>0</th>\n",
       "      <td>1.0</td>\n",
       "      <td>Wetpaint</td>\n",
       "      <td>web</td>\n",
       "      <td>operating</td>\n",
       "      <td>2005-10-17</td>\n",
       "      <td>NaT</td>\n",
       "      <td>wetpaint-inc.com</td>\n",
       "      <td>BachelrWetpaint</td>\n",
       "      <td>USA</td>\n",
       "      <td>0.0</td>\n",
       "      <td>3.0</td>\n",
       "      <td>39750000.0</td>\n",
       "      <td>5.0</td>\n",
       "    </tr>\n",
       "    <tr>\n",
       "      <th>3</th>\n",
       "      <td>10.0</td>\n",
       "      <td>Flektor</td>\n",
       "      <td>games_video</td>\n",
       "      <td>acquired</td>\n",
       "      <td>NaT</td>\n",
       "      <td>NaT</td>\n",
       "      <td>flektor.com</td>\n",
       "      <td>NaN</td>\n",
       "      <td>USA</td>\n",
       "      <td>0.0</td>\n",
       "      <td>0.0</td>\n",
       "      <td>NaN</td>\n",
       "      <td>0.0</td>\n",
       "    </tr>\n",
       "    <tr>\n",
       "      <th>4</th>\n",
       "      <td>100.0</td>\n",
       "      <td>There</td>\n",
       "      <td>games_video</td>\n",
       "      <td>acquired</td>\n",
       "      <td>NaT</td>\n",
       "      <td>NaT</td>\n",
       "      <td>there.com</td>\n",
       "      <td>NaN</td>\n",
       "      <td>USA</td>\n",
       "      <td>0.0</td>\n",
       "      <td>0.0</td>\n",
       "      <td>NaN</td>\n",
       "      <td>4.0</td>\n",
       "    </tr>\n",
       "    <tr>\n",
       "      <th>15</th>\n",
       "      <td>1001.0</td>\n",
       "      <td>FriendFeed</td>\n",
       "      <td>web</td>\n",
       "      <td>acquired</td>\n",
       "      <td>2007-10-01</td>\n",
       "      <td>NaT</td>\n",
       "      <td>friendfeed.com</td>\n",
       "      <td>friendfeed</td>\n",
       "      <td>USA</td>\n",
       "      <td>0.0</td>\n",
       "      <td>1.0</td>\n",
       "      <td>5000000.0</td>\n",
       "      <td>3.0</td>\n",
       "    </tr>\n",
       "    <tr>\n",
       "      <th>20</th>\n",
       "      <td>10014.0</td>\n",
       "      <td>Mobclix</td>\n",
       "      <td>mobile</td>\n",
       "      <td>acquired</td>\n",
       "      <td>2008-03-01</td>\n",
       "      <td>NaT</td>\n",
       "      <td>mobclix.com</td>\n",
       "      <td>mobclix</td>\n",
       "      <td>USA</td>\n",
       "      <td>0.0</td>\n",
       "      <td>1.0</td>\n",
       "      <td>NaN</td>\n",
       "      <td>4.0</td>\n",
       "    </tr>\n",
       "  </tbody>\n",
       "</table>\n",
       "</div>"
      ],
      "text/plain": [
       "    company_ID        name category_code     status founded_at closed_at  \\\n",
       "0          1.0    Wetpaint           web  operating 2005-10-17       NaT   \n",
       "3         10.0     Flektor   games_video   acquired        NaT       NaT   \n",
       "4        100.0       There   games_video   acquired        NaT       NaT   \n",
       "15      1001.0  FriendFeed           web   acquired 2007-10-01       NaT   \n",
       "20     10014.0     Mobclix        mobile   acquired 2008-03-01       NaT   \n",
       "\n",
       "              domain network_username country_code  investment_rounds  \\\n",
       "0   wetpaint-inc.com  BachelrWetpaint          USA                0.0   \n",
       "3        flektor.com              NaN          USA                0.0   \n",
       "4          there.com              NaN          USA                0.0   \n",
       "15    friendfeed.com       friendfeed          USA                0.0   \n",
       "20       mobclix.com          mobclix          USA                0.0   \n",
       "\n",
       "    funding_rounds  funding_total  milestones  \n",
       "0              3.0     39750000.0         5.0  \n",
       "3              0.0            NaN         0.0  \n",
       "4              0.0            NaN         4.0  \n",
       "15             1.0      5000000.0         3.0  \n",
       "20             1.0            NaN         4.0  "
      ]
     },
     "execution_count": 228,
     "metadata": {},
     "output_type": "execute_result"
    }
   ],
   "source": [
    "# Изучим данные в таблице\n",
    "companies_filtered.head()"
   ]
  },
  {
   "cell_type": "markdown",
   "metadata": {},
   "source": [
    "Поскольку нулевые значения в столбце `funding_rounds` сопровождаются пропущенными данными в столбце `funding_total`, можно предположить, что такие нулевые значения отражают не факт отсутствия раундов, а отсутствие информации о них. Чтобы избежать искажения результатов анализа, имеет смысл заменить нулевые значения в столбце `funding_rounds` на NaN."
   ]
  },
  {
   "cell_type": "code",
   "execution_count": 87,
   "metadata": {},
   "outputs": [],
   "source": [
    "# Заменим все нулевые значения в столбце funding_rounds на NaN\n",
    "companies_filtered = companies_filtered.copy()\n",
    "companies_filtered['funding_rounds'] = companies_filtered['funding_rounds'].replace(0, np.nan)"
   ]
  },
  {
   "cell_type": "code",
   "execution_count": 86,
   "metadata": {},
   "outputs": [
    {
     "data": {
      "text/plain": [
       "operating    28621\n",
       "acquired      9394\n",
       "closed        2092\n",
       "ipo            640\n",
       "Name: status, dtype: int64"
      ]
     },
     "execution_count": 86,
     "metadata": {},
     "output_type": "execute_result"
    }
   ],
   "source": [
    "# Посмотрим, какие статусы представлены в данных\n",
    "companies_filtered['status'].value_counts()"
   ]
  },
  {
   "cell_type": "markdown",
   "metadata": {},
   "source": [
    "**В данных представлены стартапы следующих статусов:**\n",
    "- Acquired — компания приобретена.\n",
    "- Closed — компания закрыта. \n",
    "- Operating — компания работает. \n",
    "- IPO — компания провела первичное размещение акций на бирже (initial public offering)."
   ]
  },
  {
   "cell_type": "code",
   "execution_count": 88,
   "metadata": {
    "id": "pV3e7kw5Fj1Y"
   },
   "outputs": [
    {
     "data": {
      "text/html": [
       "<div>\n",
       "<style scoped>\n",
       "    .dataframe tbody tr th:only-of-type {\n",
       "        vertical-align: middle;\n",
       "    }\n",
       "\n",
       "    .dataframe tbody tr th {\n",
       "        vertical-align: top;\n",
       "    }\n",
       "\n",
       "    .dataframe thead th {\n",
       "        text-align: right;\n",
       "    }\n",
       "</style>\n",
       "<table border=\"1\" class=\"dataframe\">\n",
       "  <thead>\n",
       "    <tr style=\"text-align: right;\">\n",
       "      <th></th>\n",
       "      <th>median</th>\n",
       "      <th>mean</th>\n",
       "      <th>count</th>\n",
       "    </tr>\n",
       "    <tr>\n",
       "      <th>status</th>\n",
       "      <th></th>\n",
       "      <th></th>\n",
       "      <th></th>\n",
       "    </tr>\n",
       "  </thead>\n",
       "  <tbody>\n",
       "    <tr>\n",
       "      <th>acquired</th>\n",
       "      <td>1.0</td>\n",
       "      <td>1.896645</td>\n",
       "      <td>2593</td>\n",
       "    </tr>\n",
       "    <tr>\n",
       "      <th>closed</th>\n",
       "      <td>1.0</td>\n",
       "      <td>1.383437</td>\n",
       "      <td>2089</td>\n",
       "    </tr>\n",
       "    <tr>\n",
       "      <th>ipo</th>\n",
       "      <td>2.0</td>\n",
       "      <td>2.526531</td>\n",
       "      <td>490</td>\n",
       "    </tr>\n",
       "    <tr>\n",
       "      <th>operating</th>\n",
       "      <td>1.0</td>\n",
       "      <td>1.642359</td>\n",
       "      <td>26535</td>\n",
       "    </tr>\n",
       "  </tbody>\n",
       "</table>\n",
       "</div>"
      ],
      "text/plain": [
       "           median      mean  count\n",
       "status                            \n",
       "acquired      1.0  1.896645   2593\n",
       "closed        1.0  1.383437   2089\n",
       "ipo           2.0  2.526531    490\n",
       "operating     1.0  1.642359  26535"
      ]
     },
     "execution_count": 88,
     "metadata": {},
     "output_type": "execute_result"
    }
   ],
   "source": [
    "# Посчитаем медиану и среднее значение числа раундов финансирования для каждого статуса\n",
    "status_rounds = companies_filtered.groupby('status')['funding_rounds'].agg(['median', 'mean', 'count'])\n",
    "status_rounds"
   ]
  },
  {
   "cell_type": "code",
   "execution_count": 231,
   "metadata": {},
   "outputs": [
    {
     "data": {
      "image/png": "[encoded data removed]",
      "text/plain": [
       "<Figure size 720x360 with 1 Axes>"
      ]
     },
     "metadata": {
      "needs_background": "light"
     },
     "output_type": "display_data"
    }
   ],
   "source": [
    "# Создаём контейнер графика matplotlib и задаём его размер\n",
    "#plt.figure(figsize=(12, 6))\n",
    "\n",
    "# Строим столбчатую диаграмму с помощью pandas через plot(kind='bar')\n",
    "status_rounds[['mean']].sort_values(by = 'mean').plot(\n",
    "               kind='bar', # Тип графика — столбчатая диаграмма\n",
    "               rot=0, # Градус вращения подписи по оси Х\n",
    "               legend=False, # Выключаем легенду\n",
    "               title=f'Среднее количество раундов финансирования в зависимости от статуса компании',\n",
    "               figsize=(10, 5)\n",
    ")\n",
    "\n",
    "# Настраиваем оформление графика\n",
    "plt.xlabel('Статус компании')\n",
    "plt.ylabel('Среднее количество раундов финансирования')\n",
    "# Добавляем сетку графика\n",
    "plt.grid(axis = 'y')\n",
    "\n",
    "# Выводим график\n",
    "plt.show()"
   ]
  },
  {
   "cell_type": "markdown",
   "metadata": {},
   "source": [
    "Для закрытых, работающих и приобретённых компаний медианное количество раундов финансирования составляет один раунд. При этом стартапы, которые провели первичное размещение акций (IPO), в типичном случае проходят через два раунда финансирования.\n",
    "\n",
    "В среднем наименьшее число раундов наблюдается у закрытых компаний (1.38), чуть больше — у работающих (1.64), ещё выше — у приобретённых (1.90). Максимальное среднее количество раундов фиксируется у компаний, вышедших на IPO: они в среднем проходят через 2.53 раунда финансирования.\n",
    "\n",
    "Таким образом, стартапы, достигшие стадии IPO, привлекают больше раундов финансирования, что логично: для выхода на биржу компании требуется больше инвестиций и времени на развитие. В то же время закрытые компании имеют меньше всего раундов, что может говорить о том, что они либо быстро прекратили деятельность, не сумев привлечь достаточное финансирование, либо не смогли заинтересовать инвесторов. Приобретённые компании и стартапы, которые продолжают работать, занимают промежуточные позиции: они обычно проходят через 1–2 раунда, что отражает разные сценарии их развития."
   ]
  },
  {
   "cell_type": "markdown",
   "metadata": {
    "id": "VAFEZ2HBrJg3"
   },
   "source": [
    "\n",
    "## Шаг 4. Итоговый вывод и рекомендации"
   ]
  },
  {
   "cell_type": "markdown",
   "metadata": {},
   "source": [
    "В рамках исследования были изучены данные о финансировании 217 774 стартапов. Данные включали информацию о компаниях, раундах финансирования, сделках по их приобретению, а также данные о сотрудниках, включая образование. Целью исследования было выявить показатели и признаки, которые указывают на повышенную вероятность успешной сделки по покупке компании.\n",
    "\n",
    "#### Основные выводы исследования\n",
    "- С 1999 по 2005 год показатели типичного размера финансирования росли и достигли пика в 2005-м (5,5 млн), после чего резко снизились. При этом количество раундов финансирования росло на протяжении всего исследуемого периода. \n",
    "- Типичный размер общего финансирования для стартапа составляет 0,5–11 млн долларов.\n",
    "- Наиболее крупные компании (26 и более сотрудников) имеют в среднем больше информации о сотрудниках.\n",
    "- Категории стартапов с типично высокими ценами покупки: чистые технологии, безопасность, биотехнологии, электронная коммерция, полупроводники.\n",
    "- Категории с наибольшим разбросом цен за стартап: безопасность, биотехнологии, аппаратное обеспечение, сетевой хостинг, электронная коммерция.\n",
    "- Приобретенные компании имеют обычно 1-2 раунда финансирования. Больше всего раундов финансирования привлекают стартапы, достигшие стадии IPO — в среднем 2-3 раунда. Закрытые компании имеют меньше всего раундов финансирования.\n",
    "\n",
    "#### Рекомендации\n",
    "- При выборе направлений для инвестиций стоит обратить внимание на стартапы в сферах `чистых технологий, безопасности, биотехнологий, электронной коммерции, полупроводников`. В этих категориях зафиксированы высокие медианные цены сделок, что свидетельствует о потенциале для значительных доходов при успешном развитии компаний. \n",
    "- Особое внимание стоит уделить категориям с высоким разбросом цен, таким как `безопасность`, `биотехнологии`, `электронная коммерция`. Эти сферы сочетают в себе высокие типичные цены сделок и значительный диапазон цен, что может указывать на возможность заключения крайне выгодных сделок. При этом риск может быть умеренным, поскольку даже медианные значения находятся на высоком уровне.\n",
    "- При оценке перспективности стартапов можно использовать такие признаки, как `число раундов финансирования, общий размер финансирования, отрасль стартапа и полнота информации о сотрудниках`.\n",
    "- Приоритет стоит отдавать стартапам, которые привлекли хотя бы 1 раунд финансирования. Отсутствие раундов (0) может говорить о том, что стартап не сумел заинтересовать инвесторов или что данные неполные. При этом большинство успешно приобретённых или вышедших на IPO стартапов имеют в среднем от 1 до 3 раундов, что можно считать рабочим ориентиром при оценке перспективности проекта."
   ]
  }
 ],
 "metadata": {
  "ExecuteTimeLog": [
   {
    "duration": 1502,
    "start_time": "2025-06-25T13:22:05.962Z"
   },
   {
    "duration": 0,
    "start_time": "2025-06-25T13:22:07.468Z"
   },
   {
    "duration": 0,
    "start_time": "2025-06-25T13:22:07.469Z"
   },
   {
    "duration": 0,
    "start_time": "2025-06-25T13:22:07.470Z"
   },
   {
    "duration": 0,
    "start_time": "2025-06-25T13:22:07.471Z"
   },
   {
    "duration": 0,
    "start_time": "2025-06-25T13:22:07.472Z"
   },
   {
    "duration": 0,
    "start_time": "2025-06-25T13:22:07.474Z"
   },
   {
    "duration": 0,
    "start_time": "2025-06-25T13:22:07.475Z"
   },
   {
    "duration": 0,
    "start_time": "2025-06-25T13:22:07.476Z"
   },
   {
    "duration": 0,
    "start_time": "2025-06-25T13:22:07.477Z"
   },
   {
    "duration": 0,
    "start_time": "2025-06-25T13:22:07.478Z"
   },
   {
    "duration": 0,
    "start_time": "2025-06-25T13:22:07.479Z"
   },
   {
    "duration": 0,
    "start_time": "2025-06-25T13:22:07.480Z"
   },
   {
    "duration": 0,
    "start_time": "2025-06-25T13:22:07.482Z"
   },
   {
    "duration": 0,
    "start_time": "2025-06-25T13:22:07.483Z"
   },
   {
    "duration": 0,
    "start_time": "2025-06-25T13:22:07.484Z"
   },
   {
    "duration": 0,
    "start_time": "2025-06-25T13:22:07.485Z"
   },
   {
    "duration": 0,
    "start_time": "2025-06-25T13:22:07.486Z"
   },
   {
    "duration": 0,
    "start_time": "2025-06-25T13:22:07.487Z"
   },
   {
    "duration": 0,
    "start_time": "2025-06-25T13:22:07.488Z"
   },
   {
    "duration": 0,
    "start_time": "2025-06-25T13:22:07.489Z"
   },
   {
    "duration": 0,
    "start_time": "2025-06-25T13:22:07.490Z"
   },
   {
    "duration": 0,
    "start_time": "2025-06-25T13:22:07.491Z"
   },
   {
    "duration": 0,
    "start_time": "2025-06-25T13:22:07.492Z"
   },
   {
    "duration": 0,
    "start_time": "2025-06-25T13:22:07.494Z"
   },
   {
    "duration": 0,
    "start_time": "2025-06-25T13:22:07.494Z"
   },
   {
    "duration": 1,
    "start_time": "2025-06-25T13:22:07.495Z"
   },
   {
    "duration": 0,
    "start_time": "2025-06-25T13:22:07.496Z"
   },
   {
    "duration": 1,
    "start_time": "2025-06-25T13:22:07.498Z"
   },
   {
    "duration": 0,
    "start_time": "2025-06-25T13:22:07.500Z"
   },
   {
    "duration": 0,
    "start_time": "2025-06-25T13:22:07.501Z"
   },
   {
    "duration": 0,
    "start_time": "2025-06-25T13:22:07.502Z"
   },
   {
    "duration": 0,
    "start_time": "2025-06-25T13:22:07.503Z"
   },
   {
    "duration": 0,
    "start_time": "2025-06-25T13:22:07.558Z"
   },
   {
    "duration": 0,
    "start_time": "2025-06-25T13:22:07.559Z"
   },
   {
    "duration": 0,
    "start_time": "2025-06-25T13:22:07.560Z"
   },
   {
    "duration": 0,
    "start_time": "2025-06-25T13:22:07.561Z"
   },
   {
    "duration": 0,
    "start_time": "2025-06-25T13:22:07.562Z"
   },
   {
    "duration": 0,
    "start_time": "2025-06-25T13:22:07.564Z"
   },
   {
    "duration": 0,
    "start_time": "2025-06-25T13:22:07.565Z"
   },
   {
    "duration": 0,
    "start_time": "2025-06-25T13:22:07.566Z"
   },
   {
    "duration": 0,
    "start_time": "2025-06-25T13:22:07.567Z"
   },
   {
    "duration": 1,
    "start_time": "2025-06-25T13:22:07.567Z"
   },
   {
    "duration": 0,
    "start_time": "2025-06-25T13:22:07.569Z"
   },
   {
    "duration": 0,
    "start_time": "2025-06-25T13:22:07.570Z"
   },
   {
    "duration": 0,
    "start_time": "2025-06-25T13:22:07.571Z"
   },
   {
    "duration": 0,
    "start_time": "2025-06-25T13:22:07.572Z"
   },
   {
    "duration": 0,
    "start_time": "2025-06-25T13:22:07.573Z"
   },
   {
    "duration": 0,
    "start_time": "2025-06-25T13:22:07.574Z"
   },
   {
    "duration": 0,
    "start_time": "2025-06-25T13:22:07.575Z"
   },
   {
    "duration": 0,
    "start_time": "2025-06-25T13:22:07.576Z"
   },
   {
    "duration": 0,
    "start_time": "2025-06-25T13:22:07.578Z"
   },
   {
    "duration": 0,
    "start_time": "2025-06-25T13:22:07.579Z"
   },
   {
    "duration": 0,
    "start_time": "2025-06-25T13:22:07.580Z"
   },
   {
    "duration": 0,
    "start_time": "2025-06-25T13:22:07.581Z"
   },
   {
    "duration": 0,
    "start_time": "2025-06-25T13:22:07.582Z"
   },
   {
    "duration": 0,
    "start_time": "2025-06-25T13:22:07.583Z"
   },
   {
    "duration": 0,
    "start_time": "2025-06-25T13:22:07.584Z"
   },
   {
    "duration": 0,
    "start_time": "2025-06-25T13:22:07.585Z"
   },
   {
    "duration": 0,
    "start_time": "2025-06-25T13:22:07.586Z"
   },
   {
    "duration": 0,
    "start_time": "2025-06-25T13:22:07.587Z"
   },
   {
    "duration": 0,
    "start_time": "2025-06-25T13:22:07.588Z"
   },
   {
    "duration": 0,
    "start_time": "2025-06-25T13:22:07.590Z"
   },
   {
    "duration": 0,
    "start_time": "2025-06-25T13:22:07.591Z"
   },
   {
    "duration": 0,
    "start_time": "2025-06-25T13:22:07.592Z"
   },
   {
    "duration": 0,
    "start_time": "2025-06-25T13:22:07.592Z"
   },
   {
    "duration": 0,
    "start_time": "2025-06-25T13:22:07.658Z"
   },
   {
    "duration": 0,
    "start_time": "2025-06-25T13:22:07.659Z"
   },
   {
    "duration": 0,
    "start_time": "2025-06-25T13:22:07.660Z"
   },
   {
    "duration": 0,
    "start_time": "2025-06-25T13:22:07.661Z"
   },
   {
    "duration": 0,
    "start_time": "2025-06-25T13:22:07.662Z"
   },
   {
    "duration": 0,
    "start_time": "2025-06-25T13:22:07.663Z"
   },
   {
    "duration": 0,
    "start_time": "2025-06-25T13:22:07.665Z"
   },
   {
    "duration": 0,
    "start_time": "2025-06-25T13:22:07.666Z"
   },
   {
    "duration": 0,
    "start_time": "2025-06-25T13:22:07.667Z"
   },
   {
    "duration": 0,
    "start_time": "2025-06-25T13:22:07.668Z"
   },
   {
    "duration": 0,
    "start_time": "2025-06-25T13:22:07.669Z"
   },
   {
    "duration": 0,
    "start_time": "2025-06-25T13:22:07.670Z"
   },
   {
    "duration": 0,
    "start_time": "2025-06-25T13:22:07.671Z"
   },
   {
    "duration": 0,
    "start_time": "2025-06-25T13:22:07.672Z"
   },
   {
    "duration": 0,
    "start_time": "2025-06-25T13:22:07.673Z"
   },
   {
    "duration": 1167,
    "start_time": "2025-06-25T13:22:28.103Z"
   },
   {
    "duration": 3851,
    "start_time": "2025-06-25T13:22:29.272Z"
   },
   {
    "duration": 29,
    "start_time": "2025-06-25T13:22:33.124Z"
   },
   {
    "duration": 97,
    "start_time": "2025-06-25T13:22:33.155Z"
   },
   {
    "duration": 9,
    "start_time": "2025-06-25T13:22:33.254Z"
   },
   {
    "duration": 28,
    "start_time": "2025-06-25T13:22:33.265Z"
   },
   {
    "duration": 29,
    "start_time": "2025-06-25T13:22:33.294Z"
   },
   {
    "duration": 56,
    "start_time": "2025-06-25T13:22:33.325Z"
   },
   {
    "duration": 7,
    "start_time": "2025-06-25T13:22:33.383Z"
   },
   {
    "duration": 19,
    "start_time": "2025-06-25T13:22:33.393Z"
   },
   {
    "duration": 7,
    "start_time": "2025-06-25T13:22:33.414Z"
   },
   {
    "duration": 46,
    "start_time": "2025-06-25T13:22:33.423Z"
   },
   {
    "duration": 20,
    "start_time": "2025-06-25T13:22:33.471Z"
   },
   {
    "duration": 15,
    "start_time": "2025-06-25T13:22:33.492Z"
   },
   {
    "duration": 7,
    "start_time": "2025-06-25T13:22:33.508Z"
   },
   {
    "duration": 27,
    "start_time": "2025-06-25T13:22:33.516Z"
   },
   {
    "duration": 4,
    "start_time": "2025-06-25T13:22:33.545Z"
   },
   {
    "duration": 250,
    "start_time": "2025-06-25T13:22:33.551Z"
   },
   {
    "duration": 68,
    "start_time": "2025-06-25T13:22:33.802Z"
   },
   {
    "duration": 119,
    "start_time": "2025-06-25T13:22:33.872Z"
   },
   {
    "duration": 7,
    "start_time": "2025-06-25T13:22:33.993Z"
   },
   {
    "duration": 22,
    "start_time": "2025-06-25T13:22:34.002Z"
   },
   {
    "duration": 33,
    "start_time": "2025-06-25T13:22:34.025Z"
   },
   {
    "duration": 66,
    "start_time": "2025-06-25T13:22:34.059Z"
   },
   {
    "duration": 8,
    "start_time": "2025-06-25T13:22:34.127Z"
   },
   {
    "duration": 61,
    "start_time": "2025-06-25T13:22:34.136Z"
   },
   {
    "duration": 62,
    "start_time": "2025-06-25T13:22:34.198Z"
   },
   {
    "duration": 11,
    "start_time": "2025-06-25T13:22:34.264Z"
   },
   {
    "duration": 18,
    "start_time": "2025-06-25T13:22:34.276Z"
   },
   {
    "duration": 328,
    "start_time": "2025-06-25T13:22:34.295Z"
   },
   {
    "duration": 10,
    "start_time": "2025-06-25T13:22:34.625Z"
   },
   {
    "duration": 93,
    "start_time": "2025-06-25T13:22:34.637Z"
   },
   {
    "duration": 149,
    "start_time": "2025-06-25T13:22:34.732Z"
   },
   {
    "duration": 38,
    "start_time": "2025-06-25T13:22:34.883Z"
   },
   {
    "duration": 14,
    "start_time": "2025-06-25T13:22:34.923Z"
   },
   {
    "duration": 32,
    "start_time": "2025-06-25T13:22:34.938Z"
   },
   {
    "duration": 18,
    "start_time": "2025-06-25T13:22:34.972Z"
   },
   {
    "duration": 39,
    "start_time": "2025-06-25T13:22:34.992Z"
   },
   {
    "duration": 57,
    "start_time": "2025-06-25T13:22:35.033Z"
   },
   {
    "duration": 14,
    "start_time": "2025-06-25T13:22:35.091Z"
   },
   {
    "duration": 22,
    "start_time": "2025-06-25T13:22:35.106Z"
   },
   {
    "duration": 33,
    "start_time": "2025-06-25T13:22:35.130Z"
   },
   {
    "duration": 20,
    "start_time": "2025-06-25T13:22:35.166Z"
   },
   {
    "duration": 8,
    "start_time": "2025-06-25T13:22:35.189Z"
   },
   {
    "duration": 23,
    "start_time": "2025-06-25T13:22:35.199Z"
   },
   {
    "duration": 23,
    "start_time": "2025-06-25T13:22:35.223Z"
   },
   {
    "duration": 25,
    "start_time": "2025-06-25T13:22:35.247Z"
   },
   {
    "duration": 6,
    "start_time": "2025-06-25T13:22:35.274Z"
   },
   {
    "duration": 7,
    "start_time": "2025-06-25T13:22:35.282Z"
   },
   {
    "duration": 10,
    "start_time": "2025-06-25T13:22:35.290Z"
   },
   {
    "duration": 26,
    "start_time": "2025-06-25T13:22:35.302Z"
   },
   {
    "duration": 202,
    "start_time": "2025-06-25T13:22:35.330Z"
   },
   {
    "duration": 97,
    "start_time": "2025-06-25T13:22:35.534Z"
   },
   {
    "duration": 127,
    "start_time": "2025-06-25T13:22:35.632Z"
   },
   {
    "duration": 133,
    "start_time": "2025-06-25T13:22:35.761Z"
   },
   {
    "duration": 107,
    "start_time": "2025-06-25T13:22:35.896Z"
   },
   {
    "duration": 54,
    "start_time": "2025-06-25T13:22:36.004Z"
   },
   {
    "duration": 70,
    "start_time": "2025-06-25T13:22:36.060Z"
   },
   {
    "duration": 3236,
    "start_time": "2025-06-25T13:22:36.131Z"
   },
   {
    "duration": 21,
    "start_time": "2025-06-25T13:22:39.368Z"
   },
   {
    "duration": 9,
    "start_time": "2025-06-25T13:22:39.390Z"
   },
   {
    "duration": 162,
    "start_time": "2025-06-25T13:22:39.400Z"
   },
   {
    "duration": 20,
    "start_time": "2025-06-25T13:22:39.564Z"
   },
   {
    "duration": 140,
    "start_time": "2025-06-25T13:22:39.585Z"
   },
   {
    "duration": 72,
    "start_time": "2025-06-25T13:22:39.727Z"
   },
   {
    "duration": 39,
    "start_time": "2025-06-25T13:22:39.801Z"
   },
   {
    "duration": 91,
    "start_time": "2025-06-25T13:22:39.842Z"
   },
   {
    "duration": 48,
    "start_time": "2025-06-25T13:22:39.935Z"
   },
   {
    "duration": 78,
    "start_time": "2025-06-25T13:22:39.985Z"
   },
   {
    "duration": 26,
    "start_time": "2025-06-25T13:22:40.065Z"
   },
   {
    "duration": 13,
    "start_time": "2025-06-25T13:22:40.092Z"
   },
   {
    "duration": 240,
    "start_time": "2025-06-25T13:22:40.107Z"
   },
   {
    "duration": 214,
    "start_time": "2025-06-25T13:22:40.349Z"
   },
   {
    "duration": 51,
    "start_time": "2025-06-25T13:22:40.565Z"
   },
   {
    "duration": 15,
    "start_time": "2025-06-25T13:22:40.617Z"
   },
   {
    "duration": 59,
    "start_time": "2025-06-25T13:22:40.634Z"
   },
   {
    "duration": 15,
    "start_time": "2025-06-25T13:22:40.695Z"
   },
   {
    "duration": 323,
    "start_time": "2025-06-25T13:22:40.712Z"
   },
   {
    "duration": 436,
    "start_time": "2025-06-25T13:22:41.036Z"
   },
   {
    "duration": 306,
    "start_time": "2025-06-25T13:22:41.474Z"
   },
   {
    "duration": 12,
    "start_time": "2025-06-25T13:22:41.782Z"
   },
   {
    "duration": 21,
    "start_time": "2025-06-25T13:23:21.743Z"
   },
   {
    "duration": 22,
    "start_time": "2025-06-25T13:25:08.005Z"
   },
   {
    "duration": 104,
    "start_time": "2025-06-25T13:25:38.799Z"
   },
   {
    "duration": 25,
    "start_time": "2025-06-25T13:31:58.735Z"
   },
   {
    "duration": 26,
    "start_time": "2025-06-25T13:32:15.742Z"
   },
   {
    "duration": 79,
    "start_time": "2025-06-25T13:37:00.147Z"
   },
   {
    "duration": 1311,
    "start_time": "2025-06-25T13:37:20.440Z"
   },
   {
    "duration": 115,
    "start_time": "2025-06-25T13:38:14.937Z"
   },
   {
    "duration": 4447,
    "start_time": "2025-06-25T13:40:07.895Z"
   },
   {
    "duration": 1266,
    "start_time": "2025-06-25T14:42:32.177Z"
   },
   {
    "duration": 4202,
    "start_time": "2025-06-25T14:42:33.445Z"
   },
   {
    "duration": 28,
    "start_time": "2025-06-25T14:42:37.649Z"
   },
   {
    "duration": 105,
    "start_time": "2025-06-25T14:42:37.679Z"
   },
   {
    "duration": 13,
    "start_time": "2025-06-25T14:42:37.787Z"
   },
   {
    "duration": 21,
    "start_time": "2025-06-25T14:42:37.802Z"
   },
   {
    "duration": 18,
    "start_time": "2025-06-25T14:42:37.825Z"
   },
   {
    "duration": 59,
    "start_time": "2025-06-25T14:42:37.845Z"
   },
   {
    "duration": 8,
    "start_time": "2025-06-25T14:42:37.906Z"
   },
   {
    "duration": 21,
    "start_time": "2025-06-25T14:42:37.917Z"
   },
   {
    "duration": 8,
    "start_time": "2025-06-25T14:42:37.940Z"
   },
   {
    "duration": 61,
    "start_time": "2025-06-25T14:42:37.950Z"
   },
   {
    "duration": 11,
    "start_time": "2025-06-25T14:42:38.012Z"
   },
   {
    "duration": 95,
    "start_time": "2025-06-25T14:42:38.025Z"
   },
   {
    "duration": 33,
    "start_time": "2025-06-25T14:42:38.122Z"
   },
   {
    "duration": 40,
    "start_time": "2025-06-25T14:42:38.157Z"
   },
   {
    "duration": 20,
    "start_time": "2025-06-25T14:42:38.199Z"
   },
   {
    "duration": 160,
    "start_time": "2025-06-25T14:42:38.220Z"
   },
   {
    "duration": 338,
    "start_time": "2025-06-25T14:42:59.195Z"
   },
   {
    "duration": 62,
    "start_time": "2025-06-25T14:43:24.779Z"
   },
   {
    "duration": 12,
    "start_time": "2025-06-25T14:45:13.981Z"
   },
   {
    "duration": 256,
    "start_time": "2025-06-25T15:09:00.963Z"
   },
   {
    "duration": 72,
    "start_time": "2025-06-25T15:09:24.090Z"
   },
   {
    "duration": 106,
    "start_time": "2025-06-25T15:24:40.951Z"
   },
   {
    "duration": 3234,
    "start_time": "2025-06-25T15:24:59.534Z"
   },
   {
    "duration": 6,
    "start_time": "2025-06-25T15:25:08.744Z"
   },
   {
    "duration": 1912,
    "start_time": "2025-06-25T15:26:11.915Z"
   },
   {
    "duration": 1471,
    "start_time": "2025-06-25T15:26:53.209Z"
   },
   {
    "duration": 23,
    "start_time": "2025-06-25T15:48:17.954Z"
   },
   {
    "duration": 3,
    "start_time": "2025-06-25T15:48:32.393Z"
   },
   {
    "duration": 24,
    "start_time": "2025-06-25T15:48:32.397Z"
   },
   {
    "duration": 2268,
    "start_time": "2025-06-25T15:48:32.423Z"
   },
   {
    "duration": 26,
    "start_time": "2025-06-25T15:48:34.692Z"
   },
   {
    "duration": 221,
    "start_time": "2025-06-25T15:48:34.720Z"
   },
   {
    "duration": 8,
    "start_time": "2025-06-25T15:48:34.942Z"
   },
   {
    "duration": 17,
    "start_time": "2025-06-25T15:48:34.952Z"
   },
   {
    "duration": 30,
    "start_time": "2025-06-25T15:48:34.970Z"
   },
   {
    "duration": 60,
    "start_time": "2025-06-25T15:48:35.001Z"
   },
   {
    "duration": 7,
    "start_time": "2025-06-25T15:48:35.063Z"
   },
   {
    "duration": 36,
    "start_time": "2025-06-25T15:48:35.072Z"
   },
   {
    "duration": 16,
    "start_time": "2025-06-25T15:48:35.109Z"
   },
   {
    "duration": 33,
    "start_time": "2025-06-25T15:48:35.127Z"
   },
   {
    "duration": 9,
    "start_time": "2025-06-25T15:48:35.162Z"
   },
   {
    "duration": 21,
    "start_time": "2025-06-25T15:48:35.172Z"
   },
   {
    "duration": 34,
    "start_time": "2025-06-25T15:48:35.197Z"
   },
   {
    "duration": 45,
    "start_time": "2025-06-25T15:48:35.232Z"
   },
   {
    "duration": 41,
    "start_time": "2025-06-25T15:48:35.279Z"
   },
   {
    "duration": 139,
    "start_time": "2025-06-25T15:48:35.322Z"
   },
   {
    "duration": 357,
    "start_time": "2025-06-25T15:48:35.463Z"
   },
   {
    "duration": 57,
    "start_time": "2025-06-25T15:48:35.822Z"
   },
   {
    "duration": 65,
    "start_time": "2025-06-25T15:48:35.899Z"
   },
   {
    "duration": 107,
    "start_time": "2025-06-25T15:48:35.966Z"
   },
   {
    "duration": 1386,
    "start_time": "2025-06-25T15:48:36.074Z"
   },
   {
    "duration": 6,
    "start_time": "2025-06-25T15:48:37.462Z"
   },
   {
    "duration": 19,
    "start_time": "2025-06-25T15:48:37.470Z"
   },
   {
    "duration": 121,
    "start_time": "2025-06-25T15:48:37.490Z"
   },
   {
    "duration": 63,
    "start_time": "2025-06-25T15:48:37.612Z"
   },
   {
    "duration": 8,
    "start_time": "2025-06-25T15:48:37.678Z"
   },
   {
    "duration": 38,
    "start_time": "2025-06-25T15:48:37.698Z"
   },
   {
    "duration": 62,
    "start_time": "2025-06-25T15:48:37.738Z"
   },
   {
    "duration": 12,
    "start_time": "2025-06-25T15:48:37.801Z"
   },
   {
    "duration": 11,
    "start_time": "2025-06-25T15:48:37.815Z"
   },
   {
    "duration": 289,
    "start_time": "2025-06-25T15:48:37.827Z"
   },
   {
    "duration": 7,
    "start_time": "2025-06-25T15:48:38.118Z"
   },
   {
    "duration": 29,
    "start_time": "2025-06-25T15:48:38.126Z"
   },
   {
    "duration": 180,
    "start_time": "2025-06-25T15:48:38.157Z"
   },
   {
    "duration": 40,
    "start_time": "2025-06-25T15:48:38.339Z"
   },
   {
    "duration": 39,
    "start_time": "2025-06-25T15:48:38.381Z"
   },
   {
    "duration": 12,
    "start_time": "2025-06-25T15:48:38.422Z"
   },
   {
    "duration": 19,
    "start_time": "2025-06-25T15:48:38.436Z"
   },
   {
    "duration": 56,
    "start_time": "2025-06-25T15:48:38.457Z"
   },
   {
    "duration": 6,
    "start_time": "2025-06-25T15:48:38.515Z"
   },
   {
    "duration": 14,
    "start_time": "2025-06-25T15:48:38.522Z"
   },
   {
    "duration": 24,
    "start_time": "2025-06-25T15:48:38.537Z"
   },
   {
    "duration": 57,
    "start_time": "2025-06-25T15:48:38.563Z"
   },
   {
    "duration": 12,
    "start_time": "2025-06-25T15:48:38.622Z"
   },
   {
    "duration": 51,
    "start_time": "2025-06-25T15:48:38.635Z"
   },
   {
    "duration": 7,
    "start_time": "2025-06-25T15:48:38.688Z"
   },
   {
    "duration": 6,
    "start_time": "2025-06-25T15:48:38.697Z"
   },
   {
    "duration": 84,
    "start_time": "2025-06-25T15:48:38.705Z"
   },
   {
    "duration": 25,
    "start_time": "2025-06-25T15:48:38.791Z"
   },
   {
    "duration": 8,
    "start_time": "2025-06-25T15:48:38.817Z"
   },
   {
    "duration": 12,
    "start_time": "2025-06-25T15:48:38.826Z"
   },
   {
    "duration": 27,
    "start_time": "2025-06-25T15:51:51.188Z"
   },
   {
    "duration": 1269,
    "start_time": "2025-06-25T15:53:15.360Z"
   },
   {
    "duration": 159,
    "start_time": "2025-06-25T15:53:26.446Z"
   },
   {
    "duration": 173,
    "start_time": "2025-06-25T15:56:46.219Z"
   },
   {
    "duration": 133,
    "start_time": "2025-06-25T15:59:40.084Z"
   },
   {
    "duration": 115,
    "start_time": "2025-06-25T16:51:25.111Z"
   },
   {
    "duration": 117,
    "start_time": "2025-06-25T16:52:16.938Z"
   },
   {
    "duration": 14,
    "start_time": "2025-06-25T16:53:05.936Z"
   },
   {
    "duration": 782,
    "start_time": "2025-06-25T16:53:56.081Z"
   },
   {
    "duration": 3,
    "start_time": "2025-06-25T16:55:53.224Z"
   },
   {
    "duration": 11,
    "start_time": "2025-06-25T16:56:07.586Z"
   },
   {
    "duration": 200,
    "start_time": "2025-06-25T16:56:16.266Z"
   },
   {
    "duration": 214,
    "start_time": "2025-06-25T16:56:48.520Z"
   },
   {
    "duration": 73,
    "start_time": "2025-06-25T16:58:06.774Z"
   },
   {
    "duration": 201,
    "start_time": "2025-06-25T16:58:11.281Z"
   },
   {
    "duration": 313,
    "start_time": "2025-06-25T17:01:39.626Z"
   },
   {
    "duration": 211,
    "start_time": "2025-06-25T17:02:16.515Z"
   },
   {
    "duration": 221,
    "start_time": "2025-06-25T17:06:03.295Z"
   },
   {
    "duration": 209,
    "start_time": "2025-06-25T17:09:19.923Z"
   },
   {
    "duration": 220,
    "start_time": "2025-06-25T17:09:28.939Z"
   },
   {
    "duration": 215,
    "start_time": "2025-06-25T17:09:45.200Z"
   },
   {
    "duration": 222,
    "start_time": "2025-06-25T17:10:33.414Z"
   },
   {
    "duration": 256,
    "start_time": "2025-06-25T17:10:36.492Z"
   },
   {
    "duration": 11,
    "start_time": "2025-06-25T17:11:41.716Z"
   },
   {
    "duration": 216,
    "start_time": "2025-06-25T17:12:23.618Z"
   },
   {
    "duration": 234,
    "start_time": "2025-06-25T17:12:48.581Z"
   },
   {
    "duration": 213,
    "start_time": "2025-06-25T17:12:53.198Z"
   },
   {
    "duration": 332,
    "start_time": "2025-06-25T17:13:21.466Z"
   },
   {
    "duration": 217,
    "start_time": "2025-06-25T17:14:00.653Z"
   },
   {
    "duration": 211,
    "start_time": "2025-06-25T17:14:04.868Z"
   },
   {
    "duration": 230,
    "start_time": "2025-06-25T17:18:02.958Z"
   },
   {
    "duration": 28,
    "start_time": "2025-06-25T17:19:01.768Z"
   },
   {
    "duration": 200,
    "start_time": "2025-06-25T17:19:08.287Z"
   },
   {
    "duration": 25,
    "start_time": "2025-06-25T17:19:19.560Z"
   },
   {
    "duration": 204,
    "start_time": "2025-06-25T17:19:23.667Z"
   },
   {
    "duration": 121,
    "start_time": "2025-06-25T17:20:37.512Z"
   },
   {
    "duration": 223,
    "start_time": "2025-06-25T17:21:45.357Z"
   },
   {
    "duration": 5,
    "start_time": "2025-06-25T17:22:29.666Z"
   },
   {
    "duration": 6,
    "start_time": "2025-06-25T17:22:47.739Z"
   },
   {
    "duration": 10,
    "start_time": "2025-06-25T17:22:51.971Z"
   },
   {
    "duration": 5,
    "start_time": "2025-06-25T17:25:32.479Z"
   },
   {
    "duration": 1232,
    "start_time": "2025-06-25T17:25:32.486Z"
   },
   {
    "duration": 2372,
    "start_time": "2025-06-25T17:25:33.719Z"
   },
   {
    "duration": 28,
    "start_time": "2025-06-25T17:25:36.093Z"
   },
   {
    "duration": 116,
    "start_time": "2025-06-25T17:25:36.122Z"
   },
   {
    "duration": 8,
    "start_time": "2025-06-25T17:25:36.239Z"
   },
   {
    "duration": 46,
    "start_time": "2025-06-25T17:25:36.249Z"
   },
   {
    "duration": 43,
    "start_time": "2025-06-25T17:25:36.297Z"
   },
   {
    "duration": 47,
    "start_time": "2025-06-25T17:25:36.342Z"
   },
   {
    "duration": 7,
    "start_time": "2025-06-25T17:25:36.391Z"
   },
   {
    "duration": 67,
    "start_time": "2025-06-25T17:25:36.400Z"
   },
   {
    "duration": 30,
    "start_time": "2025-06-25T17:25:36.469Z"
   },
   {
    "duration": 59,
    "start_time": "2025-06-25T17:25:36.500Z"
   },
   {
    "duration": 10,
    "start_time": "2025-06-25T17:25:36.561Z"
   },
   {
    "duration": 49,
    "start_time": "2025-06-25T17:25:36.572Z"
   },
   {
    "duration": 23,
    "start_time": "2025-06-25T17:25:36.623Z"
   },
   {
    "duration": 50,
    "start_time": "2025-06-25T17:25:36.647Z"
   },
   {
    "duration": 20,
    "start_time": "2025-06-25T17:25:36.699Z"
   },
   {
    "duration": 142,
    "start_time": "2025-06-25T17:25:36.721Z"
   },
   {
    "duration": 369,
    "start_time": "2025-06-25T17:25:36.864Z"
   },
   {
    "duration": 81,
    "start_time": "2025-06-25T17:25:37.234Z"
   },
   {
    "duration": 52,
    "start_time": "2025-06-25T17:25:37.317Z"
   },
   {
    "duration": 106,
    "start_time": "2025-06-25T17:25:37.371Z"
   },
   {
    "duration": 1466,
    "start_time": "2025-06-25T17:25:37.481Z"
   },
   {
    "duration": 6,
    "start_time": "2025-06-25T17:25:38.949Z"
   },
   {
    "duration": 86,
    "start_time": "2025-06-25T17:25:38.957Z"
   },
   {
    "duration": 29,
    "start_time": "2025-06-25T17:25:39.044Z"
   },
   {
    "duration": 67,
    "start_time": "2025-06-25T17:25:39.075Z"
   },
   {
    "duration": 8,
    "start_time": "2025-06-25T17:25:39.143Z"
   },
   {
    "duration": 61,
    "start_time": "2025-06-25T17:25:39.152Z"
   },
   {
    "duration": 100,
    "start_time": "2025-06-25T17:25:39.215Z"
   },
   {
    "duration": 11,
    "start_time": "2025-06-25T17:25:39.316Z"
   },
   {
    "duration": 14,
    "start_time": "2025-06-25T17:25:39.329Z"
   },
   {
    "duration": 318,
    "start_time": "2025-06-25T17:25:39.345Z"
   },
   {
    "duration": 9,
    "start_time": "2025-06-25T17:25:39.665Z"
   },
   {
    "duration": 90,
    "start_time": "2025-06-25T17:25:39.676Z"
   },
   {
    "duration": 171,
    "start_time": "2025-06-25T17:25:39.769Z"
   },
   {
    "duration": 40,
    "start_time": "2025-06-25T17:25:39.942Z"
   },
   {
    "duration": 27,
    "start_time": "2025-06-25T17:25:39.984Z"
   },
   {
    "duration": 19,
    "start_time": "2025-06-25T17:25:40.013Z"
   },
   {
    "duration": 30,
    "start_time": "2025-06-25T17:25:40.034Z"
   },
   {
    "duration": 60,
    "start_time": "2025-06-25T17:25:40.067Z"
   },
   {
    "duration": 7,
    "start_time": "2025-06-25T17:25:40.129Z"
   },
   {
    "duration": 23,
    "start_time": "2025-06-25T17:25:40.138Z"
   },
   {
    "duration": 43,
    "start_time": "2025-06-25T17:25:40.163Z"
   },
   {
    "duration": 32,
    "start_time": "2025-06-25T17:25:40.208Z"
   },
   {
    "duration": 13,
    "start_time": "2025-06-25T17:25:40.242Z"
   },
   {
    "duration": 6,
    "start_time": "2025-06-25T17:25:40.257Z"
   },
   {
    "duration": 42,
    "start_time": "2025-06-25T17:25:40.265Z"
   },
   {
    "duration": 6,
    "start_time": "2025-06-25T17:25:40.309Z"
   },
   {
    "duration": 14,
    "start_time": "2025-06-25T17:25:40.317Z"
   },
   {
    "duration": 8,
    "start_time": "2025-06-25T17:25:40.332Z"
   },
   {
    "duration": 6,
    "start_time": "2025-06-25T17:25:40.342Z"
   },
   {
    "duration": 11,
    "start_time": "2025-06-25T17:25:40.350Z"
   },
   {
    "duration": 64,
    "start_time": "2025-06-25T17:25:40.362Z"
   },
   {
    "duration": 189,
    "start_time": "2025-06-25T17:25:40.428Z"
   },
   {
    "duration": 12,
    "start_time": "2025-06-25T17:25:48.397Z"
   },
   {
    "duration": 237,
    "start_time": "2025-06-25T17:25:58.797Z"
   },
   {
    "duration": 218,
    "start_time": "2025-06-25T17:26:29.246Z"
   },
   {
    "duration": 5,
    "start_time": "2025-06-25T17:26:47.826Z"
   },
   {
    "duration": 240,
    "start_time": "2025-06-25T17:28:11.914Z"
   },
   {
    "duration": 5,
    "start_time": "2025-06-25T17:28:17.476Z"
   },
   {
    "duration": 9,
    "start_time": "2025-06-25T17:28:19.935Z"
   },
   {
    "duration": 217,
    "start_time": "2025-06-25T17:28:31.175Z"
   },
   {
    "duration": 10,
    "start_time": "2025-06-25T17:28:35.085Z"
   },
   {
    "duration": 4,
    "start_time": "2025-06-25T17:29:05.736Z"
   },
   {
    "duration": 1201,
    "start_time": "2025-06-25T17:29:05.741Z"
   },
   {
    "duration": 2651,
    "start_time": "2025-06-25T17:29:06.943Z"
   },
   {
    "duration": 34,
    "start_time": "2025-06-25T17:29:09.597Z"
   },
   {
    "duration": 121,
    "start_time": "2025-06-25T17:29:09.632Z"
   },
   {
    "duration": 9,
    "start_time": "2025-06-25T17:29:09.755Z"
   },
   {
    "duration": 23,
    "start_time": "2025-06-25T17:29:09.765Z"
   },
   {
    "duration": 26,
    "start_time": "2025-06-25T17:29:09.790Z"
   },
   {
    "duration": 41,
    "start_time": "2025-06-25T17:29:09.819Z"
   },
   {
    "duration": 7,
    "start_time": "2025-06-25T17:29:09.861Z"
   },
   {
    "duration": 47,
    "start_time": "2025-06-25T17:29:09.870Z"
   },
   {
    "duration": 61,
    "start_time": "2025-06-25T17:29:09.919Z"
   },
   {
    "duration": 41,
    "start_time": "2025-06-25T17:29:09.981Z"
   },
   {
    "duration": 10,
    "start_time": "2025-06-25T17:29:10.023Z"
   },
   {
    "duration": 21,
    "start_time": "2025-06-25T17:29:10.035Z"
   },
   {
    "duration": 47,
    "start_time": "2025-06-25T17:29:10.058Z"
   },
   {
    "duration": 14,
    "start_time": "2025-06-25T17:29:10.108Z"
   },
   {
    "duration": 3,
    "start_time": "2025-06-25T17:29:10.124Z"
   },
   {
    "duration": 154,
    "start_time": "2025-06-25T17:29:10.128Z"
   },
   {
    "duration": 430,
    "start_time": "2025-06-25T17:29:10.284Z"
   },
   {
    "duration": 58,
    "start_time": "2025-06-25T17:29:10.716Z"
   },
   {
    "duration": 79,
    "start_time": "2025-06-25T17:29:10.775Z"
   },
   {
    "duration": 103,
    "start_time": "2025-06-25T17:29:10.856Z"
   },
   {
    "duration": 1615,
    "start_time": "2025-06-25T17:29:10.964Z"
   },
   {
    "duration": 6,
    "start_time": "2025-06-25T17:29:12.581Z"
   },
   {
    "duration": 10,
    "start_time": "2025-06-25T17:29:12.589Z"
   },
   {
    "duration": 44,
    "start_time": "2025-06-25T17:29:12.601Z"
   },
   {
    "duration": 67,
    "start_time": "2025-06-25T17:29:12.647Z"
   },
   {
    "duration": 8,
    "start_time": "2025-06-25T17:29:12.716Z"
   },
   {
    "duration": 45,
    "start_time": "2025-06-25T17:29:12.726Z"
   },
   {
    "duration": 72,
    "start_time": "2025-06-25T17:29:12.773Z"
   },
   {
    "duration": 24,
    "start_time": "2025-06-25T17:29:12.847Z"
   },
   {
    "duration": 13,
    "start_time": "2025-06-25T17:29:12.873Z"
   },
   {
    "duration": 345,
    "start_time": "2025-06-25T17:29:12.887Z"
   },
   {
    "duration": 8,
    "start_time": "2025-06-25T17:29:13.234Z"
   },
   {
    "duration": 84,
    "start_time": "2025-06-25T17:29:13.243Z"
   },
   {
    "duration": 186,
    "start_time": "2025-06-25T17:29:13.329Z"
   },
   {
    "duration": 39,
    "start_time": "2025-06-25T17:29:13.517Z"
   },
   {
    "duration": 12,
    "start_time": "2025-06-25T17:29:13.558Z"
   },
   {
    "duration": 41,
    "start_time": "2025-06-25T17:29:13.572Z"
   },
   {
    "duration": 19,
    "start_time": "2025-06-25T17:29:13.614Z"
   },
   {
    "duration": 38,
    "start_time": "2025-06-25T17:29:13.634Z"
   },
   {
    "duration": 27,
    "start_time": "2025-06-25T17:29:13.673Z"
   },
   {
    "duration": 54,
    "start_time": "2025-06-25T17:29:13.702Z"
   },
   {
    "duration": 24,
    "start_time": "2025-06-25T17:29:13.757Z"
   },
   {
    "duration": 39,
    "start_time": "2025-06-25T17:29:13.782Z"
   },
   {
    "duration": 12,
    "start_time": "2025-06-25T17:29:13.823Z"
   },
   {
    "duration": 6,
    "start_time": "2025-06-25T17:29:13.837Z"
   },
   {
    "duration": 9,
    "start_time": "2025-06-25T17:29:13.844Z"
   },
   {
    "duration": 5,
    "start_time": "2025-06-25T17:29:13.855Z"
   },
   {
    "duration": 42,
    "start_time": "2025-06-25T17:29:13.862Z"
   },
   {
    "duration": 82,
    "start_time": "2025-06-25T17:29:13.906Z"
   },
   {
    "duration": 23,
    "start_time": "2025-06-25T17:29:13.989Z"
   },
   {
    "duration": 11,
    "start_time": "2025-06-25T17:29:14.014Z"
   },
   {
    "duration": 31,
    "start_time": "2025-06-25T17:29:14.026Z"
   },
   {
    "duration": 198,
    "start_time": "2025-06-25T17:29:14.058Z"
   },
   {
    "duration": 3,
    "start_time": "2025-06-25T17:29:37.682Z"
   },
   {
    "duration": 59,
    "start_time": "2025-06-25T17:29:37.689Z"
   },
   {
    "duration": 1722,
    "start_time": "2025-06-25T17:29:37.749Z"
   },
   {
    "duration": 23,
    "start_time": "2025-06-25T17:29:39.473Z"
   },
   {
    "duration": 108,
    "start_time": "2025-06-25T17:29:39.497Z"
   },
   {
    "duration": 8,
    "start_time": "2025-06-25T17:29:39.607Z"
   },
   {
    "duration": 41,
    "start_time": "2025-06-25T17:29:39.617Z"
   },
   {
    "duration": 103,
    "start_time": "2025-06-25T17:29:39.659Z"
   },
   {
    "duration": 43,
    "start_time": "2025-06-25T17:29:39.763Z"
   },
   {
    "duration": 8,
    "start_time": "2025-06-25T17:29:39.807Z"
   },
   {
    "duration": 18,
    "start_time": "2025-06-25T17:29:39.816Z"
   },
   {
    "duration": 7,
    "start_time": "2025-06-25T17:29:39.836Z"
   },
   {
    "duration": 22,
    "start_time": "2025-06-25T17:29:39.844Z"
   },
   {
    "duration": 34,
    "start_time": "2025-06-25T17:29:39.868Z"
   },
   {
    "duration": 72,
    "start_time": "2025-06-25T17:29:39.904Z"
   },
   {
    "duration": 7,
    "start_time": "2025-06-25T17:29:39.977Z"
   },
   {
    "duration": 8,
    "start_time": "2025-06-25T17:29:39.986Z"
   },
   {
    "duration": 3,
    "start_time": "2025-06-25T17:29:39.996Z"
   },
   {
    "duration": 116,
    "start_time": "2025-06-25T17:29:40.001Z"
   },
   {
    "duration": 354,
    "start_time": "2025-06-25T17:29:40.119Z"
   },
   {
    "duration": 77,
    "start_time": "2025-06-25T17:29:40.474Z"
   },
   {
    "duration": 71,
    "start_time": "2025-06-25T17:29:40.552Z"
   },
   {
    "duration": 99,
    "start_time": "2025-06-25T17:29:40.625Z"
   },
   {
    "duration": 1381,
    "start_time": "2025-06-25T17:29:40.726Z"
   },
   {
    "duration": 4,
    "start_time": "2025-06-25T17:29:42.109Z"
   },
   {
    "duration": 6,
    "start_time": "2025-06-25T17:29:42.115Z"
   },
   {
    "duration": 18,
    "start_time": "2025-06-25T17:29:42.122Z"
   },
   {
    "duration": 82,
    "start_time": "2025-06-25T17:29:42.141Z"
   },
   {
    "duration": 8,
    "start_time": "2025-06-25T17:29:42.225Z"
   },
   {
    "duration": 40,
    "start_time": "2025-06-25T17:29:42.234Z"
   },
   {
    "duration": 63,
    "start_time": "2025-06-25T17:29:42.275Z"
   },
   {
    "duration": 13,
    "start_time": "2025-06-25T17:29:42.339Z"
   },
   {
    "duration": 13,
    "start_time": "2025-06-25T17:29:42.354Z"
   },
   {
    "duration": 310,
    "start_time": "2025-06-25T17:29:42.368Z"
   },
   {
    "duration": 8,
    "start_time": "2025-06-25T17:29:42.679Z"
   },
   {
    "duration": 30,
    "start_time": "2025-06-25T17:29:42.698Z"
   },
   {
    "duration": 152,
    "start_time": "2025-06-25T17:29:42.729Z"
   },
   {
    "duration": 44,
    "start_time": "2025-06-25T17:29:42.883Z"
   },
   {
    "duration": 13,
    "start_time": "2025-06-25T17:29:42.929Z"
   },
   {
    "duration": 15,
    "start_time": "2025-06-25T17:29:42.944Z"
   },
   {
    "duration": 44,
    "start_time": "2025-06-25T17:29:42.962Z"
   },
   {
    "duration": 106,
    "start_time": "2025-06-25T17:29:43.011Z"
   },
   {
    "duration": 7,
    "start_time": "2025-06-25T17:29:43.119Z"
   },
   {
    "duration": 14,
    "start_time": "2025-06-25T17:29:43.127Z"
   },
   {
    "duration": 28,
    "start_time": "2025-06-25T17:29:43.143Z"
   },
   {
    "duration": 32,
    "start_time": "2025-06-25T17:29:43.199Z"
   },
   {
    "duration": 61,
    "start_time": "2025-06-25T17:29:43.233Z"
   },
   {
    "duration": 6,
    "start_time": "2025-06-25T17:29:43.296Z"
   },
   {
    "duration": 7,
    "start_time": "2025-06-25T17:29:43.303Z"
   },
   {
    "duration": 10,
    "start_time": "2025-06-25T17:29:43.311Z"
   },
   {
    "duration": 12,
    "start_time": "2025-06-25T17:29:43.322Z"
   },
   {
    "duration": 23,
    "start_time": "2025-06-25T17:29:43.335Z"
   },
   {
    "duration": 30,
    "start_time": "2025-06-25T17:29:43.360Z"
   },
   {
    "duration": 20,
    "start_time": "2025-06-25T17:29:43.391Z"
   },
   {
    "duration": 52,
    "start_time": "2025-06-25T17:29:43.413Z"
   },
   {
    "duration": 5,
    "start_time": "2025-06-25T17:29:52.285Z"
   },
   {
    "duration": 8,
    "start_time": "2025-06-25T17:29:54.855Z"
   },
   {
    "duration": 216,
    "start_time": "2025-06-25T17:30:02.786Z"
   },
   {
    "duration": 5,
    "start_time": "2025-06-25T17:30:12.486Z"
   },
   {
    "duration": 315,
    "start_time": "2025-06-25T17:38:02.362Z"
   },
   {
    "duration": 210,
    "start_time": "2025-06-25T17:38:12.024Z"
   },
   {
    "duration": 362,
    "start_time": "2025-06-25T17:38:30.079Z"
   },
   {
    "duration": 4,
    "start_time": "2025-06-25T17:42:56.558Z"
   },
   {
    "duration": 9,
    "start_time": "2025-06-25T17:43:38.717Z"
   },
   {
    "duration": 5,
    "start_time": "2025-06-25T17:54:05.594Z"
   },
   {
    "duration": 7,
    "start_time": "2025-06-25T17:54:07.540Z"
   },
   {
    "duration": 3,
    "start_time": "2025-06-25T17:54:23.444Z"
   },
   {
    "duration": 3,
    "start_time": "2025-06-25T17:54:23.450Z"
   },
   {
    "duration": 2545,
    "start_time": "2025-06-25T17:54:23.454Z"
   },
   {
    "duration": 25,
    "start_time": "2025-06-25T17:54:26.001Z"
   },
   {
    "duration": 147,
    "start_time": "2025-06-25T17:54:26.028Z"
   },
   {
    "duration": 8,
    "start_time": "2025-06-25T17:54:26.178Z"
   },
   {
    "duration": 18,
    "start_time": "2025-06-25T17:54:26.187Z"
   },
   {
    "duration": 13,
    "start_time": "2025-06-25T17:54:26.207Z"
   },
   {
    "duration": 39,
    "start_time": "2025-06-25T17:54:26.221Z"
   },
   {
    "duration": 7,
    "start_time": "2025-06-25T17:54:26.262Z"
   },
   {
    "duration": 44,
    "start_time": "2025-06-25T17:54:26.271Z"
   },
   {
    "duration": 7,
    "start_time": "2025-06-25T17:54:26.318Z"
   },
   {
    "duration": 23,
    "start_time": "2025-06-25T17:54:26.326Z"
   },
   {
    "duration": 9,
    "start_time": "2025-06-25T17:54:26.350Z"
   },
   {
    "duration": 37,
    "start_time": "2025-06-25T17:54:26.361Z"
   },
   {
    "duration": 7,
    "start_time": "2025-06-25T17:54:26.400Z"
   },
   {
    "duration": 14,
    "start_time": "2025-06-25T17:54:26.409Z"
   },
   {
    "duration": 2,
    "start_time": "2025-06-25T17:54:26.425Z"
   },
   {
    "duration": 125,
    "start_time": "2025-06-25T17:54:26.429Z"
   },
   {
    "duration": 365,
    "start_time": "2025-06-25T17:54:26.556Z"
   },
   {
    "duration": 75,
    "start_time": "2025-06-25T17:54:26.923Z"
   },
   {
    "duration": 56,
    "start_time": "2025-06-25T17:54:27.000Z"
   },
   {
    "duration": 103,
    "start_time": "2025-06-25T17:54:27.058Z"
   },
   {
    "duration": 1483,
    "start_time": "2025-06-25T17:54:27.163Z"
   },
   {
    "duration": 5,
    "start_time": "2025-06-25T17:54:28.648Z"
   },
   {
    "duration": 5,
    "start_time": "2025-06-25T17:54:28.654Z"
   },
   {
    "duration": 38,
    "start_time": "2025-06-25T17:54:28.660Z"
   },
   {
    "duration": 71,
    "start_time": "2025-06-25T17:54:28.700Z"
   },
   {
    "duration": 7,
    "start_time": "2025-06-25T17:54:28.773Z"
   },
   {
    "duration": 44,
    "start_time": "2025-06-25T17:54:28.801Z"
   },
   {
    "duration": 64,
    "start_time": "2025-06-25T17:54:28.846Z"
   },
   {
    "duration": 30,
    "start_time": "2025-06-25T17:54:28.912Z"
   },
   {
    "duration": 13,
    "start_time": "2025-06-25T17:54:28.944Z"
   },
   {
    "duration": 302,
    "start_time": "2025-06-25T17:54:28.959Z"
   },
   {
    "duration": 8,
    "start_time": "2025-06-25T17:54:29.262Z"
   },
   {
    "duration": 50,
    "start_time": "2025-06-25T17:54:29.271Z"
   },
   {
    "duration": 160,
    "start_time": "2025-06-25T17:54:29.323Z"
   },
   {
    "duration": 41,
    "start_time": "2025-06-25T17:54:29.485Z"
   },
   {
    "duration": 12,
    "start_time": "2025-06-25T17:54:29.528Z"
   },
   {
    "duration": 14,
    "start_time": "2025-06-25T17:54:29.541Z"
   },
   {
    "duration": 44,
    "start_time": "2025-06-25T17:54:29.556Z"
   },
   {
    "duration": 42,
    "start_time": "2025-06-25T17:54:29.602Z"
   },
   {
    "duration": 6,
    "start_time": "2025-06-25T17:54:29.645Z"
   },
   {
    "duration": 17,
    "start_time": "2025-06-25T17:54:29.653Z"
   },
   {
    "duration": 47,
    "start_time": "2025-06-25T17:54:29.672Z"
   },
   {
    "duration": 29,
    "start_time": "2025-06-25T17:54:29.721Z"
   },
   {
    "duration": 78,
    "start_time": "2025-06-25T17:54:29.752Z"
   },
   {
    "duration": 6,
    "start_time": "2025-06-25T17:54:29.832Z"
   },
   {
    "duration": 17,
    "start_time": "2025-06-25T17:54:29.839Z"
   },
   {
    "duration": 5,
    "start_time": "2025-06-25T17:54:29.858Z"
   },
   {
    "duration": 10,
    "start_time": "2025-06-25T17:54:29.865Z"
   },
   {
    "duration": 6,
    "start_time": "2025-06-25T17:54:29.877Z"
   },
   {
    "duration": 16,
    "start_time": "2025-06-25T17:54:29.885Z"
   },
   {
    "duration": 11,
    "start_time": "2025-06-25T17:54:29.902Z"
   },
   {
    "duration": 43,
    "start_time": "2025-06-25T17:54:29.915Z"
   },
   {
    "duration": 168,
    "start_time": "2025-06-25T17:54:29.960Z"
   },
   {
    "duration": 210,
    "start_time": "2025-06-25T17:54:30.130Z"
   },
   {
    "duration": 4,
    "start_time": "2025-06-25T17:56:49.605Z"
   },
   {
    "duration": 1205,
    "start_time": "2025-06-25T17:56:49.610Z"
   },
   {
    "duration": 2910,
    "start_time": "2025-06-25T17:56:50.817Z"
   },
   {
    "duration": 27,
    "start_time": "2025-06-25T17:56:53.729Z"
   },
   {
    "duration": 136,
    "start_time": "2025-06-25T17:56:53.758Z"
   },
   {
    "duration": 9,
    "start_time": "2025-06-25T17:56:53.895Z"
   },
   {
    "duration": 14,
    "start_time": "2025-06-25T17:56:53.906Z"
   },
   {
    "duration": 13,
    "start_time": "2025-06-25T17:56:53.921Z"
   },
   {
    "duration": 64,
    "start_time": "2025-06-25T17:56:53.936Z"
   },
   {
    "duration": 7,
    "start_time": "2025-06-25T17:56:54.004Z"
   },
   {
    "duration": 46,
    "start_time": "2025-06-25T17:56:54.012Z"
   },
   {
    "duration": 8,
    "start_time": "2025-06-25T17:56:54.060Z"
   },
   {
    "duration": 29,
    "start_time": "2025-06-25T17:56:54.070Z"
   },
   {
    "duration": 12,
    "start_time": "2025-06-25T17:56:54.101Z"
   },
   {
    "duration": 31,
    "start_time": "2025-06-25T17:56:54.114Z"
   },
   {
    "duration": 8,
    "start_time": "2025-06-25T17:56:54.147Z"
   },
   {
    "duration": 25,
    "start_time": "2025-06-25T17:56:54.157Z"
   },
   {
    "duration": 8,
    "start_time": "2025-06-25T17:56:54.183Z"
   },
   {
    "duration": 135,
    "start_time": "2025-06-25T17:56:54.193Z"
   },
   {
    "duration": 377,
    "start_time": "2025-06-25T17:56:54.330Z"
   },
   {
    "duration": 56,
    "start_time": "2025-06-25T17:56:54.709Z"
   },
   {
    "duration": 100,
    "start_time": "2025-06-25T17:56:54.767Z"
   },
   {
    "duration": 106,
    "start_time": "2025-06-25T17:56:54.869Z"
   },
   {
    "duration": 1502,
    "start_time": "2025-06-25T17:56:54.977Z"
   },
   {
    "duration": 5,
    "start_time": "2025-06-25T17:56:56.481Z"
   },
   {
    "duration": 4,
    "start_time": "2025-06-25T17:56:56.487Z"
   },
   {
    "duration": 21,
    "start_time": "2025-06-25T17:56:56.492Z"
   },
   {
    "duration": 64,
    "start_time": "2025-06-25T17:56:56.517Z"
   },
   {
    "duration": 8,
    "start_time": "2025-06-25T17:56:56.599Z"
   },
   {
    "duration": 42,
    "start_time": "2025-06-25T17:56:56.609Z"
   },
   {
    "duration": 71,
    "start_time": "2025-06-25T17:56:56.653Z"
   },
   {
    "duration": 12,
    "start_time": "2025-06-25T17:56:56.726Z"
   },
   {
    "duration": 29,
    "start_time": "2025-06-25T17:56:56.740Z"
   },
   {
    "duration": 333,
    "start_time": "2025-06-25T17:56:56.771Z"
   },
   {
    "duration": 7,
    "start_time": "2025-06-25T17:56:57.106Z"
   },
   {
    "duration": 107,
    "start_time": "2025-06-25T17:56:57.114Z"
   },
   {
    "duration": 171,
    "start_time": "2025-06-25T17:56:57.222Z"
   },
   {
    "duration": 39,
    "start_time": "2025-06-25T17:56:57.395Z"
   },
   {
    "duration": 13,
    "start_time": "2025-06-25T17:56:57.436Z"
   },
   {
    "duration": 14,
    "start_time": "2025-06-25T17:56:57.450Z"
   },
   {
    "duration": 49,
    "start_time": "2025-06-25T17:56:57.466Z"
   },
   {
    "duration": 42,
    "start_time": "2025-06-25T17:56:57.516Z"
   },
   {
    "duration": 5,
    "start_time": "2025-06-25T17:56:57.559Z"
   },
   {
    "duration": 50,
    "start_time": "2025-06-25T17:56:57.566Z"
   },
   {
    "duration": 25,
    "start_time": "2025-06-25T17:56:57.618Z"
   },
   {
    "duration": 30,
    "start_time": "2025-06-25T17:56:57.645Z"
   },
   {
    "duration": 29,
    "start_time": "2025-06-25T17:56:57.676Z"
   },
   {
    "duration": 8,
    "start_time": "2025-06-25T17:56:57.707Z"
   },
   {
    "duration": 8,
    "start_time": "2025-06-25T17:56:57.716Z"
   },
   {
    "duration": 4,
    "start_time": "2025-06-25T17:56:57.726Z"
   },
   {
    "duration": 95,
    "start_time": "2025-06-25T17:56:57.732Z"
   },
   {
    "duration": 7,
    "start_time": "2025-06-25T17:56:57.829Z"
   },
   {
    "duration": 9,
    "start_time": "2025-06-25T17:56:57.837Z"
   },
   {
    "duration": 36,
    "start_time": "2025-06-25T17:56:57.848Z"
   },
   {
    "duration": 35,
    "start_time": "2025-06-25T17:56:57.886Z"
   },
   {
    "duration": 167,
    "start_time": "2025-06-25T17:57:12.090Z"
   },
   {
    "duration": 235,
    "start_time": "2025-06-25T17:57:15.811Z"
   },
   {
    "duration": 4,
    "start_time": "2025-06-25T17:57:18.715Z"
   },
   {
    "duration": 6,
    "start_time": "2025-06-25T17:57:29.803Z"
   },
   {
    "duration": 8,
    "start_time": "2025-06-25T17:57:31.761Z"
   },
   {
    "duration": 213,
    "start_time": "2025-06-25T17:57:35.128Z"
   },
   {
    "duration": 7,
    "start_time": "2025-06-25T17:57:42.124Z"
   },
   {
    "duration": 4,
    "start_time": "2025-06-25T18:02:29.445Z"
   },
   {
    "duration": 1300,
    "start_time": "2025-06-25T18:02:29.451Z"
   },
   {
    "duration": 2234,
    "start_time": "2025-06-25T18:02:30.753Z"
   },
   {
    "duration": 36,
    "start_time": "2025-06-25T18:02:32.988Z"
   },
   {
    "duration": 115,
    "start_time": "2025-06-25T18:02:33.026Z"
   },
   {
    "duration": 8,
    "start_time": "2025-06-25T18:02:33.142Z"
   },
   {
    "duration": 100,
    "start_time": "2025-06-25T18:02:33.152Z"
   },
   {
    "duration": 25,
    "start_time": "2025-06-25T18:02:33.254Z"
   },
   {
    "duration": 53,
    "start_time": "2025-06-25T18:02:33.281Z"
   },
   {
    "duration": 87,
    "start_time": "2025-06-25T18:02:33.335Z"
   },
   {
    "duration": 41,
    "start_time": "2025-06-25T18:02:33.425Z"
   },
   {
    "duration": 18,
    "start_time": "2025-06-25T18:02:33.468Z"
   },
   {
    "duration": 43,
    "start_time": "2025-06-25T18:02:33.489Z"
   },
   {
    "duration": 30,
    "start_time": "2025-06-25T18:02:33.533Z"
   },
   {
    "duration": 22,
    "start_time": "2025-06-25T18:02:33.565Z"
   },
   {
    "duration": 7,
    "start_time": "2025-06-25T18:02:33.588Z"
   },
   {
    "duration": 13,
    "start_time": "2025-06-25T18:02:33.596Z"
   },
   {
    "duration": 5,
    "start_time": "2025-06-25T18:02:33.610Z"
   },
   {
    "duration": 141,
    "start_time": "2025-06-25T18:02:33.616Z"
   },
   {
    "duration": 376,
    "start_time": "2025-06-25T18:02:33.759Z"
   },
   {
    "duration": 84,
    "start_time": "2025-06-25T18:02:34.137Z"
   },
   {
    "duration": 61,
    "start_time": "2025-06-25T18:02:34.222Z"
   },
   {
    "duration": 116,
    "start_time": "2025-06-25T18:02:34.285Z"
   },
   {
    "duration": 1617,
    "start_time": "2025-06-25T18:02:34.402Z"
   },
   {
    "duration": 5,
    "start_time": "2025-06-25T18:02:36.022Z"
   },
   {
    "duration": 113,
    "start_time": "2025-06-25T18:02:36.029Z"
   },
   {
    "duration": 63,
    "start_time": "2025-06-25T18:02:36.144Z"
   },
   {
    "duration": 80,
    "start_time": "2025-06-25T18:02:36.209Z"
   },
   {
    "duration": 15,
    "start_time": "2025-06-25T18:02:36.293Z"
   },
   {
    "duration": 55,
    "start_time": "2025-06-25T18:02:36.310Z"
   },
   {
    "duration": 74,
    "start_time": "2025-06-25T18:02:36.367Z"
   },
   {
    "duration": 28,
    "start_time": "2025-06-25T18:02:36.443Z"
   },
   {
    "duration": 27,
    "start_time": "2025-06-25T18:02:36.473Z"
   },
   {
    "duration": 392,
    "start_time": "2025-06-25T18:02:36.502Z"
   },
   {
    "duration": 11,
    "start_time": "2025-06-25T18:02:36.899Z"
   },
   {
    "duration": 76,
    "start_time": "2025-06-25T18:02:36.913Z"
   },
   {
    "duration": 166,
    "start_time": "2025-06-25T18:02:36.990Z"
   },
   {
    "duration": 45,
    "start_time": "2025-06-25T18:02:37.158Z"
   },
   {
    "duration": 46,
    "start_time": "2025-06-25T18:02:37.205Z"
   },
   {
    "duration": 14,
    "start_time": "2025-06-25T18:02:37.253Z"
   },
   {
    "duration": 27,
    "start_time": "2025-06-25T18:02:37.269Z"
   },
   {
    "duration": 42,
    "start_time": "2025-06-25T18:02:37.298Z"
   },
   {
    "duration": 83,
    "start_time": "2025-06-25T18:02:37.341Z"
   },
   {
    "duration": 28,
    "start_time": "2025-06-25T18:02:37.426Z"
   },
   {
    "duration": 36,
    "start_time": "2025-06-25T18:02:37.455Z"
   },
   {
    "duration": 45,
    "start_time": "2025-06-25T18:02:37.493Z"
   },
   {
    "duration": 11,
    "start_time": "2025-06-25T18:02:37.540Z"
   },
   {
    "duration": 5,
    "start_time": "2025-06-25T18:02:37.553Z"
   },
   {
    "duration": 9,
    "start_time": "2025-06-25T18:02:37.559Z"
   },
   {
    "duration": 31,
    "start_time": "2025-06-25T18:02:37.569Z"
   },
   {
    "duration": 15,
    "start_time": "2025-06-25T18:02:37.602Z"
   },
   {
    "duration": 22,
    "start_time": "2025-06-25T18:02:37.618Z"
   },
   {
    "duration": 54,
    "start_time": "2025-06-25T18:02:37.642Z"
   },
   {
    "duration": 51,
    "start_time": "2025-06-25T18:02:37.697Z"
   },
   {
    "duration": 121,
    "start_time": "2025-06-25T18:02:37.749Z"
   },
   {
    "duration": 193,
    "start_time": "2025-06-25T18:02:37.871Z"
   },
   {
    "duration": 6,
    "start_time": "2025-06-25T18:02:38.066Z"
   },
   {
    "duration": 216,
    "start_time": "2025-06-25T18:02:42.344Z"
   },
   {
    "duration": 4,
    "start_time": "2025-06-25T18:03:09.530Z"
   },
   {
    "duration": 1159,
    "start_time": "2025-06-25T18:03:09.539Z"
   },
   {
    "duration": 1899,
    "start_time": "2025-06-25T18:03:10.700Z"
   },
   {
    "duration": 28,
    "start_time": "2025-06-25T18:03:12.600Z"
   },
   {
    "duration": 118,
    "start_time": "2025-06-25T18:03:12.629Z"
   },
   {
    "duration": 8,
    "start_time": "2025-06-25T18:03:12.749Z"
   },
   {
    "duration": 12,
    "start_time": "2025-06-25T18:03:12.758Z"
   },
   {
    "duration": 29,
    "start_time": "2025-06-25T18:03:12.772Z"
   },
   {
    "duration": 40,
    "start_time": "2025-06-25T18:03:12.802Z"
   },
   {
    "duration": 8,
    "start_time": "2025-06-25T18:03:12.843Z"
   },
   {
    "duration": 67,
    "start_time": "2025-06-25T18:03:12.853Z"
   },
   {
    "duration": 47,
    "start_time": "2025-06-25T18:03:12.922Z"
   },
   {
    "duration": 32,
    "start_time": "2025-06-25T18:03:12.971Z"
   },
   {
    "duration": 23,
    "start_time": "2025-06-25T18:03:13.004Z"
   },
   {
    "duration": 26,
    "start_time": "2025-06-25T18:03:13.030Z"
   },
   {
    "duration": 7,
    "start_time": "2025-06-25T18:03:13.058Z"
   },
   {
    "duration": 21,
    "start_time": "2025-06-25T18:03:13.066Z"
   },
   {
    "duration": 5,
    "start_time": "2025-06-25T18:03:13.089Z"
   },
   {
    "duration": 133,
    "start_time": "2025-06-25T18:03:13.095Z"
   },
   {
    "duration": 377,
    "start_time": "2025-06-25T18:03:13.230Z"
   },
   {
    "duration": 59,
    "start_time": "2025-06-25T18:03:13.608Z"
   },
   {
    "duration": 77,
    "start_time": "2025-06-25T18:03:13.669Z"
   },
   {
    "duration": 106,
    "start_time": "2025-06-25T18:03:13.748Z"
   },
   {
    "duration": 1579,
    "start_time": "2025-06-25T18:03:13.856Z"
   },
   {
    "duration": 4,
    "start_time": "2025-06-25T18:03:15.437Z"
   },
   {
    "duration": 59,
    "start_time": "2025-06-25T18:03:15.443Z"
   },
   {
    "duration": 86,
    "start_time": "2025-06-25T18:03:15.504Z"
   },
   {
    "duration": 78,
    "start_time": "2025-06-25T18:03:15.592Z"
   },
   {
    "duration": 7,
    "start_time": "2025-06-25T18:03:15.672Z"
   },
   {
    "duration": 71,
    "start_time": "2025-06-25T18:03:15.680Z"
   },
   {
    "duration": 52,
    "start_time": "2025-06-25T18:03:15.753Z"
   },
   {
    "duration": 65,
    "start_time": "2025-06-25T18:03:15.806Z"
   },
   {
    "duration": 15,
    "start_time": "2025-06-25T18:03:15.873Z"
   },
   {
    "duration": 347,
    "start_time": "2025-06-25T18:03:15.890Z"
   },
   {
    "duration": 8,
    "start_time": "2025-06-25T18:03:16.238Z"
   },
   {
    "duration": 111,
    "start_time": "2025-06-25T18:03:16.248Z"
   },
   {
    "duration": 165,
    "start_time": "2025-06-25T18:03:16.361Z"
   },
   {
    "duration": 37,
    "start_time": "2025-06-25T18:03:16.527Z"
   },
   {
    "duration": 12,
    "start_time": "2025-06-25T18:03:16.565Z"
   },
   {
    "duration": 39,
    "start_time": "2025-06-25T18:03:16.579Z"
   },
   {
    "duration": 20,
    "start_time": "2025-06-25T18:03:16.619Z"
   },
   {
    "duration": 39,
    "start_time": "2025-06-25T18:03:16.643Z"
   },
   {
    "duration": 20,
    "start_time": "2025-06-25T18:03:16.683Z"
   },
   {
    "duration": 32,
    "start_time": "2025-06-25T18:03:16.704Z"
   },
   {
    "duration": 24,
    "start_time": "2025-06-25T18:03:16.738Z"
   },
   {
    "duration": 36,
    "start_time": "2025-06-25T18:03:16.763Z"
   },
   {
    "duration": 12,
    "start_time": "2025-06-25T18:03:16.801Z"
   },
   {
    "duration": 13,
    "start_time": "2025-06-25T18:03:16.815Z"
   },
   {
    "duration": 21,
    "start_time": "2025-06-25T18:03:16.829Z"
   },
   {
    "duration": 91,
    "start_time": "2025-06-25T18:03:16.852Z"
   },
   {
    "duration": 36,
    "start_time": "2025-06-25T18:03:16.944Z"
   },
   {
    "duration": 35,
    "start_time": "2025-06-25T18:03:16.982Z"
   },
   {
    "duration": 8,
    "start_time": "2025-06-25T18:03:17.019Z"
   },
   {
    "duration": 39,
    "start_time": "2025-06-25T18:03:17.028Z"
   },
   {
    "duration": 46,
    "start_time": "2025-06-25T18:03:17.069Z"
   },
   {
    "duration": 185,
    "start_time": "2025-06-25T18:03:17.116Z"
   },
   {
    "duration": 4,
    "start_time": "2025-06-25T18:03:17.302Z"
   },
   {
    "duration": 2,
    "start_time": "2025-06-25T18:03:26.266Z"
   },
   {
    "duration": 6,
    "start_time": "2025-06-25T18:03:26.270Z"
   },
   {
    "duration": 2552,
    "start_time": "2025-06-25T18:03:26.277Z"
   },
   {
    "duration": 23,
    "start_time": "2025-06-25T18:03:28.831Z"
   },
   {
    "duration": 133,
    "start_time": "2025-06-25T18:03:28.856Z"
   },
   {
    "duration": 13,
    "start_time": "2025-06-25T18:03:28.991Z"
   },
   {
    "duration": 15,
    "start_time": "2025-06-25T18:03:29.006Z"
   },
   {
    "duration": 17,
    "start_time": "2025-06-25T18:03:29.022Z"
   },
   {
    "duration": 57,
    "start_time": "2025-06-25T18:03:29.041Z"
   },
   {
    "duration": 8,
    "start_time": "2025-06-25T18:03:29.101Z"
   },
   {
    "duration": 22,
    "start_time": "2025-06-25T18:03:29.111Z"
   },
   {
    "duration": 108,
    "start_time": "2025-06-25T18:03:29.134Z"
   },
   {
    "duration": 36,
    "start_time": "2025-06-25T18:03:29.244Z"
   },
   {
    "duration": 11,
    "start_time": "2025-06-25T18:03:29.282Z"
   },
   {
    "duration": 16,
    "start_time": "2025-06-25T18:03:29.295Z"
   },
   {
    "duration": 7,
    "start_time": "2025-06-25T18:03:29.313Z"
   },
   {
    "duration": 115,
    "start_time": "2025-06-25T18:03:29.322Z"
   },
   {
    "duration": 4,
    "start_time": "2025-06-25T18:03:29.439Z"
   },
   {
    "duration": 118,
    "start_time": "2025-06-25T18:03:29.445Z"
   },
   {
    "duration": 367,
    "start_time": "2025-06-25T18:03:29.564Z"
   },
   {
    "duration": 78,
    "start_time": "2025-06-25T18:03:29.933Z"
   },
   {
    "duration": 55,
    "start_time": "2025-06-25T18:03:30.013Z"
   },
   {
    "duration": 223,
    "start_time": "2025-06-25T18:03:30.070Z"
   },
   {
    "duration": 1426,
    "start_time": "2025-06-25T18:03:30.295Z"
   },
   {
    "duration": 5,
    "start_time": "2025-06-25T18:03:31.725Z"
   },
   {
    "duration": 19,
    "start_time": "2025-06-25T18:03:31.731Z"
   },
   {
    "duration": 130,
    "start_time": "2025-06-25T18:03:31.752Z"
   },
   {
    "duration": 74,
    "start_time": "2025-06-25T18:03:31.883Z"
   },
   {
    "duration": 8,
    "start_time": "2025-06-25T18:03:31.958Z"
   },
   {
    "duration": 68,
    "start_time": "2025-06-25T18:03:31.968Z"
   },
   {
    "duration": 117,
    "start_time": "2025-06-25T18:03:32.037Z"
   },
   {
    "duration": 21,
    "start_time": "2025-06-25T18:03:32.156Z"
   },
   {
    "duration": 26,
    "start_time": "2025-06-25T18:03:32.179Z"
   },
   {
    "duration": 335,
    "start_time": "2025-06-25T18:03:32.206Z"
   },
   {
    "duration": 8,
    "start_time": "2025-06-25T18:03:32.542Z"
   },
   {
    "duration": 47,
    "start_time": "2025-06-25T18:03:32.552Z"
   },
   {
    "duration": 171,
    "start_time": "2025-06-25T18:03:32.601Z"
   },
   {
    "duration": 49,
    "start_time": "2025-06-25T18:03:32.774Z"
   },
   {
    "duration": 13,
    "start_time": "2025-06-25T18:03:32.825Z"
   },
   {
    "duration": 28,
    "start_time": "2025-06-25T18:03:32.839Z"
   },
   {
    "duration": 100,
    "start_time": "2025-06-25T18:03:32.869Z"
   },
   {
    "duration": 45,
    "start_time": "2025-06-25T18:03:32.971Z"
   },
   {
    "duration": 17,
    "start_time": "2025-06-25T18:03:33.018Z"
   },
   {
    "duration": 18,
    "start_time": "2025-06-25T18:03:33.037Z"
   },
   {
    "duration": 25,
    "start_time": "2025-06-25T18:03:33.057Z"
   },
   {
    "duration": 42,
    "start_time": "2025-06-25T18:03:33.084Z"
   },
   {
    "duration": 13,
    "start_time": "2025-06-25T18:03:33.127Z"
   },
   {
    "duration": 175,
    "start_time": "2025-06-25T18:03:33.142Z"
   },
   {
    "duration": 114,
    "start_time": "2025-06-25T18:03:33.318Z"
   },
   {
    "duration": 5,
    "start_time": "2025-06-25T18:03:33.434Z"
   },
   {
    "duration": 15,
    "start_time": "2025-06-25T18:03:33.441Z"
   },
   {
    "duration": 19,
    "start_time": "2025-06-25T18:03:33.458Z"
   },
   {
    "duration": 27,
    "start_time": "2025-06-25T18:03:33.479Z"
   },
   {
    "duration": 17,
    "start_time": "2025-06-25T18:03:33.508Z"
   },
   {
    "duration": 38,
    "start_time": "2025-06-25T18:03:33.527Z"
   },
   {
    "duration": 168,
    "start_time": "2025-06-25T18:03:33.566Z"
   },
   {
    "duration": 4,
    "start_time": "2025-06-25T18:03:33.735Z"
   },
   {
    "duration": 5,
    "start_time": "2025-06-25T18:03:40.493Z"
   },
   {
    "duration": 289,
    "start_time": "2025-06-25T18:03:41.607Z"
   },
   {
    "duration": 8,
    "start_time": "2025-06-25T18:04:00.280Z"
   },
   {
    "duration": 3,
    "start_time": "2025-06-25T18:04:34.271Z"
   },
   {
    "duration": 1244,
    "start_time": "2025-06-25T18:04:34.279Z"
   },
   {
    "duration": 2026,
    "start_time": "2025-06-25T18:04:35.525Z"
   },
   {
    "duration": 27,
    "start_time": "2025-06-25T18:04:37.553Z"
   },
   {
    "duration": 100,
    "start_time": "2025-06-25T18:04:37.581Z"
   },
   {
    "duration": 17,
    "start_time": "2025-06-25T18:04:37.683Z"
   },
   {
    "duration": 21,
    "start_time": "2025-06-25T18:04:37.702Z"
   },
   {
    "duration": 22,
    "start_time": "2025-06-25T18:04:37.725Z"
   },
   {
    "duration": 90,
    "start_time": "2025-06-25T18:04:37.749Z"
   },
   {
    "duration": 19,
    "start_time": "2025-06-25T18:04:37.841Z"
   },
   {
    "duration": 43,
    "start_time": "2025-06-25T18:04:37.862Z"
   },
   {
    "duration": 9,
    "start_time": "2025-06-25T18:04:37.907Z"
   },
   {
    "duration": 45,
    "start_time": "2025-06-25T18:04:37.918Z"
   },
   {
    "duration": 11,
    "start_time": "2025-06-25T18:04:37.965Z"
   },
   {
    "duration": 31,
    "start_time": "2025-06-25T18:04:37.980Z"
   },
   {
    "duration": 75,
    "start_time": "2025-06-25T18:04:38.013Z"
   },
   {
    "duration": 47,
    "start_time": "2025-06-25T18:04:38.090Z"
   },
   {
    "duration": 5,
    "start_time": "2025-06-25T18:04:38.139Z"
   },
   {
    "duration": 132,
    "start_time": "2025-06-25T18:04:38.145Z"
   },
   {
    "duration": 374,
    "start_time": "2025-06-25T18:04:38.278Z"
   },
   {
    "duration": 93,
    "start_time": "2025-06-25T18:04:38.654Z"
   },
   {
    "duration": 74,
    "start_time": "2025-06-25T18:04:38.750Z"
   },
   {
    "duration": 105,
    "start_time": "2025-06-25T18:04:38.826Z"
   },
   {
    "duration": 1534,
    "start_time": "2025-06-25T18:04:38.933Z"
   },
   {
    "duration": 5,
    "start_time": "2025-06-25T18:04:40.469Z"
   },
   {
    "duration": 8,
    "start_time": "2025-06-25T18:04:40.475Z"
   },
   {
    "duration": 21,
    "start_time": "2025-06-25T18:04:40.485Z"
   },
   {
    "duration": 64,
    "start_time": "2025-06-25T18:04:40.508Z"
   },
   {
    "duration": 7,
    "start_time": "2025-06-25T18:04:40.574Z"
   },
   {
    "duration": 47,
    "start_time": "2025-06-25T18:04:40.599Z"
   },
   {
    "duration": 68,
    "start_time": "2025-06-25T18:04:40.648Z"
   },
   {
    "duration": 15,
    "start_time": "2025-06-25T18:04:40.717Z"
   },
   {
    "duration": 19,
    "start_time": "2025-06-25T18:04:40.734Z"
   },
   {
    "duration": 337,
    "start_time": "2025-06-25T18:04:40.755Z"
   },
   {
    "duration": 8,
    "start_time": "2025-06-25T18:04:41.097Z"
   },
   {
    "duration": 63,
    "start_time": "2025-06-25T18:04:41.106Z"
   },
   {
    "duration": 238,
    "start_time": "2025-06-25T18:04:41.170Z"
   },
   {
    "duration": 37,
    "start_time": "2025-06-25T18:04:41.409Z"
   },
   {
    "duration": 10,
    "start_time": "2025-06-25T18:04:41.448Z"
   },
   {
    "duration": 19,
    "start_time": "2025-06-25T18:04:41.460Z"
   },
   {
    "duration": 19,
    "start_time": "2025-06-25T18:04:41.499Z"
   },
   {
    "duration": 46,
    "start_time": "2025-06-25T18:04:41.522Z"
   },
   {
    "duration": 5,
    "start_time": "2025-06-25T18:04:41.569Z"
   },
   {
    "duration": 14,
    "start_time": "2025-06-25T18:04:41.598Z"
   },
   {
    "duration": 23,
    "start_time": "2025-06-25T18:04:41.614Z"
   },
   {
    "duration": 30,
    "start_time": "2025-06-25T18:04:41.638Z"
   },
   {
    "duration": 38,
    "start_time": "2025-06-25T18:04:41.669Z"
   },
   {
    "duration": 5,
    "start_time": "2025-06-25T18:04:41.709Z"
   },
   {
    "duration": 15,
    "start_time": "2025-06-25T18:04:41.715Z"
   },
   {
    "duration": 6,
    "start_time": "2025-06-25T18:04:41.731Z"
   },
   {
    "duration": 9,
    "start_time": "2025-06-25T18:04:41.738Z"
   },
   {
    "duration": 7,
    "start_time": "2025-06-25T18:04:41.749Z"
   },
   {
    "duration": 7,
    "start_time": "2025-06-25T18:04:41.757Z"
   },
   {
    "duration": 39,
    "start_time": "2025-06-25T18:04:41.766Z"
   },
   {
    "duration": 95,
    "start_time": "2025-06-25T18:04:41.807Z"
   },
   {
    "duration": 174,
    "start_time": "2025-06-25T18:04:41.904Z"
   },
   {
    "duration": 3,
    "start_time": "2025-06-25T18:04:42.080Z"
   },
   {
    "duration": 7,
    "start_time": "2025-06-25T18:04:48.064Z"
   },
   {
    "duration": 4,
    "start_time": "2025-06-25T18:05:38.295Z"
   },
   {
    "duration": 1235,
    "start_time": "2025-06-25T18:05:38.303Z"
   },
   {
    "duration": 2467,
    "start_time": "2025-06-25T18:05:39.540Z"
   },
   {
    "duration": 29,
    "start_time": "2025-06-25T18:05:42.009Z"
   },
   {
    "duration": 168,
    "start_time": "2025-06-25T18:05:42.040Z"
   },
   {
    "duration": 8,
    "start_time": "2025-06-25T18:05:42.210Z"
   },
   {
    "duration": 10,
    "start_time": "2025-06-25T18:05:42.220Z"
   },
   {
    "duration": 13,
    "start_time": "2025-06-25T18:05:42.232Z"
   },
   {
    "duration": 66,
    "start_time": "2025-06-25T18:05:42.247Z"
   },
   {
    "duration": 9,
    "start_time": "2025-06-25T18:05:42.314Z"
   },
   {
    "duration": 27,
    "start_time": "2025-06-25T18:05:42.324Z"
   },
   {
    "duration": 32,
    "start_time": "2025-06-25T18:05:42.353Z"
   },
   {
    "duration": 38,
    "start_time": "2025-06-25T18:05:42.386Z"
   },
   {
    "duration": 12,
    "start_time": "2025-06-25T18:05:42.426Z"
   },
   {
    "duration": 24,
    "start_time": "2025-06-25T18:05:42.441Z"
   },
   {
    "duration": 8,
    "start_time": "2025-06-25T18:05:42.467Z"
   },
   {
    "duration": 25,
    "start_time": "2025-06-25T18:05:42.478Z"
   },
   {
    "duration": 3,
    "start_time": "2025-06-25T18:05:42.504Z"
   },
   {
    "duration": 135,
    "start_time": "2025-06-25T18:05:42.509Z"
   },
   {
    "duration": 372,
    "start_time": "2025-06-25T18:05:42.646Z"
   },
   {
    "duration": 79,
    "start_time": "2025-06-25T18:05:43.020Z"
   },
   {
    "duration": 58,
    "start_time": "2025-06-25T18:05:43.100Z"
   },
   {
    "duration": 110,
    "start_time": "2025-06-25T18:05:43.159Z"
   },
   {
    "duration": 1488,
    "start_time": "2025-06-25T18:05:43.271Z"
   },
   {
    "duration": 5,
    "start_time": "2025-06-25T18:05:44.761Z"
   },
   {
    "duration": 23,
    "start_time": "2025-06-25T18:05:44.767Z"
   },
   {
    "duration": 36,
    "start_time": "2025-06-25T18:05:44.793Z"
   },
   {
    "duration": 75,
    "start_time": "2025-06-25T18:05:44.830Z"
   },
   {
    "duration": 9,
    "start_time": "2025-06-25T18:05:44.907Z"
   },
   {
    "duration": 97,
    "start_time": "2025-06-25T18:05:44.918Z"
   },
   {
    "duration": 53,
    "start_time": "2025-06-25T18:05:45.017Z"
   },
   {
    "duration": 44,
    "start_time": "2025-06-25T18:05:45.072Z"
   },
   {
    "duration": 185,
    "start_time": "2025-06-25T18:05:45.118Z"
   },
   {
    "duration": 351,
    "start_time": "2025-06-25T18:05:45.305Z"
   },
   {
    "duration": 7,
    "start_time": "2025-06-25T18:05:45.658Z"
   },
   {
    "duration": 46,
    "start_time": "2025-06-25T18:05:45.667Z"
   },
   {
    "duration": 184,
    "start_time": "2025-06-25T18:05:45.715Z"
   },
   {
    "duration": 42,
    "start_time": "2025-06-25T18:05:45.901Z"
   },
   {
    "duration": 18,
    "start_time": "2025-06-25T18:05:45.945Z"
   },
   {
    "duration": 37,
    "start_time": "2025-06-25T18:05:45.965Z"
   },
   {
    "duration": 19,
    "start_time": "2025-06-25T18:05:46.004Z"
   },
   {
    "duration": 38,
    "start_time": "2025-06-25T18:05:46.027Z"
   },
   {
    "duration": 73,
    "start_time": "2025-06-25T18:05:46.066Z"
   },
   {
    "duration": 30,
    "start_time": "2025-06-25T18:05:46.141Z"
   },
   {
    "duration": 23,
    "start_time": "2025-06-25T18:05:46.173Z"
   },
   {
    "duration": 29,
    "start_time": "2025-06-25T18:05:46.198Z"
   },
   {
    "duration": 12,
    "start_time": "2025-06-25T18:05:46.229Z"
   },
   {
    "duration": 5,
    "start_time": "2025-06-25T18:05:46.242Z"
   },
   {
    "duration": 33,
    "start_time": "2025-06-25T18:05:46.248Z"
   },
   {
    "duration": 5,
    "start_time": "2025-06-25T18:05:46.283Z"
   },
   {
    "duration": 16,
    "start_time": "2025-06-25T18:05:46.298Z"
   },
   {
    "duration": 9,
    "start_time": "2025-06-25T18:05:46.316Z"
   },
   {
    "duration": 15,
    "start_time": "2025-06-25T18:05:46.327Z"
   },
   {
    "duration": 20,
    "start_time": "2025-06-25T18:05:46.343Z"
   },
   {
    "duration": 40,
    "start_time": "2025-06-25T18:05:46.365Z"
   },
   {
    "duration": 175,
    "start_time": "2025-06-25T18:05:46.407Z"
   },
   {
    "duration": 16,
    "start_time": "2025-06-25T18:05:46.584Z"
   },
   {
    "duration": 7,
    "start_time": "2025-06-25T18:05:46.602Z"
   },
   {
    "duration": 3,
    "start_time": "2025-06-25T18:07:26.557Z"
   },
   {
    "duration": 1143,
    "start_time": "2025-06-25T18:07:26.562Z"
   },
   {
    "duration": 2380,
    "start_time": "2025-06-25T18:07:27.707Z"
   },
   {
    "duration": 29,
    "start_time": "2025-06-25T18:07:30.089Z"
   },
   {
    "duration": 160,
    "start_time": "2025-06-25T18:07:30.120Z"
   },
   {
    "duration": 9,
    "start_time": "2025-06-25T18:07:30.281Z"
   },
   {
    "duration": 33,
    "start_time": "2025-06-25T18:07:30.291Z"
   },
   {
    "duration": 87,
    "start_time": "2025-06-25T18:07:30.326Z"
   },
   {
    "duration": 66,
    "start_time": "2025-06-25T18:07:30.416Z"
   },
   {
    "duration": 10,
    "start_time": "2025-06-25T18:07:30.484Z"
   },
   {
    "duration": 63,
    "start_time": "2025-06-25T18:07:30.495Z"
   },
   {
    "duration": 23,
    "start_time": "2025-06-25T18:07:30.560Z"
   },
   {
    "duration": 45,
    "start_time": "2025-06-25T18:07:30.585Z"
   },
   {
    "duration": 19,
    "start_time": "2025-06-25T18:07:30.632Z"
   },
   {
    "duration": 30,
    "start_time": "2025-06-25T18:07:30.653Z"
   },
   {
    "duration": 15,
    "start_time": "2025-06-25T18:07:30.685Z"
   },
   {
    "duration": 17,
    "start_time": "2025-06-25T18:07:30.702Z"
   },
   {
    "duration": 3,
    "start_time": "2025-06-25T18:07:30.722Z"
   },
   {
    "duration": 142,
    "start_time": "2025-06-25T18:07:30.727Z"
   },
   {
    "duration": 368,
    "start_time": "2025-06-25T18:07:30.871Z"
   },
   {
    "duration": 82,
    "start_time": "2025-06-25T18:07:31.241Z"
   },
   {
    "duration": 56,
    "start_time": "2025-06-25T18:07:31.325Z"
   },
   {
    "duration": 118,
    "start_time": "2025-06-25T18:07:31.383Z"
   },
   {
    "duration": 1513,
    "start_time": "2025-06-25T18:07:31.506Z"
   },
   {
    "duration": 6,
    "start_time": "2025-06-25T18:07:33.021Z"
   },
   {
    "duration": 15,
    "start_time": "2025-06-25T18:07:33.029Z"
   },
   {
    "duration": 24,
    "start_time": "2025-06-25T18:07:33.045Z"
   },
   {
    "duration": 68,
    "start_time": "2025-06-25T18:07:33.070Z"
   },
   {
    "duration": 9,
    "start_time": "2025-06-25T18:07:33.140Z"
   },
   {
    "duration": 76,
    "start_time": "2025-06-25T18:07:33.151Z"
   },
   {
    "duration": 97,
    "start_time": "2025-06-25T18:07:33.229Z"
   },
   {
    "duration": 30,
    "start_time": "2025-06-25T18:07:33.328Z"
   },
   {
    "duration": 109,
    "start_time": "2025-06-25T18:07:33.360Z"
   },
   {
    "duration": 315,
    "start_time": "2025-06-25T18:07:33.471Z"
   },
   {
    "duration": 16,
    "start_time": "2025-06-25T18:07:33.788Z"
   },
   {
    "duration": 120,
    "start_time": "2025-06-25T18:07:33.806Z"
   },
   {
    "duration": 177,
    "start_time": "2025-06-25T18:07:33.928Z"
   },
   {
    "duration": 36,
    "start_time": "2025-06-25T18:07:34.108Z"
   },
   {
    "duration": 63,
    "start_time": "2025-06-25T18:07:34.146Z"
   },
   {
    "duration": 14,
    "start_time": "2025-06-25T18:07:34.211Z"
   },
   {
    "duration": 19,
    "start_time": "2025-06-25T18:07:34.226Z"
   },
   {
    "duration": 62,
    "start_time": "2025-06-25T18:07:34.246Z"
   },
   {
    "duration": 5,
    "start_time": "2025-06-25T18:07:34.310Z"
   },
   {
    "duration": 43,
    "start_time": "2025-06-25T18:07:34.316Z"
   },
   {
    "duration": 26,
    "start_time": "2025-06-25T18:07:34.361Z"
   },
   {
    "duration": 31,
    "start_time": "2025-06-25T18:07:34.388Z"
   },
   {
    "duration": 14,
    "start_time": "2025-06-25T18:07:34.421Z"
   },
   {
    "duration": 13,
    "start_time": "2025-06-25T18:07:34.437Z"
   },
   {
    "duration": 25,
    "start_time": "2025-06-25T18:07:34.451Z"
   },
   {
    "duration": 14,
    "start_time": "2025-06-25T18:07:34.478Z"
   },
   {
    "duration": 43,
    "start_time": "2025-06-25T18:07:34.494Z"
   },
   {
    "duration": 12,
    "start_time": "2025-06-25T18:07:34.539Z"
   },
   {
    "duration": 5,
    "start_time": "2025-06-25T18:07:34.553Z"
   },
   {
    "duration": 34,
    "start_time": "2025-06-25T18:07:34.560Z"
   },
   {
    "duration": 32,
    "start_time": "2025-06-25T18:07:34.596Z"
   },
   {
    "duration": 195,
    "start_time": "2025-06-25T18:07:34.630Z"
   },
   {
    "duration": 8,
    "start_time": "2025-06-25T18:07:34.827Z"
   },
   {
    "duration": 12,
    "start_time": "2025-06-25T18:07:34.837Z"
   },
   {
    "duration": 9,
    "start_time": "2025-06-25T18:07:34.850Z"
   },
   {
    "duration": 8,
    "start_time": "2025-06-25T18:13:56.552Z"
   },
   {
    "duration": 4,
    "start_time": "2025-06-25T18:15:33.943Z"
   },
   {
    "duration": 1169,
    "start_time": "2025-06-25T18:15:33.950Z"
   },
   {
    "duration": 2700,
    "start_time": "2025-06-25T18:15:35.121Z"
   },
   {
    "duration": 27,
    "start_time": "2025-06-25T18:15:37.822Z"
   },
   {
    "duration": 155,
    "start_time": "2025-06-25T18:15:37.851Z"
   },
   {
    "duration": 7,
    "start_time": "2025-06-25T18:15:38.009Z"
   },
   {
    "duration": 21,
    "start_time": "2025-06-25T18:15:38.018Z"
   },
   {
    "duration": 15,
    "start_time": "2025-06-25T18:15:38.041Z"
   },
   {
    "duration": 58,
    "start_time": "2025-06-25T18:15:38.058Z"
   },
   {
    "duration": 42,
    "start_time": "2025-06-25T18:15:38.118Z"
   },
   {
    "duration": 24,
    "start_time": "2025-06-25T18:15:38.161Z"
   },
   {
    "duration": 10,
    "start_time": "2025-06-25T18:15:38.187Z"
   },
   {
    "duration": 42,
    "start_time": "2025-06-25T18:15:38.199Z"
   },
   {
    "duration": 9,
    "start_time": "2025-06-25T18:15:38.243Z"
   },
   {
    "duration": 15,
    "start_time": "2025-06-25T18:15:38.255Z"
   },
   {
    "duration": 43,
    "start_time": "2025-06-25T18:15:38.272Z"
   },
   {
    "duration": 20,
    "start_time": "2025-06-25T18:15:38.316Z"
   },
   {
    "duration": 24,
    "start_time": "2025-06-25T18:15:38.338Z"
   },
   {
    "duration": 128,
    "start_time": "2025-06-25T18:15:38.363Z"
   },
   {
    "duration": 359,
    "start_time": "2025-06-25T18:15:38.493Z"
   },
   {
    "duration": 82,
    "start_time": "2025-06-25T18:15:38.854Z"
   },
   {
    "duration": 65,
    "start_time": "2025-06-25T18:15:38.938Z"
   },
   {
    "duration": 120,
    "start_time": "2025-06-25T18:15:39.006Z"
   },
   {
    "duration": 1468,
    "start_time": "2025-06-25T18:15:39.127Z"
   },
   {
    "duration": 4,
    "start_time": "2025-06-25T18:15:40.597Z"
   },
   {
    "duration": 7,
    "start_time": "2025-06-25T18:15:40.602Z"
   },
   {
    "duration": 20,
    "start_time": "2025-06-25T18:15:40.611Z"
   },
   {
    "duration": 82,
    "start_time": "2025-06-25T18:15:40.633Z"
   },
   {
    "duration": 8,
    "start_time": "2025-06-25T18:15:40.717Z"
   },
   {
    "duration": 44,
    "start_time": "2025-06-25T18:15:40.727Z"
   },
   {
    "duration": 62,
    "start_time": "2025-06-25T18:15:40.773Z"
   },
   {
    "duration": 13,
    "start_time": "2025-06-25T18:15:40.837Z"
   },
   {
    "duration": 13,
    "start_time": "2025-06-25T18:15:40.852Z"
   },
   {
    "duration": 332,
    "start_time": "2025-06-25T18:15:40.867Z"
   },
   {
    "duration": 8,
    "start_time": "2025-06-25T18:15:41.201Z"
   },
   {
    "duration": 116,
    "start_time": "2025-06-25T18:15:41.211Z"
   },
   {
    "duration": 168,
    "start_time": "2025-06-25T18:15:41.329Z"
   },
   {
    "duration": 38,
    "start_time": "2025-06-25T18:15:41.499Z"
   },
   {
    "duration": 14,
    "start_time": "2025-06-25T18:15:41.539Z"
   },
   {
    "duration": 16,
    "start_time": "2025-06-25T18:15:41.555Z"
   },
   {
    "duration": 20,
    "start_time": "2025-06-25T18:15:41.599Z"
   },
   {
    "duration": 39,
    "start_time": "2025-06-25T18:15:41.624Z"
   },
   {
    "duration": 33,
    "start_time": "2025-06-25T18:15:41.665Z"
   },
   {
    "duration": 13,
    "start_time": "2025-06-25T18:15:41.701Z"
   },
   {
    "duration": 23,
    "start_time": "2025-06-25T18:15:41.715Z"
   },
   {
    "duration": 30,
    "start_time": "2025-06-25T18:15:41.740Z"
   },
   {
    "duration": 13,
    "start_time": "2025-06-25T18:15:41.799Z"
   },
   {
    "duration": 78,
    "start_time": "2025-06-25T18:15:41.814Z"
   },
   {
    "duration": 10,
    "start_time": "2025-06-25T18:15:41.894Z"
   },
   {
    "duration": 35,
    "start_time": "2025-06-25T18:15:41.905Z"
   },
   {
    "duration": 6,
    "start_time": "2025-06-25T18:15:41.942Z"
   },
   {
    "duration": 6,
    "start_time": "2025-06-25T18:15:41.949Z"
   },
   {
    "duration": 8,
    "start_time": "2025-06-25T18:15:41.957Z"
   },
   {
    "duration": 25,
    "start_time": "2025-06-25T18:15:41.966Z"
   },
   {
    "duration": 28,
    "start_time": "2025-06-25T18:15:41.992Z"
   },
   {
    "duration": 170,
    "start_time": "2025-06-25T18:15:42.022Z"
   },
   {
    "duration": 7,
    "start_time": "2025-06-25T18:15:42.194Z"
   },
   {
    "duration": 7,
    "start_time": "2025-06-25T18:15:42.203Z"
   },
   {
    "duration": 12,
    "start_time": "2025-06-25T18:15:42.211Z"
   },
   {
    "duration": 9,
    "start_time": "2025-06-25T18:16:02.536Z"
   },
   {
    "duration": 3,
    "start_time": "2025-06-25T18:16:42.187Z"
   },
   {
    "duration": 1214,
    "start_time": "2025-06-25T18:16:42.192Z"
   },
   {
    "duration": 2203,
    "start_time": "2025-06-25T18:16:43.408Z"
   },
   {
    "duration": 27,
    "start_time": "2025-06-25T18:16:45.613Z"
   },
   {
    "duration": 110,
    "start_time": "2025-06-25T18:16:45.642Z"
   },
   {
    "duration": 8,
    "start_time": "2025-06-25T18:16:45.754Z"
   },
   {
    "duration": 19,
    "start_time": "2025-06-25T18:16:45.764Z"
   },
   {
    "duration": 32,
    "start_time": "2025-06-25T18:16:45.785Z"
   },
   {
    "duration": 93,
    "start_time": "2025-06-25T18:16:45.821Z"
   },
   {
    "duration": 9,
    "start_time": "2025-06-25T18:16:45.916Z"
   },
   {
    "duration": 29,
    "start_time": "2025-06-25T18:16:45.927Z"
   },
   {
    "duration": 9,
    "start_time": "2025-06-25T18:16:45.959Z"
   },
   {
    "duration": 46,
    "start_time": "2025-06-25T18:16:45.970Z"
   },
   {
    "duration": 9,
    "start_time": "2025-06-25T18:16:46.018Z"
   },
   {
    "duration": 13,
    "start_time": "2025-06-25T18:16:46.029Z"
   },
   {
    "duration": 8,
    "start_time": "2025-06-25T18:16:46.043Z"
   },
   {
    "duration": 21,
    "start_time": "2025-06-25T18:16:46.053Z"
   },
   {
    "duration": 99,
    "start_time": "2025-06-25T18:16:46.075Z"
   },
   {
    "duration": 128,
    "start_time": "2025-06-25T18:16:46.176Z"
   },
   {
    "duration": 343,
    "start_time": "2025-06-25T18:16:46.306Z"
   },
   {
    "duration": 80,
    "start_time": "2025-06-25T18:16:46.650Z"
   },
   {
    "duration": 55,
    "start_time": "2025-06-25T18:16:46.732Z"
   },
   {
    "duration": 88,
    "start_time": "2025-06-25T18:16:46.799Z"
   },
   {
    "duration": 1452,
    "start_time": "2025-06-25T18:16:46.899Z"
   },
   {
    "duration": 4,
    "start_time": "2025-06-25T18:16:48.353Z"
   },
   {
    "duration": 18,
    "start_time": "2025-06-25T18:16:48.358Z"
   },
   {
    "duration": 66,
    "start_time": "2025-06-25T18:16:48.378Z"
   },
   {
    "duration": 64,
    "start_time": "2025-06-25T18:16:48.446Z"
   },
   {
    "duration": 8,
    "start_time": "2025-06-25T18:16:48.511Z"
   },
   {
    "duration": 43,
    "start_time": "2025-06-25T18:16:48.521Z"
   },
   {
    "duration": 60,
    "start_time": "2025-06-25T18:16:48.566Z"
   },
   {
    "duration": 17,
    "start_time": "2025-06-25T18:16:48.628Z"
   },
   {
    "duration": 15,
    "start_time": "2025-06-25T18:16:48.646Z"
   },
   {
    "duration": 310,
    "start_time": "2025-06-25T18:16:48.662Z"
   },
   {
    "duration": 7,
    "start_time": "2025-06-25T18:16:48.974Z"
   },
   {
    "duration": 61,
    "start_time": "2025-06-25T18:16:48.982Z"
   },
   {
    "duration": 154,
    "start_time": "2025-06-25T18:16:49.045Z"
   },
   {
    "duration": 34,
    "start_time": "2025-06-25T18:16:49.201Z"
   },
   {
    "duration": 11,
    "start_time": "2025-06-25T18:16:49.236Z"
   },
   {
    "duration": 93,
    "start_time": "2025-06-25T18:16:49.248Z"
   },
   {
    "duration": 19,
    "start_time": "2025-06-25T18:16:49.343Z"
   },
   {
    "duration": 39,
    "start_time": "2025-06-25T18:16:49.364Z"
   },
   {
    "duration": 5,
    "start_time": "2025-06-25T18:16:49.405Z"
   },
   {
    "duration": 124,
    "start_time": "2025-06-25T18:16:49.411Z"
   },
   {
    "duration": 39,
    "start_time": "2025-06-25T18:16:49.536Z"
   },
   {
    "duration": 30,
    "start_time": "2025-06-25T18:16:49.576Z"
   },
   {
    "duration": 16,
    "start_time": "2025-06-25T18:16:49.608Z"
   },
   {
    "duration": 12,
    "start_time": "2025-06-25T18:16:49.625Z"
   },
   {
    "duration": 8,
    "start_time": "2025-06-25T18:16:49.639Z"
   },
   {
    "duration": 14,
    "start_time": "2025-06-25T18:16:49.649Z"
   },
   {
    "duration": 25,
    "start_time": "2025-06-25T18:16:49.665Z"
   },
   {
    "duration": 13,
    "start_time": "2025-06-25T18:16:49.692Z"
   },
   {
    "duration": 16,
    "start_time": "2025-06-25T18:16:49.707Z"
   },
   {
    "duration": 18,
    "start_time": "2025-06-25T18:16:49.724Z"
   },
   {
    "duration": 34,
    "start_time": "2025-06-25T18:16:49.743Z"
   },
   {
    "duration": 163,
    "start_time": "2025-06-25T18:16:49.779Z"
   },
   {
    "duration": 8,
    "start_time": "2025-06-25T18:16:49.943Z"
   },
   {
    "duration": 8,
    "start_time": "2025-06-25T18:16:58.391Z"
   },
   {
    "duration": 3,
    "start_time": "2025-06-25T18:17:00.331Z"
   },
   {
    "duration": 8,
    "start_time": "2025-06-25T18:17:02.463Z"
   },
   {
    "duration": 10,
    "start_time": "2025-06-25T18:17:46.328Z"
   },
   {
    "duration": 4,
    "start_time": "2025-06-25T18:19:37.908Z"
   },
   {
    "duration": 1222,
    "start_time": "2025-06-25T18:19:37.914Z"
   },
   {
    "duration": 3123,
    "start_time": "2025-06-25T18:19:39.138Z"
   },
   {
    "duration": 25,
    "start_time": "2025-06-25T18:19:42.262Z"
   },
   {
    "duration": 95,
    "start_time": "2025-06-25T18:19:42.289Z"
   },
   {
    "duration": 8,
    "start_time": "2025-06-25T18:19:42.386Z"
   },
   {
    "duration": 10,
    "start_time": "2025-06-25T18:19:42.398Z"
   },
   {
    "duration": 12,
    "start_time": "2025-06-25T18:19:42.410Z"
   },
   {
    "duration": 49,
    "start_time": "2025-06-25T18:19:42.423Z"
   },
   {
    "duration": 9,
    "start_time": "2025-06-25T18:19:42.474Z"
   },
   {
    "duration": 30,
    "start_time": "2025-06-25T18:19:42.484Z"
   },
   {
    "duration": 7,
    "start_time": "2025-06-25T18:19:42.515Z"
   },
   {
    "duration": 29,
    "start_time": "2025-06-25T18:19:42.524Z"
   },
   {
    "duration": 23,
    "start_time": "2025-06-25T18:19:42.555Z"
   },
   {
    "duration": 25,
    "start_time": "2025-06-25T18:19:42.580Z"
   },
   {
    "duration": 6,
    "start_time": "2025-06-25T18:19:42.606Z"
   },
   {
    "duration": 12,
    "start_time": "2025-06-25T18:19:42.614Z"
   },
   {
    "duration": 10,
    "start_time": "2025-06-25T18:19:42.628Z"
   },
   {
    "duration": 136,
    "start_time": "2025-06-25T18:19:42.640Z"
   },
   {
    "duration": 356,
    "start_time": "2025-06-25T18:19:42.777Z"
   },
   {
    "duration": 77,
    "start_time": "2025-06-25T18:19:43.134Z"
   },
   {
    "duration": 52,
    "start_time": "2025-06-25T18:19:43.213Z"
   },
   {
    "duration": 107,
    "start_time": "2025-06-25T18:19:43.266Z"
   },
   {
    "duration": 1501,
    "start_time": "2025-06-25T18:19:43.374Z"
   },
   {
    "duration": 5,
    "start_time": "2025-06-25T18:19:44.877Z"
   },
   {
    "duration": 11,
    "start_time": "2025-06-25T18:19:44.884Z"
   },
   {
    "duration": 22,
    "start_time": "2025-06-25T18:19:44.896Z"
   },
   {
    "duration": 175,
    "start_time": "2025-06-25T18:19:44.919Z"
   },
   {
    "duration": 8,
    "start_time": "2025-06-25T18:19:45.096Z"
   },
   {
    "duration": 54,
    "start_time": "2025-06-25T18:19:45.105Z"
   },
   {
    "duration": 65,
    "start_time": "2025-06-25T18:19:45.161Z"
   },
   {
    "duration": 129,
    "start_time": "2025-06-25T18:19:45.227Z"
   },
   {
    "duration": 38,
    "start_time": "2025-06-25T18:19:45.358Z"
   },
   {
    "duration": 300,
    "start_time": "2025-06-25T18:19:45.398Z"
   },
   {
    "duration": 7,
    "start_time": "2025-06-25T18:19:45.700Z"
   },
   {
    "duration": 52,
    "start_time": "2025-06-25T18:19:45.708Z"
   },
   {
    "duration": 161,
    "start_time": "2025-06-25T18:19:45.762Z"
   },
   {
    "duration": 48,
    "start_time": "2025-06-25T18:19:45.924Z"
   },
   {
    "duration": 25,
    "start_time": "2025-06-25T18:19:45.974Z"
   },
   {
    "duration": 24,
    "start_time": "2025-06-25T18:19:46.001Z"
   },
   {
    "duration": 45,
    "start_time": "2025-06-25T18:19:46.027Z"
   },
   {
    "duration": 49,
    "start_time": "2025-06-25T18:19:46.076Z"
   },
   {
    "duration": 43,
    "start_time": "2025-06-25T18:19:46.127Z"
   },
   {
    "duration": 16,
    "start_time": "2025-06-25T18:19:46.171Z"
   },
   {
    "duration": 21,
    "start_time": "2025-06-25T18:19:46.189Z"
   },
   {
    "duration": 24,
    "start_time": "2025-06-25T18:19:46.211Z"
   },
   {
    "duration": 11,
    "start_time": "2025-06-25T18:19:46.236Z"
   },
   {
    "duration": 11,
    "start_time": "2025-06-25T18:19:46.248Z"
   },
   {
    "duration": 14,
    "start_time": "2025-06-25T18:19:46.260Z"
   },
   {
    "duration": 12,
    "start_time": "2025-06-25T18:19:46.276Z"
   },
   {
    "duration": 15,
    "start_time": "2025-06-25T18:19:46.297Z"
   },
   {
    "duration": 6,
    "start_time": "2025-06-25T18:19:46.313Z"
   },
   {
    "duration": 29,
    "start_time": "2025-06-25T18:19:46.320Z"
   },
   {
    "duration": 31,
    "start_time": "2025-06-25T18:19:46.351Z"
   },
   {
    "duration": 29,
    "start_time": "2025-06-25T18:20:59.912Z"
   },
   {
    "duration": 10,
    "start_time": "2025-06-25T18:21:05.654Z"
   },
   {
    "duration": 1374,
    "start_time": "2025-06-25T18:21:22.202Z"
   },
   {
    "duration": 27,
    "start_time": "2025-06-25T18:21:39.236Z"
   },
   {
    "duration": 9,
    "start_time": "2025-06-25T18:22:33.356Z"
   },
   {
    "duration": 31,
    "start_time": "2025-06-25T18:22:39.442Z"
   },
   {
    "duration": 10,
    "start_time": "2025-06-25T18:22:41.974Z"
   },
   {
    "duration": 8,
    "start_time": "2025-06-25T18:24:57.602Z"
   },
   {
    "duration": 8,
    "start_time": "2025-06-25T18:25:16.760Z"
   },
   {
    "duration": 4,
    "start_time": "2025-06-25T18:25:21.614Z"
   },
   {
    "duration": 9,
    "start_time": "2025-06-25T18:25:24.477Z"
   },
   {
    "duration": 216,
    "start_time": "2025-06-25T18:25:36.596Z"
   },
   {
    "duration": 4,
    "start_time": "2025-06-25T18:32:24.795Z"
   },
   {
    "duration": 8,
    "start_time": "2025-06-25T18:32:27.014Z"
   },
   {
    "duration": 3,
    "start_time": "2025-06-25T18:33:01.977Z"
   },
   {
    "duration": 1236,
    "start_time": "2025-06-25T18:33:01.981Z"
   },
   {
    "duration": 2621,
    "start_time": "2025-06-25T18:33:03.218Z"
   },
   {
    "duration": 26,
    "start_time": "2025-06-25T18:33:05.841Z"
   },
   {
    "duration": 179,
    "start_time": "2025-06-25T18:33:05.869Z"
   },
   {
    "duration": 9,
    "start_time": "2025-06-25T18:33:06.050Z"
   },
   {
    "duration": 33,
    "start_time": "2025-06-25T18:33:06.062Z"
   },
   {
    "duration": 82,
    "start_time": "2025-06-25T18:33:06.097Z"
   },
   {
    "duration": 137,
    "start_time": "2025-06-25T18:33:06.183Z"
   },
   {
    "duration": 73,
    "start_time": "2025-06-25T18:33:06.322Z"
   },
   {
    "duration": 36,
    "start_time": "2025-06-25T18:33:06.397Z"
   },
   {
    "duration": 19,
    "start_time": "2025-06-25T18:33:06.435Z"
   },
   {
    "duration": 60,
    "start_time": "2025-06-25T18:33:06.456Z"
   },
   {
    "duration": 83,
    "start_time": "2025-06-25T18:33:06.518Z"
   },
   {
    "duration": 46,
    "start_time": "2025-06-25T18:33:06.603Z"
   },
   {
    "duration": 18,
    "start_time": "2025-06-25T18:33:06.650Z"
   },
   {
    "duration": 39,
    "start_time": "2025-06-25T18:33:06.669Z"
   },
   {
    "duration": 33,
    "start_time": "2025-06-25T18:33:06.710Z"
   },
   {
    "duration": 179,
    "start_time": "2025-06-25T18:33:06.745Z"
   },
   {
    "duration": 480,
    "start_time": "2025-06-25T18:33:06.926Z"
   },
   {
    "duration": 60,
    "start_time": "2025-06-25T18:33:07.407Z"
   },
   {
    "duration": 73,
    "start_time": "2025-06-25T18:33:07.469Z"
   },
   {
    "duration": 100,
    "start_time": "2025-06-25T18:33:07.543Z"
   },
   {
    "duration": 1429,
    "start_time": "2025-06-25T18:33:07.646Z"
   },
   {
    "duration": 5,
    "start_time": "2025-06-25T18:33:09.077Z"
   },
   {
    "duration": 31,
    "start_time": "2025-06-25T18:33:09.084Z"
   },
   {
    "duration": 24,
    "start_time": "2025-06-25T18:33:09.117Z"
   },
   {
    "duration": 67,
    "start_time": "2025-06-25T18:33:09.143Z"
   },
   {
    "duration": 7,
    "start_time": "2025-06-25T18:33:09.212Z"
   },
   {
    "duration": 45,
    "start_time": "2025-06-25T18:33:09.221Z"
   },
   {
    "duration": 91,
    "start_time": "2025-06-25T18:33:09.268Z"
   },
   {
    "duration": 48,
    "start_time": "2025-06-25T18:33:09.360Z"
   },
   {
    "duration": 13,
    "start_time": "2025-06-25T18:33:09.409Z"
   },
   {
    "duration": 325,
    "start_time": "2025-06-25T18:33:09.424Z"
   },
   {
    "duration": 7,
    "start_time": "2025-06-25T18:33:09.751Z"
   },
   {
    "duration": 42,
    "start_time": "2025-06-25T18:33:09.760Z"
   },
   {
    "duration": 172,
    "start_time": "2025-06-25T18:33:09.804Z"
   },
   {
    "duration": 47,
    "start_time": "2025-06-25T18:33:09.978Z"
   },
   {
    "duration": 11,
    "start_time": "2025-06-25T18:33:10.027Z"
   },
   {
    "duration": 21,
    "start_time": "2025-06-25T18:33:10.040Z"
   },
   {
    "duration": 18,
    "start_time": "2025-06-25T18:33:10.063Z"
   },
   {
    "duration": 38,
    "start_time": "2025-06-25T18:33:10.099Z"
   },
   {
    "duration": 6,
    "start_time": "2025-06-25T18:33:10.138Z"
   },
   {
    "duration": 118,
    "start_time": "2025-06-25T18:33:10.145Z"
   },
   {
    "duration": 25,
    "start_time": "2025-06-25T18:33:10.265Z"
   },
   {
    "duration": 29,
    "start_time": "2025-06-25T18:33:10.292Z"
   },
   {
    "duration": 12,
    "start_time": "2025-06-25T18:33:10.323Z"
   },
   {
    "duration": 5,
    "start_time": "2025-06-25T18:33:10.336Z"
   },
   {
    "duration": 8,
    "start_time": "2025-06-25T18:33:10.343Z"
   },
   {
    "duration": 6,
    "start_time": "2025-06-25T18:33:10.352Z"
   },
   {
    "duration": 40,
    "start_time": "2025-06-25T18:33:10.359Z"
   },
   {
    "duration": 7,
    "start_time": "2025-06-25T18:33:10.400Z"
   },
   {
    "duration": 12,
    "start_time": "2025-06-25T18:33:10.409Z"
   },
   {
    "duration": 15,
    "start_time": "2025-06-25T18:33:10.422Z"
   },
   {
    "duration": 33,
    "start_time": "2025-06-25T18:33:10.438Z"
   },
   {
    "duration": 34,
    "start_time": "2025-06-25T18:33:10.473Z"
   },
   {
    "duration": 191,
    "start_time": "2025-06-25T18:33:10.509Z"
   },
   {
    "duration": 10,
    "start_time": "2025-06-25T18:33:10.702Z"
   },
   {
    "duration": 120,
    "start_time": "2025-06-25T18:33:10.713Z"
   },
   {
    "duration": 1257,
    "start_time": "2025-06-25T18:37:36.847Z"
   },
   {
    "duration": 18,
    "start_time": "2025-06-25T18:38:23.787Z"
   },
   {
    "duration": 10,
    "start_time": "2025-06-25T18:38:30.921Z"
   },
   {
    "duration": 25,
    "start_time": "2025-06-25T18:38:56.040Z"
   },
   {
    "duration": 4,
    "start_time": "2025-06-25T18:39:48.859Z"
   },
   {
    "duration": 8,
    "start_time": "2025-06-25T18:39:50.895Z"
   },
   {
    "duration": 9,
    "start_time": "2025-06-25T18:41:25.673Z"
   },
   {
    "duration": 4,
    "start_time": "2025-06-25T19:08:47.109Z"
   },
   {
    "duration": 8,
    "start_time": "2025-06-25T19:08:52.913Z"
   },
   {
    "duration": 211,
    "start_time": "2025-06-25T19:08:57.261Z"
   },
   {
    "duration": 8,
    "start_time": "2025-06-25T19:17:38.700Z"
   },
   {
    "duration": 8,
    "start_time": "2025-06-25T19:20:40.123Z"
   },
   {
    "duration": 8,
    "start_time": "2025-06-25T19:20:48.155Z"
   }
  ],
  "colab": {
   "provenance": []
  },
  "kernelspec": {
   "display_name": "Python 3 (ipykernel)",
   "language": "python",
   "name": "python3"
  },
  "language_info": {
   "codemirror_mode": {
    "name": "ipython",
    "version": 3
   },
   "file_extension": ".py",
   "mimetype": "text/x-python",
   "name": "python",
   "nbconvert_exporter": "python",
   "pygments_lexer": "ipython3",
   "version": "3.9.7"
  },
  "toc": {
   "base_numbering": 1,
   "nav_menu": {},
   "number_sections": true,
   "sideBar": true,
   "skip_h1_title": true,
   "title_cell": "Table of Contents",
   "title_sidebar": "Contents",
   "toc_cell": false,
   "toc_position": {},
   "toc_section_display": true,
   "toc_window_display": true
  }
 },
 "nbformat": 4,
 "nbformat_minor": 1
}
